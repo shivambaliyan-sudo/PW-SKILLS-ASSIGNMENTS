{
 "cells": [
  {
   "cell_type": "markdown",
   "id": "a2bb114f-e207-4b25-9d17-ef9d5b299a40",
   "metadata": {},
   "source": [
    "# Assignment - 2 - Data Types and Structures"
   ]
  },
  {
   "cell_type": "markdown",
   "id": "ee55a040-d1f9-4979-a8de-f1b869e1efd7",
   "metadata": {},
   "source": [
    "## Q1.Discuss string slicing and provide examples?"
   ]
  },
  {
   "cell_type": "markdown",
   "id": "646a0a53-3868-49dc-b39c-103b63a95ad5",
   "metadata": {},
   "source": [
    "### Answer:-"
   ]
  },
  {
   "cell_type": "code",
   "execution_count": 22,
   "id": "c19c9391-124d-4f79-833c-1d9b54d5269c",
   "metadata": {},
   "outputs": [],
   "source": [
    "#String slicing is a technique in Python used to extract a portion (substring) of a string by specifying a range of indices.\n",
    "#It’s a powerful tool for working with strings and allows for various manipulations and retrievals of string data."
   ]
  },
  {
   "cell_type": "code",
   "execution_count": 23,
   "id": "c2951c16-9dab-4fea-87da-ffa52d4785fa",
   "metadata": {},
   "outputs": [],
   "source": [
    "#The syntax for slicing a string is:\n",
    "#string[start:stop:step]\n"
   ]
  },
  {
   "cell_type": "code",
   "execution_count": 24,
   "id": "c19e9559-1d3c-4e1c-aed1-284c8000b6f7",
   "metadata": {},
   "outputs": [
    {
     "data": {
      "text/plain": [
       "' start: The index where the slice starts (inclusive). If omitted, it defaults to 0.\\n    stop: The index where the slice ends (exclusive). If omitted, it defaults to the length of the string.\\n    step: The step size or interval between characters in the slice. If omitted, it defaults to 1.'"
      ]
     },
     "execution_count": 24,
     "metadata": {},
     "output_type": "execute_result"
    }
   ],
   "source": [
    "\"\"\" start: The index where the slice starts (inclusive). If omitted, it defaults to 0.\n",
    "    stop: The index where the slice ends (exclusive). If omitted, it defaults to the length of the string.\n",
    "    step: The step size or interval between characters in the slice. If omitted, it defaults to 1.\"\"\""
   ]
  },
  {
   "cell_type": "markdown",
   "id": "3cb75dc6-e827-44dd-b88a-c04f059c17bc",
   "metadata": {},
   "source": [
    "#### Examples of String Slicing:"
   ]
  },
  {
   "cell_type": "code",
   "execution_count": 25,
   "id": "7824cf0d-03ac-493e-8f30-b7e54aabf41d",
   "metadata": {},
   "outputs": [
    {
     "name": "stdout",
     "output_type": "stream",
     "text": [
      "Hello\n"
     ]
    }
   ],
   "source": [
    "#1.Basic Slicing:\n",
    "text = \"Hello, World!\"\n",
    "print(text[0:5])  # Output: 'Hello'\n"
   ]
  },
  {
   "cell_type": "code",
   "execution_count": 26,
   "id": "85bbdff4-3578-458f-bc8f-93459c69d354",
   "metadata": {},
   "outputs": [
    {
     "name": "stdout",
     "output_type": "stream",
     "text": [
      "Hello\n",
      "World!\n"
     ]
    }
   ],
   "source": [
    "#2.Omitting Start or Stop:\n",
    "print(text[:5])   # Output: 'Hello'\n",
    "print(text[7:])   # Output: 'World!'\n"
   ]
  },
  {
   "cell_type": "code",
   "execution_count": 27,
   "id": "887c7e51-4b85-4701-93ee-25e33a2454a3",
   "metadata": {},
   "outputs": [
    {
     "name": "stdout",
     "output_type": "stream",
     "text": [
      "Hlo ol!\n"
     ]
    }
   ],
   "source": [
    "#3.Using Step:\n",
    "print(text[::2])  # Output: 'Hlo ol!'\n"
   ]
  },
  {
   "cell_type": "code",
   "execution_count": 28,
   "id": "8154a26b-3288-4832-8118-3a02a1229bdc",
   "metadata": {},
   "outputs": [
    {
     "name": "stdout",
     "output_type": "stream",
     "text": [
      "!dlroW ,olleH\n"
     ]
    }
   ],
   "source": [
    "#4.Reversing a String:\n",
    "print(text[::-1])  # Output: '!dlroW ,olleH'\n"
   ]
  },
  {
   "cell_type": "code",
   "execution_count": 29,
   "id": "c931e1e9-807e-4196-8876-9cac0ebcd086",
   "metadata": {},
   "outputs": [
    {
     "data": {
      "text/plain": [
       "'Default start is 0, stop is end of the string, and step is 1.\\nNegative indices can be used for reverse indexing.'"
      ]
     },
     "execution_count": 29,
     "metadata": {},
     "output_type": "execute_result"
    }
   ],
   "source": [
    "\"\"\"Default start is 0, stop is end of the string, and step is 1.\n",
    "Negative indices can be used for reverse indexing.\"\"\"\n"
   ]
  },
  {
   "cell_type": "code",
   "execution_count": null,
   "id": "3d63eb22-4e72-4bc8-9251-1a956de6c677",
   "metadata": {},
   "outputs": [],
   "source": []
  },
  {
   "cell_type": "markdown",
   "id": "72358249-233e-488e-8aec-8f1055bbeaa2",
   "metadata": {},
   "source": [
    "## Q2.Explain the key features of lists in python."
   ]
  },
  {
   "cell_type": "markdown",
   "id": "726a617d-d01f-4826-9f7e-56ac4899fa75",
   "metadata": {},
   "source": [
    "### Answer"
   ]
  },
  {
   "cell_type": "code",
   "execution_count": 30,
   "id": "d74c24f9-a3f3-427b-9ba4-c1677fe2566a",
   "metadata": {},
   "outputs": [
    {
     "data": {
      "text/plain": [
       "'Key Features of Lists in Python:\\n\\nOrdered: Elements have a specific order, and you can access them by their index.\\n\\nExample: my_list[0] gives the first element.\\nMutable: You can modify, add, or remove elements after the list is created.\\n\\nExample: my_list.append(5) adds 5 to the list.\\nHeterogeneous: Lists can contain elements of different data types.\\n\\nExample: [1, \"hello\", 3.5] is a valid list.\\nDynamic Size: Lists can grow or shrink as needed.\\n\\nExample: my_list.pop() removes the last element.\\nNested Lists: Lists can contain other lists as elements.\\n\\nExample: nested_list = [[1, 2], [3, 4]].\\nSupports Iteration: You can loop through a list using a for loop.\\n\\nExample: for item in my_list: print(item).'"
      ]
     },
     "execution_count": 30,
     "metadata": {},
     "output_type": "execute_result"
    }
   ],
   "source": [
    "\"\"\"Key Features of Lists in Python:\n",
    "\n",
    "Ordered: Elements have a specific order, and you can access them by their index.\n",
    "\n",
    "Example: my_list[0] gives the first element.\n",
    "Mutable: You can modify, add, or remove elements after the list is created.\n",
    "\n",
    "Example: my_list.append(5) adds 5 to the list.\n",
    "Heterogeneous: Lists can contain elements of different data types.\n",
    "\n",
    "Example: [1, \"hello\", 3.5] is a valid list.\n",
    "Dynamic Size: Lists can grow or shrink as needed.\n",
    "\n",
    "Example: my_list.pop() removes the last element.\n",
    "Nested Lists: Lists can contain other lists as elements.\n",
    "\n",
    "Example: nested_list = [[1, 2], [3, 4]].\n",
    "Supports Iteration: You can loop through a list using a for loop.\n",
    "\n",
    "Example: for item in my_list: print(item).\"\"\"\n"
   ]
  },
  {
   "cell_type": "markdown",
   "id": "11cdced6-1120-4215-b2c9-ae63ddd6f10d",
   "metadata": {},
   "source": [
    "## Q3.Describe how to access , modify and delete elements in a list with examples? "
   ]
  },
  {
   "cell_type": "markdown",
   "id": "0da8ec36-8cc3-4570-95d2-b029659e235a",
   "metadata": {},
   "source": [
    "### Answer:-"
   ]
  },
  {
   "cell_type": "markdown",
   "id": "200dc4c5-2bc0-49b9-b604-bd600ed1c3e7",
   "metadata": {},
   "source": [
    "#### Accessing Elements:\n",
    "Syntax: list[index]"
   ]
  },
  {
   "cell_type": "code",
   "execution_count": 31,
   "id": "0db7c36f-a551-450c-b372-3e49b1c4500a",
   "metadata": {},
   "outputs": [
    {
     "name": "stdout",
     "output_type": "stream",
     "text": [
      "20\n"
     ]
    }
   ],
   "source": [
    "#Exampple:-\n",
    "\n",
    "my_list = [10, 20, 30]\n",
    "print(my_list[1])  # Output: 20\n"
   ]
  },
  {
   "cell_type": "markdown",
   "id": "df647c54-5214-4016-975f-ae257b1f8172",
   "metadata": {},
   "source": [
    "#### Modifying Elements:\n",
    "Syntax: list[index] = new_value"
   ]
  },
  {
   "cell_type": "code",
   "execution_count": 32,
   "id": "484470f9-46c0-4e39-b91d-dfdb6b3fab43",
   "metadata": {},
   "outputs": [
    {
     "name": "stdout",
     "output_type": "stream",
     "text": [
      "[10, 25, 30]\n"
     ]
    }
   ],
   "source": [
    "#Example :- \n",
    "\n",
    "my_list[1] = 25\n",
    "print(my_list)  # Output: [10, 25, 30]\n"
   ]
  },
  {
   "cell_type": "markdown",
   "id": "bb646e85-28e5-43ab-898b-a14ae34efd8a",
   "metadata": {},
   "source": [
    "#### Deleting Elements:\n",
    "Using del:\n",
    "\n",
    "Syntax: del list[index]"
   ]
  },
  {
   "cell_type": "code",
   "execution_count": 33,
   "id": "101356b0-c5df-47c6-bc47-a6c924efbebc",
   "metadata": {},
   "outputs": [
    {
     "name": "stdout",
     "output_type": "stream",
     "text": [
      "[10, 30]\n"
     ]
    }
   ],
   "source": [
    "#Example:- \n",
    "del my_list[1]\n",
    "print(my_list)  # Output: [10, 30]\n"
   ]
  },
  {
   "cell_type": "markdown",
   "id": "603b84e5-dafb-4f7b-9ebc-63a59b71a40d",
   "metadata": {},
   "source": [
    "#### \n",
    "Using remove() (removes first matching element):\n",
    "\n",
    "Syntax: list.remove(value)"
   ]
  },
  {
   "cell_type": "code",
   "execution_count": 34,
   "id": "288cca0d-279b-415b-a130-6c92bb26c461",
   "metadata": {},
   "outputs": [
    {
     "name": "stdout",
     "output_type": "stream",
     "text": [
      "[10]\n"
     ]
    }
   ],
   "source": [
    "#Example:- \n",
    "my_list.remove(30)\n",
    "print(my_list)  # Output: [10]\n"
   ]
  },
  {
   "cell_type": "code",
   "execution_count": null,
   "id": "133a522e-8cef-4dd5-821d-e8c21aca17f6",
   "metadata": {},
   "outputs": [],
   "source": []
  },
  {
   "cell_type": "markdown",
   "id": "1c334430-2c17-4a84-98f1-5178c4054c0d",
   "metadata": {},
   "source": [
    "## Q4.Compare and Contrast Tuples and Lists with Examples ?"
   ]
  },
  {
   "cell_type": "markdown",
   "id": "8934fb16-03dd-4f24-abbb-847ec6bf3bcd",
   "metadata": {},
   "source": [
    "### Answer:-"
   ]
  },
  {
   "cell_type": "markdown",
   "id": "654a4cd6-13d0-4231-8662-698d5cf278c6",
   "metadata": {},
   "source": [
    "#### Comparison of Tuples and Lists in Python:\n",
    "\n",
    "Mutability:\n",
    "\n",
    "List: Mutable (elements can be changed).\n",
    "\n",
    "Tuple: Immutable (once created, elements cannot be changed)."
   ]
  },
  {
   "cell_type": "code",
   "execution_count": 38,
   "id": "bbbbf227-fb03-4049-afc2-3d443545811e",
   "metadata": {},
   "outputs": [],
   "source": [
    "#Example:- \n",
    "my_list = [1, 2, 3]\n",
    "my_tuple = (1, 2, 3)\n",
    "\n",
    "my_list[0] = 10  # Works\n",
    "# my_tuple[0] = 10  # Raises TypeError\n"
   ]
  },
  {
   "cell_type": "markdown",
   "id": "3f75113d-2082-4e6c-9bd2-681852843800",
   "metadata": {},
   "source": [
    "#### \n",
    "Syntax:\n",
    "\n",
    "List: Defined with square brackets [].\n",
    "\n",
    "Tuple: Defined with parentheses ()"
   ]
  },
  {
   "cell_type": "code",
   "execution_count": 40,
   "id": "4148a9ef-286f-4066-a166-9a34ab4885d7",
   "metadata": {},
   "outputs": [],
   "source": [
    "#Example:-\n",
    "my_list = [1, 2, 3]\n",
    "my_tuple = (1, 2, 3)\n"
   ]
  },
  {
   "cell_type": "markdown",
   "id": "6f9ccb1d-59d1-40b3-89a4-76954eb87c8f",
   "metadata": {},
   "source": [
    "#### \n",
    "Performance:\n",
    "\n",
    "List: Slightly slower due to mutability and dynamic size.\n",
    "\n",
    "Tuple: Faster due to immutability."
   ]
  },
  {
   "cell_type": "code",
   "execution_count": 41,
   "id": "342f1997-138c-4df4-8b47-8ee371f2fe40",
   "metadata": {},
   "outputs": [],
   "source": [
    "#Example:- \n",
    "# Tuples are generally faster to iterate over.\n"
   ]
  },
  {
   "cell_type": "markdown",
   "id": "52ef846f-b93b-414d-9133-27de94d9cd9f",
   "metadata": {},
   "source": [
    "#### \n",
    "Usage:\n",
    "\n",
    "List: Used when you need a sequence that may change over time.\n",
    "\n",
    "Tuple: Used for fixed collections of items (e.g., coordinates, return multiple values from functions)."
   ]
  },
  {
   "cell_type": "code",
   "execution_count": 42,
   "id": "4bf69bcc-4f20-4e0a-a081-2286e39189ab",
   "metadata": {},
   "outputs": [],
   "source": [
    "#Example:- \n",
    "coordinates = (10, 20)  # Tuple\n",
    "\n",
    "shopping_list = [\"apples\", \"bananas\"]  # List\n"
   ]
  },
  {
   "cell_type": "markdown",
   "id": "b098842c-e0ac-4214-b6c2-3bdcf8f80f6d",
   "metadata": {},
   "source": [
    "####\n",
    "Methods:\n",
    "\n",
    "List: More methods available (e.g., append(), remove()).\n",
    "\n",
    "Tuple: Limited methods (count(), index()).\n"
   ]
  },
  {
   "cell_type": "markdown",
   "id": "ec78465f-1797-4f0a-a861-83c5c4dce1c1",
   "metadata": {},
   "source": [
    "#Example:- \n",
    "my_list.append(4)  # Works\n",
    "# my_tuple.append(4)  # Raises AttributeError\n"
   ]
  },
  {
   "cell_type": "markdown",
   "id": "698fb9d7-497c-435f-aa3c-c734462e4afd",
   "metadata": {},
   "source": [
    "#### \n",
    "Lists: Use when you need flexibility and plan to modify the sequence.\n",
    "\n",
    "Tuples: Use when you need a fixed, unchangeable sequence."
   ]
  },
  {
   "cell_type": "code",
   "execution_count": null,
   "id": "de4e7e7a-5b9b-43c2-b22e-f2773af4ef03",
   "metadata": {},
   "outputs": [],
   "source": []
  },
  {
   "cell_type": "markdown",
   "id": "68b8e1fc-2fdd-4a4a-a6e8-be91c1521472",
   "metadata": {},
   "source": [
    "## Q5.Describe the key features of sets and provide examples of their use."
   ]
  },
  {
   "cell_type": "markdown",
   "id": "606f7fdd-0bfa-4b48-9567-4418f10a12bd",
   "metadata": {},
   "source": [
    "### Answer:- "
   ]
  },
  {
   "cell_type": "markdown",
   "id": "53ef133d-0291-41f1-ad08-32a9f8499879",
   "metadata": {},
   "source": [
    "#### Key Features of Sets in Python:\n",
    "\n"
   ]
  },
  {
   "cell_type": "markdown",
   "id": "d704759e-3b51-4880-9a94-1f0673a32aae",
   "metadata": {},
   "source": [
    "#### 1.Unordered: Sets do not maintain any order of elements.\n",
    "\n"
   ]
  },
  {
   "cell_type": "code",
   "execution_count": 44,
   "id": "6189e586-7454-48f7-a7a6-2b25d69d34b9",
   "metadata": {},
   "outputs": [
    {
     "name": "stdout",
     "output_type": "stream",
     "text": [
      "{1, 2, 3}\n"
     ]
    }
   ],
   "source": [
    "#Example:- \n",
    "\n",
    "my_set = {3, 1, 2}\n",
    "print(my_set)  # Output might be {1, 2, 3} or any other order\n"
   ]
  },
  {
   "cell_type": "markdown",
   "id": "d89e4f4c-34a7-4dc1-83f4-843a60f7182d",
   "metadata": {},
   "source": [
    "#### 2.Unique Elements: Sets automatically remove duplicates."
   ]
  },
  {
   "cell_type": "code",
   "execution_count": 45,
   "id": "11238862-3627-483b-9243-0eb5db60c772",
   "metadata": {},
   "outputs": [
    {
     "name": "stdout",
     "output_type": "stream",
     "text": [
      "{1, 2, 3}\n"
     ]
    }
   ],
   "source": [
    "#Example:- \n",
    "my_set = {1, 2, 2, 3}\n",
    "print(my_set)  # Output: {1, 2, 3}\n"
   ]
  },
  {
   "cell_type": "markdown",
   "id": "19c12a4f-6bde-41d4-95be-b70b83c77900",
   "metadata": {},
   "source": [
    "#### 3.Mutable: You can add or remove elements, but the elements themselves must be immutable (e.g., numbers, strings, tuples)."
   ]
  },
  {
   "cell_type": "code",
   "execution_count": 47,
   "id": "21d0b9d9-06c2-4773-87ac-9acf08601d53",
   "metadata": {},
   "outputs": [
    {
     "name": "stdout",
     "output_type": "stream",
     "text": [
      "{1, 2, 3, 4}\n"
     ]
    }
   ],
   "source": [
    "#Example:- my_set = {1, 2, 3}\n",
    "my_set.add(4)\n",
    "print(my_set)  # Output: {1, 2, 3, 4}\n"
   ]
  },
  {
   "cell_type": "markdown",
   "id": "9fa386b9-ef6a-4f78-89dc-8d9b3eccd7aa",
   "metadata": {},
   "source": [
    "#### 4.No Indexing: Sets do not support indexing or slicing because they are unordered.\n",
    "\n"
   ]
  },
  {
   "cell_type": "code",
   "execution_count": 48,
   "id": "3acb4d4f-2c0d-42c7-8412-092ab513c86f",
   "metadata": {},
   "outputs": [],
   "source": [
    "#Example:-\n",
    "# my_set[0]  # Raises TypeError\n"
   ]
  },
  {
   "cell_type": "markdown",
   "id": "3f2af254-e8c0-40fe-bce0-6e0cefac8d7f",
   "metadata": {},
   "source": [
    "#### 5.Set Operations: Supports mathematical operations like union, intersection, difference, and symmetric difference."
   ]
  },
  {
   "cell_type": "code",
   "execution_count": 49,
   "id": "1f55fd8f-18eb-480f-aec7-4642fde1ca30",
   "metadata": {},
   "outputs": [],
   "source": [
    "#Example:-\n",
    "set1 = {1, 2, 3}\n",
    "set2 = {3, 4, 5}\n",
    "\n",
    "union = set1 | set2  # {1, 2, 3, 4, 5}\n",
    "intersection = set1 & set2  # {3}\n",
    "difference = set1 - set2  # {1, 2}\n",
    "symmetric_difference = set1 ^ set2  # {1, 2, 4, 5}\n"
   ]
  },
  {
   "cell_type": "markdown",
   "id": "fe53a734-76f7-4b1a-a941-cdf61c92ca02",
   "metadata": {},
   "source": [
    "#### 6.Efficient Membership Testing: Checking if an element exists in a set is faster than in lists or tuples."
   ]
  },
  {
   "cell_type": "code",
   "execution_count": 50,
   "id": "ab0aecc7-6e9f-4717-afff-b69176b7d16a",
   "metadata": {},
   "outputs": [
    {
     "name": "stdout",
     "output_type": "stream",
     "text": [
      "True\n"
     ]
    }
   ],
   "source": [
    "#Example:-\n",
    "\n",
    "print(2 in my_set)  # Output: True\n"
   ]
  },
  {
   "cell_type": "markdown",
   "id": "979f88fc-05f3-4126-92d8-50ca3b3a2e43",
   "metadata": {},
   "source": [
    "### Use Cases:"
   ]
  },
  {
   "cell_type": "markdown",
   "id": "3ecafb79-ec5a-465a-900b-c08bd00b0469",
   "metadata": {},
   "source": [
    "#### 1.Removing Duplicates: Use sets to eliminate duplicates from a list"
   ]
  },
  {
   "cell_type": "code",
   "execution_count": 52,
   "id": "edd5a20b-2a8d-4ed1-a17b-eb68d9ea2d5e",
   "metadata": {},
   "outputs": [
    {
     "name": "stdout",
     "output_type": "stream",
     "text": [
      "{1, 2, 3, 4}\n"
     ]
    }
   ],
   "source": [
    "my_list = [1, 2, 2, 3, 4, 4]\n",
    "unique_set = set(my_list)\n",
    "print(unique_set)  # Output: {1, 2, 3, 4}\n"
   ]
  },
  {
   "cell_type": "markdown",
   "id": "7206a6d4-97b6-46ac-a0ff-c7237e722480",
   "metadata": {},
   "source": [
    "#### 2.Mathematical Operations: Use sets for efficient union, intersection,and difference operations in mathematical problems or database-like queries."
   ]
  },
  {
   "cell_type": "code",
   "execution_count": null,
   "id": "a8532762-c7ed-49d1-aaba-2b8274b31e02",
   "metadata": {},
   "outputs": [],
   "source": []
  },
  {
   "cell_type": "markdown",
   "id": "80cc45ca-4ad6-46c5-8985-b90f8cad904a",
   "metadata": {},
   "source": [
    "## Q6.Discuss the use cases of tuples and sets in python programming ?"
   ]
  },
  {
   "cell_type": "markdown",
   "id": "781e70d9-b0cf-4870-a0e2-b0ff8892014e",
   "metadata": {},
   "source": [
    "### Answer:-"
   ]
  },
  {
   "cell_type": "markdown",
   "id": "6904faf3-ca24-4d1a-b252-b9d5f130d3be",
   "metadata": {},
   "source": [
    "#### Use Cases of Tuples in Python:\n",
    "1.Immutable Data Storage:\n",
    "\n",
    "Use Case: Store constant values that shouldn’t be modified.\n",
    "Example: Coordinates (x, y) or RGB color codes (255, 255, 255)."
   ]
  },
  {
   "cell_type": "markdown",
   "id": "a7cb14cb-1761-4b6c-ba40-465b59733429",
   "metadata": {},
   "source": [
    "####\n",
    "2.Function Return Values:\n",
    "\n",
    "Use Case: Return multiple values from a function."
   ]
  },
  {
   "cell_type": "code",
   "execution_count": 56,
   "id": "8f03a580-d997-4a91-81ed-fe1d65a982b0",
   "metadata": {},
   "outputs": [],
   "source": [
    "#Example:- \n",
    "def get_dimensions():\n",
    "    return (1920, 1080)\n",
    "width, height = get_dimensions()\n"
   ]
  },
  {
   "cell_type": "markdown",
   "id": "1063f0b9-a2fd-4b92-b81b-282dc031035c",
   "metadata": {},
   "source": [
    "#### \n",
    "3.Dictionary Keys:\n",
    "\n",
    "Use Case: Use tuples as keys in dictionaries because they are immutable."
   ]
  },
  {
   "cell_type": "code",
   "execution_count": 57,
   "id": "a5edb0e9-5a48-4875-af6b-a69eaaebcac2",
   "metadata": {},
   "outputs": [],
   "source": [
    "#Example:-\n",
    "location = {(40.7128, 74.0060): \"New York\"}\n"
   ]
  },
  {
   "cell_type": "markdown",
   "id": "50109be9-3e7e-4a38-b1e9-b0679010f9fb",
   "metadata": {},
   "source": [
    "####\n",
    "4.Grouping Related Data:\n",
    "\n",
    "Use Case: Group related data without needing to modify it.\n",
    "\n",
    "Example: Storing an individual’s data: person = (\"John\", \"Doe\", 30)."
   ]
  },
  {
   "cell_type": "markdown",
   "id": "072209ef-a787-4eba-8d45-224ae28a0617",
   "metadata": {},
   "source": [
    "#### Use Cases of Sets in Python:\n",
    "\n",
    "1.Removing Duplicates:\n",
    "\n",
    "Use Case: Eliminate duplicates from a list."
   ]
  },
  {
   "cell_type": "code",
   "execution_count": 58,
   "id": "801a9014-06f2-4d17-8067-72172bfe425d",
   "metadata": {},
   "outputs": [],
   "source": [
    "#Example:-\n",
    "numbers = [1, 2, 2, 3, 4, 4]\n",
    "unique_numbers = set(numbers)\n"
   ]
  },
  {
   "cell_type": "markdown",
   "id": "562f9c30-9dac-4b99-a055-5c3f08539659",
   "metadata": {},
   "source": [
    "#### \n",
    "2.Membership Testing:\n",
    "\n",
    "Use Case: Quickly check if an element exists in a collection.\n"
   ]
  },
  {
   "cell_type": "code",
   "execution_count": 59,
   "id": "d0b9abcd-59b1-463c-a02b-bf57d031748c",
   "metadata": {},
   "outputs": [
    {
     "name": "stdout",
     "output_type": "stream",
     "text": [
      "Banana is in the set.\n"
     ]
    }
   ],
   "source": [
    "#Example:-\n",
    "unique_items = {\"apple\", \"banana\", \"cherry\"}\n",
    "if \"banana\" in unique_items:\n",
    "    print(\"Banana is in the set.\")\n"
   ]
  },
  {
   "cell_type": "markdown",
   "id": "99d45838-aa3d-4716-aa0c-624432e9f938",
   "metadata": {},
   "source": [
    "#### \n",
    "3.Set Operations:\n",
    "\n",
    "Use Case: Perform mathematical operations like union, intersection, and difference.\n"
   ]
  },
  {
   "cell_type": "code",
   "execution_count": 60,
   "id": "5be26a68-8f34-438b-b18f-9af2efcf2442",
   "metadata": {},
   "outputs": [],
   "source": [
    "#Example:-\n",
    "set_a = {1, 2, 3}\n",
    "set_b = {3, 4, 5}\n",
    "common_elements = set_a & set_b  # Intersection: {3}\n"
   ]
  },
  {
   "cell_type": "markdown",
   "id": "74574375-8104-4d12-9e7c-12ece5d1db18",
   "metadata": {},
   "source": [
    "#### \n",
    "4.Filtering:\n",
    "\n",
    "Use Case: Filter elements based on unique criteria.\n"
   ]
  },
  {
   "cell_type": "code",
   "execution_count": 62,
   "id": "dc625742-778e-4c52-8b60-ebed67de3477",
   "metadata": {},
   "outputs": [],
   "source": [
    "#Example1 :- Filter unique words from text\n",
    "\n",
    "words = \"apple banana apple cherry banana\"\n",
    "unique_words = set(words.split())\n"
   ]
  },
  {
   "cell_type": "code",
   "execution_count": 63,
   "id": "d49a7ac4-9dd2-4924-854e-fd8787843542",
   "metadata": {},
   "outputs": [
    {
     "name": "stdout",
     "output_type": "stream",
     "text": [
      "{4, 5}\n"
     ]
    }
   ],
   "source": [
    "#Example2 :- Find common items between two lists.\n",
    "list_a = [1, 2, 3, 4, 5]\n",
    "list_b = [4, 5, 6, 7, 8]\n",
    "\n",
    "common_elements = set(list_a) & set(list_b)  # Intersection of two sets\n",
    "print(common_elements)  # Output: {4, 5}\n"
   ]
  },
  {
   "cell_type": "code",
   "execution_count": null,
   "id": "d2b5bd03-7568-46d3-ac68-99f3d233118b",
   "metadata": {},
   "outputs": [],
   "source": []
  },
  {
   "cell_type": "markdown",
   "id": "90fe6cf9-b00b-4c1a-93d1-c162b98bcce8",
   "metadata": {},
   "source": [
    "## Q.7 Describe how to add , modify , and delete items in a dictionary with example ?"
   ]
  },
  {
   "cell_type": "markdown",
   "id": "b65069ae-a32d-42ba-b7a6-d0e91669bbe1",
   "metadata": {},
   "source": [
    "### Answer:-"
   ]
  },
  {
   "cell_type": "markdown",
   "id": "1ab90ab2-5dcd-49ab-953f-79e07cd02173",
   "metadata": {},
   "source": [
    "#### Adding Items in a Dictionary:\n",
    "Syntax: dictionary[key] = value\n"
   ]
  },
  {
   "cell_type": "code",
   "execution_count": 64,
   "id": "29c62d23-741b-485e-b9b4-e5f0e999447e",
   "metadata": {},
   "outputs": [
    {
     "name": "stdout",
     "output_type": "stream",
     "text": [
      "{'name': 'John'}\n"
     ]
    }
   ],
   "source": [
    "#Example:- \n",
    "my_dict = {}\n",
    "my_dict['name'] = 'John'\n",
    "print(my_dict)  # Output: {'name': 'John'}\n"
   ]
  },
  {
   "cell_type": "markdown",
   "id": "3aee0b8b-6376-4c5b-9e66-a77480875a4b",
   "metadata": {},
   "source": [
    "#### Modifying Items in a Dictionary:\n",
    "Syntax: dictionary[key] = new_value"
   ]
  },
  {
   "cell_type": "code",
   "execution_count": 65,
   "id": "35967708-d928-4964-864a-aa487b72fe24",
   "metadata": {},
   "outputs": [
    {
     "name": "stdout",
     "output_type": "stream",
     "text": [
      "{'name': 'Jane'}\n"
     ]
    }
   ],
   "source": [
    "#Example:- \n",
    "my_dict['name'] = 'Jane'\n",
    "print(my_dict)  # Output: {'name': 'Jane'}\n"
   ]
  },
  {
   "cell_type": "markdown",
   "id": "cab7025f-d778-4ba4-96ef-3570ae7e212d",
   "metadata": {},
   "source": [
    "#### Deleting Items in a Dictionary:\n",
    "Using del:\n",
    "\n",
    "Syntax: del dictionary[key]\n"
   ]
  },
  {
   "cell_type": "code",
   "execution_count": 66,
   "id": "99b811f8-254e-4987-b66f-acbbce99ff28",
   "metadata": {},
   "outputs": [
    {
     "name": "stdout",
     "output_type": "stream",
     "text": [
      "{}\n"
     ]
    }
   ],
   "source": [
    "#Example:-\n",
    "del my_dict['name']\n",
    "print(my_dict)  # Output: {}\n"
   ]
  },
  {
   "cell_type": "markdown",
   "id": "f80929d9-06f4-4d97-bec1-7453ab4d9e6c",
   "metadata": {},
   "source": [
    "#### \n",
    "Using clear() (removes all items):\n",
    "\n",
    "Syntax: dictionary.clear()"
   ]
  },
  {
   "cell_type": "code",
   "execution_count": 67,
   "id": "1be3afbc-2d9f-4d17-a532-dd9b1998d6ef",
   "metadata": {},
   "outputs": [
    {
     "name": "stdout",
     "output_type": "stream",
     "text": [
      "{}\n"
     ]
    }
   ],
   "source": [
    "#Example:- \n",
    "my_dict.clear()\n",
    "print(my_dict)  # Output: {}\n"
   ]
  },
  {
   "cell_type": "markdown",
   "id": "06406cc4-3ba5-4cef-8e01-d099de722e65",
   "metadata": {},
   "source": [
    "## Q.8 Discuss the importance of dictionary keys being immutable and provide examples?"
   ]
  },
  {
   "cell_type": "markdown",
   "id": "dcbc0ccb-355a-44e3-bd2b-a280899db159",
   "metadata": {},
   "source": [
    "### Answer:-"
   ]
  },
  {
   "cell_type": "markdown",
   "id": "26b9106e-30a8-45f8-a360-e80d02ea62fc",
   "metadata": {},
   "source": [
    "#### Importance of Dictionary Keys Being Immutable:\n",
    "\n",
    "In Python, dictionary keys must be immutable because they are used in hashing to store and retrieve values efficiently.\n",
    "    \n",
    "Immutability ensures that the key's hash value remains constant, allowing the dictionary to maintain fast access times."
   ]
  },
  {
   "cell_type": "markdown",
   "id": "c4d3b601-9eca-4280-b85c-6b00c2b0a3a0",
   "metadata": {},
   "source": [
    "### Key Points :- "
   ]
  },
  {
   "cell_type": "markdown",
   "id": "91933b3b-30eb-49ee-b37a-93b98446338b",
   "metadata": {},
   "source": [
    "#### Hashing Requirement:\n",
    "\n",
    "Reason: Dictionaries use hash tables for storage. \n",
    "\n",
    "An immutable key guarantees that the hash value won't change, preserving data integrity."
   ]
  },
  {
   "cell_type": "code",
   "execution_count": 70,
   "id": "d360be04-bffc-4094-91d6-9feb26b8c90d",
   "metadata": {},
   "outputs": [],
   "source": [
    "#Example: \n",
    "#If a list were allowed as a key and it was modified, the dictionary would not be able to locate the value associated with the key.\n"
   ]
  },
  {
   "cell_type": "markdown",
   "id": "ac3a6e36-179a-49af-894c-4253c992cc16",
   "metadata": {},
   "source": [
    "#### Avoiding Errors:\n",
    "\n",
    "Reason: Mutable keys could lead to unexpected behavior and make it difficult to track data within the dictionary."
   ]
  },
  {
   "cell_type": "code",
   "execution_count": 71,
   "id": "da7c6b16-36b4-4d7c-9fb1-b1c2b39533bb",
   "metadata": {},
   "outputs": [],
   "source": [
    "#Example: A tuple can be a dictionary key, but a list cannot.\n",
    "my_dict = {(1, 2): \"Tuple Key\"}\n",
    "# my_dict[[1, 2]] = \"List Key\"  # Raises TypeError\n"
   ]
  },
  {
   "cell_type": "markdown",
   "id": "017e5fde-1331-4137-a216-1c5266f23c4e",
   "metadata": {},
   "source": [
    "### Examples:"
   ]
  },
  {
   "cell_type": "code",
   "execution_count": 73,
   "id": "3510a198-31a5-4557-a78e-5b4abc74155a",
   "metadata": {},
   "outputs": [],
   "source": [
    "#Immutable Keys (e.g., tuples, strings, numbers):\n",
    "my_dict = {42: \"The Answer\", \"name\": \"Alice\", (1, 2): \"Coordinates\"}\n"
   ]
  },
  {
   "cell_type": "code",
   "execution_count": null,
   "id": "bd8526aa-c8de-467a-87f9-df886a8488fc",
   "metadata": {},
   "outputs": [],
   "source": [
    "#Mutable Keys Not Allowed (e.g., lists, dictionaries):\n",
    "\n",
    "# Invalid: list as a key\n",
    "# my_dict = {[1, 2, 3]: \"List Key\"}  # Raises TypeError\n"
   ]
  },
  {
   "cell_type": "markdown",
   "id": "8c0443d9-b91b-4434-a292-2b48d1a7a102",
   "metadata": {},
   "source": [
    "#### \n",
    "Immutability ensures consistent and efficient dictionary operations.\n",
    "Valid Keys include types like strings, numbers, and tuples, while mutable types like lists and dictionaries cannot be keys."
   ]
  },
  {
   "cell_type": "code",
   "execution_count": null,
   "id": "8106f575-1ff1-4f60-b463-5886b09e83e2",
   "metadata": {},
   "outputs": [],
   "source": []
  },
  {
   "cell_type": "code",
   "execution_count": null,
   "id": "27a579b7-1567-4f14-bd50-a318259b9093",
   "metadata": {},
   "outputs": [],
   "source": []
  }
 ],
 "metadata": {
  "kernelspec": {
   "display_name": "Python 3 (ipykernel)",
   "language": "python",
   "name": "python3"
  },
  "language_info": {
   "codemirror_mode": {
    "name": "ipython",
    "version": 3
   },
   "file_extension": ".py",
   "mimetype": "text/x-python",
   "name": "python",
   "nbconvert_exporter": "python",
   "pygments_lexer": "ipython3",
   "version": "3.12.5"
  }
 },
 "nbformat": 4,
 "nbformat_minor": 5
}
