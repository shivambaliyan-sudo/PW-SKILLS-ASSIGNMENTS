{
 "cells": [
  {
   "cell_type": "markdown",
   "id": "32270b58-8b5f-4e22-ab60-78336ee004c0",
   "metadata": {},
   "source": [
    "# Statistics Advance - 1 - Assignment Questions"
   ]
  },
  {
   "cell_type": "markdown",
   "id": "82449414-440c-4453-a35e-be22fc7cc6a4",
   "metadata": {},
   "source": [
    "## Q1.Explain the properties of the F distribution."
   ]
  },
  {
   "cell_type": "markdown",
   "id": "356c094f-63eb-47c4-ad00-006f8ed8d8a0",
   "metadata": {},
   "source": [
    "### Answer:-"
   ]
  },
  {
   "cell_type": "markdown",
   "id": "6922d11b-622f-429a-8787-68a590e6ef48",
   "metadata": {},
   "source": [
    "#### The F-distribution is a continuous probability distribution that arises in the analysis of variances, particularly in ANOVA and regression analysis. Its properties include:\n",
    "\n",
    "Asymmetry : The F-distribution is positively skewed, with most of its density concentrated near 0.\n",
    "\n",
    "Non-negativity : F-values ​​cannot be negative.\n",
    "\n",
    "Dependence on degrees of freedom : The shape of the F-distribution changes based on the degrees of freedom of the two groups being compared.\n",
    "\n",
    "Right-tailed test : Primarily used in right-tailed tests where we assess if one variance is significantly greater than another."
   ]
  },
  {
   "cell_type": "markdown",
   "id": "9d61cc35-238c-42a7-9ff9-53c927ad4934",
   "metadata": {},
   "source": [
    "## Q2. In which types of statistical tests is the F-distribution used, and why is it appropriate for these tests?"
   ]
  },
  {
   "cell_type": "markdown",
   "id": "d129e839-9e18-4335-81b9-406af356ec5b",
   "metadata": {},
   "source": [
    "### Answer:-"
   ]
  },
  {
   "cell_type": "markdown",
   "id": "932a4f78-1d92-4f5d-bd7a-c54cf51ac182",
   "metadata": {},
   "source": [
    "#### \n",
    "The F-distribution is used in tests like ANOVA (Analysis of Variance) and F-tests for comparing variances. It is appropriate because these tests rely on variance comparisons across groups or samples. The F-distribution accounts for the ratio of variances from independent samples, which helps in assessing if observed differences are statistically significant."
   ]
  },
  {
   "cell_type": "markdown",
   "id": "04292337-bda7-4435-9044-fd0fce7fab47",
   "metadata": {},
   "source": [
    "## Q3. What are the key assumptions required for conducting an F-test to compare the variances of two populations?"
   ]
  },
  {
   "cell_type": "markdown",
   "id": "6f8a9b71-34cd-4c05-8dad-442f7b129539",
   "metadata": {},
   "source": [
    "### Answer:-"
   ]
  },
  {
   "cell_type": "markdown",
   "id": "379b7fed-3f9a-4379-a30d-6ed1a212aa95",
   "metadata": {},
   "source": [
    "#### \n",
    "Normality : The populations from which samples are drawn should follow a normal distribution.\n",
    "\n",
    "Independence : The samples must be independent of each other.\n",
    "\n",
    "Equal sample sizes : While not strictly necessary, equal or similar sample sizes help improve the reliability of the F-test."
   ]
  },
  {
   "cell_type": "markdown",
   "id": "2e02d07e-6ec1-464a-8bad-b2a36eaa790f",
   "metadata": {},
   "source": [
    "## Q4. What is the purpose of ANOVA, and how does it differ from a t-test?"
   ]
  },
  {
   "cell_type": "markdown",
   "id": "ad7c2308-113b-4d28-8808-7bfdbafc6720",
   "metadata": {},
   "source": [
    "### Answer:-"
   ]
  },
  {
   "cell_type": "markdown",
   "id": "450cffd2-82cb-4418-b60d-d6d77c85d40e",
   "metadata": {},
   "source": [
    "#### \n",
    "ANOVA (Analysis of Variance) is used to compare means across multiple groups to identify statistically significant differences. It differs from a t-test, which is typically used to compare the means of only two groups. ANOVA controls for the increased risk of Type I errors when comparing more than two groups, whereas multiple t-tests would increase the chance of error."
   ]
  },
  {
   "cell_type": "markdown",
   "id": "fab7f2d5-c2b4-4c4d-aaba-7aaf16b5a337",
   "metadata": {},
   "source": [
    "## Q5. Explain when and why you would use a one-way ANOVA instead of multiple t-tests when comparing more than two groups."
   ]
  },
  {
   "cell_type": "markdown",
   "id": "5db61e2c-1c0a-4076-9b0c-aa0994d112bc",
   "metadata": {},
   "source": [
    "### Answer:-"
   ]
  },
  {
   "cell_type": "markdown",
   "id": "79ad017a-5e12-4ed9-87bd-090f0d4be829",
   "metadata": {},
   "source": [
    "#### \n",
    "A one-way ANOVA is preferred when comparing more than two groups because it reduces the risk of Type I error that arises from performing multiple t-tests. One-way ANOVA evaluates all group means simultaneously with a single test, making it more efficient and statistically robust than conducting multiple pairwise t-tests."
   ]
  },
  {
   "cell_type": "markdown",
   "id": "6a43c7e7-339a-47e0-aeef-177e2e10dc3a",
   "metadata": {},
   "source": [
    "## Q6.Explain how variance is partitioned in ANOVA into between-group variance and within-group variance. How does this partitioning contribute to the calculation of the F-statistic?"
   ]
  },
  {
   "cell_type": "markdown",
   "id": "bf54503e-0e54-457e-aa38-66292f7f4c57",
   "metadata": {},
   "source": [
    "### Answer:-"
   ]
  },
  {
   "cell_type": "markdown",
   "id": "ce40eb55-816f-4cdb-a43c-919caf16aff1",
   "metadata": {},
   "source": [
    "#### \n",
    "ANOVA splits total variance into two parts: between-group variance (variation due to differences between group means) and within-group variance (variation within each group). The F-statistic is calculated as the ratio of between-group variance to within-group variance. A larger F-statistic suggests a greater likelihood that observed differences are not due to chance."
   ]
  },
  {
   "cell_type": "markdown",
   "id": "737e5349-6ea1-4e4c-a099-e96c3ce25f61",
   "metadata": {},
   "source": [
    "## Q7.Compare the classical (frequentist) approach to ANOVA with the Bayesian approach. What are the key differences in terms of how they handle uncertainty, parameter estimation, and hypothesis testing?"
   ]
  },
  {
   "cell_type": "markdown",
   "id": "087d57e5-691b-4da7-8119-57e74cb16069",
   "metadata": {},
   "source": [
    "### Answer:-"
   ]
  },
  {
   "cell_type": "markdown",
   "id": "5551dc54-bb0a-4339-b7bb-2cac5143a729",
   "metadata": {},
   "source": [
    "#### \n",
    "In the frequentist approach , ANOVA relies on p-values ​​and confidence intervals, assuming fixed data and random sampling. Uncertainty is expressed through confidence levels, and hypothesis testing determines whether to reject the null hypothesis.\n",
    "\n",
    "\n",
    "The Bayesian approach incorporates prior beliefs or distributions in addition to observed data, updating these beliefs with the data to generate a posterior distribution. It provides direct probability statements about hypotheses, which the frequentist approach does not offer, and handles parameter estimation probabilistically rather than through fixed confidence intervals."
   ]
  },
  {
   "cell_type": "markdown",
   "id": "88000d10-f05e-4725-9e40-fbdeacd10dab",
   "metadata": {},
   "source": [
    "## Q8.F-test for Profession Incomes\n",
    "Given Data :\n",
    "Profession A : [48, 52, 55, 60, 62]\n",
    "Profession B : [45, 50, 55, 52, 47]\n",
    "\n",
    "To conduct the F-test:\n"
   ]
  },
  {
   "cell_type": "code",
   "execution_count": 1,
   "id": "aab126a4-828b-490b-b069-fac8d6d691ac",
   "metadata": {},
   "outputs": [
    {
     "data": {
      "text/plain": [
       "(np.float64(2.089171974522293), np.float64(0.7534757004973305))"
      ]
     },
     "execution_count": 1,
     "metadata": {},
     "output_type": "execute_result"
    }
   ],
   "source": [
    "import scipy.stats as stats\n",
    "import numpy as np\n",
    "\n",
    "# Data\n",
    "profession_a = [48, 52, 55, 60, 62]\n",
    "profession_b = [45, 50, 55, 52, 47]\n",
    "\n",
    "# Variances\n",
    "var_a = np.var(profession_a, ddof=1)\n",
    "var_b = np.var(profession_b, ddof=1)\n",
    "\n",
    "# F-statistic and p-value\n",
    "f_stat = var_a / var_b\n",
    "dfn = len(profession_a) - 1  # Degrees of freedom numerator\n",
    "dfd = len(profession_b) - 1  # Degrees of freedom denominator\n",
    "p_value = stats.f.cdf(f_stat, dfn, dfd)\n",
    "\n",
    "f_stat, p_value\n"
   ]
  },
  {
   "cell_type": "markdown",
   "id": "3a91614b-a607-4521-a4ef-bd5ffbd55085",
   "metadata": {},
   "source": [
    "#### Interpretation: If the p-value is below a chosen significance level (e.g., 0.05), we reject the null hypothesis, suggesting a significant difference in variances."
   ]
  },
  {
   "cell_type": "markdown",
   "id": "5ccb6fd3-f2ea-4041-ab13-7902d1f10a18",
   "metadata": {},
   "source": [
    "## Q9. One-way ANOVA for Heights Across Regions\n",
    "\n",
    "Given Data:\n",
    "\n",
    "\n",
    "Region A: [160, 162, 165, 158, 164]\n",
    "\n",
    "Region B: [172, 175, 170, 168, 174]\n",
    "\n",
    "Region C: [180, 182, 179, 185, 183]\n",
    "\n",
    "To conduct the ANOVA:"
   ]
  },
  {
   "cell_type": "code",
   "execution_count": 2,
   "id": "d28e6bdc-4e37-4829-9796-59adea126e48",
   "metadata": {},
   "outputs": [
    {
     "data": {
      "text/plain": [
       "(np.float64(67.87330316742101), np.float64(2.8706641879370266e-07))"
      ]
     },
     "execution_count": 2,
     "metadata": {},
     "output_type": "execute_result"
    }
   ],
   "source": [
    "from scipy.stats import f_oneway\n",
    "\n",
    "# Data\n",
    "region_a = [160, 162, 165, 158, 164]\n",
    "region_b = [172, 175, 170, 168, 174]\n",
    "region_c = [180, 182, 179, 185, 183]\n",
    "\n",
    "# Perform one-way ANOVA\n",
    "f_stat, p_value = f_oneway(region_a, region_b, region_c)\n",
    "\n",
    "f_stat, p_value\n"
   ]
  },
  {
   "cell_type": "markdown",
   "id": "98c73183-fab9-405d-b6fe-ea54218b5eb0",
   "metadata": {},
   "source": [
    "#### Interpretation: If the p-value is below a significance level (e.g., 0.05), we conclude that there are statistically significant differences in heights between at least two of the regions."
   ]
  },
  {
   "cell_type": "markdown",
   "id": "a4729ede-7d1d-4928-a200-593614c09617",
   "metadata": {},
   "source": [
    "# Thank You"
   ]
  },
  {
   "cell_type": "code",
   "execution_count": null,
   "id": "e093e32d-6648-4296-be68-f604a17e0d18",
   "metadata": {},
   "outputs": [],
   "source": []
  }
 ],
 "metadata": {
  "kernelspec": {
   "display_name": "Python 3 (ipykernel)",
   "language": "python",
   "name": "python3"
  },
  "language_info": {
   "codemirror_mode": {
    "name": "ipython",
    "version": 3
   },
   "file_extension": ".py",
   "mimetype": "text/x-python",
   "name": "python",
   "nbconvert_exporter": "python",
   "pygments_lexer": "ipython3",
   "version": "3.12.5"
  }
 },
 "nbformat": 4,
 "nbformat_minor": 5
}
