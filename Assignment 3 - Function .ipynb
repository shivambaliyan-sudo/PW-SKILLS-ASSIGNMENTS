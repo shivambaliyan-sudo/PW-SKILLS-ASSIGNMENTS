{
 "cells": [
  {
   "cell_type": "markdown",
   "id": "2e7cdc13-516f-40de-9506-957d15b7f911",
   "metadata": {},
   "source": [
    "# Assignment 3- Functions"
   ]
  },
  {
   "cell_type": "markdown",
   "id": "57e80367-ca30-4e07-9637-4c6fc1699855",
   "metadata": {},
   "source": [
    "## Q1.What is the difference between function and a method in python ?"
   ]
  },
  {
   "cell_type": "markdown",
   "id": "cb7cf440-bbcd-4d7e-88fe-d94c817b0022",
   "metadata": {},
   "source": [
    "#### In Python, both functions and methods perform a specific task, but they differ in how they are used and where they are defined."
   ]
  },
  {
   "cell_type": "markdown",
   "id": "57848262-2863-4985-9b5c-e5c81faaf17f",
   "metadata": {},
   "source": [
    "### 1. Function:\n",
    "Definition: A function is a block of code that performs a specific task. It is defined using the def keyword and can be called independently.\n",
    "\n",
    "Usage: Functions can be called directly using their name, and they are not bound to any object.\n"
   ]
  },
  {
   "cell_type": "code",
   "execution_count": 1,
   "id": "8bd0271d-76f3-457e-9275-8c2f5c0a6de2",
   "metadata": {},
   "outputs": [
    {
     "name": "stdout",
     "output_type": "stream",
     "text": [
      "Hello, Jotiba!\n"
     ]
    }
   ],
   "source": [
    "#Example\n",
    "def greet(name):\n",
    "    return f\"Hello, {name}!\"\n",
    "\n",
    "# Calling the function\n",
    "print(greet(\"Jotiba\"))\n"
   ]
  },
  {
   "cell_type": "markdown",
   "id": "963f98df-2740-4bfe-8d29-eaff4701a251",
   "metadata": {},
   "source": [
    "### 2. Method:\n",
    "Definition: A method is similar to a function but is associated with an object and is defined inside a class. It takes the instance of the class (self) as its first parameter.\n",
    "\n",
    "Usage: Methods are called on an object, meaning they are dependent on the object instance."
   ]
  },
  {
   "cell_type": "code",
   "execution_count": 2,
   "id": "0cac0a71-dacd-4d19-aaab-a0a17479290f",
   "metadata": {},
   "outputs": [
    {
     "name": "stdout",
     "output_type": "stream",
     "text": [
      "Hello, Jotiba!\n"
     ]
    }
   ],
   "source": [
    "#Example\n",
    "\n",
    "class Greeter:\n",
    "    def greet(self, name):\n",
    "        return f\"Hello, {name}!\"\n",
    "\n",
    "# Creating an instance of the class\n",
    "greeter = Greeter()\n",
    "\n",
    "# Calling the method on the object\n",
    "print(greeter.greet(\"Jotiba\"))\n"
   ]
  },
  {
   "cell_type": "code",
   "execution_count": 3,
   "id": "5b29627c-0ec4-4746-b1f0-3c72d31b5e3c",
   "metadata": {},
   "outputs": [],
   "source": [
    "#-Functions are independent and can be called on their own.\n",
    "#-Methods are dependent on objects and are called using the object's instance."
   ]
  },
  {
   "cell_type": "code",
   "execution_count": null,
   "id": "9b02f8f3-1f12-4191-9c0d-b5ad13f2645b",
   "metadata": {},
   "outputs": [],
   "source": []
  },
  {
   "cell_type": "markdown",
   "id": "f5dead26-fb7c-4952-b7d1-4a739a0031ba",
   "metadata": {},
   "source": [
    "## Q2.Explain the concept of function arguments and parameters in python ?"
   ]
  },
  {
   "cell_type": "markdown",
   "id": "bcbc4f54-2596-4491-bae8-625cc4eed442",
   "metadata": {},
   "source": [
    "### Answer:-"
   ]
  },
  {
   "cell_type": "markdown",
   "id": "5f577c33-edc6-48f9-ae9d-fb2e40f4436f",
   "metadata": {},
   "source": [
    "### Function Arguments and Parameters in Python\n",
    "\n",
    "In Python, when defining and calling functions, the terms arguments and parameters are commonly used. These terms refer to the values that functions use to perform operations.\n"
   ]
  },
  {
   "cell_type": "markdown",
   "id": "7b14da39-47a8-455e-9748-30204d4837a6",
   "metadata": {},
   "source": [
    "### 1. Parameters:\n",
    "\n",
    "Definition: Parameters are the variables listed inside the parentheses in the function definition. They act as placeholders for the values that will be passed into the function.\n"
   ]
  },
  {
   "cell_type": "code",
   "execution_count": 4,
   "id": "c37a84de-e232-49f7-a277-e110e104abeb",
   "metadata": {},
   "outputs": [],
   "source": [
    "#Example:-\n",
    "def add_numbers(a, b):  # a and b are parameters\n",
    "    return a + b\n",
    "    \n"
   ]
  },
  {
   "cell_type": "markdown",
   "id": "0be157c3-1994-4d3e-b9cc-c1ec68987e8c",
   "metadata": {},
   "source": [
    "### 2. Arguments:\n",
    "\n",
    "Definition: Arguments are the actual values that are passed to the function when it is called. \n",
    "These values are assigned to the corresponding parameters in the function definition.\n"
   ]
  },
  {
   "cell_type": "code",
   "execution_count": 5,
   "id": "6f85b5d8-b7d1-48e9-8358-5a12b0c57299",
   "metadata": {},
   "outputs": [
    {
     "name": "stdout",
     "output_type": "stream",
     "text": [
      "8\n",
      "Hello, Jotiba Jadhav!\n"
     ]
    }
   ],
   "source": [
    "#Example\n",
    "result = add_numbers(5, 3)  # 5 and 3 are arguments\n",
    "print(result)\n",
    "\n",
    "\n",
    "\n",
    "#Example 2\n",
    "def greet(first_name, last_name=\"Jadhav\"):\n",
    "    return f\"Hello, {first_name} {last_name}!\"\n",
    "\n",
    "print(greet(\"Jotiba\"))  # Only one argument passed\n"
   ]
  },
  {
   "cell_type": "markdown",
   "id": "a51750e6-0761-452f-b58b-474a87ed7eba",
   "metadata": {},
   "source": [
    "## Q3.What are the different ways to define and call a function in Python?"
   ]
  },
  {
   "cell_type": "markdown",
   "id": "639ec780-fab7-4183-87a5-cff3312c3836",
   "metadata": {},
   "source": [
    "### Answer:-"
   ]
  },
  {
   "cell_type": "markdown",
   "id": "dca036b5-6bd5-4dbf-8beb-87e20acbeaa8",
   "metadata": {},
   "source": [
    "#### In Python, functions can be defined and called in multiple ways depending on the use case.Here’s an overview of different approaches to defining and calling functions:"
   ]
  },
  {
   "cell_type": "markdown",
   "id": "18dd9c57-640e-4cb3-8b20-8e3395b19178",
   "metadata": {},
   "source": [
    "#### 1. Defining a Basic Function\n",
    "A basic function in Python is defined using the def keyword."
   ]
  },
  {
   "cell_type": "code",
   "execution_count": 6,
   "id": "4a6674ed-336a-4bbc-ac5d-7dc516ba83bf",
   "metadata": {},
   "outputs": [],
   "source": [
    "#Example\n",
    "\n",
    "def greet():\n",
    "    print(\"Hello, World!\")\n"
   ]
  },
  {
   "cell_type": "code",
   "execution_count": 7,
   "id": "6fe892ff-f589-4e61-8e07-c8bb8b7f86a9",
   "metadata": {},
   "outputs": [
    {
     "name": "stdout",
     "output_type": "stream",
     "text": [
      "Hello, World!\n"
     ]
    }
   ],
   "source": [
    "#Calling the Function\n",
    "\n",
    "greet()  # Output: Hello, World!\n"
   ]
  },
  {
   "cell_type": "markdown",
   "id": "4a954617-8a2a-40c5-bd7c-7cc6e5e097d2",
   "metadata": {},
   "source": [
    "#### 2. Function with Parameters\n",
    "Functions can accept parameters to make them more flexible."
   ]
  },
  {
   "cell_type": "code",
   "execution_count": 8,
   "id": "7a191830-9dea-45da-a63a-e7dd85ad50d9",
   "metadata": {},
   "outputs": [],
   "source": [
    "#Example\n",
    "\n",
    "def greet(name):\n",
    "    print(f\"Hello, {name}!\")\n"
   ]
  },
  {
   "cell_type": "code",
   "execution_count": 9,
   "id": "b7a2cd49-805d-4d08-901d-0cd77510e94a",
   "metadata": {},
   "outputs": [
    {
     "name": "stdout",
     "output_type": "stream",
     "text": [
      "Hello, Jotiba!\n"
     ]
    }
   ],
   "source": [
    "#Calling the Function \n",
    "greet(\"Jotiba\")  # Output: Hello, Jotiba!\n"
   ]
  },
  {
   "cell_type": "markdown",
   "id": "9cb0c7f0-a26e-4032-b0f4-ccf85ad4c02a",
   "metadata": {},
   "source": [
    "#### 3. Function with Default Parameters\n",
    "You can assign default values to parameters."
   ]
  },
  {
   "cell_type": "code",
   "execution_count": 10,
   "id": "741f73cd-9871-441b-84cc-1e1116468657",
   "metadata": {},
   "outputs": [],
   "source": [
    "#Example\n",
    "def greet(name=\"Guest\"):\n",
    "    print(f\"Hello, {name}!\")\n"
   ]
  },
  {
   "cell_type": "code",
   "execution_count": 11,
   "id": "e56f3512-6ef6-4155-b44f-1893f8e2378c",
   "metadata": {},
   "outputs": [
    {
     "name": "stdout",
     "output_type": "stream",
     "text": [
      "Hello, Guest!\n",
      "Hello, John!\n"
     ]
    }
   ],
   "source": [
    "#Calling the function\n",
    "greet()        # Output: Hello, Guest!\n",
    "greet(\"John\")  # Output: Hello, John!\n"
   ]
  },
  {
   "cell_type": "markdown",
   "id": "8dc13c97-39d7-4afa-90c9-d331f7e4e0e0",
   "metadata": {},
   "source": [
    "#### 4. Function with Return Value\n",
    "A function can return a value using the return keyword.\n",
    "\n"
   ]
  },
  {
   "cell_type": "code",
   "execution_count": 12,
   "id": "31ce6e0b-be51-4909-8db7-774926532684",
   "metadata": {},
   "outputs": [],
   "source": [
    "#Example\n",
    "def add(a, b):\n",
    "    return a + b\n"
   ]
  },
  {
   "cell_type": "code",
   "execution_count": 13,
   "id": "429eb83d-81e7-465c-a86a-b39665cc522a",
   "metadata": {},
   "outputs": [
    {
     "name": "stdout",
     "output_type": "stream",
     "text": [
      "8\n"
     ]
    }
   ],
   "source": [
    "#calling the function\n",
    "result = add(5, 3)  # Output: 8\n",
    "print(result)\n"
   ]
  },
  {
   "cell_type": "markdown",
   "id": "5ef6fb6f-bbfd-4075-9aa2-ce32117eb8e6",
   "metadata": {},
   "source": [
    "#### 5. Lambda Functions (Anonymous Functions)\n",
    "Lambda functions are single-expression, anonymous functions defined using the lambda keyword."
   ]
  },
  {
   "cell_type": "code",
   "execution_count": 14,
   "id": "af45e7e2-9832-499d-ae86-cb8ed88bdd26",
   "metadata": {},
   "outputs": [],
   "source": [
    "#example\n",
    "add = lambda a, b: a + b\n"
   ]
  },
  {
   "cell_type": "code",
   "execution_count": 15,
   "id": "9997da05-7f05-464f-8fd5-a0370127cf61",
   "metadata": {},
   "outputs": [
    {
     "name": "stdout",
     "output_type": "stream",
     "text": [
      "8\n"
     ]
    }
   ],
   "source": [
    "#calling the function\n",
    "result = add(5, 3)  # Output: 8\n",
    "print(result)\n"
   ]
  },
  {
   "cell_type": "markdown",
   "id": "6665522d-a1c8-4644-9157-80e8a8d12cf8",
   "metadata": {},
   "source": [
    "#### 6. Function with Variable-Length Arguments\n",
    "\n",
    "Positional Variable-Length Arguments (*args): Accepts multiple arguments as a tuple.\n",
    "\n",
    "Keyword Variable-Length Arguments (**kwargs): Accepts keyword arguments as a dictionary."
   ]
  },
  {
   "cell_type": "code",
   "execution_count": 16,
   "id": "1614ad2c-3407-49e7-95e8-e1610eb904e4",
   "metadata": {},
   "outputs": [],
   "source": [
    "#Example (*args):\n",
    "\n",
    "def sum_all(*args):\n",
    "    return sum(args)\n",
    "\n"
   ]
  },
  {
   "cell_type": "code",
   "execution_count": 17,
   "id": "93698697-f170-4606-8b7e-a81b7a402e4c",
   "metadata": {},
   "outputs": [
    {
     "name": "stdout",
     "output_type": "stream",
     "text": [
      "10\n"
     ]
    }
   ],
   "source": [
    "#Calling the Function\n",
    "\n",
    "print(sum_all(1, 2, 3, 4))  # Output: 10\n"
   ]
  },
  {
   "cell_type": "code",
   "execution_count": 18,
   "id": "0c92a610-c8af-40a1-8802-40943daa7f1b",
   "metadata": {},
   "outputs": [],
   "source": [
    "#Example (**kwargs):\n",
    "\n",
    "def greet_with_title(**kwargs):\n",
    "    print(f\"Hello, {kwargs.get('title', 'Mr./Ms.')} {kwargs['name']}!\")\n"
   ]
  },
  {
   "cell_type": "code",
   "execution_count": 19,
   "id": "751e7ab5-42f3-4e3f-8d4b-92bf2ade4325",
   "metadata": {},
   "outputs": [
    {
     "name": "stdout",
     "output_type": "stream",
     "text": [
      "Hello, Dr. Smith!\n"
     ]
    }
   ],
   "source": [
    "#calling function\n",
    "\n",
    "greet_with_title(name=\"Smith\", title=\"Dr.\")  # Output: Hello, Dr. Smith!\n"
   ]
  },
  {
   "cell_type": "markdown",
   "id": "8c48da65-d8be-4069-a6ff-37773ac071db",
   "metadata": {},
   "source": [
    "#### 7. Recursive Function\n",
    "A function can call itself, which is known as recursion."
   ]
  },
  {
   "cell_type": "code",
   "execution_count": 20,
   "id": "a234784d-ac15-4f00-96ce-e4c3be172fc8",
   "metadata": {},
   "outputs": [],
   "source": [
    "#Example\n",
    "def factorial(n):\n",
    "    if n == 1:\n",
    "        return 1\n",
    "    else:\n",
    "        return n * factorial(n - 1)\n",
    "\n"
   ]
  },
  {
   "cell_type": "code",
   "execution_count": 21,
   "id": "28a0b2cb-1495-4ef8-aa4f-9a0ebd716a1d",
   "metadata": {},
   "outputs": [
    {
     "name": "stdout",
     "output_type": "stream",
     "text": [
      "120\n"
     ]
    }
   ],
   "source": [
    "#calling the fuunction\n",
    "print(factorial(5))  # Output: 120"
   ]
  },
  {
   "cell_type": "markdown",
   "id": "ea3f7073-1c66-4e11-a7e0-89db2dad652f",
   "metadata": {},
   "source": [
    "## Q4.What is the purpose of the `return` statement in a Python function?"
   ]
  },
  {
   "cell_type": "markdown",
   "id": "ea140c0f-47c2-4087-8e5c-4dd54b0cc650",
   "metadata": {},
   "source": [
    "### Answer:-"
   ]
  },
  {
   "cell_type": "markdown",
   "id": "36cba350-892c-4711-9812-c8aa7fc8b731",
   "metadata": {},
   "source": [
    "### The purpose of the return statement in a Python function is to:"
   ]
  },
  {
   "cell_type": "markdown",
   "id": "31d63ca3-cd49-412d-8be6-e1fa1a489d82",
   "metadata": {},
   "source": [
    "### 1.Send a Result Back to the Caller:\n",
    "\n",
    "It allows the function to return a value or multiple values back to the part of the program that called the function. \n",
    "This value can be stored in a variable, printed, or used in expressions."
   ]
  },
  {
   "cell_type": "code",
   "execution_count": 22,
   "id": "169ca1e0-a58f-4c33-ab92-b22e85698172",
   "metadata": {},
   "outputs": [
    {
     "name": "stdout",
     "output_type": "stream",
     "text": [
      "7\n"
     ]
    }
   ],
   "source": [
    "#Example\n",
    "def add(a, b):\n",
    "    return a + b  # Returns the sum of a and b\n",
    "result = add(3, 4)\n",
    "print(result)  # Output: 7\n"
   ]
  },
  {
   "cell_type": "markdown",
   "id": "6787c305-8742-4993-90fb-870955c4d265",
   "metadata": {},
   "source": [
    "### 2.End the Function Execution:\n",
    "\n",
    "When the return statement is executed, the function terminates, and control is passed back to the caller.\n",
    "\n",
    "No code after the return statement is executed."
   ]
  },
  {
   "cell_type": "code",
   "execution_count": 23,
   "id": "d45804d2-4726-4edc-b967-36c55c921789",
   "metadata": {},
   "outputs": [],
   "source": [
    "#Example\n",
    "def test():\n",
    "    return \"This is the end\"\n",
    "    print(\"This will never be printed\")\n"
   ]
  },
  {
   "cell_type": "markdown",
   "id": "2e583ef2-f8dc-40a9-9408-40cd4c601bdd",
   "metadata": {},
   "source": [
    "### 3.Return Multiple Values:\n",
    "\n",
    "Python functions can return multiple values by using commas (tuples).\n",
    "\n",
    "This is helpful when you want to return more than one piece of information."
   ]
  },
  {
   "cell_type": "code",
   "execution_count": 24,
   "id": "ee0cf4bc-c504-40fb-b59c-8b6ff46483de",
   "metadata": {},
   "outputs": [
    {
     "name": "stdout",
     "output_type": "stream",
     "text": [
      "John 28 Engineer\n"
     ]
    }
   ],
   "source": [
    "#Example\n",
    "def get_details():\n",
    "    return \"John\", 28, \"Engineer\"  # Returning multiple values as a tuple\n",
    "name, age, profession = get_details()\n",
    "print(name, age, profession)  # Output: John 28 Engineer\n"
   ]
  },
  {
   "cell_type": "markdown",
   "id": "c3d5bfb2-7f69-4bb7-8451-1f2fb091661c",
   "metadata": {},
   "source": [
    "### 4.Return Nothing (None): \n",
    "\n",
    "If a function has no return statement or the return statement is without an expression, it implicitly returns None."
   ]
  },
  {
   "cell_type": "code",
   "execution_count": 25,
   "id": "bd6f51e8-144f-41a7-850d-cdf0c01818df",
   "metadata": {},
   "outputs": [
    {
     "name": "stdout",
     "output_type": "stream",
     "text": [
      "None\n"
     ]
    }
   ],
   "source": [
    "#Example\n",
    "def do_nothing():\n",
    "    return\n",
    "print(do_nothing())  # Output: None\n"
   ]
  },
  {
   "cell_type": "markdown",
   "id": "d618162b-480e-402f-91d7-3e7a1776fa86",
   "metadata": {},
   "source": [
    "## Q5.What are iterators in Python and how do they differ from iterables?"
   ]
  },
  {
   "cell_type": "markdown",
   "id": "0f8c0177-42e4-4eff-bced-36c69ecf1198",
   "metadata": {},
   "source": [
    "### Answe:-"
   ]
  },
  {
   "cell_type": "markdown",
   "id": "51467a04-ad28-4f07-a0e7-2757ea032895",
   "metadata": {},
   "source": [
    "#### In Python, iterators and iterables are closely related concepts but serve different purposes. Here's a breakdown of each:"
   ]
  },
  {
   "cell_type": "markdown",
   "id": "7332eb48-6952-4d1b-bd75-1d6298276de5",
   "metadata": {},
   "source": [
    "#### Iterables\n",
    "\n",
    "An iterable is any Python object capable of returning its members one at a time, allowing it to be iterated over in a loop.\n",
    "\n",
    "Common examples include lists, tuples, strings, dictionaries, and sets.\n",
    "\n",
    "An iterable object implements the __iter__() method, which returns an iterator."
   ]
  },
  {
   "cell_type": "markdown",
   "id": "da910f0b-444e-49c1-80b8-0675a15131a8",
   "metadata": {},
   "source": [
    "#### Iterators\n",
    "\n",
    "An iterator is an object that represents a stream of data and returns the next item in the sequence when you call the __next__() method.\n",
    "\n",
    "An iterator object implements both the __iter__() and __next__() methods.\n",
    "\n",
    "Iterators are used to iterate over the elements of an iterable.\n",
    "Once an iterator is exhausted (i.e., all items have been iterated over), calling __next__() raises a StopIteration exception."
   ]
  },
  {
   "cell_type": "markdown",
   "id": "e91d432d-25c1-418f-9f8c-c5a332f795aa",
   "metadata": {},
   "source": [
    "#### Differences between Iterables and Iterators:-\n",
    "\n",
    "Iterables can be passed to functions or constructs like for loops, which internally call the __iter__() method to get an iterator.\n",
    "\n",
    "Iterators, on the other hand, are used to fetch the items from the iterable one by one using the __next__() method.\n",
    "\n",
    "All iterators are iterables, but not all iterables are iterators. For example, a list is an iterable but not an iterator. However, iter(list) returns an iterator that can be used to iterate over the list."
   ]
  },
  {
   "cell_type": "code",
   "execution_count": 26,
   "id": "12fe3db6-d310-4ada-8208-9d3a5b0756c8",
   "metadata": {},
   "outputs": [
    {
     "name": "stdout",
     "output_type": "stream",
     "text": [
      "1\n",
      "2\n",
      "3\n",
      "1\n",
      "2\n",
      "3\n"
     ]
    }
   ],
   "source": [
    "#Example:-\n",
    "# Example of an iterable\n",
    "my_list = [1, 2, 3]\n",
    "for item in my_list:  # Iterating over an iterable\n",
    "    print(item)\n",
    "\n",
    "# Manually creating an iterator from an iterable\n",
    "my_iterator = iter(my_list)\n",
    "\n",
    "# Using the iterator to get items\n",
    "print(next(my_iterator))  # Outputs: 1\n",
    "print(next(my_iterator))  # Outputs: 2\n",
    "print(next(my_iterator))  # Outputs: 3\n",
    "\n",
    "# If you call next again, it will raise StopIteration\n",
    "# print(next(my_iterator))  # Uncommenting this line will raise StopIteration\n"
   ]
  },
  {
   "cell_type": "markdown",
   "id": "b87371be-159c-4947-a50c-6d1418037c27",
   "metadata": {},
   "source": [
    "## Q6. Explain the concept of generators in Python and how they are defined."
   ]
  },
  {
   "cell_type": "markdown",
   "id": "855161af-09d7-4f16-907b-bed47dca6f64",
   "metadata": {},
   "source": [
    "### Answer:-"
   ]
  },
  {
   "cell_type": "markdown",
   "id": "fd5dbf42-399a-4058-91be-714d81a1b08a",
   "metadata": {},
   "source": [
    "####\n",
    "Generators in Python are a type of iterator, but they are easier to create and use compared to traditional iterators. They allow you to iterate over data without the need to store the entire sequence in memory, making them memory-efficient for large datasets."
   ]
  },
  {
   "cell_type": "markdown",
   "id": "8d11ef41-b674-4da7-859a-7d29dbef5898",
   "metadata": {},
   "source": [
    "#### Key Concepts of Generators\n",
    "\n",
    "Generator Functions:\n",
    "\n",
    "Generator functions are a special type of function that return a generator iterator using the yield keyword instead of return.\n",
    "When a generator function is called, it doesn’t run its code immediately. Instead, it returns a generator object that can be used to execute the function’s code incrementally.\n",
    "\n",
    "The yield Keyword:\n",
    "\n",
    "Unlike return, which exits the function, yield pauses the function, saving its state (including local variables) and outputs a value to the caller.\n",
    "When the generator’s __next__() method is called, the function resumes execution right after the yield statement.\n",
    "\n",
    "Memory Efficiency:\n",
    "\n",
    "Generators are more memory-efficient than lists because they generate values on the fly. They don't store all the values in memory at once; instead, they yield one value at a time.\n",
    "\n",
    "Infinite Sequences:\n",
    "\n",
    "Generators are useful for representing infinite sequences because they only compute the next value on demand.\n"
   ]
  },
  {
   "cell_type": "code",
   "execution_count": 27,
   "id": "9910e1c0-b5e6-4db4-bbf2-57c069fc1c90",
   "metadata": {},
   "outputs": [
    {
     "name": "stdout",
     "output_type": "stream",
     "text": [
      "1\n",
      "2\n",
      "3\n"
     ]
    }
   ],
   "source": [
    "#Defining generator\n",
    "\n",
    "def simple_generator():\n",
    "    yield 1\n",
    "    yield 2\n",
    "    yield 3\n",
    "\n",
    "# Create a generator object\n",
    "gen = simple_generator()\n",
    "\n",
    "# Use the generator\n",
    "print(next(gen))  # Outputs: 1\n",
    "print(next(gen))  # Outputs: 2\n",
    "print(next(gen))  # Outputs: 3\n",
    "# If you call next again, it will raise StopIteration\n",
    "# print(next(gen))  # Uncommenting this line will raise StopIteration\n"
   ]
  },
  {
   "cell_type": "code",
   "execution_count": 28,
   "id": "c085ac28-4d29-4dcc-8006-f50839d199f6",
   "metadata": {},
   "outputs": [
    {
     "name": "stdout",
     "output_type": "stream",
     "text": [
      "0\n",
      "1\n",
      "1\n",
      "2\n",
      "3\n"
     ]
    }
   ],
   "source": [
    "#Example: A Generator for Fibonacci Sequence\n",
    "\n",
    "def fibonacci_generator():\n",
    "    a, b = 0, 1\n",
    "    while True:\n",
    "        yield a\n",
    "        a, b = b, a + b\n",
    "\n",
    "# Create a generator object\n",
    "fib = fibonacci_generator()\n",
    "\n",
    "# Get the first five Fibonacci numbers\n",
    "for _ in range(5):\n",
    "    print(next(fib))\n",
    "\n",
    "# Outputs:\n",
    "# 0\n",
    "# 1\n",
    "# 1\n",
    "# 2\n",
    "# 3\n"
   ]
  },
  {
   "cell_type": "code",
   "execution_count": 29,
   "id": "ef3972b3-8763-4ae3-be18-2f14241a9f44",
   "metadata": {},
   "outputs": [
    {
     "name": "stdout",
     "output_type": "stream",
     "text": [
      "0\n",
      "1\n",
      "4\n",
      "9\n",
      "16\n"
     ]
    }
   ],
   "source": [
    "#Generator Expressions\n",
    "\n",
    "# Generator expression\n",
    "gen_expr = (x * x for x in range(5))\n",
    "\n",
    "for num in gen_expr:\n",
    "    print(num)\n",
    "    \n",
    "# Outputs:\n",
    "# 0\n",
    "# 1\n",
    "# 4\n",
    "# 9\n",
    "# 16\n"
   ]
  },
  {
   "cell_type": "markdown",
   "id": "f8cc60b2-eb9f-4c2c-b40c-35df0281e933",
   "metadata": {},
   "source": [
    "## Q7.What are the advantages of using generators over regular functions?"
   ]
  },
  {
   "cell_type": "markdown",
   "id": "c78fb42f-399c-41e7-8b16-6ffeb116adcd",
   "metadata": {},
   "source": [
    "### Answer:-"
   ]
  },
  {
   "cell_type": "markdown",
   "id": "f0a304f3-ad4d-48cb-b958-d4b376c4dfaa",
   "metadata": {},
   "source": [
    "#### Using generators in Python offers several advantages over regular functions, particularly when dealing with large datasets, streaming data, or complex sequences. Here are the key advantages:"
   ]
  },
  {
   "cell_type": "markdown",
   "id": "81507893-f068-4261-a874-3259255f3822",
   "metadata": {},
   "source": [
    "####\n",
    "1.Memory Efficiency\n",
    "Lazy Evaluation: Generators produce values one at a time and only when required, rather than computing and storing the entire sequence in memory upfront. This is especially beneficial when working with large datasets or streams of data.\n",
    "No Need for Intermediate Storage: Regular functions that return lists or other collections must create and store the entire result in memory, which can be costly in terms of memory usage. Generators avoid this overhead by yielding items one at a time.\n",
    "\n",
    "2. Improved Performance\n",
    "Faster Start-Up: Since generators compute each value only when needed, the initial computation can start immediately without waiting for the entire sequence to be processed. This can lead to faster performance, especially in cases where not all values are needed.\n",
    "No Unnecessary Computation: In regular functions, even if you need only a part of the output (e.g., the first few items), the entire list is computed. Generators compute only the required elements, reducing unnecessary computation.\n",
    "\n",
    "3. Simplicity in Representing Infinite Sequences\n",
    "Infinite Sequences: Generators are ideal for representing infinite sequences, such as the Fibonacci sequence, because they generate values on-the-fly. Regular functions cannot return an infinite list, but a generator can yield an infinite number of values without running out of memory.\n",
    "\n",
    "4. Pipeline Processing\n",
    "Streamlined Data Processing: Generators can be used to create data pipelines where data is processed in stages. This allows for a cleaner, more modular design and avoids the need to store intermediate results in memory.\n",
    "Composability: Multiple generators can be chained together, with each generator processing data and passing it to the next. This makes the code more readable and maintainable.\n",
    "\n",
    "5. Cleaner Code with Less Boilerplate\n",
    "Automatic State Management: Generators automatically manage the state between successive calls, so you don’t need to manually manage the iteration state as you would in a class-based iterator.\n",
    "Readable and Concise: Generator functions often result in cleaner and more readable code compared to writing custom iterator classes or managing state manually in regular functions.\n",
    "\n",
    "6. Handling Large Data Streams\n",
    "Streaming Data: Generators are well-suited for working with data streams, such as reading large files line by line or processing data from an external source, without loading the entire data set into memory.\n",
    "Efficient I/O Operations: When dealing with large I/O operations (e.g., reading a file), generators can yield lines or chunks of data, processing them as they are read, which is more efficient than loading the entire content at once."
   ]
  },
  {
   "cell_type": "code",
   "execution_count": 30,
   "id": "76180ef6-0f47-4125-9b54-bf6e9c55c248",
   "metadata": {},
   "outputs": [],
   "source": [
    "#Example Comparison:-\n",
    "\n",
    "#Regular Function: Returns a list of squares, which is computed and stored all at once.\n",
    "\n",
    "def square_numbers(n):\n",
    "    result = []\n",
    "    for i in range(n):\n",
    "        result.append(i * i)\n",
    "    return result\n",
    "\n",
    "# Uses a lot of memory if n is large\n",
    "squares = square_numbers(1000000)\n"
   ]
  },
  {
   "cell_type": "code",
   "execution_count": 31,
   "id": "78f3edcc-eca3-4207-b05f-8ffd697a33ee",
   "metadata": {},
   "outputs": [],
   "source": [
    "#Generator Function: Yields squares one at a time, computing them as needed.\n",
    "\n",
    "def square_numbers_gen(n):\n",
    "    for i in range(n):\n",
    "        yield i * i\n",
    "\n",
    "# Efficient memory usage, only one value is computed at a time\n",
    "squares_gen = square_numbers_gen(1000000)\n"
   ]
  },
  {
   "cell_type": "markdown",
   "id": "f5599bfb-4ede-4c91-9cde-a6462d50ecb9",
   "metadata": {},
   "source": [
    "## Q8.What is a lambda function in Python and when is it typically used?"
   ]
  },
  {
   "cell_type": "markdown",
   "id": "c519455e-eb0b-4a59-b5a4-c1a8d8e4334a",
   "metadata": {},
   "source": [
    "### Answer:-"
   ]
  },
  {
   "cell_type": "markdown",
   "id": "10016c70-1902-4cdd-8662-148c7f19ed1a",
   "metadata": {},
   "source": [
    "####\n",
    "A lambda function in Python is a small, anonymous function defined using the lambda keyword. Unlike regular functions defined with the def keyword, lambda functions are limited to a single expression and do not have a name (hence \"anonymous\"). Despite their simplicity, they are quite powerful and are often used in situations where a small, simple function is needed for a short period."
   ]
  },
  {
   "cell_type": "markdown",
   "id": "8cbbe197-1715-45b6-9b75-94dcc11a4916",
   "metadata": {},
   "source": [
    "#### Syntax of a Lambda Function\n",
    "The basic syntax of a lambda function is:"
   ]
  },
  {
   "cell_type": "code",
   "execution_count": 32,
   "id": "262d1924-ad9e-4a74-9c53-f82c0bd72dd1",
   "metadata": {},
   "outputs": [
    {
     "data": {
      "text/plain": [
       "<function __main__.<lambda>(arguments)>"
      ]
     },
     "execution_count": 32,
     "metadata": {},
     "output_type": "execute_result"
    }
   ],
   "source": [
    "lambda arguments: expression"
   ]
  },
  {
   "cell_type": "markdown",
   "id": "20fc9b73-ce21-4f43-890a-d17ff90878d5",
   "metadata": {},
   "source": [
    "#### \n",
    "arguments: The inputs to the function. A lambda function can take any number of arguments, including optional ones, but it can have only one expression.\n",
    "\n",
    "expression: The single expression that is evaluated and returned. The expression can be a calculation, a call to another function, or any other valid Python expression."
   ]
  },
  {
   "cell_type": "code",
   "execution_count": 33,
   "id": "a442a8f5-c240-4d8c-9feb-ae83473cc93d",
   "metadata": {},
   "outputs": [
    {
     "name": "stdout",
     "output_type": "stream",
     "text": [
      "8\n",
      "8\n"
     ]
    }
   ],
   "source": [
    "#Example:-\n",
    "# Regular function\n",
    "def add(x, y):\n",
    "    return x + y\n",
    "\n",
    "# Equivalent lambda function\n",
    "add_lambda = lambda x, y: x + y\n",
    "\n",
    "# Both can be used in the same way\n",
    "print(add(3, 5))          # Outputs: 8\n",
    "print(add_lambda(3, 5))   # Outputs: 8\n"
   ]
  },
  {
   "cell_type": "markdown",
   "id": "492a73fe-77ae-45a3-8c3b-99b7d58147e7",
   "metadata": {},
   "source": [
    "#### Typical Use Cases for Lambda Functions\n",
    "\n",
    "Short, Simple Functions:\n",
    "\n",
    "Lambda functions are perfect for creating small, throwaway functions that are not reused elsewhere in the code.\n",
    "They are concise and can often be written in a single line, which makes them ideal for simple operations.\n",
    "\n",
    "As Arguments to Higher-Order Functions:\n",
    "\n",
    "Lambda functions are often used as arguments to higher-order functions like map(), filter(), and sorted(), where a simple operation needs to be applied to each element of a sequence."
   ]
  },
  {
   "cell_type": "code",
   "execution_count": 34,
   "id": "c4a659f7-0f18-4a31-8df7-947dd003c51e",
   "metadata": {},
   "outputs": [
    {
     "name": "stdout",
     "output_type": "stream",
     "text": [
      "[1, 4, 9, 16]\n"
     ]
    }
   ],
   "source": [
    "# Using lambda with map to square all elements in a list\n",
    "numbers = [1, 2, 3, 4]\n",
    "squared = map(lambda x: x * x, numbers)\n",
    "print(list(squared))  # Outputs: [1, 4, 9, 16]\n"
   ]
  },
  {
   "cell_type": "code",
   "execution_count": 35,
   "id": "68bf94a0-3d39-41ea-bd39-6fa05e68248d",
   "metadata": {},
   "outputs": [
    {
     "name": "stdout",
     "output_type": "stream",
     "text": [
      "[2, 4, 6]\n"
     ]
    }
   ],
   "source": [
    "# Using lambda with filter to get even numbers\n",
    "numbers = [1, 2, 3, 4, 5, 6]\n",
    "evens = filter(lambda x: x % 2 == 0, numbers)\n",
    "print(list(evens))  # Outputs: [2, 4, 6]\n"
   ]
  },
  {
   "cell_type": "markdown",
   "id": "81c93218-1934-4452-9a17-6bdfe69540f0",
   "metadata": {},
   "source": [
    "#### \n",
    "In Sorting and Key Functions:\n",
    "\n",
    "Lambda functions are commonly used to specify the sorting order or as key functions in sorting. They can extract the desired sort key or specify custom sorting criteria."
   ]
  },
  {
   "cell_type": "code",
   "execution_count": 36,
   "id": "bf7ba2d2-59c7-496a-9463-04c9d9e2ee9c",
   "metadata": {},
   "outputs": [
    {
     "name": "stdout",
     "output_type": "stream",
     "text": [
      "[(1, 'one'), (3, 'three'), (2, 'two')]\n"
     ]
    }
   ],
   "source": [
    "# Sort a list of tuples by the second element\n",
    "pairs = [(1, 'one'), (2, 'two'), (3, 'three')]\n",
    "sorted_pairs = sorted(pairs, key=lambda x: x[1])\n",
    "print(sorted_pairs)  # Outputs: [(1, 'one'), (3, 'three'), (2, 'two')]\n"
   ]
  },
  {
   "cell_type": "markdown",
   "id": "5819aa58-397a-43ea-ad4b-377e0e73c181",
   "metadata": {},
   "source": [
    "#### \n",
    "In Data Manipulation and Transformations:\n",
    "\n",
    "Lambda functions can be used in data processing tasks, like applying a transformation to a dataset, filtering data, or reducing data using functions like reduce().\n"
   ]
  },
  {
   "cell_type": "code",
   "execution_count": 37,
   "id": "f0a932e2-0865-462d-beb9-536282942cd1",
   "metadata": {},
   "outputs": [
    {
     "name": "stdout",
     "output_type": "stream",
     "text": [
      "24\n"
     ]
    }
   ],
   "source": [
    "from functools import reduce\n",
    "\n",
    "# Using lambda with reduce to compute the product of all elements in a list\n",
    "numbers = [1, 2, 3, 4]\n",
    "product = reduce(lambda x, y: x * y, numbers)\n",
    "print(product)  # Outputs: 24\n"
   ]
  },
  {
   "cell_type": "markdown",
   "id": "5fc3cf3f-5808-45fb-be15-a00f5fe78969",
   "metadata": {},
   "source": [
    "#### \n",
    "\n",
    "Inline Function Definitions:\n",
    "\n",
    "Lambda functions are useful when you need a quick, inline function for a specific task and don't want to formally define a function using def."
   ]
  },
  {
   "cell_type": "markdown",
   "id": "f1e8a5a5-9557-4b21-a28b-26b2454884c0",
   "metadata": {},
   "source": [
    "## Q9.Explain the purpose and usage of the `map()` function in Python."
   ]
  },
  {
   "cell_type": "markdown",
   "id": "0ae34110-3be5-4682-9691-39eb8047c57c",
   "metadata": {},
   "source": [
    "### Answer:-"
   ]
  },
  {
   "cell_type": "markdown",
   "id": "620afa70-ee98-4e6c-ad4a-1ea2f43d36ea",
   "metadata": {},
   "source": [
    "#### The map() function in Python is used to apply a given function to each item of an iterable (like a list or tuple) and returns a map object (an iterator) with the results. Its primary purpose is to streamline the process of transforming each element of an iterable without the need for explicit loops."
   ]
  },
  {
   "cell_type": "code",
   "execution_count": 39,
   "id": "627bc711-44ee-41aa-9b16-a50796b7a39a",
   "metadata": {},
   "outputs": [],
   "source": [
    "#Syntax:- map(function, iterable)\n",
    "\n",
    "#function: A function that defines the operation you want to perform on each element of the iterable.\n",
    "\n",
    "#iterable: A sequence (like a list, tuple, etc.) whose elements you want to apply the function to."
   ]
  },
  {
   "cell_type": "code",
   "execution_count": 40,
   "id": "21185446-e4d5-4ff3-aa42-b4d801b1e102",
   "metadata": {},
   "outputs": [
    {
     "name": "stdout",
     "output_type": "stream",
     "text": [
      "[1, 4, 9, 16]\n"
     ]
    }
   ],
   "source": [
    "#Example:-\n",
    "def square(n):\n",
    "    return n ** 2\n",
    "\n",
    "numbers = [1, 2, 3, 4]\n",
    "squared_numbers = map(square, numbers)\n",
    "print(list(squared_numbers))  # Output: [1, 4, 9, 16]\n"
   ]
  },
  {
   "cell_type": "markdown",
   "id": "205678f2-29c5-4f3d-a216-253e4deb8b1f",
   "metadata": {},
   "source": [
    "#### Usage:\n",
    "\n",
    "To apply a function to each item of an iterable: Instead of writing a loop, map() simplifies the task.\n",
    "\n",
    "Works with multiple iterables: If you pass multiple iterables, map() will apply the function to the elements of both iterables at the same time."
   ]
  },
  {
   "cell_type": "code",
   "execution_count": 41,
   "id": "b30e6573-19e9-4dc5-b14f-0d6805f5718a",
   "metadata": {},
   "outputs": [
    {
     "name": "stdout",
     "output_type": "stream",
     "text": [
      "[5, 7, 9]\n"
     ]
    }
   ],
   "source": [
    "#Example\n",
    "\n",
    "def add(a, b):\n",
    "    return a + b\n",
    "\n",
    "list1 = [1, 2, 3]\n",
    "list2 = [4, 5, 6]\n",
    "result = map(add, list1, list2)\n",
    "print(list(result))  # Output: [5, 7, 9]\n"
   ]
  },
  {
   "cell_type": "markdown",
   "id": "8a0e32d1-a99e-428c-95b6-5fca0e6be860",
   "metadata": {},
   "source": [
    "## Q10.What is the difference between `map()`, `reduce()`, and `filter()` functions in Python?"
   ]
  },
  {
   "cell_type": "markdown",
   "id": "d2a292d0-f5ce-4906-93df-1ce18dde9689",
   "metadata": {},
   "source": [
    "### Answer:-"
   ]
  },
  {
   "cell_type": "markdown",
   "id": "2d361229-0c6a-4441-a492-a606dc1f3fea",
   "metadata": {},
   "source": [
    "#### The functions map(), reduce(), and filter() in Python are part of the functional programming paradigm and are used to process iterables (like lists or tuples). Each function serves a distinct purpose:"
   ]
  },
  {
   "cell_type": "markdown",
   "id": "c2a14412-2122-45f4-93a9-db5d385b269e",
   "metadata": {},
   "source": [
    "### 1. map():\n",
    "\n",
    "Purpose: Applies a given function to each item of an iterable and returns an iterator with the results.\n",
    "\n",
    "Use case: When you want to transform every element of an iterable."
   ]
  },
  {
   "cell_type": "code",
   "execution_count": 42,
   "id": "569d8d33-df0b-4018-883e-cf73d350a34c",
   "metadata": {},
   "outputs": [
    {
     "name": "stdout",
     "output_type": "stream",
     "text": [
      "[2, 4, 6, 8]\n"
     ]
    }
   ],
   "source": [
    "#Example:-\n",
    "numbers = [1, 2, 3, 4]\n",
    "result = map(lambda x: x * 2, numbers)\n",
    "print(list(result))  # Output: [2, 4, 6, 8]\n"
   ]
  },
  {
   "cell_type": "markdown",
   "id": "4ae0cac9-c47f-4508-8919-39f4fa5ec446",
   "metadata": {},
   "source": [
    "### 2. reduce() (from functools):\n",
    "\n",
    "Purpose: Applies a given function cumulatively to the items of an iterable, reducing it to a single value.\n",
    "\n",
    "Use case: When you want to combine all elements of an iterable into a single result."
   ]
  },
  {
   "cell_type": "code",
   "execution_count": 43,
   "id": "34098b80-9c18-46ac-86c6-5b9e5c818ca1",
   "metadata": {},
   "outputs": [
    {
     "name": "stdout",
     "output_type": "stream",
     "text": [
      "10\n"
     ]
    }
   ],
   "source": [
    "#Example:-\n",
    "from functools import reduce\n",
    "\n",
    "numbers = [1, 2, 3, 4]\n",
    "result = reduce(lambda x, y: x + y, numbers)\n",
    "print(result)  # Output: 10\n"
   ]
  },
  {
   "cell_type": "markdown",
   "id": "32d6c824-f5eb-4700-b969-09c7621d88c2",
   "metadata": {},
   "source": [
    "### 3. filter():\n",
    "\n",
    "Purpose: Filters items out of an iterable for which a function returns True, and returns an iterator of the filtered elements.\n",
    "\n",
    "Use case: When you want to filter elements based on a condition."
   ]
  },
  {
   "cell_type": "code",
   "execution_count": 44,
   "id": "99194873-95f9-49ec-acfd-48fecc4dd595",
   "metadata": {},
   "outputs": [
    {
     "name": "stdout",
     "output_type": "stream",
     "text": [
      "[2, 4, 6]\n"
     ]
    }
   ],
   "source": [
    "#Example:-\n",
    "numbers = [1, 2, 3, 4, 5, 6]\n",
    "result = filter(lambda x: x % 2 == 0, numbers)\n",
    "print(list(result))  # Output: [2, 4, 6]\n"
   ]
  },
  {
   "cell_type": "markdown",
   "id": "d3462094-3630-4527-8969-133b37a361cc",
   "metadata": {},
   "source": [
    "## Q11.Using pen & Paper write the internal mechanism for sum operation using  reduce function on this given list:[47,11,42,13]; "
   ]
  },
  {
   "cell_type": "code",
   "execution_count": 46,
   "id": "82069a9d-3de5-42bb-b402-b11e40e7e2dd",
   "metadata": {},
   "outputs": [
    {
     "data": {
      "image/jpeg": "[encoded data removed]",
      "text/plain": [
       "<IPython.core.display.Image object>"
      ]
     },
     "execution_count": 46,
     "metadata": {},
     "output_type": "execute_result"
    }
   ],
   "source": [
    "from IPython.display import Image\n",
    "\n",
    "# Provide the full path to your image\n",
    "img = Image(filename=r'C:\\Users\\Jotiba\\OneDrive\\Desktop\\Q11.Answer.jpg')\n",
    "img\n"
   ]
  },
  {
   "cell_type": "code",
   "execution_count": 47,
   "id": "83026006-76bc-4a36-9f07-9ef55122ccfc",
   "metadata": {},
   "outputs": [
    {
     "name": "stdout",
     "output_type": "stream",
     "text": [
      "113\n"
     ]
    }
   ],
   "source": [
    "#Python Code for reference:-\n",
    "\n",
    "from functools import reduce\n",
    "\n",
    "numbers = [47, 11, 42, 13]\n",
    "result = reduce(lambda x, y: x + y, numbers)\n",
    "print(result)  # Output: 113\n"
   ]
  },
  {
   "cell_type": "code",
   "execution_count": null,
   "id": "d9f979e5-e9bd-45be-a0ee-52c53769698d",
   "metadata": {},
   "outputs": [],
   "source": []
  },
  {
   "cell_type": "markdown",
   "id": "e02bf1d1-067d-404a-8c78-42a442553caa",
   "metadata": {},
   "source": [
    "# Practical Questions:"
   ]
  },
  {
   "cell_type": "markdown",
   "id": "d9b4a8c9-838e-4a58-a94e-a1abfed10ab3",
   "metadata": {},
   "source": [
    "## Q1.Write a Python function that takes a list of numbers as input and returns the sum of all even numbers in the list?"
   ]
  },
  {
   "cell_type": "markdown",
   "id": "03c488bb-3866-4167-864e-0286030ea972",
   "metadata": {},
   "source": [
    "### Answer:-"
   ]
  },
  {
   "cell_type": "markdown",
   "id": "5a143406-1b71-4c79-b85f-89f9d58dad9f",
   "metadata": {},
   "source": [
    "#### Here's a Python function that takes a list of numbers as input and returns the sum of all even numbers in the list:"
   ]
  },
  {
   "cell_type": "code",
   "execution_count": 48,
   "id": "35e58b04-f64d-4bce-a001-50418010cfda",
   "metadata": {},
   "outputs": [
    {
     "name": "stdout",
     "output_type": "stream",
     "text": [
      "Sum of even numbers: 30\n"
     ]
    }
   ],
   "source": [
    "def sum_of_even_numbers(numbers):\n",
    "    # Filter even numbers and calculate their sum\n",
    "    even_sum = sum(num for num in numbers if num % 2 == 0)\n",
    "    return even_sum\n",
    "\n",
    "# Example usage\n",
    "numbers = [1, 2, 3, 4, 5, 6, 7, 8, 9, 10]\n",
    "result = sum_of_even_numbers(numbers)\n",
    "print(\"Sum of even numbers:\", result)\n",
    "#Output:- Sum of even numbers: 30"
   ]
  },
  {
   "cell_type": "code",
   "execution_count": null,
   "id": "4c7f325f-5107-47bc-a8ae-909345cdc164",
   "metadata": {},
   "outputs": [],
   "source": [
    "\n"
   ]
  },
  {
   "cell_type": "markdown",
   "id": "430275e9-4cb0-4c13-82e4-1887a26584ab",
   "metadata": {},
   "source": [
    "## Q2.Create a Python function that accepts a string and returns the reverse of that string."
   ]
  },
  {
   "cell_type": "markdown",
   "id": "91837f11-2a76-43cc-8d38-2e5cecae7474",
   "metadata": {},
   "source": [
    "### Answer:-"
   ]
  },
  {
   "cell_type": "markdown",
   "id": "73baa5c4-7225-4c2d-b5d9-5232bd4e15de",
   "metadata": {},
   "source": [
    "#### Here’s a Python function that accepts a string and returns the reverse of that string:"
   ]
  },
  {
   "cell_type": "code",
   "execution_count": 51,
   "id": "fe675ec9-0987-4f36-baa2-132fc8e5937b",
   "metadata": {},
   "outputs": [
    {
     "name": "stdout",
     "output_type": "stream",
     "text": [
      "Reversed string: !dlroW ,olleH\n"
     ]
    }
   ],
   "source": [
    "def reverse_string(input_string):\n",
    "    # Reverse the string using slicing\n",
    "    return input_string[::-1]\n",
    "\n",
    "# Example usage\n",
    "string = \"Hello, World!\"\n",
    "result = reverse_string(string)\n",
    "print(\"Reversed string:\", result)\n",
    "#Ouput:- Reversed string: !dlroW ,olleH\n"
   ]
  },
  {
   "cell_type": "markdown",
   "id": "8badf570-c7cb-4568-9ab1-b4749d3a0fc6",
   "metadata": {},
   "source": [
    "## Q3.Implement a Python function that takes a list of integers and returns a new list containing the squares of each number."
   ]
  },
  {
   "cell_type": "markdown",
   "id": "1961bcdd-478e-48b5-9ae6-4aab37cf6ddf",
   "metadata": {},
   "source": [
    "### Answer:-"
   ]
  },
  {
   "cell_type": "markdown",
   "id": "feb9218d-8012-4017-8825-5a290e8574ae",
   "metadata": {},
   "source": [
    "#### Here's a Python function that takes a list of integers and returns a new list containing the squares of each number:"
   ]
  },
  {
   "cell_type": "code",
   "execution_count": 52,
   "id": "175b6d49-8190-49cd-9e78-b555b28791e1",
   "metadata": {},
   "outputs": [
    {
     "name": "stdout",
     "output_type": "stream",
     "text": [
      "List of squared numbers: [1, 4, 9, 16, 25]\n"
     ]
    }
   ],
   "source": [
    "def square_numbers(numbers):\n",
    "    # Create a new list with the squares of each number\n",
    "    return [num ** 2 for num in numbers]\n",
    "\n",
    "# Example usage\n",
    "numbers = [1, 2, 3, 4, 5]\n",
    "result = square_numbers(numbers)\n",
    "print(\"List of squared numbers:\", result)\n",
    "#Output:- List of squared numbers: [1, 4, 9, 16, 25]\n"
   ]
  },
  {
   "cell_type": "markdown",
   "id": "5852a9d0-b33b-44af-bfa1-1d077d14ed4a",
   "metadata": {},
   "source": [
    "## Q4.Write a Python function that checks if a given number is prime or not from 1 to 200."
   ]
  },
  {
   "cell_type": "markdown",
   "id": "57a5ea48-81da-48d4-9801-d20867a7b8bd",
   "metadata": {},
   "source": [
    "### Answer:-"
   ]
  },
  {
   "cell_type": "markdown",
   "id": "394037ed-d2d5-4e44-999d-356127bcac3d",
   "metadata": {},
   "source": [
    "#### Here’s a Python function that checks if a given number (between 1 and 200) is prime:"
   ]
  },
  {
   "cell_type": "code",
   "execution_count": 56,
   "id": "0b0503d3-072c-4aa0-ac69-45993f2fafee",
   "metadata": {},
   "outputs": [
    {
     "name": "stdout",
     "output_type": "stream",
     "text": [
      "2 is a prime number\n",
      "3 is a prime number\n",
      "5 is a prime number\n",
      "7 is a prime number\n",
      "11 is a prime number\n",
      "13 is a prime number\n",
      "17 is a prime number\n",
      "19 is a prime number\n",
      "23 is a prime number\n",
      "29 is a prime number\n",
      "31 is a prime number\n",
      "37 is a prime number\n",
      "41 is a prime number\n",
      "43 is a prime number\n",
      "47 is a prime number\n",
      "53 is a prime number\n",
      "59 is a prime number\n",
      "61 is a prime number\n",
      "67 is a prime number\n",
      "71 is a prime number\n",
      "73 is a prime number\n",
      "79 is a prime number\n",
      "83 is a prime number\n",
      "89 is a prime number\n",
      "97 is a prime number\n",
      "101 is a prime number\n",
      "103 is a prime number\n",
      "107 is a prime number\n",
      "109 is a prime number\n",
      "113 is a prime number\n",
      "127 is a prime number\n",
      "131 is a prime number\n",
      "137 is a prime number\n",
      "139 is a prime number\n",
      "149 is a prime number\n",
      "151 is a prime number\n",
      "157 is a prime number\n",
      "163 is a prime number\n",
      "167 is a prime number\n",
      "173 is a prime number\n",
      "179 is a prime number\n",
      "181 is a prime number\n",
      "191 is a prime number\n",
      "193 is a prime number\n",
      "197 is a prime number\n",
      "199 is a prime number\n"
     ]
    }
   ],
   "source": [
    "def is_prime(num):\n",
    "    # Check if the number is less than 2 (not prime)\n",
    "    if num < 2:\n",
    "        return False\n",
    "    # Check divisibility from 2 to the square root of num\n",
    "    for i in range(2, int(num ** 0.5) + 1):\n",
    "        if num % i == 0:\n",
    "            return False\n",
    "    return True\n",
    "\n",
    "# Example usage: Check all prime numbers from 1 to 200\n",
    "for number in range(1, 201):\n",
    "    if is_prime(number):\n",
    "        print(f\"{number} is a prime number\")\n",
    "#here you can see all the prime numbers between 1-200."
   ]
  },
  {
   "cell_type": "code",
   "execution_count": 55,
   "id": "ce2d2ee4-3396-4628-84d8-f174ce86c195",
   "metadata": {},
   "outputs": [
    {
     "name": "stdin",
     "output_type": "stream",
     "text": [
      "Enter a number between 1 and 200:  2\n"
     ]
    },
    {
     "name": "stdout",
     "output_type": "stream",
     "text": [
      "2 is a prime number.\n"
     ]
    }
   ],
   "source": [
    "def is_prime(num):\n",
    "    # Check if the number is less than 2 (not prime)\n",
    "    if num < 2:\n",
    "        return False\n",
    "    # Check divisibility from 2 to the square root of num\n",
    "    for i in range(2, int(num ** 0.5) + 1):\n",
    "        if num % i == 0:\n",
    "            return False\n",
    "    return True\n",
    "\n",
    "def main():\n",
    "    # Prompt user to enter a number\n",
    "    try:\n",
    "        number = int(input(\"Enter a number between 1 and 200: \"))\n",
    "        # Check if the number is within the valid range\n",
    "        if 1 <= number <= 200:\n",
    "            if is_prime(number):\n",
    "                print(f\"{number} is a prime number.\")\n",
    "            else:\n",
    "                print(f\"{number} is not a prime number.\")\n",
    "        else:\n",
    "            print(\"The number is out of the valid range. Please enter a number between 1 and 200.\")\n",
    "    except ValueError:\n",
    "        print(\"Invalid input. Please enter an integer.\")\n",
    "\n",
    "# Run the program\n",
    "if __name__ == \"__main__\":\n",
    "    main()\n"
   ]
  },
  {
   "cell_type": "markdown",
   "id": "4b9ef2a9-60d4-4d87-afe4-f53fe305a02c",
   "metadata": {},
   "source": [
    "## Q5.Create an iterator class in Python that generates the Fibonacci sequence up to a specified number of terms."
   ]
  },
  {
   "cell_type": "markdown",
   "id": "39e91c4d-2f18-415e-97e2-3ebd939dbdc5",
   "metadata": {},
   "source": [
    "### Answer:-"
   ]
  },
  {
   "cell_type": "markdown",
   "id": "9510c381-9353-4477-8865-6bc005010536",
   "metadata": {},
   "source": [
    "#### Here’s a Python class that implements an iterator to generate the Fibonacci sequence up to a specified number of terms:"
   ]
  },
  {
   "cell_type": "code",
   "execution_count": 57,
   "id": "49fc5811-e932-4067-a2ea-50edf0507cfa",
   "metadata": {},
   "outputs": [
    {
     "name": "stdout",
     "output_type": "stream",
     "text": [
      "0\n",
      "1\n",
      "1\n",
      "2\n",
      "3\n",
      "5\n",
      "8\n",
      "13\n",
      "21\n",
      "34\n"
     ]
    }
   ],
   "source": [
    "class FibonacciIterator:\n",
    "    def __init__(self, terms):\n",
    "        self.terms = terms  # Number of terms to generate\n",
    "        self.current = 0    # Current index in the sequence\n",
    "        self.a, self.b = 0, 1  # Initial Fibonacci numbers\n",
    "\n",
    "    def __iter__(self):\n",
    "        return self\n",
    "\n",
    "    def __next__(self):\n",
    "        if self.current >= self.terms:\n",
    "            raise StopIteration\n",
    "        # Return the current Fibonacci number\n",
    "        fib_number = self.a\n",
    "        # Update Fibonacci numbers\n",
    "        self.a, self.b = self.b, self.a + self.b\n",
    "        self.current += 1\n",
    "        return fib_number\n",
    "\n",
    "# Example usage\n",
    "num_terms = 10  # Specify the number of terms\n",
    "fibonacci_seq = FibonacciIterator(num_terms)\n",
    "\n",
    "for number in fibonacci_seq:\n",
    "    print(number)\n"
   ]
  },
  {
   "cell_type": "markdown",
   "id": "1307db55-fcfe-4d54-9f03-09029fbf4235",
   "metadata": {},
   "source": [
    "## Q6.Write a generator function in Python that yields the powers of 2 up to a given exponent."
   ]
  },
  {
   "cell_type": "markdown",
   "id": "270e2d17-e120-4b1b-b044-95d9e1f83a82",
   "metadata": {},
   "source": [
    "### Answer:-"
   ]
  },
  {
   "cell_type": "markdown",
   "id": "d902090c-eb38-413b-8133-a5e443061ba0",
   "metadata": {},
   "source": [
    "#### Here's a Python generator function that yields the powers of 2 up to a given exponent:"
   ]
  },
  {
   "cell_type": "code",
   "execution_count": 58,
   "id": "5dd8bd4c-58a3-4ba5-b7a0-1958a45a2e7f",
   "metadata": {},
   "outputs": [
    {
     "name": "stdout",
     "output_type": "stream",
     "text": [
      "1\n",
      "2\n",
      "4\n",
      "8\n",
      "16\n",
      "32\n"
     ]
    }
   ],
   "source": [
    "def powers_of_2(exponent):\n",
    "    for i in range(exponent + 1):\n",
    "        yield 2 ** i\n",
    "\n",
    "# Example usage\n",
    "max_exponent = 5  # Specify the maximum exponent\n",
    "for power in powers_of_2(max_exponent):\n",
    "    print(power)\n"
   ]
  },
  {
   "cell_type": "markdown",
   "id": "b3e62ba5-e848-49fa-9f81-bb59a5571de0",
   "metadata": {},
   "source": [
    "## Q7.Implement a generator function that reads a file line by line and yields each line as a string."
   ]
  },
  {
   "cell_type": "markdown",
   "id": "1a15512f-3dab-445c-bbcd-a539145eb650",
   "metadata": {},
   "source": [
    "### Answer:-"
   ]
  },
  {
   "cell_type": "markdown",
   "id": "02e92b05-ff14-4c27-8920-ea47d2d353ab",
   "metadata": {},
   "source": [
    "#### Here's a Python generator function that reads a file line by line and yields each line as a string"
   ]
  },
  {
   "cell_type": "code",
   "execution_count": 60,
   "id": "0949a054-49a8-4d40-baaa-bb60c5736b33",
   "metadata": {},
   "outputs": [
    {
     "name": "stdout",
     "output_type": "stream",
     "text": [
      "File 'example.txt' has been created with sample content.\n"
     ]
    }
   ],
   "source": [
    "# Create and write content to 'example.txt'\n",
    "content = \"\"\"Line 1: Welcome to the example file.\n",
    "Line 2: This file is used to test the file reading function.\n",
    "Line 3: Each line in this file will be read and displayed.\n",
    "Line 4: Make sure to handle file paths correctly.\n",
    "Line 5: Enjoy working with Python generators and file handling!\n",
    "\"\"\"\n",
    "\n",
    "with open('example.txt', 'w') as file:\n",
    "    file.write(content)\n",
    "\n",
    "print(\"File 'example.txt' has been created with sample content.\")\n"
   ]
  },
  {
   "cell_type": "code",
   "execution_count": 61,
   "id": "23089206-09ca-4c00-81e9-53ac17cd3bf9",
   "metadata": {},
   "outputs": [
    {
     "name": "stdout",
     "output_type": "stream",
     "text": [
      "Line 1: Welcome to the example file.\n",
      "Line 2: This file is used to test the file reading function.\n",
      "Line 3: Each line in this file will be read and displayed.\n",
      "Line 4: Make sure to handle file paths correctly.\n",
      "Line 5: Enjoy working with Python generators and file handling!\n"
     ]
    }
   ],
   "source": [
    "def read_lines(filename):\n",
    "    try:\n",
    "        with open(filename, 'r') as file:\n",
    "            for line in file:\n",
    "                yield line.strip()  # Strip removes leading/trailing whitespace, including newlines\n",
    "    except FileNotFoundError:\n",
    "        print(f\"The file {filename} was not found.\")\n",
    "    except IOError:\n",
    "        print(f\"An error occurred while reading the file {filename}.\")\n",
    "\n",
    "# Example usage\n",
    "filename = 'example.txt'  # Replace with your file name\n",
    "for line in read_lines(filename):\n",
    "    print(line)\n"
   ]
  },
  {
   "cell_type": "markdown",
   "id": "b6e97ead-04e7-48ae-8b98-9409644c7421",
   "metadata": {},
   "source": [
    "## Q8.Use a lambda function in Python to sort a list of tuples based on the second element of each tuple."
   ]
  },
  {
   "cell_type": "markdown",
   "id": "e5c2860f-491e-4238-8976-2fbceb43d382",
   "metadata": {},
   "source": [
    "### Answer:-"
   ]
  },
  {
   "cell_type": "markdown",
   "id": "04d4c124-7dc9-4435-b59a-02d7aa4510bf",
   "metadata": {},
   "source": [
    "#### You can use a lambda function to sort a list of tuples based on the second element of each tuple. Here's an example of how you can do this:"
   ]
  },
  {
   "cell_type": "code",
   "execution_count": 62,
   "id": "436e813a-1818-4717-a7d1-0f8e425bf2aa",
   "metadata": {},
   "outputs": [
    {
     "name": "stdout",
     "output_type": "stream",
     "text": [
      "Sorted list: [(4, 1), (1, 3), (2, 7), (5, 9)]\n"
     ]
    }
   ],
   "source": [
    "# List of tuples\n",
    "list_of_tuples = [(1, 3), (4, 1), (5, 9), (2, 7)]\n",
    "\n",
    "# Sort the list based on the second element of each tuple\n",
    "sorted_list = sorted(list_of_tuples, key=lambda x: x[1])\n",
    "\n",
    "print(\"Sorted list:\", sorted_list)\n"
   ]
  },
  {
   "cell_type": "code",
   "execution_count": null,
   "id": "c3aded65-a186-4839-a267-e6111e23b13f",
   "metadata": {},
   "outputs": [],
   "source": []
  },
  {
   "cell_type": "markdown",
   "id": "1ce29e5b-f86c-43fe-a4d0-d15860277f33",
   "metadata": {},
   "source": [
    "## Q9.Write a Python program that uses `map()` to convert a list of temperatures from Celsius to Fahrenheit."
   ]
  },
  {
   "cell_type": "markdown",
   "id": "25af5164-85a8-406d-a144-949c12ddb0da",
   "metadata": {},
   "source": [
    "### Answer:-"
   ]
  },
  {
   "cell_type": "markdown",
   "id": "740a5abc-49cf-4b16-88ea-c690c4c773ea",
   "metadata": {},
   "source": [
    "#### Here’s a Python program that uses the map() function to convert a list of temperatures from Celsius to Fahrenheit:"
   ]
  },
  {
   "cell_type": "code",
   "execution_count": 63,
   "id": "4876688a-95d9-4c93-af3e-c3b624733ceb",
   "metadata": {},
   "outputs": [
    {
     "name": "stdout",
     "output_type": "stream",
     "text": [
      "Celsius temperatures: [0, 20, 37, 100]\n",
      "Fahrenheit temperatures: [32.0, 68.0, 98.6, 212.0]\n"
     ]
    }
   ],
   "source": [
    "def celsius_to_fahrenheit(celsius):\n",
    "    return (celsius * 9/5) + 32\n",
    "\n",
    "# List of temperatures in Celsius\n",
    "celsius_temperatures = [0, 20, 37, 100]\n",
    "\n",
    "# Use map() to convert each Celsius temperature to Fahrenheit\n",
    "fahrenheit_temperatures = list(map(celsius_to_fahrenheit, celsius_temperatures))\n",
    "\n",
    "print(\"Celsius temperatures:\", celsius_temperatures)\n",
    "print(\"Fahrenheit temperatures:\", fahrenheit_temperatures)\n"
   ]
  },
  {
   "cell_type": "markdown",
   "id": "d3054cc7-2de8-4957-af8f-1a61886a03e9",
   "metadata": {},
   "source": [
    "## Q10.Create a Python program that uses `filter()` to remove all the vowels from a given string."
   ]
  },
  {
   "cell_type": "markdown",
   "id": "22afc446-603b-4fc8-91b2-8760feff18bd",
   "metadata": {},
   "source": [
    "### Answer:-"
   ]
  },
  {
   "cell_type": "markdown",
   "id": "535a53aa-a280-4964-bfd3-42dabb5da23b",
   "metadata": {},
   "source": [
    "#### Here’s a Python program that uses the filter() function to remove all vowels from a given string:"
   ]
  },
  {
   "cell_type": "code",
   "execution_count": 64,
   "id": "7118b0c5-b8dc-4577-aa90-8a7c281c17b2",
   "metadata": {},
   "outputs": [
    {
     "name": "stdout",
     "output_type": "stream",
     "text": [
      "String without vowels: Hll, Wrld!\n"
     ]
    }
   ],
   "source": [
    "def remove_vowels(char):\n",
    "    # Define vowels\n",
    "    vowels = 'aeiouAEIOU'\n",
    "    # Return True if the character is not a vowel\n",
    "    return char not in vowels\n",
    "\n",
    "def filter_vowels(input_string):\n",
    "    # Use filter() to apply remove_vowels to each character in the string\n",
    "    filtered_chars = filter(remove_vowels, input_string)\n",
    "    # Join the filtered characters back into a string\n",
    "    return ''.join(filtered_chars)\n",
    "\n",
    "# Example usage\n",
    "input_string = \"Hello, World!\"\n",
    "result = filter_vowels(input_string)\n",
    "print(\"String without vowels:\", result)\n"
   ]
  },
  {
   "cell_type": "markdown",
   "id": "3be1386e-b31d-466d-99bc-6b224f1f9fff",
   "metadata": {},
   "source": [
    "## Q11.Imagine an accounting routine used in a book shop. It works on a list with sublists, which look like this:\n",
    "\n",
    "\n",
    "\n",
    "![Question Sample](C:/Users/Jotiba/OneDrive/Documents/Question%20Sample%20Q11.png)\n",
    "\n",
    "\n",
    "\n",
    "Write a Python program, which returns a list with 2-tuples. Each tuple consists of the order number and the\n",
    "product of the price per item and the quantity. The product should be increased by 10,- € if the value of the\n",
    "order is smaller than 100,00 €.\n",
    "\n",
    "Write a Python program using lambda and map."
   ]
  },
  {
   "cell_type": "code",
   "execution_count": 67,
   "id": "7514b230-4f16-4ca3-8a7c-10290f9d1182",
   "metadata": {},
   "outputs": [
    {
     "data": {
      "image/png": "[encoded data removed]",
      "text/plain": [
       "<IPython.core.display.Image object>"
      ]
     },
     "metadata": {},
     "output_type": "display_data"
    }
   ],
   "source": [
    "from IPython.display import Image, display\n",
    "\n",
    "# Display an image from a file\n",
    "display(Image(filename='C:/Users/Jotiba/OneDrive/Documents/Question Sample Q11.png'))\n",
    "\n",
    "# Display an image from a URL\n",
    "# display(Image(url='https://example.com/image.png'))\n",
    "\n",
    "\n"
   ]
  },
  {
   "cell_type": "markdown",
   "id": "26a1c4c3-9691-4fe4-931b-965a4eaf3479",
   "metadata": {},
   "source": [
    "## Answer:-"
   ]
  },
  {
   "cell_type": "code",
   "execution_count": 68,
   "id": "59dd21c2-a3aa-4adb-9a06-58d7b2ae2b9f",
   "metadata": {},
   "outputs": [
    {
     "name": "stdout",
     "output_type": "stream",
     "text": [
      "[(34587, 163.8), (98762, 284.0), (77226, 108.85000000000001), (88112, 84.97)]\n"
     ]
    }
   ],
   "source": [
    "# Sample data based on the image\n",
    "orders = [\n",
    "    [34587, \"Learning Python, Mark Lutz\", 4, 40.95],\n",
    "    [98762, \"Programming Python, Mark Lutz\", 5, 56.80],\n",
    "    [77226, \"Head First Python, Paul Barry\", 3, 32.95],\n",
    "    [88112, \"Einführung in Python3, Bernd Klein\", 3, 24.99]\n",
    "]\n",
    "\n",
    "# Function to calculate the total cost, adding 10 if it's less than 100\n",
    "calculate_total = lambda order: (order[0], order[2] * order[3] + (10 if order[2] * order[3] < 100 else 0))\n",
    "\n",
    "# Using map to apply the function to all orders\n",
    "result = list(map(calculate_total, orders))\n",
    "\n",
    "# Output the result\n",
    "print(result)\n"
   ]
  },
  {
   "cell_type": "markdown",
   "id": "d5603c23-50d2-4aca-91d8-0b478d79d5bf",
   "metadata": {},
   "source": [
    "### Here's what each tuple represents:\n",
    "\n",
    "(34587, 163.8) - The order number is 34587, and the total cost is 163.8 €.\n",
    "\n",
    "(98762, 284.0) - The order number is 98762, and the total cost is 284.0 €.\n",
    "\n",
    "(77226, 108.85) - The order number is 77226, and the total cost is 108.85 €.\n",
    "\n",
    "(88112, 84.97) - The order number is 88112, and since the total cost is less than 100 €, 10 € was added, making it 84.97 €."
   ]
  },
  {
   "cell_type": "code",
   "execution_count": null,
   "id": "903017c8-d540-4770-868b-fd44b290c373",
   "metadata": {},
   "outputs": [],
   "source": []
  },
  {
   "cell_type": "markdown",
   "id": "fea0d02d-590b-42c7-b084-298ee3cb9a6a",
   "metadata": {},
   "source": [
    "# Thank You . "
   ]
  }
 ],
 "metadata": {
  "kernelspec": {
   "display_name": "Python 3 (ipykernel)",
   "language": "python",
   "name": "python3"
  },
  "language_info": {
   "codemirror_mode": {
    "name": "ipython",
    "version": 3
   },
   "file_extension": ".py",
   "mimetype": "text/x-python",
   "name": "python",
   "nbconvert_exporter": "python",
   "pygments_lexer": "ipython3",
   "version": "3.12.5"
  }
 },
 "nbformat": 4,
 "nbformat_minor": 5
}
