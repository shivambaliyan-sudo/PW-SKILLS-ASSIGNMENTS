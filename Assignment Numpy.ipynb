{
 "cells": [
  {
   "cell_type": "markdown",
   "id": "a2b3eccd-7ccf-4930-ba07-8836e43b69b1",
   "metadata": {},
   "source": [
    "# Assignment Numpy"
   ]
  },
  {
   "cell_type": "markdown",
   "id": "26d91faa-55cb-45d0-a819-1010f751a01a",
   "metadata": {},
   "source": [
    "## Q1.Explain the purpose and advantages of NumPy in scientific computing and data analysis. How does itenhance Python's capabilities for numerical operations?"
   ]
  },
  {
   "cell_type": "markdown",
   "id": "73e073ee-049e-4c16-aae2-d393f1cb23d2",
   "metadata": {},
   "source": [
    "### Answer:-"
   ]
  },
  {
   "cell_type": "markdown",
   "id": "46613999-d6bf-4c89-b350-1d2387d4d2de",
   "metadata": {},
   "source": [
    "#### NumPy (Numerical Python) is a powerful library in Python, widely used in scientific computing and data analysis due to its efficient handling of large datasets and support for high-performance mathematical operations."
   ]
  },
  {
   "cell_type": "markdown",
   "id": "8e24f92c-6104-41bd-9628-e1b5df884f5e",
   "metadata": {},
   "source": [
    "#### Purpose of NumPy:\n",
    "\n",
    "Efficient Array Handling: NumPy provides a multidimensional array object called ndarray, which can handle large datasets much more efficiently than Python’s built-in lists.\n",
    "\n",
    "Mathematical and Statistical Functions: It includes a wide range of built-in mathematical operations like matrix multiplication, Fourier transforms, linear algebra, and random number generation, which are essential in scientific computing.\n",
    "\n",
    "Data Manipulation: NumPy is designed for fast data manipulation and computation. It allows slicing, indexing, and reshaping of arrays, making data manipulation easy and intuitive.\n",
    "\n",
    "Foundation for Other Libraries: NumPy serves as the backbone for many other popular Python libraries used in data science and machine learning, such as Pandas, SciPy, Matplotlib, and"
   ]
  },
  {
   "cell_type": "markdown",
   "id": "1f23ec44-c8b1-4c35-bec2-cdd4ba24d8b3",
   "metadata": {},
   "source": [
    "#### Advantages of NumPy:\n",
    "\n",
    "Speed and Performance: NumPy is significantly faster than native Python data structures (like lists and dictionaries) because it is implemented in C and allows for vectorized operations, avoiding loops and improving speed.\n",
    "\n",
    "Memory Efficiency: NumPy arrays consume less memory compared to Python lists due to their fixed data types, allowing for more efficient use of memory when handling large datasets.\n",
    "\n",
    "Vectorization: NumPy allows for vectorized operations, meaning you can perform element-wise operations on entire arrays without writing explicit loops. This makes the code more concise and reduces execution time.\n",
    "\n",
    "Multidimensional Arrays: It supports multidimensional arrays, which are crucial for handling complex datasets like matrices, tensors, or grids of data in scientific computing.\n",
    "\n",
    "Broadcasting: NumPy allows operations on arrays of different shapes and sizes using a technique called broadcasting, which simplifies many mathematical operations and avoids the need for manually reshaping arrays.\n",
    "\n",
    "Interoperability: It integrates seamlessly with other scientific computing libraries (such as Pandas for data manipulation or Matplotlib for data visualization), enhancing Python’s overall capabilities."
   ]
  },
  {
   "cell_type": "markdown",
   "id": "95be5e44-2cca-4485-b348-93d2cc297017",
   "metadata": {},
   "source": [
    "#### How It Enhances Python’s Capabilities for Numerical Operations:\n",
    "\n",
    "Faster Computation: Python's standard operations with lists or loops can be slow, but NumPy leverages optimized C-based algorithms for faster execution of numerical tasks.\n",
    "\n",
    "Handling Large Data: NumPy allows users to handle large-scale datasets efficiently, which is essential for data analysis tasks in fields like machine learning, deep learning, and scientific simulations.\n",
    "\n",
    "Mathematical Operations: With functions like dot(), sum(), mean(), and many others, NumPy simplifies complex mathematical operations without requiring manual implementation.\n",
    "\n",
    "Data Transformation and Analysis: NumPy makes it easy to reshape, transpose, and aggregate data, enabling more effective analysis and transformation of datasets."
   ]
  },
  {
   "cell_type": "markdown",
   "id": "b330a5ff-8a81-43ec-9f54-2f13dd4e7cd3",
   "metadata": {},
   "source": [
    "## Q2.Compare and contrast np.mean() and np.average() functions in NumPy. When would you use one over the other?"
   ]
  },
  {
   "cell_type": "markdown",
   "id": "c05dad1b-ed12-435c-b852-8637eef68db0",
   "metadata": {},
   "source": [
    "### Answer:-"
   ]
  },
  {
   "cell_type": "markdown",
   "id": "ea855e8b-2d93-415c-b49b-0454492972d9",
   "metadata": {},
   "source": [
    "#### In NumPy, both np.mean() and np.average() are used to compute the average of an array, but they have some differences in functionality and use cases. Here’s a comparison of the two:"
   ]
  },
  {
   "cell_type": "markdown",
   "id": "fae2cf68-d359-426f-8828-4e9c9e6ef7bf",
   "metadata": {},
   "source": [
    "#### 1. Basic Functionality:\n",
    "\n",
    "np.mean(): This function calculates the arithmetic mean (average) of the elements along a specified axis (or the whole array if no axis is specified).\n",
    "\n",
    "np.average(): Similar to np.mean(), but it offers an additional feature where you can specify weights for the elements in the array. This allows for the calculation of a weighted average."
   ]
  },
  {
   "cell_type": "markdown",
   "id": "410ea86a-c679-4176-8526-480796266292",
   "metadata": {},
   "source": [
    "#### 2. Syntax:\n"
   ]
  },
  {
   "cell_type": "code",
   "execution_count": 2,
   "id": "c1bbd7b8-a608-4986-868b-33d43b62afa4",
   "metadata": {},
   "outputs": [],
   "source": [
    "#np.mean()\n",
    "\n",
    "#np.mean(array, axis=None)\n",
    "\n",
    "#array: Input array or list.\n",
    "\n",
    "#axis: The axis along which the mean is computed. If none is specified, the mean is calculated over the flattened array"
   ]
  },
  {
   "cell_type": "code",
   "execution_count": 7,
   "id": "504d2d02-7d2e-4a4b-972e-115b8594cdd8",
   "metadata": {},
   "outputs": [],
   "source": [
    "#np.average()\n",
    "\n",
    "#np.average(array, axis=None, weights=None)\n",
    "\n",
    "#array: Input array or list.\n",
    "\n",
    "#axis: The axis along which the average is computed. If none is specified, the average is calculated over the flattened array.\n",
    "\n",
    "#weights: An array of the same shape as array that assigns a weight to each element for computing a weighted average. If not provided, it behaves like np.mean() and calculates a simple mean.\"\"\""
   ]
  },
  {
   "cell_type": "markdown",
   "id": "81269b05-bb02-469e-a35f-c9193dea8301",
   "metadata": {},
   "source": [
    "#### 3. Weighted Averages:\n",
    "\n",
    "np.mean(): Does not support weights; it always computes the simple arithmetic mean.\n",
    "\n",
    "np.average(): Supports weights. If you provide a weights argument, np.average() will compute a weighted average. If no weights are given, it defaults to calculating the arithmetic mean, like np.mean()."
   ]
  },
  {
   "cell_type": "code",
   "execution_count": 10,
   "id": "df8013a5-b674-4e26-a99b-9de4098b97a4",
   "metadata": {},
   "outputs": [],
   "source": [
    "import numpy as np"
   ]
  },
  {
   "cell_type": "code",
   "execution_count": 11,
   "id": "0a23c4da-bf0f-484d-ac90-5d95cceb8cc7",
   "metadata": {},
   "outputs": [
    {
     "data": {
      "text/plain": [
       "np.float64(3.0)"
      ]
     },
     "execution_count": 11,
     "metadata": {},
     "output_type": "execute_result"
    }
   ],
   "source": [
    "arr = np.array([1, 2, 3, 4])\n",
    "weights = np.array([1, 2, 3, 4])\n",
    "np.average(arr, weights=weights)  # Output: 3.0 (Weighted average)\n"
   ]
  },
  {
   "cell_type": "markdown",
   "id": "8decbc09-84ce-43c7-a1f6-cdb5e2898b10",
   "metadata": {},
   "source": [
    "#### 4. Return Type:\n",
    "\n",
    "Both np.mean() and np.average() return the same type: a scalar value if computed over all elements, or an array if computed along a specific axis."
   ]
  },
  {
   "cell_type": "markdown",
   "id": "4c77992a-b793-4627-9551-17134624db6f",
   "metadata": {},
   "source": [
    "#### 5. Performance:\n",
    "\n",
    "When no weights are used, both functions perform similarly because np.average() defaults to a simple mean calculation.\n",
    "\n",
    "When weights are used in np.average(), it might introduce a slight overhead due to the additional calculations involving weights."
   ]
  },
  {
   "cell_type": "markdown",
   "id": "48354917-3594-4650-82cd-8091bf6308c5",
   "metadata": {},
   "source": [
    "#### When to Use One Over the Other:\n",
    "\n",
    "Use np.mean():\n",
    "\n",
    "When you only need to calculate the simple arithmetic mean of an array.\n",
    "\n",
    "It's a more straightforward and slightly more efficient choice when you don't need weighted averages.\n",
    "\n",
    "Use np.average():\n",
    "\n",
    "When you need to compute a weighted average.\n",
    "\n",
    "If you need the flexibility of adding weights to different elements in your array."
   ]
  },
  {
   "cell_type": "code",
   "execution_count": 15,
   "id": "aa1027d8-91eb-471d-b195-b2d91446eae4",
   "metadata": {},
   "outputs": [
    {
     "data": {
      "text/plain": [
       "np.float64(2.5)"
      ]
     },
     "execution_count": 15,
     "metadata": {},
     "output_type": "execute_result"
    }
   ],
   "source": [
    "#np.mean() Example:\n",
    "arr = np.array([1, 2, 3, 4])\n",
    "np.mean(arr)  # Output: 2.5 (Arithmetic mean)\n",
    "\n"
   ]
  },
  {
   "cell_type": "code",
   "execution_count": 14,
   "id": "1be7bb0b-b0f3-48fb-ad82-cc5f25e31842",
   "metadata": {},
   "outputs": [
    {
     "data": {
      "text/plain": [
       "np.float64(2.5)"
      ]
     },
     "execution_count": 14,
     "metadata": {},
     "output_type": "execute_result"
    }
   ],
   "source": [
    "#np.average() Example (Simple Mean):\n",
    "arr = np.array([1, 2, 3, 4])\n",
    "np.average(arr)  # Output: 2.5 (Same result as np.mean() without weights)\n",
    "\n"
   ]
  },
  {
   "cell_type": "code",
   "execution_count": 13,
   "id": "ca7b17cf-b327-495e-b8c3-fe1bf718b0a3",
   "metadata": {},
   "outputs": [
    {
     "data": {
      "text/plain": [
       "np.float64(3.0)"
      ]
     },
     "execution_count": 13,
     "metadata": {},
     "output_type": "execute_result"
    }
   ],
   "source": [
    "#np.average() Example (Weighted Mean):\n",
    "arr = np.array([1, 2, 3, 4])\n",
    "weights = np.array([1, 2, 3, 4])\n",
    "np.average(arr, weights=weights)  # Output: 3.0 (Weighted average)\n"
   ]
  },
  {
   "cell_type": "markdown",
   "id": "331670ef-403f-4aa8-ad6a-259ceb693f60",
   "metadata": {},
   "source": [
    "## Q3.Describe the methods for reversing a NumPy array along different axes. Provide examples for 1D and 2D arrays."
   ]
  },
  {
   "cell_type": "markdown",
   "id": "2fc06b53-8462-4598-8d01-84dd89d60d9d",
   "metadata": {},
   "source": [
    "### Answer:-"
   ]
  },
  {
   "cell_type": "markdown",
   "id": "c4271505-ff65-4948-91a9-1cd2f1c4dae4",
   "metadata": {},
   "source": [
    "#### In NumPy, you can reverse arrays along different axes using slicing, the numpy.flip() function, and numpy.fliplr() or numpy.flipud() for specific axis reversals. Let's explore these methods with examples for 1D and 2D arrays:"
   ]
  },
  {
   "cell_type": "markdown",
   "id": "c9e657e9-0e1e-4d4a-953d-93506af8ace6",
   "metadata": {},
   "source": [
    "### 1. Reversing a 1D NumPy Array:\n",
    "\n",
    "A 1D array can be reversed simply by slicing or using the numpy.flip() function."
   ]
  },
  {
   "cell_type": "markdown",
   "id": "6e29a230-60b7-4d0d-b41d-e50081aeac66",
   "metadata": {},
   "source": [
    "### Method 1: Slicing"
   ]
  },
  {
   "cell_type": "code",
   "execution_count": 16,
   "id": "ff0d11c8-6252-4de3-b24d-c59137831880",
   "metadata": {},
   "outputs": [
    {
     "name": "stdout",
     "output_type": "stream",
     "text": [
      "[5 4 3 2 1]\n"
     ]
    }
   ],
   "source": [
    "import numpy as np\n",
    "\n",
    "# Creating a 1D array\n",
    "arr_1d = np.array([1, 2, 3, 4, 5])\n",
    "\n",
    "# Reversing the array using slicing\n",
    "reversed_arr_1d = arr_1d[::-1]\n",
    "\n",
    "print(reversed_arr_1d)\n"
   ]
  },
  {
   "cell_type": "markdown",
   "id": "581b64e1-06d0-4cd5-bc41-48a3a246f6e1",
   "metadata": {},
   "source": [
    "### Method 2: Using numpy.flip()"
   ]
  },
  {
   "cell_type": "code",
   "execution_count": 17,
   "id": "53cb147d-3171-4123-a7d3-a240f821ea51",
   "metadata": {},
   "outputs": [
    {
     "name": "stdout",
     "output_type": "stream",
     "text": [
      "[5 4 3 2 1]\n"
     ]
    }
   ],
   "source": [
    "# Reversing the array using numpy.flip()\n",
    "reversed_arr_1d_flip = np.flip(arr_1d)\n",
    "\n",
    "print(reversed_arr_1d_flip)\n"
   ]
  },
  {
   "cell_type": "markdown",
   "id": "ba07de0f-5b8e-4f10-a166-b50d923d2dc4",
   "metadata": {},
   "source": [
    "### 2. Reversing a 2D NumPy Array:\n",
    "\n",
    "For 2D arrays, you can reverse along specific axes (rows or columns) or reverse the entire array."
   ]
  },
  {
   "cell_type": "markdown",
   "id": "b1223464-b858-41dd-9677-355f5120dd94",
   "metadata": {},
   "source": [
    "### Method 1: Reverse along rows (axis 1)\n",
    "\n"
   ]
  },
  {
   "cell_type": "code",
   "execution_count": 21,
   "id": "9f999d3c-c2f8-4cb0-8641-d9bcd0e5dd9a",
   "metadata": {},
   "outputs": [],
   "source": [
    "#Example of 2D Array \n",
    "arr_2d = np.array([[1, 2, 3], \n",
    "                   [4, 5, 6], \n",
    "                   [7, 8, 9]])\n",
    "\n"
   ]
  },
  {
   "cell_type": "code",
   "execution_count": 22,
   "id": "af0941b1-105f-4a88-a11e-619f9bf2699f",
   "metadata": {},
   "outputs": [
    {
     "name": "stdout",
     "output_type": "stream",
     "text": [
      "[[3 2 1]\n",
      " [6 5 4]\n",
      " [9 8 7]]\n"
     ]
    }
   ],
   "source": [
    "# Using slicing\n",
    "reversed_rows = arr_2d[:, ::-1]\n",
    "\n",
    "print(reversed_rows)"
   ]
  },
  {
   "cell_type": "markdown",
   "id": "d0dd6e9f-b020-4843-8c04-74c95200ab3b",
   "metadata": {},
   "source": [
    "### Method 2: Reverse along columns (axis 0)"
   ]
  },
  {
   "cell_type": "code",
   "execution_count": 23,
   "id": "6a886c2a-f47d-4b50-88be-b386905fb6f5",
   "metadata": {},
   "outputs": [
    {
     "name": "stdout",
     "output_type": "stream",
     "text": [
      "[[7 8 9]\n",
      " [4 5 6]\n",
      " [1 2 3]]\n"
     ]
    }
   ],
   "source": [
    "# Using slicing\n",
    "reversed_columns = arr_2d[::-1, :]\n",
    "\n",
    "print(reversed_columns)\n"
   ]
  },
  {
   "cell_type": "markdown",
   "id": "3dd8d7df-d8e0-4c91-a9d3-abf8c4cbca9e",
   "metadata": {},
   "source": [
    "### Method 3: Using numpy.flip()\n",
    "\n",
    "The numpy.flip() function can be used to reverse along any axis. You can specify the axis with the axis parameter."
   ]
  },
  {
   "cell_type": "code",
   "execution_count": 25,
   "id": "ac9b6423-df9b-43fd-b57a-9bc5b84689bd",
   "metadata": {},
   "outputs": [
    {
     "name": "stdout",
     "output_type": "stream",
     "text": [
      "[[7 8 9]\n",
      " [4 5 6]\n",
      " [1 2 3]]\n"
     ]
    }
   ],
   "source": [
    "\n",
    "#Reverse along axis 0 (rows):\n",
    "reversed_2d_axis0 = np.flip(arr_2d, axis=0)\n",
    "print(reversed_2d_axis0)\n"
   ]
  },
  {
   "cell_type": "code",
   "execution_count": 26,
   "id": "2cebed5d-50bf-47e4-b2ef-df345a8c2821",
   "metadata": {},
   "outputs": [
    {
     "name": "stdout",
     "output_type": "stream",
     "text": [
      "[[3 2 1]\n",
      " [6 5 4]\n",
      " [9 8 7]]\n"
     ]
    }
   ],
   "source": [
    "#Reverse along axis 1 (columns):\n",
    "reversed_2d_axis1 = np.flip(arr_2d, axis=1)\n",
    "print(reversed_2d_axis1)\n"
   ]
  },
  {
   "cell_type": "markdown",
   "id": "886e754f-64f2-4f45-820c-a1f099ef701a",
   "metadata": {},
   "source": [
    "### Method 4: Using numpy.fliplr() and numpy.flipud()\n",
    "\n",
    "numpy.fliplr() reverses the array from left to right (reverses the columns):"
   ]
  },
  {
   "cell_type": "code",
   "execution_count": 27,
   "id": "7cd72c93-0932-4382-bf40-9ee9f2ab9b1e",
   "metadata": {},
   "outputs": [
    {
     "name": "stdout",
     "output_type": "stream",
     "text": [
      "[[3 2 1]\n",
      " [6 5 4]\n",
      " [9 8 7]]\n"
     ]
    }
   ],
   "source": [
    "reversed_lr = np.fliplr(arr_2d)\n",
    "print(reversed_lr)\n"
   ]
  },
  {
   "cell_type": "markdown",
   "id": "d269c70e-c8f9-4ac7-ba6d-162274d69ef5",
   "metadata": {},
   "source": [
    "#### \n",
    "numpy.flipud() reverses the array from top to bottom (reverses the rows):"
   ]
  },
  {
   "cell_type": "code",
   "execution_count": 28,
   "id": "aba7e33b-d1b6-4096-8d28-1c829e723bf5",
   "metadata": {},
   "outputs": [
    {
     "name": "stdout",
     "output_type": "stream",
     "text": [
      "[[7 8 9]\n",
      " [4 5 6]\n",
      " [1 2 3]]\n"
     ]
    }
   ],
   "source": [
    "reversed_ud = np.flipud(arr_2d)\n",
    "print(reversed_ud)\n"
   ]
  },
  {
   "cell_type": "markdown",
   "id": "d6d058d4-57cd-440e-bc75-174edee940ae",
   "metadata": {},
   "source": [
    "## Q4.How can you determine the data type of elements in a NumPy array? Discuss the importance of data types in memory management and performance."
   ]
  },
  {
   "cell_type": "markdown",
   "id": "f18ebe51-fd3d-467a-b322-6085d95c1566",
   "metadata": {},
   "source": [
    "### Answer:-"
   ]
  },
  {
   "cell_type": "markdown",
   "id": "1e24cf82-251a-4ca7-9d3e-663ba48be17b",
   "metadata": {},
   "source": [
    "### Determining the Data Type of Elements in a NumPy Array\n",
    "\n",
    "To determine the data type of elements in a NumPy array, you can use the .dtype attribute of the array."
   ]
  },
  {
   "cell_type": "code",
   "execution_count": 29,
   "id": "6f9ec504-bb8b-4f88-8edb-8e0702507f9b",
   "metadata": {},
   "outputs": [
    {
     "name": "stdout",
     "output_type": "stream",
     "text": [
      "int64\n"
     ]
    }
   ],
   "source": [
    "#Example\n",
    "import numpy as np\n",
    "\n",
    "# Creating a NumPy array\n",
    "arr = np.array([1, 2, 3, 4])\n",
    "\n",
    "# Determining the data type of the array elements\n",
    "print(arr.dtype)\n"
   ]
  },
  {
   "cell_type": "markdown",
   "id": "12102ac1-2824-43c5-a05e-6c6ae29f02ed",
   "metadata": {},
   "source": [
    "####\n",
    "This shows that the elements in the array are of type int64. The .dtype attribute provides information about the type of data stored in the array, such as integers, floats, or more complex types like strings or custom objects."
   ]
  },
  {
   "cell_type": "markdown",
   "id": "ee97cbfa-a5a6-4abc-b6ac-20f7b5e3c2ff",
   "metadata": {},
   "source": [
    "### Importance of Data Types in Memory Management and Performance"
   ]
  },
  {
   "cell_type": "markdown",
   "id": "e8642825-cf34-4c77-aaab-8cbd4afa3a7d",
   "metadata": {},
   "source": [
    "#### 1. Memory Efficiency\n",
    "\n",
    "Each data type consumes a specific amount of memory. Using the appropriate data type ensures that memory is not wasted on unnecessary precision. For example:\n",
    "\n",
    "int8 requires 1 byte of memory for each element.\n",
    "\n",
    "int32 requires 4 bytes.\n",
    "\n",
    "float64 requires 8 bytes.\n",
    "\n",
    "If you need to store small integers (like 0-255), using int64 would waste memory compared to int8. In cases where large datasets are involved, selecting the correct data type can lead to significant memory savings."
   ]
  },
  {
   "cell_type": "code",
   "execution_count": 30,
   "id": "16ef007c-d277-4a84-8b72-953c152beab8",
   "metadata": {},
   "outputs": [
    {
     "name": "stdout",
     "output_type": "stream",
     "text": [
      "4\n",
      "32\n"
     ]
    }
   ],
   "source": [
    "#Example of Memory Usage:\n",
    "# Array of integers\n",
    "arr_int8 = np.array([1, 2, 3, 4], dtype=np.int8)\n",
    "arr_int64 = np.array([1, 2, 3, 4], dtype=np.int64)\n",
    "\n",
    "print(arr_int8.nbytes)  # Memory usage for int8\n",
    "print(arr_int64.nbytes)  # Memory usage for int64\n"
   ]
  },
  {
   "cell_type": "markdown",
   "id": "5c8c514b-a4d9-4b55-a323-36cb0e2d0563",
   "metadata": {},
   "source": [
    "#### \n",
    "If you run this, you’ll see that arr_int8 uses 4 bytes, whereas arr_int64 uses 32 bytes for the same data. Choosing the correct data type saves memory."
   ]
  },
  {
   "cell_type": "markdown",
   "id": "06412516-2e52-4de3-b4e7-c9211edfe4e6",
   "metadata": {},
   "source": [
    "#### 2. Performance Optimization\n",
    "\n",
    "The data type also impacts the speed of computations. Operations on smaller, simpler data types are generally faster because they require fewer resources (both in terms of memory and CPU cycles). This is particularly relevant in high-performance computing tasks where large datasets are processed.\n",
    "\n",
    "\n",
    "For example, if you perform mathematical operations on arrays of int8 vs. int64, the former will often be faster since less data is transferred and processed."
   ]
  },
  {
   "cell_type": "code",
   "execution_count": 33,
   "id": "c482e2cd-a934-4f44-b61f-f12b124e5070",
   "metadata": {},
   "outputs": [
    {
     "name": "stdout",
     "output_type": "stream",
     "text": [
      "Time taken for int8 array: 0.009852 seconds\n",
      "Time taken for int64 array: 0.039235 seconds\n"
     ]
    }
   ],
   "source": [
    "import numpy as np\n",
    "import time\n",
    "\n",
    "# Create a large array with int8\n",
    "arr_small = np.random.randint(-128, 128, size=10000000, dtype=np.int8)\n",
    "\n",
    "# Create a large array with int64\n",
    "arr_large = np.random.randint(0, 256, size=10000000, dtype=np.int64)\n",
    "\n",
    "# Measure the time taken for an operation (adding 1) on int8 array\n",
    "start_time = time.time()\n",
    "result_small = arr_small + 1\n",
    "print(f\"Time taken for int8 array: {time.time() - start_time:.6f} seconds\")\n",
    "\n",
    "# Measure the time taken for the same operation on int64 array\n",
    "start_time = time.time()\n",
    "result_large = arr_large + 1\n",
    "print(f\"Time taken for int64 array: {time.time() - start_time:.6f} seconds\")\n"
   ]
  },
  {
   "cell_type": "markdown",
   "id": "39338f5b-90f2-4a58-a5d0-8ad36ee0b8fa",
   "metadata": {},
   "source": [
    "#### \n",
    "You will notice that operations on arr_small (with int8) are faster than on arr_large (with int64)."
   ]
  },
  {
   "cell_type": "markdown",
   "id": "b8f03ab3-a493-4f7c-948c-44e7aadaec7e",
   "metadata": {},
   "source": [
    "### 3. Precision and Accuracy\n",
    "\n",
    "For floating-point numbers, selecting the appropriate data type affects the precision of the calculations. float32 offers less precision than float64. For applications requiring high precision, such as scientific calculations, using a higher-precision data type (e.g., float64) is crucial. On the other hand, for tasks where precision is not as critical, using float32 can save memory and improve performance."
   ]
  },
  {
   "cell_type": "markdown",
   "id": "ec4d4e06-4340-49f9-a13c-db2fe837c354",
   "metadata": {},
   "source": [
    "### 4. Compatibility and Flexibility\n",
    "\n",
    "Different systems and libraries may have requirements for specific data types. Ensuring that data types match across different components of an application avoids compatibility issues. For example, certain machine learning libraries may require inputs to be in a specific format (e.g., float32)."
   ]
  },
  {
   "cell_type": "markdown",
   "id": "9bdf6ccd-b357-47d4-9087-18ed20f84992",
   "metadata": {},
   "source": [
    "## Q5.Define ndarrays in NumPy and explain their key features. How do they differ from standard Python lists?"
   ]
  },
  {
   "cell_type": "markdown",
   "id": "ce47ed39-91b3-4d40-82ca-ca474dbcc593",
   "metadata": {},
   "source": [
    "### Answer:-"
   ]
  },
  {
   "cell_type": "markdown",
   "id": "4801ae90-b992-4afc-84f0-c2c5e08af454",
   "metadata": {},
   "source": [
    "### Definition of ndarrays in NumPy\n",
    "\n",
    "In NumPy, an ndarray (N-dimensional array) is a powerful and flexible data structure that represents a multidimensional, homogeneous collection of items. It is the core data structure of the NumPy library and is designed for efficient storage and manipulation of numerical data."
   ]
  },
  {
   "cell_type": "markdown",
   "id": "6089214b-513e-4f7f-bba5-31c37a2d1f3a",
   "metadata": {},
   "source": [
    "### Key Features of ndarrays\n",
    "\n",
    "N-dimensional:\n",
    "\n",
    "An ndarray can have any number of dimensions (1D, 2D, 3D, etc.). The number of dimensions is referred to as the rank of the array.\n",
    "\n",
    "Homogeneous:\n",
    "\n",
    "All elements in an ndarray must be of the same data type (e.g., all integers, all floats). This uniformity allows for efficient memory usage and performance optimization.\n",
    "\n",
    "Fixed Size:\n",
    "\n",
    "Once an ndarray is created, its size (number of elements) cannot be changed. This fixed size allows for efficient memory allocation and manipulation.\n",
    "\n",
    "Efficient Memory Usage:\n",
    "\n",
    "NumPy ndarrays are more memory-efficient than standard Python lists, especially for large datasets, because they store data in contiguous blocks of memory.\n",
    "\n",
    "Broadcasting:\n",
    "\n",
    "NumPy allows operations on arrays of different shapes through broadcasting, which automatically expands the smaller array to match the shape of the larger array.\n",
    "\n",
    "Vectorized Operations:\n",
    "\n",
    "Ndarrays support element-wise operations and mathematical functions directly, enabling fast computations without the need for explicit loops, leveraging optimized C and Fortran libraries under the hood.\n",
    "\n",
    "Multidimensional Slicing:\n",
    "\n",
    "Ndarrays allow for advanced indexing and slicing, enabling users to access and modify subsets of the array easily.\n",
    "Built-in Mathematical Functions:\n",
    "\n",
    "NumPy provides a wide array of mathematical functions (e.g., sum, mean, standard deviation) that operate directly on ndarrays, enhancing productivity and performance."
   ]
  },
  {
   "cell_type": "markdown",
   "id": "e0b91b73-8d3b-4614-98d3-a21db8786ceb",
   "metadata": {},
   "source": [
    "### Differences Between ndarrays and Standard Python Lists"
   ]
  },
  {
   "cell_type": "markdown",
   "id": "b7b1d6be-7942-45b6-8fd9-cd1fe34834d5",
   "metadata": {},
   "source": [
    "| Feature                     | ndarrays                                 | Standard Python Lists                       |\n",
    "|-----------------------------|------------------------------------------|---------------------------------------------|\n",
    "| **Homogeneity**             | Must contain elements of the same type  | Can contain elements of different types     |\n",
    "| **Memory Efficiency**       | More memory-efficient; contiguous memory | Less memory-efficient; fragmented memory     |\n",
    "| **Performance**             | Faster for numerical operations          | Slower for numerical operations; loop-based  |\n",
    "| **N-dimensional**           | Can be multi-dimensional (2D, 3D, etc.)| Primarily one-dimensional (nested lists can create 2D, 3D, etc.) |\n",
    "| **Fixed Size**              | Size is fixed after creation             | Can grow and shrink dynamically              |\n",
    "| **Operations**              | Supports vectorized operations           | Requires explicit loops for operations       |\n",
    "| **Built-in Functions**      | Extensive mathematical functions available| Limited to basic Python operations           |\n",
    "| **Broadcasting**            | Supports broadcasting                     | No broadcasting capabilities                  |\n"
   ]
  },
  {
   "cell_type": "markdown",
   "id": "1be240d7-c818-47c4-ade8-9cbc661a0e7a",
   "metadata": {},
   "source": [
    "#### Example Comparison\n",
    "Ndarray Example:"
   ]
  },
  {
   "cell_type": "code",
   "execution_count": 35,
   "id": "85a8c46a-13a0-4a94-8ffa-32b788d46b74",
   "metadata": {},
   "outputs": [
    {
     "name": "stdout",
     "output_type": "stream",
     "text": [
      "[[11 12 13]\n",
      " [14 15 16]]\n"
     ]
    }
   ],
   "source": [
    "import numpy as np\n",
    "\n",
    "# Create a 2D ndarray\n",
    "arr = np.array([[1, 2, 3], [4, 5, 6]])\n",
    "\n",
    "# Perform a vectorized operation\n",
    "result = arr + 10  # Adds 10 to each element\n",
    "print(result)\n"
   ]
  },
  {
   "cell_type": "markdown",
   "id": "fa20c9ea-9913-4edf-bdc6-5dd06697698c",
   "metadata": {},
   "source": [
    "#### \n",
    "Python List Example:"
   ]
  },
  {
   "cell_type": "code",
   "execution_count": 34,
   "id": "823b541c-944d-4975-b0ef-a083960656c8",
   "metadata": {},
   "outputs": [
    {
     "name": "stdout",
     "output_type": "stream",
     "text": [
      "[[11, 12, 13], [14, 15, 16]]\n"
     ]
    }
   ],
   "source": [
    "# Create a nested Python list\n",
    "lst = [[1, 2, 3], [4, 5, 6]]\n",
    "\n",
    "# Perform an operation using a loop\n",
    "result_list = [[x + 10 for x in sublist] for sublist in lst]\n",
    "print(result_list)\n"
   ]
  },
  {
   "cell_type": "markdown",
   "id": "44e3a854-e253-40a2-9c4b-ffe7fb6e39c0",
   "metadata": {},
   "source": [
    "## Q6.Analyze the performance benefits of NumPy arrays over Python lists for large-scale numerical operations"
   ]
  },
  {
   "cell_type": "markdown",
   "id": "c983e937-aa62-40d2-9cd9-d0dbe48e3a34",
   "metadata": {},
   "source": [
    "### Answer:-"
   ]
  },
  {
   "cell_type": "markdown",
   "id": "ed349425-410f-490d-9bd6-b9e76cfc5a0c",
   "metadata": {},
   "source": [
    "### Performance Benefits of NumPy Arrays Over Python Lists for Large-Scale Numerical Operations\n",
    "\n",
    "NumPy arrays offer significant performance advantages over standard Python lists, particularly in the context of large-scale numerical operations. Below are the key benefits, explained in detail:"
   ]
  },
  {
   "cell_type": "markdown",
   "id": "f4f95f4a-fe18-4099-8ee3-a668e47113b5",
   "metadata": {},
   "source": [
    "#### 1. Memory Efficiency\n",
    "\n",
    "Contiguous Memory Allocation: NumPy arrays are stored in contiguous blocks of memory, which reduces overhead and improves cache performance. In contrast, Python lists are dynamic arrays that can store objects of different sizes, leading to fragmented memory allocation.\n",
    "\n",
    "Homogeneous Data Types: All elements in a NumPy array must be of the same data type. This uniformity allows NumPy to allocate the exact amount of memory required for the data, whereas Python lists must allocate memory for each element individually, which can lead to higher memory usage.\n"
   ]
  },
  {
   "cell_type": "markdown",
   "id": "72555cca-3509-4b7a-be56-335df7f0d30e",
   "metadata": {},
   "source": [
    "#### 2. Speed of Operations\n",
    "\n",
    "Vectorized Operations: NumPy allows for vectorized operations that perform element-wise computations directly on the entire array without the need for explicit loops. This can lead to performance improvements of orders of magnitude. For instance, adding two arrays can be done in a single operation rather than iterating through each element."
   ]
  },
  {
   "cell_type": "code",
   "execution_count": 36,
   "id": "b542dda4-41ae-461e-b940-e3d8cf5ab5b1",
   "metadata": {},
   "outputs": [],
   "source": [
    "#Example\n",
    "import numpy as np\n",
    "\n",
    "# NumPy array\n",
    "arr = np.arange(1000000)\n",
    "\n",
    "# Vectorized addition\n",
    "result = arr + 1  # Faster than using a loop\n"
   ]
  },
  {
   "cell_type": "markdown",
   "id": "5db3b05a-9dc2-4261-ac11-d79d5f625cc6",
   "metadata": {},
   "source": [
    "#### \n",
    "Optimized Algorithms: NumPy is implemented in C and uses optimized libraries (like BLAS and LAPACK) for linear algebra operations. These libraries are highly efficient for numerical calculations and take advantage of hardware capabilities."
   ]
  },
  {
   "cell_type": "markdown",
   "id": "9c5a5d72-a61d-4c57-a695-843a146598d4",
   "metadata": {},
   "source": [
    "#### 3. Reduced Overhead\n",
    "\n",
    "Less Overhead in Operations: When performing mathematical operations, NumPy arrays have less overhead compared to Python lists, which require type checks and object management. NumPy can leverage lower-level optimizations and perform computations more directly."
   ]
  },
  {
   "cell_type": "markdown",
   "id": "4c65e905-dee6-4c33-9e7f-cbe2a5fe01d9",
   "metadata": {},
   "source": [
    "#### 4. Broadcasting Capabilities\n",
    "\n",
    "Flexible Arithmetic: NumPy supports broadcasting, which allows arithmetic operations on arrays of different shapes and sizes without the need for explicit replication of data. This feature simplifies code and improves performance."
   ]
  },
  {
   "cell_type": "code",
   "execution_count": 41,
   "id": "391a4ea5-b4e4-4e0d-9e87-a083c3035bc3",
   "metadata": {},
   "outputs": [],
   "source": [
    "# Example of broadcasting\n",
    "a = np.array([1, 2, 3])\n",
    "b = np.array([[10], [20], [30]])\n",
    "\n",
    "# Broadcasting: a (1D) is added to each row of b (2D)\n",
    "result = a + b\n"
   ]
  },
  {
   "cell_type": "markdown",
   "id": "355f2191-49b1-488c-bbdc-105818530a97",
   "metadata": {},
   "source": [
    "#### 5. Support for Multi-dimensional Arrays\n",
    "\n",
    "N-dimensional Arrays: NumPy can handle multi-dimensional arrays (e.g., 2D, 3D), enabling efficient representation and manipulation of large datasets (like images, matrices, etc.). Operations on these arrays are optimized for speed and memory efficiency."
   ]
  },
  {
   "cell_type": "markdown",
   "id": "8f3f2df0-86da-41a0-a358-5c1af0c7e907",
   "metadata": {},
   "source": [
    "#### 6. Built-in Mathematical Functions\n",
    "\n",
    "Rich Library of Functions: NumPy provides a wide range of built-in mathematical functions that operate directly on arrays, including statistical functions, linear algebra routines, and more. These functions are highly optimized and often faster than custom implementations using Python lists."
   ]
  },
  {
   "cell_type": "code",
   "execution_count": 40,
   "id": "19389daa-9129-4a8f-8cbf-350809edf5b9",
   "metadata": {},
   "outputs": [],
   "source": [
    "# Example of using NumPy functions\n",
    "mean_value = np.mean(arr)  # Fast calculation of mean\n"
   ]
  },
  {
   "cell_type": "markdown",
   "id": "a1376a11-3b36-4e46-b6d1-84c1af09099c",
   "metadata": {},
   "source": [
    "#### 7. Parallel Processing\n",
    "\n",
    "Potential for Parallelism: NumPy operations can take advantage of parallel processing capabilities of modern CPUs, especially when using libraries like Numexpr or Dask. This further enhances performance for large datasets."
   ]
  },
  {
   "cell_type": "code",
   "execution_count": 39,
   "id": "204b84f4-3c18-465c-92f6-8ea929c46a4b",
   "metadata": {},
   "outputs": [
    {
     "name": "stdout",
     "output_type": "stream",
     "text": [
      "List addition time: 2.996628 seconds\n",
      "NumPy addition time: 0.357970 seconds\n"
     ]
    }
   ],
   "source": [
    "\"\"\"Comparative Example\n",
    "Here's a simple comparative performance benchmark using NumPy arrays and Python lists for a large-scale operation (summing two arrays):\"\"\"\n",
    "\n",
    "import numpy as np\n",
    "import time\n",
    "\n",
    "# Creating large data sets\n",
    "size = 10**7\n",
    "list1 = list(range(size))\n",
    "list2 = list(range(size))\n",
    "\n",
    "array1 = np.arange(size)\n",
    "array2 = np.arange(size)\n",
    "\n",
    "# Timing Python list addition\n",
    "start_time = time.time()\n",
    "list_sum = [x + y for x, y in zip(list1, list2)]\n",
    "print(f\"List addition time: {time.time() - start_time:.6f} seconds\")\n",
    "\n",
    "# Timing NumPy array addition\n",
    "start_time = time.time()\n",
    "array_sum = array1 + array2\n",
    "print(f\"NumPy addition time: {time.time() - start_time:.6f} seconds\")\n"
   ]
  },
  {
   "cell_type": "markdown",
   "id": "70d66198-232b-44d9-aed9-d2f8319176ea",
   "metadata": {},
   "source": [
    "## Q7.Compare vstack() and hstack() functions in NumPy. Provide examples demonstrating their usage and output."
   ]
  },
  {
   "cell_type": "markdown",
   "id": "ebff6cd5-90fa-4073-8693-92d4f1b7866d",
   "metadata": {},
   "source": [
    "### Answer:-"
   ]
  },
  {
   "cell_type": "markdown",
   "id": "8f6d4963-aaef-4bec-91d0-35ace56e2054",
   "metadata": {},
   "source": [
    "#### In NumPy, vstack() and hstack() are functions used to stack arrays in different dimensions. Here’s a detailed comparison of both functions, along with examples demonstrating their usage."
   ]
  },
  {
   "cell_type": "markdown",
   "id": "46e6c18c-64e5-454e-af18-8590a4ca17ab",
   "metadata": {},
   "source": [
    "#### 1. vstack()\n",
    "\n",
    "Description:\n",
    "\n",
    "vstack() stands for \"vertical stack.\" It stacks arrays vertically (row-wise) along the first axis (axis 0). This means that it combines arrays by adding new rows.\n",
    "\n",
    "Usage:\n",
    "\n",
    "All input arrays must have the same shape along all but the first axis (i.e., the number of columns must be the same)."
   ]
  },
  {
   "cell_type": "code",
   "execution_count": 43,
   "id": "8ef5b2e3-7ff4-4777-b21d-d270cbcbe3d2",
   "metadata": {},
   "outputs": [
    {
     "name": "stdout",
     "output_type": "stream",
     "text": [
      "Result of vstack:\n",
      " [[ 1  2  3]\n",
      " [ 4  5  6]\n",
      " [ 7  8  9]\n",
      " [10 11 12]]\n"
     ]
    }
   ],
   "source": [
    "#Example of vstack()\n",
    "import numpy as np\n",
    "\n",
    "# Creating two 2D arrays\n",
    "array1 = np.array([[1, 2, 3], \n",
    "                   [4, 5, 6]])\n",
    "\n",
    "array2 = np.array([[7, 8, 9], \n",
    "                   [10, 11, 12]])\n",
    "\n",
    "# Using vstack to stack the arrays vertically\n",
    "result_vstack = np.vstack((array1, array2))\n",
    "print(\"Result of vstack:\\n\", result_vstack)\n"
   ]
  },
  {
   "cell_type": "markdown",
   "id": "508554d0-5ab7-4b35-b821-a509bbcb1ec7",
   "metadata": {},
   "source": [
    "#### 2. hstack()\n",
    "\n",
    "Description:\n",
    "\n",
    "hstack() stands for \"horizontal stack.\" It stacks arrays horizontally (column-wise) along the second axis (axis 1). This means that it combines arrays by adding new columns.\n",
    "\n",
    "Usage:\n",
    "\n",
    "All input arrays must have the same shape along all but the second axis (i.e., the number of rows must be the same)."
   ]
  },
  {
   "cell_type": "code",
   "execution_count": 44,
   "id": "8819395a-1ad5-4617-bc49-55074408d93f",
   "metadata": {},
   "outputs": [
    {
     "name": "stdout",
     "output_type": "stream",
     "text": [
      "Result of hstack:\n",
      " [[ 1  2  3  7  8  9]\n",
      " [ 4  5  6 10 11 12]]\n"
     ]
    }
   ],
   "source": [
    "#Example of hstack()\n",
    "# Using hstack to stack the arrays horizontally\n",
    "result_hstack = np.hstack((array1, array2))\n",
    "print(\"Result of hstack:\\n\", result_hstack)\n"
   ]
  },
  {
   "cell_type": "markdown",
   "id": "18ab1d3f-2a47-416e-9b2c-7d34c8b173e2",
   "metadata": {},
   "source": [
    "### Summary of Differences"
   ]
  },
  {
   "cell_type": "markdown",
   "id": "6e7c3010-d7f3-4320-85ba-3a55da07bd16",
   "metadata": {},
   "source": [
    "| Feature                     | vstack()                              | hstack()                              |\n",
    "|-----------------------------|---------------------------------------|---------------------------------------|\n",
    "| **Stacking Direction**      | Vertical (row-wise)                  | Horizontal (column-wise)              |\n",
    "| **Input Shape Requirement** | Same number of columns                | Same number of rows                   |\n",
    "| **Axis**                    | Stacks along the first axis (axis 0) | Stacks along the second axis (axis 1) |\n"
   ]
  },
  {
   "cell_type": "code",
   "execution_count": null,
   "id": "cfde2e6f-be8b-407f-a5a6-904b20a83e04",
   "metadata": {},
   "outputs": [],
   "source": []
  },
  {
   "cell_type": "markdown",
   "id": "a6181e67-1ef7-473b-9396-91bfd6fe139e",
   "metadata": {},
   "source": [
    "## Q8.Explain the differences between fliplr() and flipud() methods in NumPy, including their effects on various array dimensions."
   ]
  },
  {
   "cell_type": "markdown",
   "id": "8f526096-4772-44eb-8a48-2ab8431aa5ad",
   "metadata": {},
   "source": [
    "### Answer:-"
   ]
  },
  {
   "cell_type": "markdown",
   "id": "225ea6a4-de92-4e7a-be1c-e6628fd4bd4f",
   "metadata": {},
   "source": [
    "#### In NumPy, fliplr() and flipud() are functions used to flip arrays in different directions. Here’s a detailed explanation of the differences between these two methods, including their effects on various array dimensions"
   ]
  },
  {
   "cell_type": "markdown",
   "id": "01f25dd8-f58f-4daf-bc41-f95df0026180",
   "metadata": {},
   "source": [
    "#### 1. fliplr()\n",
    "\n",
    "Description:\n",
    "\n",
    "fliplr() stands for \"flip left to right.\" This function flips an array in the left-right direction, meaning that the columns of the array are reversed.\n",
    "\n",
    "Usage:\n",
    "\n",
    "It operates along the second axis (axis 1) and is primarily used for 2D arrays. However, it can also work on 1D and higher-dimensional arrays, where the flipping is applied to the last dimension."
   ]
  },
  {
   "cell_type": "code",
   "execution_count": 47,
   "id": "27f8810b-e788-4a2d-86a4-302ba4984faf",
   "metadata": {},
   "outputs": [
    {
     "name": "stdout",
     "output_type": "stream",
     "text": [
      "Flipped left to right:\n",
      " [[3 2 1]\n",
      " [6 5 4]]\n"
     ]
    }
   ],
   "source": [
    "#Example of fliplr()\n",
    "import numpy as np\n",
    "\n",
    "# Creating a 2D array\n",
    "array_2d = np.array([[1, 2, 3], \n",
    "                     [4, 5, 6]])\n",
    "\n",
    "# Using fliplr to flip the array\n",
    "flipped_lr = np.fliplr(array_2d)\n",
    "print(\"Flipped left to right:\\n\", flipped_lr)\n"
   ]
  },
  {
   "cell_type": "markdown",
   "id": "df0ea8c9-0ca9-4b2f-830f-b44ba8353eda",
   "metadata": {},
   "source": [
    "#### 2. flipud()\n",
    "Description:\n",
    "\n",
    "flipud() stands for \"flip up to down.\" This function flips an array in the up-down direction, meaning that the rows of the array are reversed.\n",
    "\n",
    "Usage:\n",
    "\n",
    "It operates along the first axis (axis 0) and is primarily used for 2D arrays. Similar to fliplr(), it can also be applied to higher-dimensional arrays, flipping along the first dimension."
   ]
  },
  {
   "cell_type": "code",
   "execution_count": 48,
   "id": "682a6fc0-7808-4354-8211-c62252019c7c",
   "metadata": {},
   "outputs": [
    {
     "name": "stdout",
     "output_type": "stream",
     "text": [
      "Flipped up to down:\n",
      " [[4 5 6]\n",
      " [1 2 3]]\n"
     ]
    }
   ],
   "source": [
    "#Example of flipud()\n",
    "# Using flipud to flip the array\n",
    "flipped_ud = np.flipud(array_2d)\n",
    "print(\"Flipped up to down:\\n\", flipped_ud)\n"
   ]
  },
  {
   "cell_type": "markdown",
   "id": "5a5059c5-f1b8-47bd-a8f9-41a6383a9934",
   "metadata": {},
   "source": [
    "## Differences"
   ]
  },
  {
   "cell_type": "markdown",
   "id": "435c2eda-e430-42b4-8a68-7b8f2ccca38f",
   "metadata": {},
   "source": [
    "| Feature                   | `fliplr()`                             | `flipud()`                             |\n",
    "|---------------------------|----------------------------------------|----------------------------------------|\n",
    "| **Description**           | Flips an array left to right (columns reversed) | Flips an array up to down (rows reversed) |\n",
    "| **Direction of Flip**     | Left to right                          | Up to down                             |\n",
    "| **Axis**                  | Operates along the second axis (axis 1) | Operates along the first axis (axis 0) |\n",
    "| **Effect on 2D Arrays**   | Reverses the order of columns          | Reverses the order of rows             |\n",
    "| **Effect on 1D Arrays**  | Raises ValueError (requires 2D input) | Raises ValueError (requires 2D input) |\n",
    "| **Higher Dimensions**     | Flips along the last axis              | Flips along the first axis             |\n",
    "| **Equivalent Function for 1D** | Not applicable (use `np.flip()`)  | Not applicable (use `np.flip()`)      |\n"
   ]
  },
  {
   "cell_type": "markdown",
   "id": "b67fb916-4787-4bf5-b95b-6d504afe50ca",
   "metadata": {},
   "source": [
    "### Effects on Various Array Dimensions\n",
    "\n",
    "1D Arrays:\n",
    "\n",
    "For 1D arrays, both fliplr() and flipud() behave the same as flip(), reversing the order of elements."
   ]
  },
  {
   "cell_type": "code",
   "execution_count": 50,
   "id": "e4a1956f-ac0d-4d5c-ae21-f082832889fe",
   "metadata": {},
   "outputs": [
    {
     "name": "stdout",
     "output_type": "stream",
     "text": [
      "[3 2 1]\n"
     ]
    }
   ],
   "source": [
    "import numpy as np\n",
    "\n",
    "# Example with a 1D array\n",
    "arr_1d = np.array([1, 2, 3])\n",
    "\n",
    "# Using np.flip() to flip the 1D array\n",
    "flipped = np.flip(arr_1d)  # Equivalent to both fliplr and flipud for 1D\n",
    "print(flipped)  # Output: [3 2 1]\n"
   ]
  },
  {
   "cell_type": "markdown",
   "id": "184775cb-148d-4aa6-bb04-208889deda8f",
   "metadata": {},
   "source": [
    "#### \n",
    "2D Arrays:\n",
    "\n",
    "fliplr() flips columns, while flipud() flips rows.\n",
    "\n",
    "Higher-dimensional Arrays:\n",
    "\n",
    "In 3D or higher-dimensional arrays, fliplr() will flip the last dimension (like columns), and flipud() will flip the first dimension (like rows)."
   ]
  },
  {
   "cell_type": "code",
   "execution_count": 51,
   "id": "8eb9c5fe-2705-473e-b9a1-a30605f2ccf6",
   "metadata": {},
   "outputs": [
    {
     "name": "stdout",
     "output_type": "stream",
     "text": [
      "Flipped left to right:\n",
      " [[3 2 1]\n",
      " [6 5 4]]\n",
      "Flipped up to down:\n",
      " [[4 5 6]\n",
      " [1 2 3]]\n"
     ]
    }
   ],
   "source": [
    "#Example of Both fliplr() and flipud() with 2D Arrays\n",
    "# Example with a 2D array\n",
    "array_2d = np.array([[1, 2, 3], \n",
    "                     [4, 5, 6]])\n",
    "\n",
    "# Flipping left to right\n",
    "flipped_lr = np.fliplr(array_2d)\n",
    "print(\"Flipped left to right:\\n\", flipped_lr)\n",
    "\n",
    "# Flipping up to down\n",
    "flipped_ud = np.flipud(array_2d)\n",
    "print(\"Flipped up to down:\\n\", flipped_ud)\n"
   ]
  },
  {
   "cell_type": "markdown",
   "id": "440a34ad-e91c-47c5-8d68-63ad71708b85",
   "metadata": {},
   "source": [
    "## Q9.Discuss the functionality of the array_split() method in NumPy. How does it handle uneven splits?"
   ]
  },
  {
   "cell_type": "markdown",
   "id": "5f5cdb33-5e01-4de9-9bfa-68e29ca0fef4",
   "metadata": {},
   "source": [
    "### Answer:-"
   ]
  },
  {
   "cell_type": "markdown",
   "id": "dff49782-3fcc-4b1d-b44c-c69bdc95cadd",
   "metadata": {},
   "source": [
    "#### The array_split() method in NumPy is a powerful function used to split an array into multiple sub-arrays. Unlike split(), which requires the splits to be of equal size, array_split() can handle uneven splits, making it more versatile for different use cases."
   ]
  },
  {
   "cell_type": "markdown",
   "id": "8bca8e73-b7ca-481a-ad07-ed8d12888f17",
   "metadata": {},
   "source": [
    "### Functionality of array_split() :- "
   ]
  },
  {
   "cell_type": "markdown",
   "id": "2e3cf161-c030-4a12-be07-60ab15821946",
   "metadata": {},
   "source": [
    "### Basic Syntax :-\n",
    "\n",
    "numpy.array_split(ary, indices_or_sections, axis=0)\n",
    "\n",
    "Parameters:\n",
    "\n",
    "ary: The input array to be split.\n",
    "\n",
    "indices_or_sections: This can be an integer or a sequence. If an integer is provided, it specifies the number of equal sections to split the array into. If a sequence is given, it indicates the specific indices at which to split the array.\n",
    "\n",
    "axis: The axis along which to split the array. The default is 0 (along rows)."
   ]
  },
  {
   "cell_type": "markdown",
   "id": "4c408c5c-fa58-4c5b-9717-d4d4c1a519fa",
   "metadata": {},
   "source": [
    "#### \n",
    "Return Value\n",
    "\n",
    "The function returns a list of sub-arrays, which are the result of the split operation."
   ]
  },
  {
   "cell_type": "markdown",
   "id": "0cea04cf-1d20-4f98-99d9-0cfcd47e443b",
   "metadata": {},
   "source": [
    "#### Handling Uneven Splits\n",
    "\n",
    "When the number of elements in the original array is not perfectly divisible by the number of sections requested, array_split() handles the situation gracefully by distributing the elements as evenly as possible among the sub-arrays."
   ]
  },
  {
   "cell_type": "code",
   "execution_count": 55,
   "id": "36bcb645-d7f9-4c82-a755-a39feb23a01f",
   "metadata": {},
   "outputs": [
    {
     "name": "stdout",
     "output_type": "stream",
     "text": [
      "Original Array: [1 2 3 4 5 6 7]\n",
      "Split Arrays:\n",
      "Sub-array 0: [1 2 3]\n",
      "Sub-array 1: [4 5]\n",
      "Sub-array 2: [6 7]\n"
     ]
    }
   ],
   "source": [
    "#Example of Uneven Splits\n",
    "import numpy as np\n",
    "\n",
    "# Create a 1D array\n",
    "array_1d = np.array([1, 2, 3, 4, 5, 6, 7])\n",
    "\n",
    "# Split the array into 3 sections\n",
    "split_arrays = np.array_split(array_1d, 3)\n",
    "\n",
    "print(\"Original Array:\", array_1d)\n",
    "print(\"Split Arrays:\")\n",
    "for i, sub_array in enumerate(split_arrays):\n",
    "    print(f\"Sub-array {i}: {sub_array}\")\n"
   ]
  },
  {
   "cell_type": "code",
   "execution_count": 56,
   "id": "db1043eb-2f11-4bc3-8273-2565f96f07a8",
   "metadata": {},
   "outputs": [
    {
     "name": "stdout",
     "output_type": "stream",
     "text": [
      "Original 2D Array:\n",
      " [[ 1  2  3]\n",
      " [ 4  5  6]\n",
      " [ 7  8  9]\n",
      " [10 11 12]]\n",
      "Split 2D Arrays:\n",
      "Sub-array 0:\n",
      "[[1 2 3]\n",
      " [4 5 6]]\n",
      "Sub-array 1:\n",
      "[[7 8 9]]\n",
      "Sub-array 2:\n",
      "[[10 11 12]]\n"
     ]
    }
   ],
   "source": [
    "#Additional Example with 2D Arrays\n",
    "#You can also use array_split() on 2D arrays:\n",
    "\n",
    "# Create a 2D array\n",
    "array_2d = np.array([[1, 2, 3], \n",
    "                     [4, 5, 6], \n",
    "                     [7, 8, 9], \n",
    "                     [10, 11, 12]])\n",
    "\n",
    "# Split the array into 3 sections along the first axis (rows)\n",
    "split_2d_arrays = np.array_split(array_2d, 3, axis=0)\n",
    "\n",
    "print(\"Original 2D Array:\\n\", array_2d)\n",
    "print(\"Split 2D Arrays:\")\n",
    "for i, sub_array in enumerate(split_2d_arrays):\n",
    "    print(f\"Sub-array {i}:\\n{sub_array}\")\n"
   ]
  },
  {
   "cell_type": "markdown",
   "id": "d4990dd6-ec94-45a0-b19e-3425f03d8825",
   "metadata": {},
   "source": [
    "## Q10.Explain the concepts of vectorization and broadcasting in NumPy. How do they contribute to efficient array operations?"
   ]
  },
  {
   "cell_type": "markdown",
   "id": "a319ec27-1aa0-471b-b3d4-319e4672ba7e",
   "metadata": {},
   "source": [
    "### Answer:-"
   ]
  },
  {
   "cell_type": "markdown",
   "id": "6bf6c96d-7067-4dd4-9f6f-ff0780fb850b",
   "metadata": {},
   "source": [
    "#### Vectorization and broadcasting are two powerful concepts in NumPy that significantly enhance the efficiency of array operations. These concepts allow for fast computations by leveraging underlying optimizations and avoiding the need for explicit loops in Python code"
   ]
  },
  {
   "cell_type": "markdown",
   "id": "93d5261c-f4f5-4249-8f57-f9b61c539b2d",
   "metadata": {},
   "source": [
    "#### 1. Vectorization\n",
    "\n",
    "Definition: Vectorization is the process of converting operations on scalar values (individual elements) into operations on entire arrays (or vectors). In NumPy, vectorized operations enable you to perform element-wise operations on arrays without the need for explicit loops."
   ]
  },
  {
   "cell_type": "markdown",
   "id": "86a03f10-5361-456d-941c-bf7d38fc9df4",
   "metadata": {},
   "source": [
    "#### Key Features:\n",
    "\n",
    "Element-wise Operations: NumPy automatically applies operations to each element of the array.\n",
    "\n",
    "Performance: Vectorized operations are generally much faster than equivalent operations done with Python loops because NumPy uses optimized C and Fortran libraries under the hood.\n",
    "\n",
    "Readable Code: Vectorized operations lead to more concise and readable code."
   ]
  },
  {
   "cell_type": "code",
   "execution_count": 57,
   "id": "59162079-4d0d-4b0f-84e0-c0cc1fa02afe",
   "metadata": {},
   "outputs": [
    {
     "name": "stdout",
     "output_type": "stream",
     "text": [
      "[11 22 33 44]\n"
     ]
    }
   ],
   "source": [
    "#Example\n",
    "import numpy as np\n",
    "\n",
    "# Create two arrays\n",
    "a = np.array([1, 2, 3, 4])\n",
    "b = np.array([10, 20, 30, 40])\n",
    "\n",
    "# Vectorized addition\n",
    "result = a + b  # Adds corresponding elements of a and b\n",
    "print(result)  # Output: [11 22 33 44]\n"
   ]
  },
  {
   "cell_type": "markdown",
   "id": "c022f985-3602-4af4-bc01-b7092e395356",
   "metadata": {},
   "source": [
    "#### 2. Broadcasting\n",
    "\n",
    "Definition: Broadcasting is a feature that allows NumPy to perform operations on arrays of different shapes and sizes by automatically expanding the smaller array to match the shape of the larger array. This eliminates the need for explicit replication of data and simplifies the implementation of mathematical operations."
   ]
  },
  {
   "cell_type": "markdown",
   "id": "f70c2748-2ec0-40a5-85b2-cb06774e0758",
   "metadata": {},
   "source": [
    "#### Key Features:\n",
    "\n",
    "Dimension Compatibility: Broadcasting works when arrays have compatible shapes. Specifically, dimensions are compatible when:\n",
    "They are equal, or\n",
    "One of them is 1 (in which case, the smaller array is \"stretched\" to match the larger array).\n",
    "\n",
    "Memory Efficiency: Broadcasting avoids unnecessary copying of data, which helps save memory and improves performance."
   ]
  },
  {
   "cell_type": "code",
   "execution_count": 58,
   "id": "f530e16f-cbcd-4854-ab1a-da1d62bfb05b",
   "metadata": {},
   "outputs": [
    {
     "name": "stdout",
     "output_type": "stream",
     "text": [
      "[[11 12 13]\n",
      " [21 22 23]\n",
      " [31 32 33]]\n"
     ]
    }
   ],
   "source": [
    "#Example\n",
    "\n",
    "# Create a 1D array and a 2D array\n",
    "a = np.array([1, 2, 3])       # Shape (3,)\n",
    "b = np.array([[10], [20], [30]])  # Shape (3, 1)\n",
    "\n",
    "# Broadcasting the addition\n",
    "result = a + b  # a is treated as if it had shape (3, 3)\n",
    "print(result)\n"
   ]
  },
  {
   "cell_type": "markdown",
   "id": "fa85e30d-7b5a-4d9f-8322-6afead8db1a7",
   "metadata": {},
   "source": [
    "#### Contributions to Efficient Array Operations\n",
    "\n",
    "1. Performance Improvement\n",
    "\n",
    "Reduced Execution Time: By using vectorized operations, NumPy can leverage low-level optimizations, leading to significant performance improvements, especially for large datasets.\n",
    "Avoiding Python Overheads: Vectorization and broadcasting reduce the overhead of Python's interpreted nature by minimizing the number of loops and function calls.\n",
    "\n",
    "2. Conciseness and Clarity\n",
    "\n",
    "Simpler Code: Using vectorized operations and broadcasting results in cleaner and more understandable code. This makes it easier to write, read, and maintain code that performs complex mathematical operations.\n",
    "Reduced Complexity: Complex data manipulation tasks become straightforward, allowing developers to focus more on problem-solving rather than on implementation details.\n",
    "\n",
    "3. Scalability\n",
    "\n",
    "Handling Large Datasets: Vectorization and broadcasting allow NumPy to handle large datasets efficiently, making it suitable for scientific computing, data analysis, and machine learning tasks."
   ]
  },
  {
   "cell_type": "code",
   "execution_count": null,
   "id": "61fcab14-3b4e-411b-8ff2-356b0eadaab7",
   "metadata": {},
   "outputs": [],
   "source": []
  },
  {
   "cell_type": "code",
   "execution_count": null,
   "id": "df63e35b-cc89-4982-81d6-1b2199912bfc",
   "metadata": {},
   "outputs": [],
   "source": []
  },
  {
   "cell_type": "markdown",
   "id": "ac5b241d-8f85-42ac-bb52-a04534133446",
   "metadata": {},
   "source": [
    "# PRACTICAL QUESTIONS :-"
   ]
  },
  {
   "cell_type": "markdown",
   "id": "7f2c506f-7890-4ce9-ba5b-cee41f26f7da",
   "metadata": {},
   "source": [
    "## Q1.Create a 3x3 NumPy array with random integers between 1 and 100. Then, interchange its rows and columns."
   ]
  },
  {
   "cell_type": "markdown",
   "id": "1afacff3-8983-4adb-bcec-0a909d293fb0",
   "metadata": {},
   "source": [
    "### Answer:-"
   ]
  },
  {
   "cell_type": "markdown",
   "id": "4f6742ed-beee-45ec-8b47-669c47e71b81",
   "metadata": {},
   "source": [
    "#### Here’s a 3x3 NumPy array with random integers between 1 and 100, along with its transposed version (where rows and columns are interchanged):"
   ]
  },
  {
   "cell_type": "code",
   "execution_count": 59,
   "id": "814c835e-55c4-4124-ac57-88a186cb240c",
   "metadata": {},
   "outputs": [
    {
     "name": "stdout",
     "output_type": "stream",
     "text": [
      "Original Array:\n",
      "[[55 18 36]\n",
      " [94 40 11]\n",
      " [94 31 87]]\n",
      "\n",
      "Transposed Array:\n",
      "[[55 94 94]\n",
      " [18 40 31]\n",
      " [36 11 87]]\n"
     ]
    }
   ],
   "source": [
    "import numpy as np\n",
    "\n",
    "# Create a 3x3 NumPy array with random integers between 1 and 100\n",
    "array_3x3 = np.random.randint(1, 101, size=(3, 3))\n",
    "\n",
    "# Interchange (transpose) its rows and columns\n",
    "transposed_array = np.transpose(array_3x3)\n",
    "\n",
    "# Display the original and transposed arrays\n",
    "print(\"Original Array:\")\n",
    "print(array_3x3)\n",
    "\n",
    "print(\"\\nTransposed Array:\")\n",
    "print(transposed_array)\n"
   ]
  },
  {
   "cell_type": "markdown",
   "id": "1f6979af-eb90-4804-97b0-5ce85441e91e",
   "metadata": {},
   "source": [
    "## Q2.Generate a 1D NumPy array with 10 elements. Reshape it into a 2x5 array, then into a 5x2 array."
   ]
  },
  {
   "cell_type": "markdown",
   "id": "837d5ab6-caa6-45c1-9118-d9c26d4cebbe",
   "metadata": {},
   "source": [
    "### Answer:-"
   ]
  },
  {
   "cell_type": "code",
   "execution_count": 60,
   "id": "6ba43478-5e8d-4cdf-8ceb-8d8600797c85",
   "metadata": {},
   "outputs": [
    {
     "name": "stdout",
     "output_type": "stream",
     "text": [
      "Original 1D Array:\n",
      "[0 1 2 3 4 5 6 7 8 9]\n",
      "\n",
      "Reshaped to 2x5 Array:\n",
      "[[0 1 2 3 4]\n",
      " [5 6 7 8 9]]\n",
      "\n",
      "Reshaped to 5x2 Array:\n",
      "[[0 1]\n",
      " [2 3]\n",
      " [4 5]\n",
      " [6 7]\n",
      " [8 9]]\n"
     ]
    }
   ],
   "source": [
    "import numpy as np\n",
    "\n",
    "# Generate a 1D NumPy array with 10 elements\n",
    "array_1d = np.arange(10)  # Creates an array with elements from 0 to 9\n",
    "\n",
    "# Print the original 1D array\n",
    "print(\"Original 1D Array:\")\n",
    "print(array_1d)\n",
    "\n",
    "# Reshape it into a 2x5 array\n",
    "array_2x5 = array_1d.reshape(2, 5)\n",
    "print(\"\\nReshaped to 2x5 Array:\")\n",
    "print(array_2x5)\n",
    "\n",
    "# Reshape it into a 5x2 array\n",
    "array_5x2 = array_1d.reshape(5, 2)\n",
    "print(\"\\nReshaped to 5x2 Array:\")\n",
    "print(array_5x2)\n"
   ]
  },
  {
   "cell_type": "markdown",
   "id": "c0dbfe98-e677-4bcf-aca8-51c5e7f512c6",
   "metadata": {},
   "source": [
    "## Q3.Create a 4x4 NumPy array with random float values. Add a border of zeros around it, resulting in a 6x6 array."
   ]
  },
  {
   "cell_type": "markdown",
   "id": "93e736b9-8245-480f-84db-183766a3ec15",
   "metadata": {},
   "source": [
    "### Answer:-"
   ]
  },
  {
   "cell_type": "code",
   "execution_count": 61,
   "id": "47ac7474-ee88-442f-a088-321c15f90010",
   "metadata": {},
   "outputs": [
    {
     "name": "stdout",
     "output_type": "stream",
     "text": [
      "Original 4x4 Array:\n",
      "[[0.87818952 0.55205642 0.0707603  0.73839724]\n",
      " [0.66050596 0.40737244 0.99744728 0.39713491]\n",
      " [0.29325108 0.67391413 0.66409082 0.77637546]\n",
      " [0.62923847 0.60929458 0.43224587 0.35519271]]\n",
      "\n",
      "6x6 Array with Border of Zeros:\n",
      "[[0.         0.         0.         0.         0.         0.        ]\n",
      " [0.         0.87818952 0.55205642 0.0707603  0.73839724 0.        ]\n",
      " [0.         0.66050596 0.40737244 0.99744728 0.39713491 0.        ]\n",
      " [0.         0.29325108 0.67391413 0.66409082 0.77637546 0.        ]\n",
      " [0.         0.62923847 0.60929458 0.43224587 0.35519271 0.        ]\n",
      " [0.         0.         0.         0.         0.         0.        ]]\n"
     ]
    }
   ],
   "source": [
    "import numpy as np\n",
    "\n",
    "# Create a 4x4 NumPy array with random float values\n",
    "array_4x4 = np.random.rand(4, 4)\n",
    "\n",
    "# Add a border of zeros around the 4x4 array\n",
    "array_with_border = np.pad(array_4x4, pad_width=1, mode='constant', constant_values=0)\n",
    "\n",
    "# Display the original and the bordered array\n",
    "print(\"Original 4x4 Array:\")\n",
    "print(array_4x4)\n",
    "\n",
    "print(\"\\n6x6 Array with Border of Zeros:\")\n",
    "print(array_with_border)\n"
   ]
  },
  {
   "cell_type": "markdown",
   "id": "72c7d2fb-0138-43b0-94f4-e83bfe44ba25",
   "metadata": {},
   "source": [
    "## Q4.Using NumPy, create an array of integers from 10 to 60 with a step of 5."
   ]
  },
  {
   "cell_type": "markdown",
   "id": "47a1db7f-f762-475d-a497-5340bdeb9630",
   "metadata": {},
   "source": [
    "### Answer:-"
   ]
  },
  {
   "cell_type": "code",
   "execution_count": 62,
   "id": "c0c7c923-030a-49e9-9486-61b691a64496",
   "metadata": {},
   "outputs": [
    {
     "name": "stdout",
     "output_type": "stream",
     "text": [
      "[10 15 20 25 30 35 40 45 50 55 60]\n"
     ]
    }
   ],
   "source": [
    "import numpy as np\n",
    "\n",
    "# Create an array of integers from 10 to 60 with a step of 5\n",
    "array_integers = np.arange(10, 61, 5)\n",
    "\n",
    "# Display the resulting array\n",
    "print(array_integers)\n"
   ]
  },
  {
   "cell_type": "markdown",
   "id": "48a3e98c-1600-4a2d-9a48-f62cc9a027b0",
   "metadata": {},
   "source": [
    "## Q5.Create a NumPy array of strings ['python', 'numpy', 'pandas']. Apply different case transformations (uppercase, lowercase, title case, etc.) to each element."
   ]
  },
  {
   "cell_type": "markdown",
   "id": "b1fbc00d-b48d-4a90-8246-a7ea6734ec37",
   "metadata": {},
   "source": [
    "### Answer:-"
   ]
  },
  {
   "cell_type": "code",
   "execution_count": 63,
   "id": "2f95bbfe-e3d8-4a80-b205-19044c82b262",
   "metadata": {},
   "outputs": [
    {
     "name": "stdout",
     "output_type": "stream",
     "text": [
      "Uppercase: ['PYTHON' 'NUMPY' 'PANDAS']\n",
      "Lowercase: ['python' 'numpy' 'pandas']\n",
      "Title Case: ['Python' 'Numpy' 'Pandas']\n",
      "Capitalize Case: ['Python' 'Numpy' 'Pandas']\n"
     ]
    }
   ],
   "source": [
    "import numpy as np\n",
    "\n",
    "# Create a NumPy array of strings\n",
    "array_strings = np.array(['python', 'numpy', 'pandas'])\n",
    "\n",
    "# Apply different case transformations\n",
    "upper_case = np.char.upper(array_strings)\n",
    "lower_case = np.char.lower(array_strings)\n",
    "title_case = np.char.title(array_strings)\n",
    "capitalize_case = np.char.capitalize(array_strings)\n",
    "\n",
    "# Display the results of the transformations\n",
    "print(\"Uppercase:\", upper_case)\n",
    "print(\"Lowercase:\", lower_case)\n",
    "print(\"Title Case:\", title_case)\n",
    "print(\"Capitalize Case:\", capitalize_case)\n"
   ]
  },
  {
   "cell_type": "markdown",
   "id": "d1b783c4-d3bc-485b-9f3d-9c5fb55cc5cb",
   "metadata": {},
   "source": [
    "## Q6.Generate a NumPy array of words. Insert a space between each character of every word in the array."
   ]
  },
  {
   "cell_type": "markdown",
   "id": "636b7bce-e36a-41e5-9b23-d6426e1bd448",
   "metadata": {},
   "source": [
    "### Answer:-"
   ]
  },
  {
   "cell_type": "code",
   "execution_count": 64,
   "id": "7c250b3c-93b6-4283-ab2c-a583c6b20b1d",
   "metadata": {},
   "outputs": [
    {
     "name": "stdout",
     "output_type": "stream",
     "text": [
      "['p y t h o n' 'n u m p y' 'p a n d a s']\n"
     ]
    }
   ],
   "source": [
    "import numpy as np\n",
    "\n",
    "# Create a NumPy array of words\n",
    "words_array = np.array(['python', 'numpy', 'pandas'])\n",
    "\n",
    "# Insert a space between each character of every word\n",
    "spaced_words = np.char.join(' ', words_array)\n",
    "\n",
    "# Display the resulting array\n",
    "print(spaced_words)\n"
   ]
  },
  {
   "cell_type": "markdown",
   "id": "e10d426e-0efd-446e-88d1-ce9920ee5fe5",
   "metadata": {},
   "source": [
    "## Q7.Create two 2D NumPy arrays and perform element-wise addition, subtraction, multiplication, and division."
   ]
  },
  {
   "cell_type": "markdown",
   "id": "0bce8490-e445-4fa1-90aa-24d2e5296d33",
   "metadata": {},
   "source": [
    "### Answer:-"
   ]
  },
  {
   "cell_type": "code",
   "execution_count": 65,
   "id": "6b512ca3-da14-417c-a0a0-fd6f85c32396",
   "metadata": {},
   "outputs": [
    {
     "name": "stdout",
     "output_type": "stream",
     "text": [
      "Addition:\n",
      " [[11 22 33]\n",
      " [44 55 66]]\n",
      "Subtraction:\n",
      " [[ -9 -18 -27]\n",
      " [-36 -45 -54]]\n",
      "Multiplication:\n",
      " [[ 10  40  90]\n",
      " [160 250 360]]\n",
      "Division:\n",
      " [[0.1 0.1 0.1]\n",
      " [0.1 0.1 0.1]]\n"
     ]
    }
   ],
   "source": [
    "import numpy as np\n",
    "\n",
    "# Create two 2D NumPy arrays\n",
    "array1 = np.array([[1, 2, 3], \n",
    "                   [4, 5, 6]])\n",
    "\n",
    "array2 = np.array([[10, 20, 30], \n",
    "                   [40, 50, 60]])\n",
    "\n",
    "# Perform element-wise operations\n",
    "addition = array1 + array2\n",
    "subtraction = array1 - array2\n",
    "multiplication = array1 * array2\n",
    "division = array1 / array2\n",
    "\n",
    "# Display the results of the operations\n",
    "print(\"Addition:\\n\", addition)\n",
    "print(\"Subtraction:\\n\", subtraction)\n",
    "print(\"Multiplication:\\n\", multiplication)\n",
    "print(\"Division:\\n\", division)\n"
   ]
  },
  {
   "cell_type": "markdown",
   "id": "ba63f317-507f-4d63-a1e8-5c2a0ff0a46d",
   "metadata": {},
   "source": [
    "## Q8.Use NumPy to create a 5x5 identity matrix, then extract its diagonal elements."
   ]
  },
  {
   "cell_type": "markdown",
   "id": "ec384e98-c404-4886-8a39-4d8b27d8792a",
   "metadata": {},
   "source": [
    "### Answer:-"
   ]
  },
  {
   "cell_type": "code",
   "execution_count": 66,
   "id": "9989aee0-dcbf-4299-b1a8-97a1a67a9488",
   "metadata": {},
   "outputs": [
    {
     "name": "stdout",
     "output_type": "stream",
     "text": [
      "5x5 Identity Matrix:\n",
      " [[1. 0. 0. 0. 0.]\n",
      " [0. 1. 0. 0. 0.]\n",
      " [0. 0. 1. 0. 0.]\n",
      " [0. 0. 0. 1. 0.]\n",
      " [0. 0. 0. 0. 1.]]\n",
      "\n",
      "Diagonal Elements: [1. 1. 1. 1. 1.]\n"
     ]
    }
   ],
   "source": [
    "import numpy as np\n",
    "\n",
    "# Create a 5x5 identity matrix\n",
    "identity_matrix = np.eye(5)\n",
    "\n",
    "# Extract the diagonal elements\n",
    "diagonal_elements = np.diagonal(identity_matrix)\n",
    "\n",
    "# Display the identity matrix and its diagonal elements\n",
    "print(\"5x5 Identity Matrix:\\n\", identity_matrix)\n",
    "print(\"\\nDiagonal Elements:\", diagonal_elements)\n"
   ]
  },
  {
   "cell_type": "markdown",
   "id": "968cea92-48ae-460c-890b-bdfcd8a5d3f4",
   "metadata": {},
   "source": [
    "## Q9.Generate a NumPy array of 100 random integers between 0 and 1000. Find and display all prime numbers in this array."
   ]
  },
  {
   "cell_type": "markdown",
   "id": "e457a746-4619-4a45-a77c-1fcf455b024f",
   "metadata": {},
   "source": [
    "### Answer:-"
   ]
  },
  {
   "cell_type": "code",
   "execution_count": 67,
   "id": "d4098ab6-4c99-45fe-9fa9-84cb1f2b4d07",
   "metadata": {},
   "outputs": [
    {
     "name": "stdout",
     "output_type": "stream",
     "text": [
      "Random Integers:\n",
      " [ 180  380  655  581  713  893  167  454  857  127  407  242  146  703\n",
      "    9  373  657  351   13  357  172 1000  654  410  628  464  901  312\n",
      "  621  277  594  573  505  566   28  290  186  485  841   32  858  494\n",
      "  952  133  204  214  611  428  883  800  543  116  939  606  586  868\n",
      "  543  993  366   60  207  821  272  812  439  650  314  284  327  247\n",
      "  148  343  984   52  205  806  585  536  984  542  150  208  893  508\n",
      "  345  779  518  760  794  696  744   61  463  805  344  473  710  785\n",
      "  975  280]\n",
      "\n",
      "Prime Numbers: [np.int32(167), np.int32(857), np.int32(127), np.int32(373), np.int32(13), np.int32(277), np.int32(883), np.int32(821), np.int32(439), np.int32(61), np.int32(463)]\n"
     ]
    }
   ],
   "source": [
    "import numpy as np\n",
    "\n",
    "def is_prime(num):\n",
    "    \"\"\"Check if a number is prime.\"\"\"\n",
    "    if num < 2:\n",
    "        return False\n",
    "    for i in range(2, int(num**0.5) + 1):\n",
    "        if num % i == 0:\n",
    "            return False\n",
    "    return True\n",
    "\n",
    "# Generate a NumPy array of 100 random integers between 0 and 1000\n",
    "random_integers = np.random.randint(0, 1001, size=100)\n",
    "\n",
    "# Find all prime numbers in the array\n",
    "prime_numbers = [num for num in random_integers if is_prime(num)]\n",
    "\n",
    "# Display the random integers and the prime numbers\n",
    "print(\"Random Integers:\\n\", random_integers)\n",
    "print(\"\\nPrime Numbers:\", prime_numbers)\n"
   ]
  },
  {
   "cell_type": "markdown",
   "id": "92edf12c-8580-4fb2-af09-680f9d12ce5e",
   "metadata": {},
   "source": [
    "## Q10.Create a NumPy array representing daily temperatures for a month. Calculate and display the weekly averages."
   ]
  },
  {
   "cell_type": "markdown",
   "id": "e4228f47-490d-420a-ba72-db9bfcd71623",
   "metadata": {},
   "source": [
    "### Answer:-"
   ]
  },
  {
   "cell_type": "code",
   "execution_count": 68,
   "id": "27017190-6969-4de4-a651-95815ed22c8d",
   "metadata": {},
   "outputs": [
    {
     "name": "stdout",
     "output_type": "stream",
     "text": [
      "Daily Temperatures:\n",
      " [25.28240652 26.69994988 33.14872987 32.77517923 17.15098772 20.33448028\n",
      " 15.3966239  33.89472893 19.90762381 19.29418753 16.84254474 31.65019714\n",
      " 24.31244717 19.64393148 31.09537651 21.33917543 21.9582905  30.408023\n",
      " 26.16135407 28.13899694 23.79969301 20.40469415 25.65210176 26.35885684\n",
      " 27.92640325 26.18295954 29.60446707 15.87127674 30.50305837 33.52804093]\n",
      "\n",
      "Weekly Averages: [24.39833677 23.64938011 26.12870135 24.57153705]\n"
     ]
    }
   ],
   "source": [
    "import numpy as np\n",
    "\n",
    "# Create a NumPy array representing daily temperatures for a month (30 days)\n",
    "daily_temperatures = np.random.uniform(low=15, high=35, size=30)  # Temperatures between 15 and 35 degrees\n",
    "\n",
    "# Calculate weekly averages\n",
    "# Reshape the daily temperatures into a 4x7 array for 4 weeks (28 days)\n",
    "weekly_temperatures = daily_temperatures[:28].reshape(4, 7)\n",
    "\n",
    "# Calculate the average for each week\n",
    "weekly_averages = np.mean(weekly_temperatures, axis=1)\n",
    "\n",
    "# Display the daily temperatures and the weekly averages\n",
    "print(\"Daily Temperatures:\\n\", daily_temperatures)\n",
    "print(\"\\nWeekly Averages:\", weekly_averages)\n"
   ]
  },
  {
   "cell_type": "code",
   "execution_count": null,
   "id": "412d7e75-9721-4622-bf89-19aa31d1b76a",
   "metadata": {},
   "outputs": [],
   "source": []
  },
  {
   "cell_type": "markdown",
   "id": "b950a616-ee45-4332-8807-3d6c47974403",
   "metadata": {},
   "source": [
    "# THANK YOU"
   ]
  },
  {
   "cell_type": "code",
   "execution_count": null,
   "id": "6296f32b-ed7a-4561-acad-9a3d70589e66",
   "metadata": {},
   "outputs": [],
   "source": []
  }
 ],
 "metadata": {
  "kernelspec": {
   "display_name": "Python 3 (ipykernel)",
   "language": "python",
   "name": "python3"
  },
  "language_info": {
   "codemirror_mode": {
    "name": "ipython",
    "version": 3
   },
   "file_extension": ".py",
   "mimetype": "text/x-python",
   "name": "python",
   "nbconvert_exporter": "python",
   "pygments_lexer": "ipython3",
   "version": "3.12.5"
  }
 },
 "nbformat": 4,
 "nbformat_minor": 5
}
