{
 "cells": [
  {
   "cell_type": "markdown",
   "id": "1caa1dea-5afc-48d2-896c-ec27022b73e1",
   "metadata": {},
   "source": [
    "# Assignment 1 - (Python Basics ) - ( Module 3 )"
   ]
  },
  {
   "cell_type": "markdown",
   "id": "99b4030c-7cb0-42e2-9dc2-6cbf5851ed72",
   "metadata": {},
   "source": [
    "### Q1.Explain the key features of Python that make it a popular Choice for programming?"
   ]
  },
  {
   "cell_type": "markdown",
   "id": "23a41caa-2a7e-4e68-aaaa-49aa93a87b96",
   "metadata": {},
   "source": [
    "### Answer: "
   ]
  },
  {
   "cell_type": "markdown",
   "id": "2c9be35b-527d-4fdd-8f33-0af3157d3321",
   "metadata": {},
   "source": [
    "#### Python is popular for programming due to several key features:\n",
    "\n",
    "1) Easy-to-Learn Syntax: Python’s syntax is designed to be intuitive and readable. It uses indentation to define code blocks, which makes the code more visually organized and easier to understand. This simplicity is especially beneficial for beginners.\n",
    "\n",
    "Versatility and Flexibility: Python is a general-purpose language suitable for a wide range of applications, from web development and data analysis to artificial intelligence and scientific computing. Its versatility is supported by a large number of libraries and frameworks that extend its functionality.\n",
    "\n",
    "2) Extensive Standard Library: Python includes a comprehensive standard library that provides modules and functions for various tasks, such as file handling, networking, and data manipulation. This rich standard library allows developers to accomplish many tasks without needing to write additional code.\n",
    "\n",
    "Robust Ecosystem of Libraries and Frameworks: The Python ecosystem includes numerous third-party libraries and frameworks, such as NumPy, Pandas, TensorFlow, and Django. These tools facilitate rapid development and help in performing complex tasks efficiently.\n",
    "\n",
    "3) Community and Support: Python boasts a large and active community that contributes to a wealth of resources, including tutorials, documentation, and forums. This community support is invaluable for troubleshooting issues and staying updated with the latest advancements.\n",
    "\n",
    "4) Cross-Platform Compatibility: Python is compatible with major operating systems, including Windows, macOS, and Linux. This cross-platform nature ensures that Python programs can run on different systems with minimal modifications.\n",
    "\n",
    "5) Interpreted Language: Python is an interpreted language, meaning it executes code line by line. This feature simplifies debugging and allows for interactive programming and quick iterations.\n",
    "\n",
    "6) Dynamic Typing: Python uses dynamic typing, which means you don’t need to declare variable types explicitly. This flexibility allows for more adaptable and less verbose code.\n",
    "\n",
    "7) Integration Capabilities: Python integrates well with other programming languages and technologies, such as C, C++, and Java. This integration capability enables Python to be used in various environments and leverage existing systems.\n",
    "\n",
    "8) Support for Multiple Programming Paradigms: Python supports different programming paradigms, including procedural, object-oriented, and functional programming. This flexibility allows developers to choose the paradigm that best suits their needs.\n",
    "\n",
    "These features contribute to Python’s popularity, making it a preferred choice for both beginners and experienced developers."
   ]
  },
  {
   "cell_type": "markdown",
   "id": "86865c35-da16-4d05-9926-f1f12aa6f5dd",
   "metadata": {},
   "source": [
    "### Q2.Describe the role of predefined keywords in python and provide examples of how they are used in a program?"
   ]
  },
  {
   "cell_type": "markdown",
   "id": "5f5f0ce8-768b-487f-92a2-eeb4676f8653",
   "metadata": {},
   "source": [
    "#### Answer:"
   ]
  },
  {
   "cell_type": "markdown",
   "id": "4ebb975d-357f-4c0c-82aa-acb0df2f0662",
   "metadata": {},
   "source": [
    "#### Role of Predefined Keywords:\n",
    "\n",
    "Control Flow: Keywords like if, else, elif, for, while, and break control the flow of execution in a program.\n",
    "\n",
    "Data Types: Keywords such as True, False, None, int, float, and str define and represent data types and values.\n",
    "Function and Class Definitions: Keywords like def and class are used to define functions and classes, respectively.\n",
    "\n",
    "Exception Handling: Keywords such as try, except, finally, and raise are used for error handling and managing exceptions.\n",
    "    \n",
    "Logical Operations: Keywords like and, or, and not are used for logical operations.\n",
    "\n",
    "Memory Management: Keywords such as del help manage memory by deleting objects.\n",
    "\n",
    "Module Management: Keywords like import and from are used to include modules in a program."
   ]
  },
  {
   "cell_type": "code",
   "execution_count": 57,
   "id": "08eea915-fb96-4ee0-8c8e-59ae4ee3b8c7",
   "metadata": {},
   "outputs": [
    {
     "name": "stdout",
     "output_type": "stream",
     "text": [
      "You are an adult.\n"
     ]
    }
   ],
   "source": [
    "#### Examples of how keywords are used :\n",
    "#1) Control Flow: \n",
    "\n",
    "age = 18\n",
    "if age >= 18:\n",
    "    print(\"You are an adult.\")\n",
    "else:\n",
    "    print(\"You are a minor.\")\n",
    "#Here, if and else control the execution flow based on the condition."
   ]
  },
  {
   "cell_type": "code",
   "execution_count": 58,
   "id": "bad705b2-3f46-48c7-863e-521bbdeee5c0",
   "metadata": {},
   "outputs": [
    {
     "name": "stdout",
     "output_type": "stream",
     "text": [
      "0\n",
      "1\n",
      "2\n",
      "3\n",
      "4\n"
     ]
    }
   ],
   "source": [
    "#2) Looping\n",
    "\n",
    "for i in range(5):\n",
    "    print(i)\n"
   ]
  },
  {
   "cell_type": "code",
   "execution_count": 59,
   "id": "dfa7d2f4-430c-4ae9-9002-cbe029bcd4b1",
   "metadata": {},
   "outputs": [
    {
     "name": "stdout",
     "output_type": "stream",
     "text": [
      "Take an umbrella.\n"
     ]
    }
   ],
   "source": [
    "#3) Logical Operations\n",
    "is_raining = True\n",
    "is_sunny = False\n",
    "if is_raining and not is_sunny:\n",
    "    print(\"Take an umbrella.\")\n",
    "#The \"and\" and \"not\" keywords are used for logical conditions."
   ]
  },
  {
   "cell_type": "code",
   "execution_count": null,
   "id": "a17b1051-c80b-4589-acd1-3136f6a815f3",
   "metadata": {},
   "outputs": [],
   "source": []
  },
  {
   "cell_type": "code",
   "execution_count": null,
   "id": "8da2fb13-b123-49e0-ad68-fb7d8366dd39",
   "metadata": {},
   "outputs": [],
   "source": []
  },
  {
   "cell_type": "markdown",
   "id": "3ef8227b-1a1c-446a-a8a8-b7233df6be74",
   "metadata": {},
   "source": [
    "### Q3.Compare and contrast mutable and immutable objects in python with examples?\n",
    "\n"
   ]
  },
  {
   "cell_type": "markdown",
   "id": "4e0bfd1f-69b5-4766-ae0d-fd1b476fa735",
   "metadata": {},
   "source": [
    "#### Answer: \n",
    "In Python, objects can be categorized as either mutable or immutable based on whether their state \n",
    "(i.e., the value they hold) can be changed after they are created.\n",
    "Understanding the difference between mutable and immutable objects is important for writing efficient and bug-free code.\n",
    "\n"
   ]
  },
  {
   "cell_type": "markdown",
   "id": "dd2ca8e8-d96b-4d1b-bf31-61e9b97c1a0b",
   "metadata": {},
   "source": [
    "#### Mutable Objects:\n",
    "\n",
    "Definition: Mutable objects are those whose value or state can be changed after they are created.\n",
    "\n",
    "Examples: Lists, dictionaries, sets, and user-defined objects are common mutable types."
   ]
  },
  {
   "cell_type": "code",
   "execution_count": 60,
   "id": "371bf78d-f596-4f5f-beae-637a6586bce3",
   "metadata": {},
   "outputs": [
    {
     "name": "stdout",
     "output_type": "stream",
     "text": [
      "Original list: [1, 2, 3]\n",
      "Modified list: [1, 2, 3, 4]\n"
     ]
    },
    {
     "data": {
      "text/plain": [
       "'Explanation: In this example, my_list is a list (a mutable object). \\nWe start with the list [1, 2, 3], then modify it by appending the value 4. \\nThe original list is changed in place, and the new value is reflected in my_list'"
      ]
     },
     "execution_count": 60,
     "metadata": {},
     "output_type": "execute_result"
    }
   ],
   "source": [
    "#Example\n",
    "\n",
    "# List (mutable)\n",
    "my_list = [1, 2, 3]\n",
    "print(\"Original list:\", my_list)\n",
    "\n",
    "# Modifying the list\n",
    "my_list.append(4)\n",
    "print(\"Modified list:\", my_list)\n",
    "\n",
    "\"\"\"Explanation: In this example, my_list is a list (a mutable object). \n",
    "We start with the list [1, 2, 3], then modify it by appending the value 4. \n",
    "The original list is changed in place, and the new value is reflected in my_list\"\"\""
   ]
  },
  {
   "cell_type": "markdown",
   "id": "24ac196e-d7c5-4242-a901-7325e9a6b9eb",
   "metadata": {},
   "source": [
    "#### Immutable Objects:\n",
    "Definition: Immutable objects are those whose value or state cannot be changed after they are created.\n",
    "Any operation that alters the value of an immutable object will instead create a new object.\n",
    "Examples: Integers, floats, strings, tuples, and frozensets are common immutable types."
   ]
  },
  {
   "cell_type": "code",
   "execution_count": 61,
   "id": "796eabcd-2ef3-4f18-962f-f039414d3fb0",
   "metadata": {},
   "outputs": [
    {
     "name": "stdout",
     "output_type": "stream",
     "text": [
      "Original string: Hello\n",
      "New string: Hello World\n",
      "Original string after modification attempt: Hello\n"
     ]
    }
   ],
   "source": [
    "#Example\n",
    "\n",
    "# String (immutable)\n",
    "my_string = \"Hello\"\n",
    "print(\"Original string:\", my_string)\n",
    "\n",
    "# Attempting to modify the string\n",
    "new_string = my_string + \" World\"\n",
    "print(\"New string:\", new_string)\n",
    "print(\"Original string after modification attempt:\", my_string)\n",
    "\n",
    "#Explanation: In this example, my_string is a string (an immutable object).\n",
    "#When we attempt to modify it by adding \" World\", Python creates a new string new_string, and my_string remains unchanged.\n",
    "#The original string is not altered; instead, a new string is created."
   ]
  },
  {
   "cell_type": "code",
   "execution_count": null,
   "id": "49bbf94d-7ce1-4a31-ad8e-fd450a3114e9",
   "metadata": {},
   "outputs": [],
   "source": []
  },
  {
   "cell_type": "markdown",
   "id": "bbafda8e-9ca1-44e3-9b3d-9e7cdc70f7d3",
   "metadata": {},
   "source": [
    "### Q4. Discuss the different types of operators in Python and provide examples of how they are used?"
   ]
  },
  {
   "cell_type": "markdown",
   "id": "d52bcfbf-00e9-4d89-ac2c-708fe75ef590",
   "metadata": {},
   "source": [
    "#### Answer:\n",
    "\n",
    "In Python, operators are special symbols that perform operations on variables and values.\n",
    "Python supports several types of operators, each serving a different purpose.\n",
    "Here’s an overview of the main types of operators and examples of how they are used:"
   ]
  },
  {
   "cell_type": "markdown",
   "id": "cb384f09-fb32-497f-9469-49180a4f3919",
   "metadata": {},
   "source": [
    "#### 1. Arithmetic Operators:\n",
    "Arithmetic operators are used to perform basic mathematical operations."
   ]
  },
  {
   "cell_type": "code",
   "execution_count": 62,
   "id": "d469fba8-ae8b-4dcc-be02-b00b4557c569",
   "metadata": {},
   "outputs": [
    {
     "name": "stdout",
     "output_type": "stream",
     "text": [
      "8\n"
     ]
    }
   ],
   "source": [
    "#Addition\n",
    "a = 5\n",
    "b = 3\n",
    "print(a + b) \n"
   ]
  },
  {
   "cell_type": "code",
   "execution_count": 63,
   "id": "d078b75c-6789-4a98-a686-a06cdfc14f58",
   "metadata": {},
   "outputs": [
    {
     "name": "stdout",
     "output_type": "stream",
     "text": [
      "2\n"
     ]
    }
   ],
   "source": [
    "#Subtraction\n",
    "print(a - b)  \n"
   ]
  },
  {
   "cell_type": "code",
   "execution_count": 64,
   "id": "69400749-43cb-4124-b71f-47811efd93cc",
   "metadata": {},
   "outputs": [
    {
     "name": "stdout",
     "output_type": "stream",
     "text": [
      "15\n"
     ]
    }
   ],
   "source": [
    "#Multiplication\n",
    "print(a * b)  \n"
   ]
  },
  {
   "cell_type": "code",
   "execution_count": 65,
   "id": "f879b1c0-7b50-4d8d-adf9-6d568ebd0a40",
   "metadata": {},
   "outputs": [
    {
     "name": "stdout",
     "output_type": "stream",
     "text": [
      "1.6666666666666667\n"
     ]
    }
   ],
   "source": [
    "#Division\n",
    "print(a / b)\n"
   ]
  },
  {
   "cell_type": "code",
   "execution_count": 66,
   "id": "8ecd7921-9b60-4711-a005-d99b6bc024d1",
   "metadata": {},
   "outputs": [
    {
     "name": "stdout",
     "output_type": "stream",
     "text": [
      "2\n"
     ]
    }
   ],
   "source": [
    "#Modulus\n",
    "print(a % b)  \n",
    "\n",
    "# Output: 2\n",
    "#Remainder"
   ]
  },
  {
   "cell_type": "markdown",
   "id": "a51e5b0e-b00a-47be-a719-a0bf6e5e1943",
   "metadata": {},
   "source": [
    "#### 2. Comparison (Relational) Operators:\n",
    "Comparison operators are used to compare two values. They return a boolean value (True or False)."
   ]
  },
  {
   "cell_type": "code",
   "execution_count": 67,
   "id": "30f61aca-5c0a-4676-a569-055873257017",
   "metadata": {},
   "outputs": [
    {
     "name": "stdout",
     "output_type": "stream",
     "text": [
      "False\n"
     ]
    }
   ],
   "source": [
    "#Equal To\n",
    "\n",
    "print(a == b)  # Output: False\n"
   ]
  },
  {
   "cell_type": "code",
   "execution_count": 68,
   "id": "5ee12a37-f735-414b-a489-0c56c247aa49",
   "metadata": {},
   "outputs": [
    {
     "name": "stdout",
     "output_type": "stream",
     "text": [
      "True\n"
     ]
    }
   ],
   "source": [
    "#Not Equal To\n",
    "print(a != b)  # Output: True\n"
   ]
  },
  {
   "cell_type": "code",
   "execution_count": 69,
   "id": "fbb5b476-5fd7-4227-bea5-59d872c11742",
   "metadata": {},
   "outputs": [
    {
     "name": "stdout",
     "output_type": "stream",
     "text": [
      "True\n"
     ]
    }
   ],
   "source": [
    "#Greater Than\n",
    "print(a>b) #Output:True"
   ]
  },
  {
   "cell_type": "code",
   "execution_count": 70,
   "id": "4b29f3db-a30c-4709-8bbc-f03bf563f903",
   "metadata": {},
   "outputs": [
    {
     "name": "stdout",
     "output_type": "stream",
     "text": [
      "False\n"
     ]
    }
   ],
   "source": [
    "#Less Than\n",
    "\n",
    "print(a<b) #Output:True"
   ]
  },
  {
   "cell_type": "markdown",
   "id": "e5f9c91e-e36d-4068-bccf-d8adc0f75b5e",
   "metadata": {},
   "source": [
    "#### 3. Logical Operators:\n",
    "Logical operators are used to perform logical operations on boolean values."
   ]
  },
  {
   "cell_type": "code",
   "execution_count": 71,
   "id": "4383c8c2-b9c0-4dab-a07e-2aa1743f8257",
   "metadata": {},
   "outputs": [
    {
     "name": "stdout",
     "output_type": "stream",
     "text": [
      "False\n"
     ]
    }
   ],
   "source": [
    "#AND (and): Returns True if both operands are true\n",
    "x = True\n",
    "y = False\n",
    "print(x and y)  # Output: False\n"
   ]
  },
  {
   "cell_type": "code",
   "execution_count": 72,
   "id": "86a81eb2-d7c6-457a-82c4-73dbfadb5784",
   "metadata": {},
   "outputs": [
    {
     "name": "stdout",
     "output_type": "stream",
     "text": [
      "True\n"
     ]
    }
   ],
   "source": [
    "#OR (or): Returns True if at least one operand is true.\n",
    "\n",
    "print(x or y)  # Output: True\n"
   ]
  },
  {
   "cell_type": "code",
   "execution_count": 73,
   "id": "dd9e9852-d3e2-4582-9c3f-b006dc22d08a",
   "metadata": {},
   "outputs": [
    {
     "name": "stdout",
     "output_type": "stream",
     "text": [
      "False\n"
     ]
    }
   ],
   "source": [
    "#NOT (not): Reverses the boolean value of the operand.\n",
    "\n",
    "print(not x)  # Output: False\n"
   ]
  },
  {
   "cell_type": "markdown",
   "id": "dcda7628-a0f1-41a2-8793-259ecf028d74",
   "metadata": {},
   "source": [
    "#### 4. Assignment Operators:\n",
    "Assignment operators are used to assign values to variables."
   ]
  },
  {
   "cell_type": "code",
   "execution_count": 74,
   "id": "8074002c-a0cc-4f9e-9b2c-b07ca7172370",
   "metadata": {},
   "outputs": [],
   "source": [
    "#Basic Assignment (=): Assigns the value on the right to the variable on the left.\n",
    "\n",
    "a = 10"
   ]
  },
  {
   "cell_type": "code",
   "execution_count": 75,
   "id": "bd2559ea-31ed-4479-b66b-970893b5e7e9",
   "metadata": {},
   "outputs": [
    {
     "name": "stdout",
     "output_type": "stream",
     "text": [
      "15\n"
     ]
    }
   ],
   "source": [
    "#Add and Assign (+=): Adds the right operand to the left operand and assigns the result to the left operand.\n",
    "\n",
    "a += 5  # Equivalent to a = a + 5\n",
    "print(a)  # Output: 15\n"
   ]
  },
  {
   "cell_type": "code",
   "execution_count": 76,
   "id": "96e1f7f8-4c0b-43e8-a62c-b746432396bc",
   "metadata": {},
   "outputs": [
    {
     "name": "stdout",
     "output_type": "stream",
     "text": [
      "12\n"
     ]
    }
   ],
   "source": [
    "#Subtract and Assign (-=): Subtracts the right operand from the left operand and assigns the result to the left operand\n",
    "\n",
    "a -= 3  # Equivalent to a = a - 3\n",
    "print(a)  # Output: 12\n"
   ]
  },
  {
   "cell_type": "code",
   "execution_count": 77,
   "id": "f9c328fa-5b69-4e76-b6a8-cf706b099f30",
   "metadata": {},
   "outputs": [
    {
     "name": "stdout",
     "output_type": "stream",
     "text": [
      "24\n"
     ]
    }
   ],
   "source": [
    "#Multiply and Assign (*=): Multiplies the right operand with the left operand and assigns the result to the left operand.\n",
    "\n",
    "a *= 2  # Equivalent to a = a * 2\n",
    "print(a)  # Output: 24\n"
   ]
  },
  {
   "cell_type": "code",
   "execution_count": 78,
   "id": "982cbc51-ad09-4040-a41e-87cf89651aae",
   "metadata": {},
   "outputs": [
    {
     "name": "stdout",
     "output_type": "stream",
     "text": [
      "6.0\n"
     ]
    }
   ],
   "source": [
    "#Divide and Assign (/=): Divides the left operand by the right operand and assigns the result to the left operand.\n",
    "\n",
    "a /= 4  # Equivalent to a = a / 4\n",
    "print(a)  # Output: 6.0\n"
   ]
  },
  {
   "cell_type": "code",
   "execution_count": null,
   "id": "eff48b33-72a9-42b3-90a0-ba87396c9dce",
   "metadata": {},
   "outputs": [],
   "source": []
  },
  {
   "cell_type": "code",
   "execution_count": null,
   "id": "3e960c96-89d8-428f-a2f6-0f1b7c6726fa",
   "metadata": {},
   "outputs": [],
   "source": []
  },
  {
   "cell_type": "markdown",
   "id": "a0ba10a7-3c4c-4a9e-b731-d3ee8f3237fc",
   "metadata": {},
   "source": [
    "### Q5. Explain the concept of type casting in python with examples?"
   ]
  },
  {
   "cell_type": "markdown",
   "id": "a1715f2a-6e67-4871-b426-88daa60f61a2",
   "metadata": {},
   "source": [
    "#### Answer:\n",
    "Type casting in Python, also known as type conversion, refers to the process of converting a variable from one data type to another. \n",
    "This is often necessary when you need to perform operations that require specific data types,\n",
    "or when you need to ensure that data is handled in a consistent way.\n",
    "\n",
    "Types of Type Casting:\n",
    "\n",
    "Implicit Type Casting:\n",
    "\n",
    "This occurs automatically in Python when the interpreter converts one data type to another during an operation.\n",
    "Python handles the conversion in such a way that there is no loss of data or precision.\n",
    "\n",
    "\n",
    "Explicit Type Casting:\n",
    "\n",
    "This is done manually by the programmer using predefined functions to convert data types explicitly.\n",
    "It is necessary when you want to control how the conversion is done or when Python does not automatically convert the types."
   ]
  },
  {
   "cell_type": "markdown",
   "id": "14d71d6e-864e-46e8-aa9e-48db650348ff",
   "metadata": {},
   "source": [
    "#### Implicit Type Casting:\n",
    "Python automatically converts smaller data types to larger data types during arithmetic operations to avoid data loss."
   ]
  },
  {
   "cell_type": "code",
   "execution_count": 79,
   "id": "4a3dc90d-b52d-4c70-bc6c-bca2a202a565",
   "metadata": {},
   "outputs": [
    {
     "name": "stdout",
     "output_type": "stream",
     "text": [
      "7.0\n",
      "<class 'float'>\n"
     ]
    },
    {
     "data": {
      "text/plain": [
       "'In this example, Python automatically converts the integer a to a float before performing the addition,resulting in a float. \\nThis is implicit type casting.'"
      ]
     },
     "execution_count": 79,
     "metadata": {},
     "output_type": "execute_result"
    }
   ],
   "source": [
    "#Example\n",
    "\n",
    "a = 5   # Integer\n",
    "b = 2.0 # Float\n",
    "\n",
    "result = a + b  # Integer + Float\n",
    "\n",
    "print(result)  # Output: 7.0\n",
    "print(type(result))  # Output: <class 'float'>\n",
    "\n",
    "#Explanation:\n",
    "\n",
    "\"\"\"In this example, Python automatically converts the integer a to a float before performing the addition,resulting in a float. \n",
    "This is implicit type casting.\"\"\""
   ]
  },
  {
   "cell_type": "markdown",
   "id": "e45c891d-5de1-43da-adbe-7416f8c628d1",
   "metadata": {},
   "source": [
    "#### Explicit Type Casting:\n",
    "In explicit type casting, the programmer converts data from one type to another using type conversion functions like int(), float(), str(), etc."
   ]
  },
  {
   "cell_type": "code",
   "execution_count": 80,
   "id": "71aad4f9-4bce-48f4-bad7-b2586c426a2f",
   "metadata": {},
   "outputs": [
    {
     "name": "stdout",
     "output_type": "stream",
     "text": [
      "3\n",
      "<class 'int'>\n"
     ]
    },
    {
     "data": {
      "text/plain": [
       "'Explanation: Here, the float 3.14 is explicitly converted to an integer using the int() function.\\nNote that this conversion truncates the decimal part, leaving only the integer part.'"
      ]
     },
     "execution_count": 80,
     "metadata": {},
     "output_type": "execute_result"
    }
   ],
   "source": [
    "#Example 1: Converting Float to Integer\n",
    "\n",
    "a = 3.14\n",
    "b = int(a)\n",
    "\n",
    "print(b)  # Output: 3\n",
    "print(type(b))  # Output: <class 'int'>\n",
    "\n",
    "\"\"\"Explanation: Here, the float 3.14 is explicitly converted to an integer using the int() function.\n",
    "Note that this conversion truncates the decimal part, leaving only the integer part.\"\"\""
   ]
  },
  {
   "cell_type": "code",
   "execution_count": 81,
   "id": "fda9eb2f-e7b6-4e59-890f-752124cf347e",
   "metadata": {},
   "outputs": [
    {
     "name": "stdout",
     "output_type": "stream",
     "text": [
      "100\n",
      "<class 'int'>\n"
     ]
    },
    {
     "data": {
      "text/plain": [
       "'The string \"100\" is converted to an integer using the int() function. \\nThis is useful when dealing with numeric data stored as strings that need to be used in mathematical operations.'"
      ]
     },
     "execution_count": 81,
     "metadata": {},
     "output_type": "execute_result"
    }
   ],
   "source": [
    "#Example 2: Converting String to Integer\n",
    "\n",
    "s = \"100\"\n",
    "n = int(s)\n",
    "\n",
    "print(n)  # Output: 100\n",
    "print(type(n))  # Output: <class 'int'>\n",
    "\n",
    "#Explanation: \n",
    "\"\"\"The string \"100\" is converted to an integer using the int() function. \n",
    "This is useful when dealing with numeric data stored as strings that need to be used in mathematical operations.\"\"\""
   ]
  },
  {
   "cell_type": "code",
   "execution_count": 82,
   "id": "c0cd5c23-fdd4-473e-bf70-12032cf84e29",
   "metadata": {},
   "outputs": [
    {
     "name": "stdout",
     "output_type": "stream",
     "text": [
      "50\n",
      "<class 'str'>\n"
     ]
    },
    {
     "data": {
      "text/plain": [
       "'Here, the integer 50 is converted to a string using the str() function. \\nThis is useful when you need to concatenate numbers with strings.'"
      ]
     },
     "execution_count": 82,
     "metadata": {},
     "output_type": "execute_result"
    }
   ],
   "source": [
    "#Example 3: Converting Integer to String\n",
    "\n",
    "num = 50\n",
    "s = str(num)\n",
    "\n",
    "print(s)  # Output: \"50\"\n",
    "print(type(s))  # Output: <class 'str'>\n",
    "\n",
    "#Explanation: \n",
    "\"\"\"Here, the integer 50 is converted to a string using the str() function. \n",
    "This is useful when you need to concatenate numbers with strings.\"\"\""
   ]
  },
  {
   "cell_type": "code",
   "execution_count": null,
   "id": "61a286bb-4ebb-4973-a22a-b10ab0b5ad2d",
   "metadata": {},
   "outputs": [],
   "source": []
  },
  {
   "cell_type": "code",
   "execution_count": null,
   "id": "c30768aa-77a8-4c32-b6ff-bb5f2009f416",
   "metadata": {},
   "outputs": [],
   "source": []
  },
  {
   "cell_type": "code",
   "execution_count": null,
   "id": "b7e213d7-15d4-4820-a5b6-305e77e29458",
   "metadata": {},
   "outputs": [],
   "source": []
  },
  {
   "cell_type": "markdown",
   "id": "a031d9f0-b620-49eb-beec-008345d622bf",
   "metadata": {},
   "source": [
    "### Q6. How do Conditional statements work in python? Illustrate with examples."
   ]
  },
  {
   "cell_type": "markdown",
   "id": "1370030a-e4b8-4d24-9caf-a5dc4c629057",
   "metadata": {},
   "source": [
    "#### Answer:\n",
    "Conditional statements in Python allow you to control the flow of your program by executing certain blocks of code only if specific conditions are met.\n",
    "These statements evaluate expressions that return True or False and execute code based on these evaluations.\n",
    "\n",
    "Key Conditional Statements in Python:\n",
    "\n",
    "if statement\n",
    "\n",
    "if-else statement\n",
    "\n",
    "elif statement\n"
   ]
  },
  {
   "cell_type": "markdown",
   "id": "33c8f743-3195-4800-8991-9f27aecd8ce8",
   "metadata": {},
   "source": [
    "#### 1. if Statement:\n",
    "The if statement is used to test a condition. \n",
    "If the condition is True, the code block under the if statement is executed."
   ]
  },
  {
   "cell_type": "code",
   "execution_count": 83,
   "id": "e404fc57-ced6-43bb-bf1d-3702d40cdbe5",
   "metadata": {},
   "outputs": [
    {
     "name": "stdout",
     "output_type": "stream",
     "text": [
      "You are eligible to vote.\n"
     ]
    }
   ],
   "source": [
    "#Example\n",
    "\n",
    "age = 18\n",
    "\n",
    "if age >= 18:\n",
    "    print(\"You are eligible to vote.\")\n",
    "\n",
    "#Explanation: In this example, the condition age >= 18 is checked. Since the condition is True, the message \"You are eligible to vote.\" is printed."
   ]
  },
  {
   "cell_type": "markdown",
   "id": "8a668465-fca8-4bde-8432-0547be027edd",
   "metadata": {},
   "source": [
    "#### 2. if-else Statement:\n",
    "The if-else statement provides an alternative action if the if condition is False"
   ]
  },
  {
   "cell_type": "code",
   "execution_count": 84,
   "id": "42b9db1e-4dca-45c7-b64b-c7c6135d4351",
   "metadata": {},
   "outputs": [
    {
     "name": "stdout",
     "output_type": "stream",
     "text": [
      "You are not eligible to vote.\n"
     ]
    }
   ],
   "source": [
    "#Example\n",
    "\n",
    "age = 16\n",
    "\n",
    "if age >= 18:\n",
    "    print(\"You are eligible to vote.\")\n",
    "else:\n",
    "    print(\"You are not eligible to vote.\")\n",
    "\n",
    "#Explanation: Here, the condition age >= 18 is False, so the code block under the else statement is executed, printing \"You are not eligible to vote.\""
   ]
  },
  {
   "cell_type": "markdown",
   "id": "f1f4ae25-7050-475a-a031-d8b492d85237",
   "metadata": {},
   "source": [
    "#### 3. elif Statement:\n",
    "The elif (short for \"else if\") statement allows you to check multiple conditions.\n",
    "    \n",
    "It is used after an if statement and before an else statement.\n",
    "\n",
    "If the initial if condition is False, the elif condition is checked, and so on."
   ]
  },
  {
   "cell_type": "code",
   "execution_count": 85,
   "id": "5590b97e-4d34-4a90-b967-d04110fedb86",
   "metadata": {},
   "outputs": [
    {
     "name": "stdout",
     "output_type": "stream",
     "text": [
      "Grade: B\n"
     ]
    },
    {
     "data": {
      "text/plain": [
       "'In this example, the first condition marks >= 90 is False, so Python checks the elif condition marks >= 75, which is True.\\nTherefore, it prints \"Grade: B\". If all conditions were False, the else block would execute.'"
      ]
     },
     "execution_count": 85,
     "metadata": {},
     "output_type": "execute_result"
    }
   ],
   "source": [
    "#Example\n",
    "\n",
    "\n",
    "marks = 75\n",
    "\n",
    "if marks >= 90:\n",
    "    print(\"Grade: A\")\n",
    "elif marks >= 75:\n",
    "    print(\"Grade: B\")\n",
    "elif marks >= 50:\n",
    "    print(\"Grade: C\")\n",
    "else:\n",
    "    print(\"Grade: F\")\n",
    "\n",
    "#Explanation: \n",
    "\"\"\"In this example, the first condition marks >= 90 is False, so Python checks the elif condition marks >= 75, which is True.\n",
    "Therefore, it prints \"Grade: B\". If all conditions were False, the else block would execute.\"\"\""
   ]
  },
  {
   "cell_type": "code",
   "execution_count": null,
   "id": "2b633aac-a175-456e-862d-0d0218c7c784",
   "metadata": {},
   "outputs": [],
   "source": []
  },
  {
   "cell_type": "code",
   "execution_count": null,
   "id": "9142fdbb-effc-4e73-9c31-aaab7937ba9b",
   "metadata": {},
   "outputs": [],
   "source": []
  },
  {
   "cell_type": "markdown",
   "id": "b3b0f1ee-ea84-4c77-a87d-0b6484979b1b",
   "metadata": {},
   "source": [
    "### Q7. Describe the different types of loops in python and their use cases with examples?"
   ]
  },
  {
   "cell_type": "markdown",
   "id": "005a2006-e4bb-4241-9bfa-bfb78f733a02",
   "metadata": {},
   "source": [
    "#### Answer:\n",
    "In Python, loops are used to repeatedly execute a block of code as long as a specified condition is true. \n",
    "\n",
    "There are two main types of loops in Python: for loops and while loops.\n",
    "\n",
    "Each type serves different use cases depending on the scenario."
   ]
  },
  {
   "cell_type": "markdown",
   "id": "76d1b66b-2bb8-401e-8d9a-6d84d1254296",
   "metadata": {},
   "source": [
    "#### 1. for Loop:\n",
    "A for loop in Python is used to iterate over a sequence (such as a list, tuple, dictionary, set, or string) or other iterable objects.\n",
    "It executes a block of code for each item in the sequence."
   ]
  },
  {
   "cell_type": "code",
   "execution_count": 86,
   "id": "6e16a864-eb0b-4690-ab11-38418fe39c57",
   "metadata": {},
   "outputs": [
    {
     "name": "stdout",
     "output_type": "stream",
     "text": [
      "apple\n",
      "banana\n",
      "cherry\n"
     ]
    }
   ],
   "source": [
    "#Example\n",
    "\n",
    "fruits = [\"apple\", \"banana\", \"cherry\"]\n",
    "\n",
    "for fruit in fruits:\n",
    "    print(fruit)\n",
    "\n",
    "#Explanation: The for loop iterates through each item in the list fruits, printing each fruit name."
   ]
  },
  {
   "cell_type": "markdown",
   "id": "8554fbbe-a5d0-44be-a62b-cca182a685d3",
   "metadata": {},
   "source": [
    "#### 2. while Loop:\n",
    "A while loop in Python repeatedly executes a block of code as long as the specified condition is true.\n",
    "    \n",
    "It is typically used when the number of iterations is not known beforehand."
   ]
  },
  {
   "cell_type": "code",
   "execution_count": 87,
   "id": "84203502-df83-4cf4-b236-0e555d608c3b",
   "metadata": {},
   "outputs": [
    {
     "name": "stdout",
     "output_type": "stream",
     "text": [
      "5\n",
      "4\n",
      "3\n",
      "2\n",
      "1\n",
      "Blast off!\n"
     ]
    }
   ],
   "source": [
    "#Example\n",
    "\n",
    "countdown = 5\n",
    "\n",
    "while countdown > 0:\n",
    "    print(countdown)\n",
    "    countdown -= 1\n",
    "print(\"Blast off!\")\n",
    "#Explanation: The while loop counts down from 5 to 1 and prints \"Blast off!\" when the countdown reaches zero."
   ]
  },
  {
   "cell_type": "code",
   "execution_count": null,
   "id": "848109db-ee8f-45b7-9795-345d69f97b54",
   "metadata": {},
   "outputs": [],
   "source": []
  },
  {
   "cell_type": "code",
   "execution_count": null,
   "id": "af545ec4-b851-4386-9b9f-4be08bb33c68",
   "metadata": {},
   "outputs": [],
   "source": []
  },
  {
   "cell_type": "code",
   "execution_count": null,
   "id": "5883d87d-b718-4bd8-8165-59e57c180079",
   "metadata": {},
   "outputs": [],
   "source": []
  },
  {
   "cell_type": "markdown",
   "id": "502528b8-5949-4e81-b14b-49143a076869",
   "metadata": {},
   "source": [
    "# THANK YOU"
   ]
  }
 ],
 "metadata": {
  "kernelspec": {
   "display_name": "Python 3 (ipykernel)",
   "language": "python",
   "name": "python3"
  },
  "language_info": {
   "codemirror_mode": {
    "name": "ipython",
    "version": 3
   },
   "file_extension": ".py",
   "mimetype": "text/x-python",
   "name": "python",
   "nbconvert_exporter": "python",
   "pygments_lexer": "ipython3",
   "version": "3.12.5"
  }
 },
 "nbformat": 4,
 "nbformat_minor": 5
}
