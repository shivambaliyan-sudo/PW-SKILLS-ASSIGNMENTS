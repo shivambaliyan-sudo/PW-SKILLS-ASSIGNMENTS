{
 "cells": [
  {
   "cell_type": "markdown",
   "id": "5215ca03-4392-4590-890f-932d0a0daa24",
   "metadata": {},
   "source": [
    "# Statistics Advance - Assignment"
   ]
  },
  {
   "cell_type": "markdown",
   "id": "9524cad2-99d1-43cb-8113-a71f53e7efc1",
   "metadata": {},
   "source": [
    "## Question 1: Define the z-statistic and explain its relationship to the standard normal distribution. How is the z-statistic used in hypothesis testing?"
   ]
  },
  {
   "cell_type": "markdown",
   "id": "f916dc32-cc74-4b3a-a181-e24df5a972cf",
   "metadata": {},
   "source": [
    "### Answer: "
   ]
  },
  {
   "cell_type": "markdown",
   "id": "eaea3463-866c-4652-a8f5-832bc069d647",
   "metadata": {},
   "source": [
    "#### The z-statistic (or z-score) is a measure of how many standard deviations a data point is from the population mean. The formula for the z-score is:"
   ]
  },
  {
   "cell_type": "code",
   "execution_count": 3,
   "id": "7e08abf9-8cd5-47a3-8c3a-515bddc2dd72",
   "metadata": {},
   "outputs": [
    {
     "data": {
      "image/png": "[encoded data removed]",
      "text/plain": [
       "<IPython.core.display.Image object>"
      ]
     },
     "metadata": {},
     "output_type": "display_data"
    }
   ],
   "source": [
    "from IPython.display import Image, display\n",
    "\n",
    "# Load and display the image\n",
    "img_path = r'C:\\Users\\Jotiba\\OneDrive\\Desktop\\Assignment Images of Statistics\\advance image 1.png'\n",
    "display(Image(filename=img_path))\n"
   ]
  },
  {
   "cell_type": "markdown",
   "id": "4e992f86-7013-4650-ace6-cb5d46e74d5b",
   "metadata": {},
   "source": [
    "#### Where:\n",
    "\n",
    "\n",
    "X = sample mean\n",
    "\n",
    "μ = population mean\n",
    "\n",
    "σ = population standard deviation\n",
    "\n",
    "In hypothesis testing, the z-statistic helps determine the probability that a sample mean belongs to the population under the null hypothesis. If the z-score falls far from 0 (outside of the critical region), it may suggest that the null hypothesis is false."
   ]
  },
  {
   "cell_type": "markdown",
   "id": "7c271d48-74fb-412f-9cf1-631e3885f1a8",
   "metadata": {},
   "source": [
    "## Question 2: What is a p-value, and how is it used in hypothesis testing? What does it mean if the p-value is very small (e.g., 0.01)?"
   ]
  },
  {
   "cell_type": "markdown",
   "id": "d287e3b7-4ab8-448b-ba16-72b3c493ef3b",
   "metadata": {},
   "source": [
    "### Answer:"
   ]
  },
  {
   "cell_type": "markdown",
   "id": "12ae336a-7734-4c0d-8600-305351443bab",
   "metadata": {},
   "source": [
    "#### The p-value represents the probability of obtaining a result at least as extreme as the observed data, assuming the null hypothesis is true."
   ]
  },
  {
   "cell_type": "markdown",
   "id": "1203a750-cc12-4deb-9ddf-9795139f0b3b",
   "metadata": {},
   "source": [
    "#### In hypothesis testing:\n",
    "\n",
    "If the p-value is small (e.g., 0.01), it means the observed result is unlikely under the null hypothesis, and we may reject the null hypothesis.\n",
    "\n",
    "If the p-value is larger than the significance level (usually 0.05), we fail to reject the null hypothesis."
   ]
  },
  {
   "cell_type": "markdown",
   "id": "8aeea326-411d-44dd-b4db-ccfe13372e16",
   "metadata": {},
   "source": [
    "#### A very small p-value (e.g., 0.01) indicates strong evidence against the null hypothesis, suggesting that the observed data is unlikely to occur if the null hypothesis is true.\n",
    "\n"
   ]
  },
  {
   "cell_type": "markdown",
   "id": "4903acc5-7691-4c49-9b09-e5ed4e815e10",
   "metadata": {},
   "source": [
    "## Question 3: Compare and contrast the binomial and Bernoulli distributions."
   ]
  },
  {
   "cell_type": "markdown",
   "id": "bf44e8a8-2924-4198-b651-add711055e5f",
   "metadata": {},
   "source": [
    "### Answer:-"
   ]
  },
  {
   "cell_type": "markdown",
   "id": "e814d6b5-902e-4fee-a1a3-67f0353bbc4f",
   "metadata": {},
   "source": [
    "#### \n",
    "Bernoulli distribution models a single trial with only two possible outcomes: success (with probability p) or failure (with probability 1−p).\n",
    "\n",
    "Binomial distribution represents the number of successes in n independent Bernoulli trials, where each trial has the same probability of success."
   ]
  },
  {
   "cell_type": "markdown",
   "id": "86f29430-d3c9-4ed4-9243-8f248e9b8e15",
   "metadata": {},
   "source": [
    "#### Key Differences:\n",
    "\n",
    "Bernoulli is for a single trial, while Binomial is for multiple trials.\n",
    "\n",
    "The Bernoulli distribution is a special case of the Binomial distribution with\n",
    "n=1."
   ]
  },
  {
   "cell_type": "markdown",
   "id": "003a589b-e194-4206-bdbe-5acde8938e1a",
   "metadata": {},
   "source": [
    "## Question 4: Under what conditions is the binomial distribution used, and how does it relate to the Bernoulli distribution?"
   ]
  },
  {
   "cell_type": "markdown",
   "id": "574b1f51-1c55-469a-a5d5-01b357eb41f5",
   "metadata": {},
   "source": [
    "### Answer:-"
   ]
  },
  {
   "cell_type": "markdown",
   "id": "de88256a-dc2a-4694-83ce-667d4c53f5f2",
   "metadata": {},
   "source": [
    "#### The binomial distribution is used when:\n",
    "\n",
    "There is a fixed number of independent trials (n).\n",
    "\n",
    "Each trial has only two outcomes: success or failure.\n",
    "\n",
    "The probability of success p is the same for each trial.\n",
    "\n",
    "It relates to the Bernoulli distribution because each trial in a binomial distribution is essentially a Bernoulli trial. The binomial distribution sums up the results of n independent Bernoulli trials."
   ]
  },
  {
   "cell_type": "markdown",
   "id": "eab06f31-bdbb-4306-ad89-f5005d1ca0f5",
   "metadata": {},
   "source": [
    "## Question 5: What are the key properties of the Poisson distribution, and when is it appropriate to use this distribution?"
   ]
  },
  {
   "cell_type": "markdown",
   "id": "6d64a8d8-f23a-49f7-ab13-da01593afde1",
   "metadata": {},
   "source": [
    "### Answer:-"
   ]
  },
  {
   "cell_type": "markdown",
   "id": "da3da954-2d02-4ef7-8533-89070ec0e7e7",
   "metadata": {},
   "source": [
    "#### \n",
    "The Poisson distribution describes the probability of a given number of events happening in a fixed interval of time or space, under the following conditions:\n",
    "\n",
    "Events occur independently.\n",
    "\n",
    "The rate at which events occur is constant.\n",
    "\n",
    "Two events cannot occur simultaneously.\n",
    "    \n",
    "It is used when modeling the number of occurrences of rare events within a specific time or space, such as the number of accidents at an intersection in a day."
   ]
  },
  {
   "cell_type": "markdown",
   "id": "a3dd03c9-12eb-4881-820b-4b58e874a931",
   "metadata": {},
   "source": [
    "## Question 6: Define the terms \"probability distribution\" and \"probability density function\" (PDF). How does a PDF differ from a probability mass function (PMF)?"
   ]
  },
  {
   "cell_type": "markdown",
   "id": "b8a242c8-17a4-48da-9fdb-4d16d6b23e71",
   "metadata": {},
   "source": [
    "#### Answer:-"
   ]
  },
  {
   "cell_type": "markdown",
   "id": "6d2ffaf2-ca0c-4b8f-bfe6-0df04e998ded",
   "metadata": {},
   "source": [
    "####\n",
    "A probability distribution describes how the probabilities are distributed over the values of a random variable.\n",
    "\n",
    "A probability density function (PDF) is a function that describes the likelihood of a continuous random variable taking on a range of values."
   ]
  },
  {
   "cell_type": "markdown",
   "id": "bf38f569-8c10-4d65-b787-938119992ab5",
   "metadata": {},
   "source": [
    "#### A PDF differs from a probability mass function (PMF) in that:"
   ]
  },
  {
   "cell_type": "markdown",
   "id": "5003642e-d500-4d4f-a8c6-24ae64c76372",
   "metadata": {},
   "source": [
    "####\n",
    "PMF applies to discrete random variables and assigns probabilities to specific outcomes.\n",
    "\n",
    "PDF applies to continuous random variables and represents probabilities over an interval, requiring integration to find specific probabilities."
   ]
  },
  {
   "cell_type": "markdown",
   "id": "ab3d6f36-550b-4da8-9614-a7543e7bf4d0",
   "metadata": {},
   "source": [
    "## Question 7: Explain the Central Limit Theorem (CLT) with an example."
   ]
  },
  {
   "cell_type": "markdown",
   "id": "5bac8754-4cfd-4f9a-ab43-01194466f473",
   "metadata": {},
   "source": [
    "#### Answer:-"
   ]
  },
  {
   "cell_type": "markdown",
   "id": "7e542ca1-94e0-45b7-b649-5e3a8f269cbf",
   "metadata": {},
   "source": [
    "#### \n",
    "The Central Limit Theorem (CLT) states that, regardless of the population distribution, the sampling distribution of the sample mean will approach a normal distribution as the sample size becomes large, provided the samples are independent and identically distributed."
   ]
  },
  {
   "cell_type": "markdown",
   "id": "223b1106-025d-44c9-a937-f40e4155017e",
   "metadata": {},
   "source": [
    "#### Example: \n",
    "If we take random samples of size n from a population with any distribution, the distribution of the sample means will become approximately normal as n increases."
   ]
  },
  {
   "cell_type": "markdown",
   "id": "17e7a45b-c31a-4086-bc8f-523f0e0d89be",
   "metadata": {},
   "source": [
    "## Question 8: Compare z-scores and t-scores. When should you use a z-score, and when should a t-score be applied instead?"
   ]
  },
  {
   "cell_type": "markdown",
   "id": "6f4c503a-e260-476a-a993-018368d00667",
   "metadata": {},
   "source": [
    "#### Answer:-"
   ]
  },
  {
   "cell_type": "markdown",
   "id": "27cba17f-5423-4d30-8ec0-3c42548d6b81",
   "metadata": {},
   "source": [
    "#### \n",
    "A z-score is used when the population standard deviation is known, and the sample size is large (n≥30).\n",
    "\n",
    "A t-score is used when the population standard deviation is unknown, and the sample size is small (n<30)."
   ]
  },
  {
   "cell_type": "markdown",
   "id": "06782340-f9f2-462f-9fe6-e39cba2b5837",
   "metadata": {},
   "source": [
    "#### \n",
    "Both scores are used in hypothesis testing, but the t-score is more conservative and accounts for uncertainty in the sample variance."
   ]
  },
  {
   "cell_type": "markdown",
   "id": "a69ce2a5-bfa3-4ca5-9ea3-09a344343ba6",
   "metadata": {},
   "source": [
    "## Question 9: Given a sample mean of 105, a population mean of 100, a standard deviation of 15, and a sample size of 25, calculate the z-score and p-value. Based on a significance level of 0.05, do you reject or fail to reject the null hypothesis?"
   ]
  },
  {
   "cell_type": "markdown",
   "id": "d2b6937d-e37d-4c32-a6e8-da33987f1f7f",
   "metadata": {},
   "source": [
    "#### Answer:-"
   ]
  },
  {
   "cell_type": "markdown",
   "id": "ed48f730-b914-483e-a49c-266592176d03",
   "metadata": {},
   "source": [
    "#### Z-score calculation:"
   ]
  },
  {
   "cell_type": "code",
   "execution_count": 5,
   "id": "d5e7ac3a-8073-4042-9b30-5c2b760ec306",
   "metadata": {},
   "outputs": [
    {
     "data": {
      "image/png": "[encoded data removed]",
      "text/plain": [
       "<IPython.core.display.Image object>"
      ]
     },
     "metadata": {},
     "output_type": "display_data"
    }
   ],
   "source": [
    "from IPython.display import Image, display\n",
    "\n",
    "# Load and display the image\n",
    "img_path = r'C:\\Users\\Jotiba\\OneDrive\\Desktop\\Assignment Images of Statistics\\Z-score calculation formula.png'\n",
    "display(Image(filename=img_path))\n"
   ]
  },
  {
   "cell_type": "markdown",
   "id": "dc99e4e2-2378-4daa-9217-c39c95245e39",
   "metadata": {},
   "source": [
    "#### \n",
    "P-value: Using the z-score of 1.67, we can find the p-value from standard normal tables or using Python's statistical functions. The p-value is approximately 0.0475."
   ]
  },
  {
   "cell_type": "markdown",
   "id": "2cee91db-aaca-4184-baa0-2596f1958b5f",
   "metadata": {},
   "source": [
    "#### \n",
    "Since the p-value (0.0475) is less than the significance level of 0.05, we reject the null hypothesis."
   ]
  },
  {
   "cell_type": "markdown",
   "id": "c819de07-1213-492f-b3b0-4414e2b80e7e",
   "metadata": {},
   "source": [
    "## Question 10: Simulate a binomial distribution with 10 trials and a probability of success of 0.6 using Python. Generate 1,000 samples and plot the distribution. What is the expected mean and variance?"
   ]
  },
  {
   "cell_type": "markdown",
   "id": "138e830c-a7cd-48c4-b712-820913c5df14",
   "metadata": {},
   "source": [
    "#### Answer:-"
   ]
  },
  {
   "cell_type": "markdown",
   "id": "bfcbdfcf-acb6-41f9-a858-1fe7c30ef49b",
   "metadata": {},
   "source": [
    "#### To simulate a binomial distribution, you can use the following Python code:"
   ]
  },
  {
   "cell_type": "code",
   "execution_count": 6,
   "id": "89c14d73-82f1-407c-b2a0-ab23926fe815",
   "metadata": {},
   "outputs": [
    {
     "data": {
      "image/png": "[encoded data removed]",
      "text/plain": [
       "<Figure size 640x480 with 1 Axes>"
      ]
     },
     "metadata": {},
     "output_type": "display_data"
    },
    {
     "name": "stdout",
     "output_type": "stream",
     "text": [
      "Expected Mean: 5.995\n",
      "Expected Variance: 2.468975\n"
     ]
    }
   ],
   "source": [
    "import numpy as np\n",
    "import matplotlib.pyplot as plt\n",
    "\n",
    "# Parameters\n",
    "n = 10  # number of trials\n",
    "p = 0.6  # probability of success\n",
    "samples = 1000  # number of samples\n",
    "\n",
    "# Generate binomial samples\n",
    "data = np.random.binomial(n, p, samples)\n",
    "\n",
    "# Calculate mean and variance\n",
    "mean = np.mean(data)\n",
    "variance = np.var(data)\n",
    "\n",
    "# Plot the distribution\n",
    "plt.hist(data, bins=10, edgecolor='black')\n",
    "plt.title('Binomial Distribution (n=10, p=0.6)')\n",
    "plt.xlabel('Number of Successes')\n",
    "plt.ylabel('Frequency')\n",
    "plt.show()\n",
    "\n",
    "print(f'Expected Mean: {mean}')\n",
    "print(f'Expected Variance: {variance}')\n"
   ]
  },
  {
   "cell_type": "markdown",
   "id": "baea69cb-6266-454f-a189-a0bbb959d059",
   "metadata": {},
   "source": [
    "#### \n",
    "Expected mean:\n",
    "\n",
    "μ=n×p=10×0.6=6\n",
    "\n",
    "Expected variance: \n",
    "\n",
    "σ2 = n×p×(1−p)=10×0.6×0.4=2.4\n",
    "\n",
    "The plot would show the distribution of successes from the binomial trials."
   ]
  },
  {
   "cell_type": "markdown",
   "id": "d1765ab0-990a-433a-86b1-45e41761e5d5",
   "metadata": {},
   "source": [
    "# Thank You!"
   ]
  },
  {
   "cell_type": "code",
   "execution_count": null,
   "id": "4920f1bc-07a4-48ec-876f-5ab0a9227c67",
   "metadata": {},
   "outputs": [],
   "source": []
  }
 ],
 "metadata": {
  "kernelspec": {
   "display_name": "Python 3 (ipykernel)",
   "language": "python",
   "name": "python3"
  },
  "language_info": {
   "codemirror_mode": {
    "name": "ipython",
    "version": 3
   },
   "file_extension": ".py",
   "mimetype": "text/x-python",
   "name": "python",
   "nbconvert_exporter": "python",
   "pygments_lexer": "ipython3",
   "version": "3.12.5"
  }
 },
 "nbformat": 4,
 "nbformat_minor": 5
}
