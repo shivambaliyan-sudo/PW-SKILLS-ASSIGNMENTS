{
  "cells": [
    {
      "cell_type": "markdown",
      "id": "11966cc4-9603-4cac-8e66-ec90db990db8",
      "metadata": {
        "id": "11966cc4-9603-4cac-8e66-ec90db990db8"
      },
      "source": [
        "# Assignmment - Files & Exceptional Handling"
      ]
    },
    {
      "cell_type": "markdown",
      "id": "bbba2232-4dd7-405b-a066-ac38745f1622",
      "metadata": {
        "id": "bbba2232-4dd7-405b-a066-ac38745f1622"
      },
      "source": [
        "## Q1.Discuss the scenarios where multithreading is preferable to multiprocessing and scenarios where multiprocessing is a better choice."
      ]
    },
    {
      "cell_type": "markdown",
      "id": "e480d7d8-83bb-4238-8492-a81e6b256564",
      "metadata": {
        "id": "e480d7d8-83bb-4238-8492-a81e6b256564"
      },
      "source": [
        "### Answer:-"
      ]
    },
    {
      "cell_type": "markdown",
      "id": "4753fe01-dcb8-4ca0-ae1c-6934aa477d4d",
      "metadata": {
        "id": "4753fe01-dcb8-4ca0-ae1c-6934aa477d4d"
      },
      "source": [
        "### Multithreading vs. Multiprocessing: When to Use Which?"
      ]
    },
    {
      "cell_type": "markdown",
      "id": "15fb635c-c61a-483b-9eed-870b968ddb08",
      "metadata": {
        "id": "15fb635c-c61a-483b-9eed-870b968ddb08"
      },
      "source": [
        "### Multithreading :-"
      ]
    },
    {
      "cell_type": "markdown",
      "id": "35f3fc72-b6e7-4aff-a62a-d9302b47e80b",
      "metadata": {
        "id": "35f3fc72-b6e7-4aff-a62a-d9302b47e80b"
      },
      "source": [
        "#### Scenario 1: I/O-Bound Tasks\n",
        "\n",
        "Use Case: Multithreading is ideal for tasks that involve a lot of I/O operations, such as reading/writing files, network communication, or user input/output.\n",
        "\n",
        "Example: A web server handling multiple HTTP requests simultaneously.\n",
        "Each thread can manage a request while waiting for a response from the network or database, allowing other threads to proceed without being blocked."
      ]
    },
    {
      "cell_type": "markdown",
      "id": "f7104968-e3dd-474f-89a3-2529e42ab28b",
      "metadata": {
        "id": "f7104968-e3dd-474f-89a3-2529e42ab28b"
      },
      "source": [
        "#### Scenario 2: Shared Memory and Low Overhead\n",
        "\n",
        "Use Case: When tasks need to share data or memory frequently, multithreading is preferable because threads within the same process share the same memory space.\n",
        "\n",
        "Example: Real-time data processing applications like a stock trading system, where data is frequently updated and needs to be accessible by multiple threads."
      ]
    },
    {
      "cell_type": "markdown",
      "id": "d6f97c94-765d-413b-a773-deaddd61fd6b",
      "metadata": {
        "id": "d6f97c94-765d-413b-a773-deaddd61fd6b"
      },
      "source": [
        "#### Scenario 3: Lightweight Context Switching\n",
        "\n",
        "Use Case: When context switching overhead needs to be minimal, such as in real-time applications or where there is frequent switching between tasks.\n",
        "\n",
        "Example: A graphical user interface (GUI) application where different threads handle user inputs, background tasks, and rendering without causing delays or freezing."
      ]
    },
    {
      "cell_type": "markdown",
      "id": "3194f34d-5328-4b02-ba81-71c3d97beced",
      "metadata": {
        "id": "3194f34d-5328-4b02-ba81-71c3d97beced"
      },
      "source": [
        "### Multiprocessing :-"
      ]
    },
    {
      "cell_type": "markdown",
      "id": "0969bc72-74eb-4cf5-8dd7-cc55237cd655",
      "metadata": {
        "id": "0969bc72-74eb-4cf5-8dd7-cc55237cd655"
      },
      "source": [
        "#### Scenario 1: CPU-Bound Tasks\n",
        "\n",
        "Use Case: Multiprocessing is better for CPU-bound tasks, where the task's performance is limited by the processor speed rather than I/O operations. Each process can run on a separate CPU core, providing true parallelism.\n",
        "\n",
        "Example: Computational tasks like image processing, video encoding, or scientific simulations that require heavy calculations."
      ]
    },
    {
      "cell_type": "markdown",
      "id": "dae48330-35c8-43a8-9e03-3e51eaa0ea0b",
      "metadata": {
        "id": "dae48330-35c8-43a8-9e03-3e51eaa0ea0b"
      },
      "source": [
        "#### Scenario 2: Independent Processes with No Shared State\n",
        "\n",
        "Use Case: When tasks are independent and don't need to share memory or data frequently, multiprocessing is preferable as each process has its own memory space.\n",
        "\n",
        "Example: Running multiple simulations or independent machine learning model training processes that do not need to communicate with each other during execution."
      ]
    },
    {
      "cell_type": "markdown",
      "id": "0b846190-9c8d-494e-89be-e160015796f8",
      "metadata": {
        "id": "0b846190-9c8d-494e-89be-e160015796f8"
      },
      "source": [
        "#### Scenario 3: Avoiding Global Interpreter Lock (GIL) in Python\n",
        "\n",
        "Use Case: In Python, the Global Interpreter Lock (GIL) prevents multiple threads from executing Python bytecodes simultaneously in a single process. For CPU-bound tasks, multiprocessing bypasses the GIL by running each process independently.\n",
        "\n",
        "Example: Performing CPU-intensive calculations like numerical simulations in Python, where each process can run on a separate core without being hindered by the GIL."
      ]
    },
    {
      "cell_type": "markdown",
      "id": "182d46ed-b3f9-48b7-9907-639121586220",
      "metadata": {
        "id": "182d46ed-b3f9-48b7-9907-639121586220"
      },
      "source": [
        "## Q2.Describe what a process pool is and how it helps in managing multiple processes efficiently."
      ]
    },
    {
      "cell_type": "markdown",
      "id": "b809dbd2-6ee0-41cd-8817-b6dc480ac723",
      "metadata": {
        "id": "b809dbd2-6ee0-41cd-8817-b6dc480ac723"
      },
      "source": [
        "### Answer:-"
      ]
    },
    {
      "cell_type": "markdown",
      "id": "460b993c-2228-4f22-b7ba-136057bdafd5",
      "metadata": {
        "id": "460b993c-2228-4f22-b7ba-136057bdafd5"
      },
      "source": [
        "### What is a Process Pool?\n",
        "A Process Pool is a programming abstraction that simplifies the management of multiple processes. It allows for the efficient execution of a large number of parallel tasks by managing a fixed number of worker processes.\n",
        "These workers are reused to execute tasks, rather than creating and destroying a new process for each task, which can be computationally expensive."
      ]
    },
    {
      "cell_type": "markdown",
      "id": "c1a18df3-b01e-409d-8634-ad28e3cb09d6",
      "metadata": {
        "id": "c1a18df3-b01e-409d-8634-ad28e3cb09d6"
      },
      "source": [
        "### How a Process Pool Works:-\n",
        "\n",
        "Creation of a Pool: A process pool is initialized with a specific number of worker processes (e.g., 4). These workers are ready to handle incoming tasks.\n",
        "\n",
        "Task Submission: When a task (function or operation) is submitted to the process pool, it is assigned to one of the available worker processes in the pool.\n",
        "\n",
        "Execution: The assigned worker process executes the task independently, leveraging parallelism to utilize multiple CPU cores effectively.\n",
        "\n",
        "Result Collection: Once the task is completed, the result is returned to the main process. The worker process is then available to take on a new task.\n",
        "\n",
        "Reusability: The worker processes in the pool are reused for multiple tasks, reducing the overhead of process creation and destruction.\n",
        "\n"
      ]
    },
    {
      "cell_type": "code",
      "execution_count": 28,
      "id": "debbf50e-cd99-4b82-b37b-307f0a2c3e7b",
      "metadata": {
        "colab": {
          "base_uri": "https://localhost:8080/"
        },
        "id": "debbf50e-cd99-4b82-b37b-307f0a2c3e7b",
        "outputId": "68deeb7c-026b-4126-e353-8610326d4b11"
      },
      "outputs": [
        {
          "output_type": "stream",
          "name": "stdout",
          "text": [
            "Removed: 30 | List: [2, 96, 18, 70, 100, 96, 23, 45, 66, 50, 53]\n",
            "Added: 20 | List: [2, 96, 18, 70, 100, 96, 23, 45, 66, 50, 53, 20]\n",
            "[1, 4, 9, 16, 25]\n",
            "Added: 61 | List: [2, 96, 18, 70, 100, 96, 23, 45, 66, 50, 53, 20, 61]\n",
            "Added: 17 | List: [2, 96, 18, 70, 100, 96, 23, 45, 66, 50, 53, 20, 61, 17]\n"
          ]
        }
      ],
      "source": [
        "from multiprocessing import Pool\n",
        "\n",
        "def square_number(n):\n",
        "    return n * n\n",
        "\n",
        "if __name__ == \"__main__\":\n",
        "    numbers = [1, 2, 3, 4, 5]\n",
        "\n",
        "    # Create a process pool with 4 worker processes\n",
        "    with Pool(4) as pool:\n",
        "        # Map the list of numbers to the square_number function using the process pool\n",
        "        results = pool.map(square_number, numbers)\n",
        "\n",
        "    print(results)"
      ]
    },
    {
      "cell_type": "code",
      "execution_count": 28,
      "id": "8121c7e6-a91e-4203-8c89-36a57dcf3b01",
      "metadata": {
        "colab": {
          "base_uri": "https://localhost:8080/"
        },
        "id": "8121c7e6-a91e-4203-8c89-36a57dcf3b01",
        "outputId": "f4779889-e136-464e-ba81-1fbbdf31e0a7"
      },
      "outputs": [
        {
          "output_type": "stream",
          "name": "stdout",
          "text": [
            "Removed: 2 | List: [96, 18, 70, 100, 96, 23, 45, 66, 50, 53, 20, 61, 17]\n",
            "Removed: 96 | List: [18, 70, 100, 96, 23, 45, 66, 50, 53, 20, 61, 17]\n"
          ]
        }
      ],
      "source": []
    },
    {
      "cell_type": "markdown",
      "id": "8fd37411-0da8-4f94-b4f3-d3861ea254c4",
      "metadata": {
        "id": "8fd37411-0da8-4f94-b4f3-d3861ea254c4"
      },
      "source": [
        "## Q3. Explain what multiprocessing is and why it is used in Python programs."
      ]
    },
    {
      "cell_type": "markdown",
      "id": "72e90912-e56d-4998-bb17-bd995c111cc1",
      "metadata": {
        "id": "72e90912-e56d-4998-bb17-bd995c111cc1"
      },
      "source": [
        "### Answer:-"
      ]
    },
    {
      "cell_type": "markdown",
      "id": "dbd6503f-47d9-4135-9da1-abf2a47410b0",
      "metadata": {
        "id": "dbd6503f-47d9-4135-9da1-abf2a47410b0"
      },
      "source": [
        "### What is Multiprocessing?\n",
        "Multiprocessing refers to the capability of a system to run multiple processes simultaneously. In the context of computing, a process is an instance of a program in execution.\n",
        "Each process has its own memory space, execution context, and resources, making it independent of other processes."
      ]
    },
    {
      "cell_type": "markdown",
      "id": "f7f7f687-63f5-4ee1-a23a-ff88d9a3e706",
      "metadata": {
        "id": "f7f7f687-63f5-4ee1-a23a-ff88d9a3e706"
      },
      "source": [
        "### Why Multiprocessing is Used in Python Programs\n",
        "\n",
        "1. Leveraging Multiple CPU Cores:\n",
        "\n",
        "True Parallelism: In modern computers, CPUs often have multiple cores. Multiprocessing allows Python programs to fully utilize these cores by running separate processes on each one. This leads to true parallelism, where multiple tasks are executed at the same time.\n",
        "\n",
        "    Example: In a system with 4 cores, a multiprocessing program can run 4 independent tasks simultaneously, potentially leading to a 4x speedup for CPU-bound tasks.\n",
        "\n",
        "2. Bypassing Python's Global Interpreter Lock (GIL):\n",
        "\n",
        "GIL and Multithreading: Python has a Global Interpreter Lock (GIL) that allows only one thread to execute Python bytecode at a time, even on a multi-core processor. This limits the effectiveness of multithreading in CPU-bound tasks, as threads cannot truly run in parallel.\n",
        "Multiprocessing as a Solution: Since each process has its own Python interpreter and memory space, multiprocessing bypasses the GIL, allowing multiple processes to run in parallel on separate CPU cores.\n",
        "\n",
        "3. Improving Performance for CPU-Bound Tasks:\n",
        "\n",
        "CPU-Bound Tasks: These are tasks that require a significant amount of computation and are limited by the speed of the CPU.\n",
        "\n",
        "Examples include complex mathematical calculations, data processing, and simulations.\n",
        "\n",
        "Multiprocessing for Speedup: By dividing the workload among multiple processes, a CPU-bound task can be completed faster, as each process works on a part of the task concurrently.\n",
        "\n",
        "4. Isolation and Fault Tolerance:\n",
        "\n",
        "Process Isolation: Each process runs in its own memory space, meaning that a crash in one process doesn’t affect others.\n",
        "This isolation improves the robustness of applications.\n",
        "Fault Tolerance: If one process encounters an error or crashes, other processes can continue running, reducing the impact of failures.\n",
        "\n",
        "5. Suitable for Certain Applications:\n",
        "\n",
        "Independent Task Execution: Multiprocessing is ideal for applications where tasks can be divided into independent units of work,\n",
        "such as in parallel data processing, batch processing, or running independent simulations.\n",
        "\n",
        "Examples: Running multiple simulations in parallel, processing large datasets in chunks, or handling multiple independent requests in a web server."
      ]
    },
    {
      "cell_type": "code",
      "source": [
        "!pip install gmpy2\n"
      ],
      "metadata": {
        "colab": {
          "base_uri": "https://localhost:8080/"
        },
        "id": "PMlnn5yYDMKu",
        "outputId": "76bb3318-bb41-48c1-a213-803e710f8abe"
      },
      "id": "PMlnn5yYDMKu",
      "execution_count": 29,
      "outputs": [
        {
          "output_type": "stream",
          "name": "stdout",
          "text": [
            "Added: 14 | List: [18, 70, 100, 96, 23, 45, 66, 50, 53, 20, 61, 17, 14]\n",
            "Removed: 18 | List: [70, 100, 96, 23, 45, 66, 50, 53, 20, 61, 17, 14]\n",
            "Added: 83 | List: [70, 100, 96, 23, 45, 66, 50, 53, 20, 61, 17, 14, 83]\n",
            "Removed: 70 | List: [100, 96, 23, 45, 66, 50, 53, 20, 61, 17, 14, 83]\n",
            "Added: 88 | List: [100, 96, 23, 45, 66, 50, 53, 20, 61, 17, 14, 83, 88]\n",
            "Added: 13 | List: [100, 96, 23, 45, 66, 50, 53, 20, 61, 17, 14, 83, 88, 13]\n",
            "Removed: 100 | List: [96, 23, 45, 66, 50, 53, 20, 61, 17, 14, 83, 88, 13]\n",
            "Removed: 96 | List: [23, 45, 66, 50, 53, 20, 61, 17, 14, 83, 88, 13]\n",
            "Removed: 23 | List: [45, 66, 50, 53, 20, 61, 17, 14, 83, 88, 13]\n",
            "Added: 38 | List: [45, 66, 50, 53, 20, 61, 17, 14, 83, 88, 13, 38]\n",
            "Added: 29 | List: [45, 66, 50, 53, 20, 61, 17, 14, 83, 88, 13, 38, 29]\n",
            "Removed: 45 | List: [66, 50, 53, 20, 61, 17, 14, 83, 88, 13, 38, 29]\n",
            "Requirement already satisfied: gmpy2 in /usr/local/lib/python3.10/dist-packages (2.2.1)\n",
            "Removed: 66 | List: [50, 53, 20, 61, 17, 14, 83, 88, 13, 38, 29]\n",
            "Added: 21 | List: [50, 53, 20, 61, 17, 14, 83, 88, 13, 38, 29, 21]\n",
            "Removed: 50 | List: [53, 20, 61, 17, 14, 83, 88, 13, 38, 29, 21]\n",
            "Added: 20 | List: [53, 20, 61, 17, 14, 83, 88, 13, 38, 29, 21, 20]\n",
            "Added: 67 | List: [53, 20, 61, 17, 14, 83, 88, 13, 38, 29, 21, 20, 67]\n",
            "Removed: 53 | List: [20, 61, 17, 14, 83, 88, 13, 38, 29, 21, 20, 67]\n",
            "Added: 64 | List: [20, 61, 17, 14, 83, 88, 13, 38, 29, 21, 20, 67, 64]\n",
            "Added: 23 | List: [20, 61, 17, 14, 83, 88, 13, 38, 29, 21, 20, 67, 64, 23]\n",
            "Removed: 20 | List: [61, 17, 14, 83, 88, 13, 38, 29, 21, 20, 67, 64, 23]\n",
            "Removed: 61 | List: [17, 14, 83, 88, 13, 38, 29, 21, 20, 67, 64, 23]\n",
            "Added: 98 | List: [17, 14, 83, 88, 13, 38, 29, 21, 20, 67, 64, 23, 98]\n",
            "Removed: 17 | List: [14, 83, 88, 13, 38, 29, 21, 20, 67, 64, 23, 98]\n",
            "Removed: 14 | List: [83, 88, 13, 38, 29, 21, 20, 67, 64, 23, 98]\n",
            "Added: 45 | List: [83, 88, 13, 38, 29, 21, 20, 67, 64, 23, 98, 45]\n",
            "Added: 83 | List: [83, 88, 13, 38, 29, 21, 20, 67, 64, 23, 98, 45, 83]\n",
            "Removed: 83 | List: [88, 13, 38, 29, 21, 20, 67, 64, 23, 98, 45, 83]\n",
            "Removed: 88 | List: [13, 38, 29, 21, 20, 67, 64, 23, 98, 45, 83]\n",
            "Added: 41 | List: [13, 38, 29, 21, 20, 67, 64, 23, 98, 45, 83, 41]\n",
            "Removed: 13 | List: [38, 29, 21, 20, 67, 64, 23, 98, 45, 83, 41]\n",
            "Added: 40 | List: [38, 29, 21, 20, 67, 64, 23, 98, 45, 83, 41, 40]\n",
            "Removed: 38 | List: [29, 21, 20, 67, 64, 23, 98, 45, 83, 41, 40]\n",
            "Added: 75 | List: [29, 21, 20, 67, 64, 23, 98, 45, 83, 41, 40, 75]\n",
            "Removed: 29 | List: [21, 20, 67, 64, 23, 98, 45, 83, 41, 40, 75]\n",
            "Removed: 21 | List: [20, 67, 64, 23, 98, 45, 83, 41, 40, 75]\n",
            "Added: 75 | List: [20, 67, 64, 23, 98, 45, 83, 41, 40, 75, 75]\n",
            "Removed: 20 | List: [67, 64, 23, 98, 45, 83, 41, 40, 75, 75]\n",
            "Removed: 67 | List: [64, 23, 98, 45, 83, 41, 40, 75, 75]\n"
          ]
        }
      ]
    },
    {
      "cell_type": "code",
      "execution_count": 30,
      "id": "8040d886-7839-4c28-85c9-a4e6f430b729",
      "metadata": {
        "colab": {
          "base_uri": "https://localhost:8080/"
        },
        "id": "8040d886-7839-4c28-85c9-a4e6f430b729",
        "outputId": "4ae077ef-e25e-4a20-d20d-9622a3a162d4"
      },
      "outputs": [
        {
          "output_type": "stream",
          "name": "stdout",
          "text": [
            "Added: 46 | List: [64, 23, 98, 45, 83, 41, 40, 75, 75, 46]\n",
            "Factorial of 10000 has 25 digits.\n",
            "Factorial of 20000 has 25 digits.\n",
            "Factorial of 30000 has 26 digits.\n",
            "Factorial of 40000 has 26 digits.\n"
          ]
        }
      ],
      "source": [
        "import gmpy2\n",
        "from multiprocessing import Pool\n",
        "\n",
        "def compute_factorial(n):\n",
        "    \"\"\"Compute the factorial of a number using gmpy2 for large integer arithmetic.\"\"\"\n",
        "    try:\n",
        "        return gmpy2.factorial(n)\n",
        "    except Exception as e:\n",
        "        return f\"Error computing factorial for {n}: {e}\"\n",
        "\n",
        "def main():\n",
        "    # Define numbers to compute factorials for\n",
        "    numbers = [10000, 20000, 30000, 40000]  # Reduced for practical reasons\n",
        "\n",
        "    # Create a process pool with 4 worker processes\n",
        "    with Pool(4) as pool:\n",
        "        # Map the list of numbers to the compute_factorial function using the process pool\n",
        "        results = pool.map(compute_factorial, numbers)\n",
        "\n",
        "    # Print results\n",
        "    for num, result in zip(numbers, results):\n",
        "        print(f\"Factorial of {num} has {len(str(result))} digits.\")\n",
        "\n",
        "if __name__ == \"__main__\":\n",
        "    main()\n"
      ]
    },
    {
      "cell_type": "markdown",
      "id": "9ff20eb2-05d6-42f6-bb6c-124b0ac68940",
      "metadata": {
        "id": "9ff20eb2-05d6-42f6-bb6c-124b0ac68940"
      },
      "source": [
        "## Q4.Write a Python program using multithreading where one thread adds numbers to a list, and anotherthread removes numbers from the list. Implement a mechanism to avoid race conditions using threading.Lock."
      ]
    },
    {
      "cell_type": "markdown",
      "id": "f591390c-6811-43c2-8603-3888924c2611",
      "metadata": {
        "id": "f591390c-6811-43c2-8603-3888924c2611"
      },
      "source": [
        "### Answer:-"
      ]
    },
    {
      "cell_type": "markdown",
      "id": "2a65855e-c3b5-4350-8b33-082676e1f5c0",
      "metadata": {
        "id": "2a65855e-c3b5-4350-8b33-082676e1f5c0"
      },
      "source": [
        "#### To implement a Python program using multithreading where one thread adds numbers to a list and another thread removes numbers from the list, and to avoid race conditions, we can use threading.Lock. The Lock ensures that only one thread can modify the list at a time, preventing race conditions."
      ]
    },
    {
      "cell_type": "code",
      "execution_count": 31,
      "id": "02c1e506-545d-4d11-8988-629ad6c2b3d0",
      "metadata": {
        "colab": {
          "base_uri": "https://localhost:8080/"
        },
        "id": "02c1e506-545d-4d11-8988-629ad6c2b3d0",
        "outputId": "8ab3aeca-22b9-4447-fd8d-a049ab59dfe2"
      },
      "outputs": [
        {
          "output_type": "stream",
          "name": "stdout",
          "text": [
            "Added: 63 | List: [63]\n",
            "Removed: 63 | List: []\n",
            "List is empty, waiting to remove...\n",
            "List is empty, waiting to remove...\n",
            "Added: 95 | List: [95]\n",
            "Added: 41 | List: [95, 41]\n",
            "Added: 100 | List: [95, 41, 100]\n",
            "Added: 89 | List: [95, 41, 100, 89]\n",
            "Added: 23 | List: [95, 41, 100, 89, 23]\n",
            "Removed: 95 | List: [41, 100, 89, 23]\n",
            "Added: 18 | List: [41, 100, 89, 23, 18]\n",
            "Removed: 41 | List: [100, 89, 23, 18]\n",
            "Removed: 100 | List: [89, 23, 18]\n",
            "Removed: 89 | List: [23, 18]\n",
            "Added: 9 | List: [23, 18, 9]\n",
            "Added: 80 | List: [23, 18, 9, 80]\n",
            "Removed: 23 | List: [18, 9, 80]\n",
            "Removed: 18 | List: [9, 80]\n",
            "Added: 81 | List: [9, 80, 81]\n",
            "Added: 68 | List: [9, 80, 81, 68]\n",
            "Removed: 9 | List: [80, 81, 68]\n",
            "Removed: 80 | List: [81, 68]\n",
            "Removed: 81 | List: [68]\n",
            "Added: 2 | List: [68, 2]\n",
            "Added: 8 | List: [68, 2, 8]\n",
            "Removed: 68 | List: [2, 8]\n",
            "Removed: 2 | List: [8]\n",
            "Added: 47 | List: [8, 47]\n",
            "Removed: 8 | List: [47]\n",
            "Removed: 47 | List: []\n",
            "List is empty, waiting to remove...\n",
            "List is empty, waiting to remove...\n",
            "List is empty, waiting to remove...\n",
            "Added: 17 | List: [17]\n",
            "Added: 98 | List: [17, 98]\n",
            "Added: 50 | List: [17, 98, 50]\n",
            "Added: 6 | List: [17, 98, 50, 6]\n",
            "Removed: 17 | List: [98, 50, 6]\n",
            "Added: 2 | List: [98, 50, 6, 2]\n",
            "Removed: 98 | List: [50, 6, 2]\n",
            "Added: 71 | List: [50, 6, 2, 71]\n",
            "Added: 3 | List: [50, 6, 2, 71, 3]\n",
            "Added: 43 | List: [50, 6, 2, 71, 3, 43]\n",
            "Added: 83 | List: [50, 6, 2, 71, 3, 43, 83]\n",
            "Removed: 50 | List: [6, 2, 71, 3, 43, 83]\n",
            "Added: 86 | List: [6, 2, 71, 3, 43, 83, 86]\n",
            "Added: 64 | List: [6, 2, 71, 3, 43, 83, 86, 64]\n",
            "Added: 92 | List: [6, 2, 71, 3, 43, 83, 86, 64, 92]\n",
            "Removed: 6 | List: [2, 71, 3, 43, 83, 86, 64, 92]\n",
            "Removed: 2 | List: [71, 3, 43, 83, 86, 64, 92]\n",
            "Removed: 71 | List: [3, 43, 83, 86, 64, 92]\n",
            "Added: 86 | List: [3, 43, 83, 86, 64, 92, 86]\n",
            "Removed: 3 | List: [43, 83, 86, 64, 92, 86]\n",
            "Removed: 43 | List: [83, 86, 64, 92, 86]\n",
            "Removed: 83 | List: [86, 64, 92, 86]\n",
            "Removed: 86 | List: [64, 92, 86]\n",
            "Removed: 64 | List: [92, 86]\n",
            "Removed: 92 | List: [86]\n",
            "Removed: 86 | List: []\n",
            "Added: 30 | List: [30]\n",
            "Added: 7 | List: [30, 7]\n",
            "Added: 12 | List: [30, 7, 12]\n",
            "Removed: 30 | List: [7, 12]\n",
            "Removed: 7 | List: [12]\n",
            "Added: 30 | List: [12, 30]\n",
            "Removed: 12 | List: [30]\n",
            "Added: 62 | List: [30, 62]\n",
            "Added: 70 | List: [30, 62, 70]\n",
            "Added: 4 | List: [30, 62, 70, 4]\n",
            "Added: 16 | List: [30, 62, 70, 4, 16]\n",
            "Removed: 30 | List: [62, 70, 4, 16]\n",
            "Removed: 62 | List: [70, 4, 16]\n",
            "Added: 66 | List: [70, 4, 16, 66]\n",
            "Added: 43 | List: [70, 4, 16, 66, 43]\n",
            "Added: 92 | List: [70, 4, 16, 66, 43, 92]\n",
            "Added: 54 | List: [70, 4, 16, 66, 43, 92, 54]\n",
            "Added: 86 | List: [70, 4, 16, 66, 43, 92, 54, 86]\n",
            "Added: 52 | List: [70, 4, 16, 66, 43, 92, 54, 86, 52]\n",
            "Removed: 70 | List: [4, 16, 66, 43, 92, 54, 86, 52]\n",
            "Added: 87 | List: [4, 16, 66, 43, 92, 54, 86, 52, 87]\n",
            "Removed: 4 | List: [16, 66, 43, 92, 54, 86, 52, 87]\n",
            "Added: 68 | List: [16, 66, 43, 92, 54, 86, 52, 87, 68]\n",
            "Added: 81 | List: [16, 66, 43, 92, 54, 86, 52, 87, 68, 81]\n",
            "Removed: 16 | List: [66, 43, 92, 54, 86, 52, 87, 68, 81]\n",
            "Removed: 66 | List: [43, 92, 54, 86, 52, 87, 68, 81]\n",
            "Removed: 43 | List: [92, 54, 86, 52, 87, 68, 81]\n",
            "Removed: 92 | List: [54, 86, 52, 87, 68, 81]\n",
            "Removed: 54 | List: [86, 52, 87, 68, 81]\n",
            "Added: 74 | List: [86, 52, 87, 68, 81, 74]\n",
            "Removed: 86 | List: [52, 87, 68, 81, 74]\n",
            "Removed: 52 | List: [87, 68, 81, 74]\n",
            "Added: 83 | List: [87, 68, 81, 74, 83]\n",
            "Removed: 87 | List: [68, 81, 74, 83]\n",
            "Added: 43 | List: [68, 81, 74, 83, 43]\n",
            "Added: 24 | List: [68, 81, 74, 83, 43, 24]\n",
            "Removed: 68 | List: [81, 74, 83, 43, 24]\n",
            "Removed: 81 | List: [74, 83, 43, 24]\n",
            "Removed: 74 | List: [83, 43, 24]\n",
            "Added: 20 | List: [83, 43, 24, 20]\n",
            "Removed: 83 | List: [43, 24, 20]\n",
            "Removed: 43 | List: [24, 20]\n",
            "Added: 82 | List: [24, 20, 82]\n",
            "Added: 37 | List: [24, 20, 82, 37]\n",
            "Removed: 24 | List: [20, 82, 37]\n",
            "Added: 54 | List: [20, 82, 37, 54]\n",
            "Added: 88 | List: [20, 82, 37, 54, 88]\n",
            "Added: 97 | List: [20, 82, 37, 54, 88, 97]\n",
            "Removed: 20 | List: [82, 37, 54, 88, 97]\n",
            "Removed: 82 | List: [37, 54, 88, 97]\n",
            "Added: 59 | List: [37, 54, 88, 97, 59]\n",
            "Removed: 37 | List: [54, 88, 97, 59]\n",
            "Removed: 54 | List: [88, 97, 59]\n",
            "Removed: 88 | List: [97, 59]\n",
            "Removed: 97 | List: [59]\n",
            "Added: 43 | List: [59, 43]\n",
            "Removed: 59 | List: [43]\n",
            "Added: 36 | List: [43, 36]\n",
            "Removed: 43 | List: [36]\n",
            "Added: 43 | List: [36, 43]\n",
            "Added: 90 | List: [36, 43, 90]\n",
            "Removed: 36 | List: [43, 90]\n",
            "Added: 95 | List: [43, 90, 95]\n",
            "Added: 93 | List: [43, 90, 95, 93]\n",
            "Removed: 43 | List: [90, 95, 93]\n",
            "Added: 48 | List: [90, 95, 93, 48]\n",
            "Added: 44 | List: [90, 95, 93, 48, 44]\n",
            "Removed: 90 | List: [95, 93, 48, 44]\n",
            "Removed: 95 | List: [93, 48, 44]\n",
            "Added: 72 | List: [93, 48, 44, 72]\n",
            "Removed: 93 | List: [48, 44, 72]\n",
            "Added: 44 | List: [48, 44, 72, 44]\n",
            "Removed: 48 | List: [44, 72, 44]\n",
            "Added: 5 | List: [44, 72, 44, 5]\n",
            "Added: 25 | List: [44, 72, 44, 5, 25]\n",
            "Removed: 44 | List: [72, 44, 5, 25]\n",
            "Removed: 72 | List: [44, 5, 25]\n",
            "Added: 37 | List: [44, 5, 25, 37]\n",
            "Removed: 44 | List: [5, 25, 37]\n",
            "Added: 63 | List: [5, 25, 37, 63]\n",
            "Removed: 5 | List: [25, 37, 63]\n",
            "Added: 100 | List: [25, 37, 63, 100]\n",
            "Removed: 25 | List: [37, 63, 100]\n",
            "Removed: 37 | List: [63, 100]\n",
            "Added: 69 | List: [63, 100, 69]\n",
            "Removed: 63 | List: [100, 69]\n",
            "Removed: 100 | List: [69]\n",
            "Removed: 69 | List: []\n",
            "List is empty, waiting to remove...\n",
            "List is empty, waiting to remove...\n",
            "Added: 62 | List: [62]\n",
            "Added: 60 | List: [62, 60]\n",
            "Removed: 62 | List: [60]\n",
            "Removed: 60 | List: []\n",
            "Added: 25 | List: [25]\n",
            "Removed: 25 | List: []\n",
            "Added: 12 | List: [12]\n",
            "Removed: 12 | List: []\n",
            "Added: 88 | List: [88]\n",
            "Added: 50 | List: [88, 50]\n",
            "Removed: 88 | List: [50]\n",
            "Added: 23 | List: [50, 23]\n",
            "Removed: 50 | List: [23]\n",
            "Removed: 23 | List: []\n",
            "Added: 2 | List: [2]\n",
            "Added: 25 | List: [2, 25]\n",
            "Removed: 2 | List: [25]\n",
            "Added: 27 | List: [25, 27]\n",
            "Removed: 25 | List: [27]\n",
            "Added: 16 | List: [27, 16]\n",
            "Added: 14 | List: [27, 16, 14]\n",
            "Removed: 27 | List: [16, 14]\n",
            "Removed: 16 | List: [14]\n",
            "Removed: 14 | List: []\n",
            "Added: 24 | List: [24]\n",
            "Added: 6 | List: [24, 6]\n",
            "Removed: 24 | List: [6]\n",
            "Added: 14 | List: [6, 14]\n",
            "Removed: 6 | List: [14]\n",
            "Removed: 14 | List: []\n",
            "List is empty, waiting to remove...\n",
            "List is empty, waiting to remove...\n",
            "List is empty, waiting to remove...\n",
            "List is empty, waiting to remove...\n",
            "Added: 95 | List: [95]\n",
            "Added: 27 | List: [95, 27]\n",
            "Added: 97 | List: [95, 27, 97]\n",
            "Removed: 95 | List: [27, 97]\n",
            "Added: 96 | List: [27, 97, 96]\n",
            "Removed: 27 | List: [97, 96]\n",
            "Removed: 97 | List: [96]\n",
            "Removed: 96 | List: []\n",
            "Added: 94 | List: [94]\n",
            "Added: 79 | List: [94, 79]\n",
            "Removed: 94 | List: [79]\n",
            "Removed: 79 | List: []\n",
            "Added: 70 | List: [70]\n",
            "Added: 44 | List: [70, 44]\n",
            "Removed: 70 | List: [44]\n",
            "Removed: 44 | List: []\n",
            "Added: 31 | List: [31]\n",
            "Removed: 31 | List: []\n",
            "Added: 89 | List: [89]\n",
            "Added: 91 | List: [89, 91]\n",
            "Added: 1 | List: [89, 91, 1]\n",
            "Removed: 89 | List: [91, 1]\n",
            "Removed: 91 | List: [1]\n",
            "Added: 85 | List: [1, 85]\n",
            "Added: 100 | List: [1, 85, 100]\n",
            "Added: 67 | List: [1, 85, 100, 67]\n",
            "Removed: 1 | List: [85, 100, 67]\n",
            "Removed: 85 | List: [100, 67]\n",
            "Removed: 100 | List: [67]\n",
            "Added: 51 | List: [67, 51]\n",
            "Removed: 67 | List: [51]\n",
            "Added: 18 | List: [51, 18]\n",
            "Removed: 51 | List: [18]\n",
            "Removed: 18 | List: []\n",
            "List is empty, waiting to remove...\n",
            "List is empty, waiting to remove...\n",
            "Added: 65 | List: [65]\n",
            "Added: 53 | List: [65, 53]\n",
            "Removed: 65 | List: [53]\n",
            "Added: 61 | List: [53, 61]\n",
            "Removed: 53 | List: [61]\n",
            "Removed: 61 | List: []\n",
            "Added: 75 | List: [75]\n",
            "Added: 43 | List: [75, 43]\n",
            "Removed: 75 | List: [43]\n",
            "Removed: 43 | List: []\n",
            "Added: 64 | List: [64]\n",
            "Removed: 64 | List: []\n",
            "Added: 27 | List: [27]\n",
            "Removed: 27 | List: []\n",
            "List is empty, waiting to remove...\n",
            "List is empty, waiting to remove...\n",
            "Added: 32 | List: [32]\n",
            "Removed: 32 | List: []\n",
            "Added: 49 | List: [49]\n",
            "Removed: 49 | List: []\n"
          ]
        }
      ],
      "source": [
        "import threading\n",
        "import time\n",
        "import random\n",
        "\n",
        "# Shared list\n",
        "shared_list = []\n",
        "\n",
        "# Lock to prevent race conditions\n",
        "lock = threading.Lock()\n",
        "\n",
        "# Event to signal threads to stop\n",
        "stop_event = threading.Event()\n",
        "\n",
        "# Function to add numbers to the list\n",
        "def add_numbers():\n",
        "    while not stop_event.is_set():\n",
        "        num = random.randint(1, 100)\n",
        "        with lock:\n",
        "            shared_list.append(num)\n",
        "            print(f\"Added: {num} | List: {shared_list}\")\n",
        "        time.sleep(random.random())\n",
        "\n",
        "# Function to remove numbers from the list\n",
        "def remove_numbers():\n",
        "    while not stop_event.is_set() or shared_list:\n",
        "        with lock:\n",
        "            if shared_list:\n",
        "                num = shared_list.pop(0)\n",
        "                print(f\"Removed: {num} | List: {shared_list}\")\n",
        "            else:\n",
        "                print(\"List is empty, waiting to remove...\")\n",
        "        time.sleep(random.random())\n",
        "\n",
        "# Creating threads\n",
        "thread1 = threading.Thread(target=add_numbers)\n",
        "thread2 = threading.Thread(target=remove_numbers)\n",
        "\n",
        "# Starting threads\n",
        "thread1.start()\n",
        "thread2.start()\n",
        "\n",
        "# Let threads run for some time\n",
        "time.sleep(10)  # Run for 10 seconds\n",
        "\n",
        "# Signal threads to stop\n",
        "stop_event.set()\n",
        "\n",
        "# Wait for threads to finish\n",
        "thread1.join()\n",
        "thread2.join()\n"
      ]
    },
    {
      "cell_type": "markdown",
      "id": "3024f5ab-f1c7-412a-aad8-c159f95ccdd3",
      "metadata": {
        "id": "3024f5ab-f1c7-412a-aad8-c159f95ccdd3"
      },
      "source": [
        "## Q5.Describe the methods and tools available in Python for safely sharing data between threads and processes."
      ]
    },
    {
      "cell_type": "markdown",
      "id": "6addbc01-40dd-49db-b3b5-7d62f7cbb286",
      "metadata": {
        "id": "6addbc01-40dd-49db-b3b5-7d62f7cbb286"
      },
      "source": [
        "### Answer:-"
      ]
    },
    {
      "cell_type": "markdown",
      "id": "0734e49e-cec1-4cf4-ae76-eb0d663b4f85",
      "metadata": {
        "id": "0734e49e-cec1-4cf4-ae76-eb0d663b4f85"
      },
      "source": [
        "#### In Python, when working with multithreading and multiprocessing, it's important to safely share data between threads or processes to avoid issues like race conditions and inconsistent states. Python provides various methods and tools to handle data sharing safely in these concurrent programming environments."
      ]
    },
    {
      "cell_type": "markdown",
      "id": "814dc0fe-ac8d-4fb3-8922-276f1bb0e6f6",
      "metadata": {
        "id": "814dc0fe-ac8d-4fb3-8922-276f1bb0e6f6"
      },
      "source": [
        "### 1. Sharing Data Between Threads\n",
        "\n",
        "When sharing data between threads, Python's Global Interpreter Lock (GIL) ensures that only one thread executes Python bytecode at a time, which simplifies data sharing to some extent. However, proper synchronization mechanisms are still required to prevent race conditions."
      ]
    },
    {
      "cell_type": "markdown",
      "id": "2d23d55a-e894-422d-a061-b19fa312a216",
      "metadata": {
        "id": "2d23d55a-e894-422d-a061-b19fa312a216"
      },
      "source": [
        "#### a. Threading Lock (threading.Lock)\n",
        "\n",
        "Purpose: A Lock ensures that only one thread can access a shared resource (e.g., a variable, list) at a time.\n",
        "\n",
        "Usage: Threads must acquire the lock before accessing shared data and release it afterward."
      ]
    },
    {
      "cell_type": "code",
      "execution_count": 32,
      "id": "60925c12-9968-4ad3-b5e1-acbdfd83a034",
      "metadata": {
        "id": "60925c12-9968-4ad3-b5e1-acbdfd83a034"
      },
      "outputs": [],
      "source": [
        "#Example:-\n",
        "import threading\n",
        "\n",
        "lock = threading.Lock()\n",
        "shared_data = []\n",
        "\n",
        "def thread_safe_append(data):\n",
        "    lock.acquire()\n",
        "    try:\n",
        "        shared_data.append(data)\n",
        "    finally:\n",
        "        lock.release()\n"
      ]
    },
    {
      "cell_type": "markdown",
      "id": "d76480de-e7c0-41a6-8832-05aba1dda10e",
      "metadata": {
        "id": "d76480de-e7c0-41a6-8832-05aba1dda10e"
      },
      "source": [
        "#### b. RLock (threading.RLock)\n",
        "\n",
        "Purpose: RLock (Reentrant Lock) allows a thread to acquire the same lock multiple times without causing a deadlock.\n",
        "\n",
        "Usage: Useful when a thread needs to lock a resource and perform multiple operations on it that also require locking."
      ]
    },
    {
      "cell_type": "code",
      "execution_count": 33,
      "id": "821a999d-9726-4e18-a712-887bfddac48b",
      "metadata": {
        "id": "821a999d-9726-4e18-a712-887bfddac48b"
      },
      "outputs": [],
      "source": [
        "#Example:-\n",
        "lock = threading.RLock()\n"
      ]
    },
    {
      "cell_type": "markdown",
      "id": "918a69c3-2bda-454e-be41-6995762bdb53",
      "metadata": {
        "id": "918a69c3-2bda-454e-be41-6995762bdb53"
      },
      "source": [
        "#### c. Condition Variables (threading.Condition)\n",
        "\n",
        "Purpose: A Condition allows threads to wait for certain conditions to be met before continuing execution.\n",
        "\n",
        "Usage: Used when threads need to communicate and coordinate the execution order."
      ]
    },
    {
      "cell_type": "code",
      "execution_count": 34,
      "id": "4e57f8b8-fe1a-4476-b965-15b605a1e6c3",
      "metadata": {
        "colab": {
          "base_uri": "https://localhost:8080/"
        },
        "id": "4e57f8b8-fe1a-4476-b965-15b605a1e6c3",
        "outputId": "c7a1b37e-dffa-4822-9ee7-bdac335a424e"
      },
      "outputs": [
        {
          "output_type": "stream",
          "name": "stdout",
          "text": [
            "Added: 83 | List: [83]\n",
            "Removed: 83 | List: []\n"
          ]
        }
      ],
      "source": [
        "#Example:-\n",
        "condition = threading.Condition()\n",
        "\n",
        "def producer():\n",
        "    with condition:\n",
        "        # Produce data\n",
        "        condition.notify()  # Notify consumers\n",
        "\n",
        "def consumer():\n",
        "    with condition:\n",
        "        condition.wait()  # Wait for producer\n",
        "        # Consume data\n"
      ]
    },
    {
      "cell_type": "markdown",
      "id": "46508415-e45b-4c30-9d47-93b7cba8a103",
      "metadata": {
        "id": "46508415-e45b-4c30-9d47-93b7cba8a103"
      },
      "source": [
        "#### d. Queue (queue.Queue)\n",
        "\n",
        "Purpose: A thread-safe FIFO queue that handles locking internally.\n",
        "\n",
        "Usage: Multiple threads can safely put data into or get data from the queue without additional locks."
      ]
    },
    {
      "cell_type": "code",
      "execution_count": 35,
      "id": "3839ab51-0651-4667-94b4-9d9c924a6e45",
      "metadata": {
        "colab": {
          "base_uri": "https://localhost:8080/"
        },
        "id": "3839ab51-0651-4667-94b4-9d9c924a6e45",
        "outputId": "5a518388-572c-49dd-99f2-2311e20c1582"
      },
      "outputs": [
        {
          "output_type": "stream",
          "name": "stdout",
          "text": [
            "Added: 56 | List: [56]\n"
          ]
        }
      ],
      "source": [
        "#Example:-\n",
        "import queue\n",
        "import threading\n",
        "\n",
        "q = queue.Queue()\n",
        "\n",
        "def producer():\n",
        "    q.put(1)  # Safe to add data\n",
        "\n",
        "def consumer():\n",
        "    item = q.get()  # Safe to retrieve data\n"
      ]
    },
    {
      "cell_type": "markdown",
      "id": "c769ccfa-ad4e-43e1-a5c3-85954a2293c5",
      "metadata": {
        "id": "c769ccfa-ad4e-43e1-a5c3-85954a2293c5"
      },
      "source": [
        "### 2. Sharing Data Between Processes\n",
        "\n",
        "Sharing data between processes is more complex because each process has its own memory space. Python provides several tools to handle this safely."
      ]
    },
    {
      "cell_type": "markdown",
      "id": "0573f147-42ae-45a1-8785-f8ff69060c8a",
      "metadata": {
        "id": "0573f147-42ae-45a1-8785-f8ff69060c8a"
      },
      "source": [
        "#### a. Multiprocessing Manager (multiprocessing.Manager)\n",
        "\n",
        "Purpose: A Manager allows different processes to share Python objects like lists, dictionaries, and namespaces.\n",
        "\n",
        "Usage: Provides a way to create shared objects that are accessible across processes."
      ]
    },
    {
      "cell_type": "code",
      "execution_count": 36,
      "id": "def826f8-9525-4f8c-b61a-3be4ca3569e1",
      "metadata": {
        "colab": {
          "base_uri": "https://localhost:8080/"
        },
        "id": "def826f8-9525-4f8c-b61a-3be4ca3569e1",
        "outputId": "fa594000-aebf-4487-ebb8-59a09d581838"
      },
      "outputs": [
        {
          "output_type": "stream",
          "name": "stdout",
          "text": [
            "Removed: 56 | List: []\n",
            "[1, 1]\n"
          ]
        }
      ],
      "source": [
        "#Example:-\n",
        "from multiprocessing import Manager, Process\n",
        "\n",
        "def worker(shared_list):\n",
        "    shared_list.append(1)\n",
        "\n",
        "if __name__ == \"__main__\":\n",
        "    manager = Manager()\n",
        "    shared_list = manager.list()\n",
        "\n",
        "    p1 = Process(target=worker, args=(shared_list,))\n",
        "    p2 = Process(target=worker, args=(shared_list,))\n",
        "    p1.start()\n",
        "    p2.start()\n",
        "    p1.join()\n",
        "    p2.join()\n",
        "\n",
        "    print(shared_list)  # Output: [1, 1]\n"
      ]
    },
    {
      "cell_type": "markdown",
      "id": "31a58197-532e-47a2-a390-fc2656c53499",
      "metadata": {
        "id": "31a58197-532e-47a2-a390-fc2656c53499"
      },
      "source": [
        "#### b. Shared Memory (multiprocessing.Array, multiprocessing.Value)\n",
        "\n",
        "Purpose: Provides shared memory arrays and values that can be safely accessed by multiple processes.\n",
        "\n",
        "Usage: Suitable for sharing simple data structures like integers, floats, or arrays between processes."
      ]
    },
    {
      "cell_type": "code",
      "execution_count": 37,
      "id": "9f94c52f-1bfe-4aae-90cc-c5d0788b2d68",
      "metadata": {
        "colab": {
          "base_uri": "https://localhost:8080/"
        },
        "id": "9f94c52f-1bfe-4aae-90cc-c5d0788b2d68",
        "outputId": "cf38cb36-e001-43fe-a189-d7b71d9a7812"
      },
      "outputs": [
        {
          "output_type": "stream",
          "name": "stdout",
          "text": [
            "[11, 12, 13, 14]\n"
          ]
        }
      ],
      "source": [
        "#Example:-\n",
        "from multiprocessing import Array, Value, Process\n",
        "\n",
        "def worker(shared_array, shared_value):\n",
        "    for i in range(len(shared_array)):\n",
        "        shared_array[i] += shared_value.value\n",
        "\n",
        "if __name__ == \"__main__\":\n",
        "    shared_array = Array('i', [1, 2, 3, 4])\n",
        "    shared_value = Value('i', 10)\n",
        "\n",
        "    p = Process(target=worker, args=(shared_array, shared_value))\n",
        "    p.start()\n",
        "    p.join()\n",
        "\n",
        "    print(shared_array[:])  # Output: [11, 12, 13, 14]\n"
      ]
    },
    {
      "cell_type": "markdown",
      "id": "8d51ec2a-4b49-4bd4-8903-8138227ff022",
      "metadata": {
        "id": "8d51ec2a-4b49-4bd4-8903-8138227ff022"
      },
      "source": [
        "#### c. Pipe (multiprocessing.Pipe)\n",
        "\n",
        "Purpose: A Pipe allows two-way communication between two processes, enabling them to send and receive data.\n",
        "\n",
        "Usage: Suitable for small amounts of data or for sending signals between processes."
      ]
    },
    {
      "cell_type": "code",
      "execution_count": 38,
      "id": "0be4e070-056b-47f8-af0c-06038ffde24d",
      "metadata": {
        "colab": {
          "base_uri": "https://localhost:8080/"
        },
        "id": "0be4e070-056b-47f8-af0c-06038ffde24d",
        "outputId": "10ca897b-2fcc-4062-989f-97393281ec90"
      },
      "outputs": [
        {
          "output_type": "stream",
          "name": "stdout",
          "text": [
            "Hello from worker!\n"
          ]
        }
      ],
      "source": [
        "#Example:-\n",
        "from multiprocessing import Pipe, Process\n",
        "\n",
        "def worker(conn):\n",
        "    conn.send(\"Hello from worker!\")\n",
        "    conn.close()\n",
        "\n",
        "if __name__ == \"__main__\":\n",
        "    parent_conn, child_conn = Pipe()\n",
        "    p = Process(target=worker, args=(child_conn,))\n",
        "    p.start()\n",
        "    print(parent_conn.recv())  # Output: \"Hello from worker!\"\n",
        "    p.join()\n"
      ]
    },
    {
      "cell_type": "markdown",
      "id": "f4686cce-2d1e-4b55-856a-3630a4885687",
      "metadata": {
        "id": "f4686cce-2d1e-4b55-856a-3630a4885687"
      },
      "source": [
        "#### d. Queue (multiprocessing.Queue)\n",
        "\n",
        "Purpose: Similar to queue.Queue in threading, multiprocessing.Queue is a process-safe FIFO queue.\n",
        "\n",
        "Usage: Allows multiple processes to safely put data into or retrieve data from the queue."
      ]
    },
    {
      "cell_type": "code",
      "execution_count": 39,
      "id": "726ef711-0196-47fa-8708-252d5bda2284",
      "metadata": {
        "colab": {
          "base_uri": "https://localhost:8080/"
        },
        "id": "726ef711-0196-47fa-8708-252d5bda2284",
        "outputId": "e276b55b-15e0-4637-d668-3f434797e0d8"
      },
      "outputs": [
        {
          "output_type": "stream",
          "name": "stdout",
          "text": [
            "1\n",
            "Removed: 1 | List: [1]\n",
            "Removed: 1 | List: []\n"
          ]
        }
      ],
      "source": [
        "#Example:-\n",
        "from multiprocessing import Queue, Process\n",
        "\n",
        "def producer(q):\n",
        "    q.put(1)\n",
        "\n",
        "def consumer(q):\n",
        "    print(q.get())\n",
        "\n",
        "if __name__ == \"__main__\":\n",
        "    q = Queue()\n",
        "    p1 = Process(target=producer, args=(q,))\n",
        "    p2 = Process(target=consumer, args=(q,))\n",
        "    p1.start()\n",
        "    p2.start()\n",
        "    p1.join()\n",
        "    p2.join()\n"
      ]
    },
    {
      "cell_type": "markdown",
      "id": "afdead00-b7b5-4039-aa0a-3dc766122c76",
      "metadata": {
        "id": "afdead00-b7b5-4039-aa0a-3dc766122c76"
      },
      "source": [
        "### 3. Best Practices\n",
        "\n",
        "Use Locks Sparingly: While locks are necessary for ensuring thread/process safety, overuse can lead to contention and performance bottlenecks.\n",
        "\n",
        "Choose the Right Tool: For simple data, shared memory (like Array or Value) may suffice. For complex data structures, consider Manager or Queue.\n",
        "\n",
        "Avoid Deadlocks: Ensure that locks are acquired and released properly to avoid situations where processes or threads are waiting indefinitely."
      ]
    },
    {
      "cell_type": "markdown",
      "id": "b6886630-2a3d-4994-802f-d5bb3703df62",
      "metadata": {
        "id": "b6886630-2a3d-4994-802f-d5bb3703df62"
      },
      "source": [
        "## Q6.Discuss why it’s crucial to handle exceptions in concurrent programs and the techniques available for doing so."
      ]
    },
    {
      "cell_type": "markdown",
      "id": "fe43d0d5-c92d-495f-a5be-5453ac2103b2",
      "metadata": {
        "id": "fe43d0d5-c92d-495f-a5be-5453ac2103b2"
      },
      "source": [
        "### Answer:-"
      ]
    },
    {
      "cell_type": "markdown",
      "id": "02bf8447-8c8f-4c35-869f-a1c6d90edbca",
      "metadata": {
        "id": "02bf8447-8c8f-4c35-869f-a1c6d90edbca"
      },
      "source": [
        "#### Importance of Handling Exceptions in Concurrent Programs:-\n",
        "\n",
        "In concurrent programs, where multiple threads or processes run simultaneously, handling exceptions is crucial for several reasons:"
      ]
    },
    {
      "cell_type": "markdown",
      "id": "690a4b52-5cf4-431c-897e-bff4c38cb6a9",
      "metadata": {
        "id": "690a4b52-5cf4-431c-897e-bff4c38cb6a9"
      },
      "source": [
        "#### Prevent Program Crashes:\n",
        "\n",
        "Uncaught Exceptions: If an exception is not handled within a thread or process, it can lead to the termination of that thread or process. In some cases, especially in multithreading, an unhandled exception might crash the entire program.\n",
        "\n",
        "Example: If a thread responsible for critical functionality (e.g., data saving) encounters an error and crashes without handling it, important data might be lost.\n",
        "Ensuring Consistency and Integrity:\n",
        "\n",
        "Shared Resources: In concurrent programs, multiple threads or processes may share resources like files, databases, or memory. If an exception occurs while accessing these resources, it could leave them in an inconsistent state.\n",
        "\n",
        "Example: If a thread encounters an error while writing to a shared file and terminates prematurely, the file could be left corrupted.\n",
        "Maintaining Responsiveness:\n",
        "\n",
        "Blocking Operations: If one thread or process encounters an exception and doesn't handle it properly, it might block other threads or processes, leading to a sluggish or unresponsive program.\n",
        "\n",
        "Example: In a web server, if a worker thread crashes due to an unhandled exception, it might lead to a backlog of requests, degrading the user experience.\n",
        "Graceful Shutdown and Cleanup:\n",
        "\n",
        "Resource Management: Proper exception handling allows for the graceful shutdown of threads or processes, ensuring that resources like file handles, database connections, and memory are released appropriatey.\n",
        "\n",
        "Example: If an exception occurs while accessing a database, handling the exception allows the program to close the database connection cleanly before terminating.\n",
        "Debugging and Logging:\n",
        "\n",
        "Traceability: Handling exceptions allows developers to log errors and stack traces, which are invaluable for diagnosing issues in concurrent programs.\n",
        "\n",
        "Example: If a thread fails due to an exception, logging the error message and stack trace can help identify the cause and fix it."
      ]
    },
    {
      "cell_type": "markdown",
      "id": "8bf67c07-f55c-43c2-a18c-625c5c62347b",
      "metadata": {
        "id": "8bf67c07-f55c-43c2-a18c-625c5c62347b"
      },
      "source": [
        "### Techniques for Handling Exceptions in Concurrent Programs"
      ]
    },
    {
      "cell_type": "markdown",
      "id": "86d33c24-9cce-4868-b3df-821970b17825",
      "metadata": {
        "id": "86d33c24-9cce-4868-b3df-821970b17825"
      },
      "source": [
        "#### 1. Try-Except Blocks\n",
        "\n",
        "Purpose: The most common way to handle exceptions in Python is using try-except blocks.\n",
        "\n",
        "Usage: Wrap the code that might raise an exception in a try block and handle the exception in the except block"
      ]
    },
    {
      "cell_type": "code",
      "execution_count": 40,
      "id": "5f4e8759-9449-40fb-8111-da90c479217c",
      "metadata": {
        "colab": {
          "base_uri": "https://localhost:8080/"
        },
        "id": "5f4e8759-9449-40fb-8111-da90c479217c",
        "outputId": "7e952f12-86a3-4f3a-e9ee-77421ec3c2b3"
      },
      "outputs": [
        {
          "output_type": "stream",
          "name": "stdout",
          "text": [
            "Exception caught in thread: division by zero\n"
          ]
        }
      ],
      "source": [
        "#Example:-\n",
        "import threading\n",
        "\n",
        "def thread_function():\n",
        "    try:\n",
        "        # Some risky operation\n",
        "        result = 10 / 0\n",
        "    except ZeroDivisionError as e:\n",
        "        print(f\"Exception caught in thread: {e}\")\n",
        "\n",
        "thread = threading.Thread(target=thread_function)\n",
        "thread.start()\n",
        "thread.join()\n"
      ]
    },
    {
      "cell_type": "markdown",
      "id": "47408494-6b11-4f7d-b5ec-29bc45ac5d3f",
      "metadata": {
        "id": "47408494-6b11-4f7d-b5ec-29bc45ac5d3f"
      },
      "source": [
        "#### 2. Exception Handling in Threaded Programs\n",
        "\n",
        "Threading Library: In Python's threading library, exceptions that occur in threads are not automatically propagated to the main thread. It’s necessary to handle exceptions within each thread explicitly."
      ]
    },
    {
      "cell_type": "code",
      "execution_count": 41,
      "id": "84d8221b-1e1a-480b-86cd-85e60052f49f",
      "metadata": {
        "colab": {
          "base_uri": "https://localhost:8080/"
        },
        "id": "84d8221b-1e1a-480b-86cd-85e60052f49f",
        "outputId": "79c93def-e35a-4c72-ade8-dd2b8e6af153"
      },
      "outputs": [
        {
          "output_type": "stream",
          "name": "stdout",
          "text": [
            "Handled exception in thread: division by zero\n",
            "List is empty, waiting to remove...\n"
          ]
        }
      ],
      "source": [
        "#Example:-\n",
        "import threading\n",
        "\n",
        "def safe_thread_function():\n",
        "    try:\n",
        "        # Some risky operation\n",
        "        result = 10 / 0\n",
        "    except Exception as e:\n",
        "        print(f\"Handled exception in thread: {e}\")\n",
        "\n",
        "thread = threading.Thread(target=safe_thread_function)\n",
        "thread.start()\n",
        "thread.join()\n"
      ]
    },
    {
      "cell_type": "markdown",
      "id": "2223f7e1-cead-45e5-b066-0effc3419bb7",
      "metadata": {
        "id": "2223f7e1-cead-45e5-b066-0effc3419bb7"
      },
      "source": [
        "#### 3. Exception Handling in Multiprocessing\n",
        "\n",
        "Process Pool Exception Handling: When using multiprocessing.Pool, exceptions in worker processes can be caught and handled by using the apply, apply_async, or map methods."
      ]
    },
    {
      "cell_type": "code",
      "execution_count": 42,
      "id": "b9985add-0eef-4c91-9716-c50af7ae880f",
      "metadata": {
        "colab": {
          "base_uri": "https://localhost:8080/"
        },
        "id": "b9985add-0eef-4c91-9716-c50af7ae880f",
        "outputId": "7ced3330-a6db-4ad9-fc97-5e47e94dad2b"
      },
      "outputs": [
        {
          "output_type": "stream",
          "name": "stdout",
          "text": [
            "Handled exception: Intentional Error!\n",
            "Added: 47 | List: [47]\n",
            "Removed: 47 | List: []\n"
          ]
        }
      ],
      "source": [
        "#Example with apply_async:\n",
        "\n",
        "from multiprocessing import Pool\n",
        "\n",
        "def risky_function(x):\n",
        "    if x == 5:\n",
        "        raise ValueError(\"Intentional Error!\")\n",
        "    return x * x\n",
        "\n",
        "def handle_error(e):\n",
        "    print(f\"Handled exception: {e}\")\n",
        "\n",
        "if __name__ == \"__main__\":\n",
        "    pool = Pool(processes=4)\n",
        "    result = pool.apply_async(risky_function, (5,), error_callback=handle_error)\n",
        "    pool.close()\n",
        "    pool.join()\n"
      ]
    },
    {
      "cell_type": "markdown",
      "id": "cc4f0979-9e26-4cb4-a8bf-07222a576d99",
      "metadata": {
        "id": "cc4f0979-9e26-4cb4-a8bf-07222a576d99"
      },
      "source": [
        "#### 4. Custom Exception Handling in Concurrent Programs\n",
        "\n",
        "Custom Handlers: Define custom exception handlers for specific scenarios, such as when interacting with external APIs, handling file I/O, or managing resources."
      ]
    },
    {
      "cell_type": "code",
      "execution_count": 43,
      "id": "d493d0cd-709f-4c6d-9b9c-b6b09880270a",
      "metadata": {
        "colab": {
          "base_uri": "https://localhost:8080/"
        },
        "id": "d493d0cd-709f-4c6d-9b9c-b6b09880270a",
        "outputId": "f26c74ba-84a4-42af-8e37-df407648074a"
      },
      "outputs": [
        {
          "output_type": "stream",
          "name": "stdout",
          "text": [
            "Handled exception: [Errno 2] No such file or directory: 'non_existent_file.txt'\n"
          ]
        }
      ],
      "source": [
        "#Example:-\n",
        "import threading\n",
        "\n",
        "def file_writer():\n",
        "    try:\n",
        "        with open('non_existent_file.txt', 'r') as file:\n",
        "            data = file.read()\n",
        "    except FileNotFoundError as e:\n",
        "        print(f\"Handled exception: {e}\")\n",
        "\n",
        "thread = threading.Thread(target=file_writer)\n",
        "thread.start()\n",
        "thread.join()\n"
      ]
    },
    {
      "cell_type": "markdown",
      "id": "067df880-cb47-40d1-84b4-335f78f77897",
      "metadata": {
        "id": "067df880-cb47-40d1-84b4-335f78f77897"
      },
      "source": [
        "#### 5. Using concurrent.futures for Exception Handling\n",
        "\n",
        "ThreadPoolExecutor and ProcessPoolExecutor: The concurrent.futures module provides a higher-level API for managing threads and processes. It simplifies exception handling by propagating exceptions back to the main thread."
      ]
    },
    {
      "cell_type": "code",
      "execution_count": 44,
      "id": "87246899-c9cf-45f4-850e-a512d495e4cc",
      "metadata": {
        "colab": {
          "base_uri": "https://localhost:8080/"
        },
        "id": "87246899-c9cf-45f4-850e-a512d495e4cc",
        "outputId": "55964430-94e6-4880-fa74-cb63364aff06"
      },
      "outputs": [
        {
          "output_type": "stream",
          "name": "stdout",
          "text": [
            "16\n",
            "49\n",
            "1\n",
            "9\n",
            "4\n",
            "81\n",
            "0\n",
            "36\n",
            "Handled exception: Intentional Error!\n",
            "64\n"
          ]
        }
      ],
      "source": [
        "#Example:-\n",
        "from concurrent.futures import ThreadPoolExecutor, as_completed\n",
        "\n",
        "def risky_operation(x):\n",
        "    if x == 5:\n",
        "        raise ValueError(\"Intentional Error!\")\n",
        "    return x * x\n",
        "\n",
        "with ThreadPoolExecutor(max_workers=4) as executor:\n",
        "    futures = [executor.submit(risky_operation, i) for i in range(10)]\n",
        "    for future in as_completed(futures):\n",
        "        try:\n",
        "            result = future.result()\n",
        "            print(result)\n",
        "        except Exception as e:\n",
        "            print(f\"Handled exception: {e}\")\n"
      ]
    },
    {
      "cell_type": "code",
      "execution_count": 44,
      "id": "be10aa1a-e23c-44c4-84b3-684e6b3be935",
      "metadata": {
        "id": "be10aa1a-e23c-44c4-84b3-684e6b3be935"
      },
      "outputs": [],
      "source": []
    },
    {
      "cell_type": "markdown",
      "id": "ee52566c-022c-4398-905b-fbf4b6bba96d",
      "metadata": {
        "id": "ee52566c-022c-4398-905b-fbf4b6bba96d"
      },
      "source": [
        "## Q7.Create a program that uses a thread pool to calculate the factorial of numbers from 1 to 10 concurrently. Use concurrent.futures.ThreadPoolExecutor to manage the threads."
      ]
    },
    {
      "cell_type": "markdown",
      "id": "46a2f523-808d-4da0-8801-2d7e23b84534",
      "metadata": {
        "id": "46a2f523-808d-4da0-8801-2d7e23b84534"
      },
      "source": [
        "### Answer:-"
      ]
    },
    {
      "cell_type": "markdown",
      "id": "74e937da-dea0-46fa-b0ee-072edffd36a3",
      "metadata": {
        "id": "74e937da-dea0-46fa-b0ee-072edffd36a3"
      },
      "source": [
        "#### Here’s a Python program that uses a ThreadPoolExecutor to calculate the factorial of numbers from 1 to 10 concurrently:"
      ]
    },
    {
      "cell_type": "code",
      "execution_count": 45,
      "id": "bf16739a-a337-4fe8-8cc8-6c62404cf9a4",
      "metadata": {
        "colab": {
          "base_uri": "https://localhost:8080/"
        },
        "id": "bf16739a-a337-4fe8-8cc8-6c62404cf9a4",
        "outputId": "0223f19b-708e-4d7c-ec19-b90c2572b241"
      },
      "outputs": [
        {
          "output_type": "stream",
          "name": "stdout",
          "text": [
            "Factorial of 7 is 5040\n",
            "Factorial of 9 is 362880\n",
            "Factorial of 4 is 24\n",
            "Factorial of 8 is 40320\n",
            "Factorial of 3 is 6\n",
            "Factorial of 5 is 120\n",
            "Factorial of 6 is 720\n",
            "Factorial of 2 is 2\n",
            "Factorial of 10 is 3628800\n",
            "Factorial of 1 is 1\n"
          ]
        }
      ],
      "source": [
        "#Example:-\n",
        "\n",
        "from concurrent.futures import ThreadPoolExecutor, as_completed\n",
        "import math\n",
        "\n",
        "def factorial(n):\n",
        "    \"\"\"Function to compute factorial of a given number.\"\"\"\n",
        "    return math.factorial(n)\n",
        "\n",
        "def main():\n",
        "    # Create a ThreadPoolExecutor with a number of workers\n",
        "    with ThreadPoolExecutor(max_workers=5) as executor:\n",
        "        # Submit tasks to the executor to compute factorials from 1 to 10\n",
        "        futures = {executor.submit(factorial, i): i for i in range(1, 11)}\n",
        "\n",
        "        # Process the results as they complete\n",
        "        for future in as_completed(futures):\n",
        "            num = futures[future]\n",
        "            try:\n",
        "                result = future.result()\n",
        "                print(f\"Factorial of {num} is {result}\")\n",
        "            except Exception as e:\n",
        "                print(f\"An error occurred while calculating factorial of {num}: {e}\")\n",
        "\n",
        "if __name__ == \"__main__\":\n",
        "    main()\n"
      ]
    },
    {
      "cell_type": "markdown",
      "id": "df3c0aea-72d4-4393-b260-ff1425d80120",
      "metadata": {
        "id": "df3c0aea-72d4-4393-b260-ff1425d80120"
      },
      "source": [
        "## Q8.Create a Python program that uses multiprocessing.Pool to compute the square of numbers from 1 to 10 in parallel. Measure the time taken to perform this computation using a pool of different sizes (e.g., 2, 4, 8 processes)."
      ]
    },
    {
      "cell_type": "markdown",
      "id": "5f33ed5d-8da3-4c83-873e-db3bcbef672c",
      "metadata": {
        "id": "5f33ed5d-8da3-4c83-873e-db3bcbef672c"
      },
      "source": [
        "### Answer:-"
      ]
    },
    {
      "cell_type": "markdown",
      "id": "f2922641-9b41-4037-aab6-3a50f40e8a0b",
      "metadata": {
        "id": "f2922641-9b41-4037-aab6-3a50f40e8a0b"
      },
      "source": [
        "####\n",
        "Here's a Python program that uses multiprocessing.Pool to compute the square of numbers from 1 to 10 in parallel.\n",
        "The program will also measure the time taken to perform this computation with different pool sizes (e.g., 2, 4, 8 processes)"
      ]
    },
    {
      "cell_type": "code",
      "execution_count": 46,
      "id": "552bc1ec-200a-44a5-9b68-71460174f222",
      "metadata": {
        "colab": {
          "base_uri": "https://localhost:8080/"
        },
        "id": "552bc1ec-200a-44a5-9b68-71460174f222",
        "outputId": "5ce88543-4214-45e3-f2ee-907de104cbcf"
      },
      "outputs": [
        {
          "output_type": "stream",
          "name": "stdout",
          "text": [
            "List is empty, waiting to remove...\n",
            "Added: 19 | List: [19]\n",
            "Added: 30 | List: [19, 30]\n",
            "Pool size: 2, Time taken: 0.0647 seconds\n",
            "Results: [1, 4, 9, 16, 25, 36, 49, 64, 81, 100]\n",
            "Pool size: 4, Time taken: 0.1084 seconds\n",
            "Results: [1, 4, 9, 16, 25, 36, 49, 64, 81, 100]\n",
            "Added: 20 | List: [19, 30, 20]\n",
            "Pool size: 8, Time taken: 0.2443 seconds\n",
            "Results: [1, 4, 9, 16, 25, 36, 49, 64, 81, 100]\n"
          ]
        }
      ],
      "source": [
        "#Example:-\n",
        "import multiprocessing\n",
        "import time\n",
        "\n",
        "def square(n):\n",
        "    \"\"\"Function to compute the square of a number.\"\"\"\n",
        "    return n * n\n",
        "\n",
        "def compute_squares(pool_size):\n",
        "    \"\"\"Function to compute squares using a pool of processes.\"\"\"\n",
        "    with multiprocessing.Pool(processes=pool_size) as pool:\n",
        "        results = pool.map(square, range(1, 11))\n",
        "    return results\n",
        "\n",
        "def measure_time(pool_size):\n",
        "    \"\"\"Measure and print the time taken for computation.\"\"\"\n",
        "    start_time = time.time()\n",
        "    results = compute_squares(pool_size)\n",
        "    end_time = time.time()\n",
        "    elapsed_time = end_time - start_time\n",
        "    print(f\"Pool size: {pool_size}, Time taken: {elapsed_time:.4f} seconds\")\n",
        "    print(f\"Results: {results}\")\n",
        "\n",
        "if __name__ == \"__main__\":\n",
        "    # List of pool sizes to test\n",
        "    pool_sizes = [2, 4, 8]\n",
        "\n",
        "    for size in pool_sizes:\n",
        "        measure_time(size)\n"
      ]
    },
    {
      "cell_type": "markdown",
      "source": [
        "# Thank You"
      ],
      "metadata": {
        "id": "t0hnwe6TFLyA"
      },
      "id": "t0hnwe6TFLyA"
    }
  ],
  "metadata": {
    "kernelspec": {
      "display_name": "Python 3 (ipykernel)",
      "language": "python",
      "name": "python3"
    },
    "language_info": {
      "codemirror_mode": {
        "name": "ipython",
        "version": 3
      },
      "file_extension": ".py",
      "mimetype": "text/x-python",
      "name": "python",
      "nbconvert_exporter": "python",
      "pygments_lexer": "ipython3",
      "version": "3.12.5"
    },
    "colab": {
      "provenance": []
    }
  },
  "nbformat": 4,
  "nbformat_minor": 5
}