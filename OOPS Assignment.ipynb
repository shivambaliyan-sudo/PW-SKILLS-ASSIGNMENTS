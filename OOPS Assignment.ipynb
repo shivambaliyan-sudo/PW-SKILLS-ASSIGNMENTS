{
 "cells": [
  {
   "cell_type": "markdown",
   "id": "23db3a82-457c-4072-acac-17f0a6a7d144",
   "metadata": {},
   "source": [
    "# OPPS Assignment."
   ]
  },
  {
   "cell_type": "markdown",
   "id": "58eb459d-98a8-4c25-b61e-8a3c25afbbdc",
   "metadata": {},
   "source": [
    "## Q1.What are the five key concepts of Object-Oriented Programming (OOP)?"
   ]
  },
  {
   "cell_type": "markdown",
   "id": "340b70f8-d598-45ea-a716-8a5e19ad2f1b",
   "metadata": {},
   "source": [
    "### Answer:-"
   ]
  },
  {
   "cell_type": "markdown",
   "id": "a0248701-50c1-47e2-b1b5-68ffeed6a82a",
   "metadata": {},
   "source": [
    "### The five key concepts of Object-Oriented Programming (OOP) are:\n",
    "\n",
    "Class: A blueprint for creating objects (instances). A class defines attributes (data) and methods (functions) that the objects of the class will have.\n",
    "\n",
    "Object: An instance of a class. Objects are the actual entities created using the class blueprint, and they can hold data and have methods to manipulate that data.\n",
    "\n",
    "Encapsulation: The concept of bundling data (attributes) and methods (functions) that operate on the data into a single unit or class, and restricting access to some of the object's components. This helps protect the data from being modified unintentionally by outside functions or classes.\n",
    "\n",
    "Inheritance: A mechanism by which one class (child or subclass) can inherit properties and methods from another class (parent or superclass). This promotes code reuse and establishes a hierarchical relationship between classes.\n",
    "\n",
    "Polymorphism: The ability of objects of different classes to be treated as objects of a common superclass. More generally, it refers to the ability of different types of objects to respond to the same method call in a way that is appropriate for their class. It allows the same operation to behave differently on different classes."
   ]
  },
  {
   "cell_type": "markdown",
   "id": "8b3e807e-7bf3-4524-9dbd-b78c28bd769b",
   "metadata": {},
   "source": [
    "## Q2.Write a Python class for a `Car` with attributes for `make`, `model`, and `year`. Include a method to display the car's information."
   ]
  },
  {
   "cell_type": "markdown",
   "id": "99e6f596-e802-4a24-997a-7e15b4735801",
   "metadata": {},
   "source": [
    "### Answer:-"
   ]
  },
  {
   "cell_type": "markdown",
   "id": "4aaae7c2-72bb-4e0e-84fb-ba04808b0fab",
   "metadata": {},
   "source": [
    "### Here's a simple Python class for a Car with attributes make, model, and year, and a method to display the car's information:"
   ]
  },
  {
   "cell_type": "code",
   "execution_count": 1,
   "id": "c206b27e-d808-49cf-b246-2968fbf98178",
   "metadata": {},
   "outputs": [
    {
     "name": "stdout",
     "output_type": "stream",
     "text": [
      "Car Information: 2021 Toyota Corolla\n"
     ]
    }
   ],
   "source": [
    "class Car:\n",
    "    def __init__(self, make, model, year):\n",
    "        # Constructor to initialize the attributes\n",
    "        self.make = make\n",
    "        self.model = model\n",
    "        self.year = year\n",
    "\n",
    "    def display_info(self):\n",
    "        # Method to display the car's information\n",
    "        print(f\"Car Information: {self.year} {self.make} {self.model}\")\n",
    "\n",
    "# Example of creating an object of Car class and displaying its information\n",
    "my_car = Car(\"Toyota\", \"Corolla\", 2021)\n",
    "my_car.display_info()\n"
   ]
  },
  {
   "cell_type": "markdown",
   "id": "dca38004-486c-40b3-9290-db2a9f1cc76b",
   "metadata": {},
   "source": [
    "### Q3.Explain the difference between instance methods and class methods. Provide an example of each."
   ]
  },
  {
   "cell_type": "markdown",
   "id": "e51a15d2-4cd6-4a2e-8a0e-837cf6590dc9",
   "metadata": {},
   "source": [
    "### Answer:-"
   ]
  },
  {
   "cell_type": "markdown",
   "id": "f5d42f24-5b9b-4bdd-b22a-bb99bab47b35",
   "metadata": {},
   "source": [
    "#### In Python, instance methods and class methods are two types of methods that define how a class and its objects (instances) behave. Here's the key difference between them:"
   ]
  },
  {
   "cell_type": "markdown",
   "id": "84c3d210-8c91-428e-b48b-d8002b53c0ea",
   "metadata": {},
   "source": [
    "### 1. Instance Methods:\n",
    "\n",
    "These are methods that operate on instances of a class.\n",
    "They require a class instance and can access the instance through self.\n",
    "Instance methods can modify object-specific data (i.e., instance variables)."
   ]
  },
  {
   "cell_type": "code",
   "execution_count": 2,
   "id": "53ac5a56-e3af-43bc-b77c-2caed433516f",
   "metadata": {},
   "outputs": [
    {
     "name": "stdout",
     "output_type": "stream",
     "text": [
      "Buddy is barking!\n"
     ]
    }
   ],
   "source": [
    "#Example\n",
    "\n",
    "class Dog:\n",
    "    def __init__(self, name, breed):\n",
    "        self.name = name\n",
    "        self.breed = breed\n",
    "\n",
    "    def bark(self):\n",
    "        # Instance method that uses instance-specific data\n",
    "        print(f\"{self.name} is barking!\")\n",
    "\n",
    "# Creating an instance (object) of the Dog class\n",
    "my_dog = Dog(\"Buddy\", \"Golden Retriever\")\n",
    "my_dog.bark()  # Output: Buddy is barking!\n"
   ]
  },
  {
   "cell_type": "markdown",
   "id": "507dcc38-adca-472a-8061-114dbc20f670",
   "metadata": {},
   "source": [
    "### 2. Class Methods:\n",
    "\n",
    "These are methods that are bound to the class and not the instance of the class.\n",
    "They take cls as the first parameter, which refers to the class itself, and not the object instance.\n",
    "Class methods can modify class-level data (shared across all instances).\n",
    "You declare a class method using the @classmethod decorator."
   ]
  },
  {
   "cell_type": "code",
   "execution_count": 3,
   "id": "8cd7dc35-6b5f-4fdb-b80f-31bdac1d0a82",
   "metadata": {},
   "outputs": [
    {
     "name": "stdout",
     "output_type": "stream",
     "text": [
      "Feline\n"
     ]
    }
   ],
   "source": [
    "#Example\n",
    "\n",
    "class Dog:\n",
    "    species = \"Canine\"  # Class attribute shared by all instances\n",
    "\n",
    "    def __init__(self, name, breed):\n",
    "        self.name = name\n",
    "        self.breed = breed\n",
    "\n",
    "    @classmethod\n",
    "    def change_species(cls, new_species):\n",
    "        # Class method that modifies the class attribute\n",
    "        cls.species = new_species\n",
    "\n",
    "# Using the class method to change the class attribute\n",
    "Dog.change_species(\"Feline\")\n",
    "print(Dog.species)  # Output: Feline\n"
   ]
  },
  {
   "cell_type": "markdown",
   "id": "9241732a-853e-4f55-80c8-ff007490471c",
   "metadata": {},
   "source": [
    "## Q4. How does Python implement method overloading? Give an example."
   ]
  },
  {
   "cell_type": "markdown",
   "id": "d1e6ed03-fa9c-48ed-adf9-06752c9395a7",
   "metadata": {},
   "source": [
    "### Answer:-"
   ]
  },
  {
   "cell_type": "markdown",
   "id": "cc1ad3ca-4a5c-441d-928a-faf6498b8174",
   "metadata": {},
   "source": [
    "#### In Python, method overloading (having multiple methods with the same name but different signatures) is not supported in the traditional sense like in languages such as Java or C++. However, Python allows achieving similar functionality through a technique called dynamic typing and default arguments. Essentially, you can define a method that can handle different numbers or types of arguments, making it behave like an overloaded method."
   ]
  },
  {
   "cell_type": "markdown",
   "id": "2b7dbe6b-2bfb-4ca1-8aa4-eea012d38226",
   "metadata": {},
   "source": [
    "### Implementing Method Overloading in Python\n",
    "\n",
    "Using Default Arguments: You can define default values for arguments, which makes a method behave differently based on how many arguments are passed.\n",
    "\n",
    "    \n",
    "Using Variable-Length Arguments: You can use *args or **kwargs to pass a variable number of arguments and handle them accordingly inside the method."
   ]
  },
  {
   "cell_type": "code",
   "execution_count": 4,
   "id": "03077f36-4bcc-4577-b2ec-e50b572a77e2",
   "metadata": {},
   "outputs": [
    {
     "name": "stdout",
     "output_type": "stream",
     "text": [
      "5\n",
      "15\n",
      "30\n"
     ]
    }
   ],
   "source": [
    "#Example of Method Overloading Using Default Arguments:\n",
    "class Calculator:\n",
    "    def add(self, a, b=0, c=0):\n",
    "        # This method can take 1, 2, or 3 arguments and return their sum\n",
    "        return a + b + c\n",
    "\n",
    "# Creating an instance of the Calculator class\n",
    "calc = Calculator()\n",
    "\n",
    "# Calling the 'add' method with different numbers of arguments\n",
    "print(calc.add(5))           # Output: 5 (uses a=5, b=0, c=0)\n",
    "print(calc.add(5, 10))       # Output: 15 (uses a=5, b=10, c=0)\n",
    "print(calc.add(5, 10, 15))   # Output: 30 (uses a=5, b=10, c=15)\n"
   ]
  },
  {
   "cell_type": "code",
   "execution_count": 5,
   "id": "98e94c00-c2fd-4592-b963-bd3ca3571773",
   "metadata": {},
   "outputs": [
    {
     "name": "stdout",
     "output_type": "stream",
     "text": [
      "5\n",
      "15\n",
      "30\n"
     ]
    }
   ],
   "source": [
    "#Example of Method Overloading Using *args:\n",
    "\n",
    "class Calculator:\n",
    "    def add(self, *args):\n",
    "        # This method can take any number of arguments and return their sum\n",
    "        return sum(args)\n",
    "\n",
    "# Creating an instance of the Calculator class\n",
    "calc = Calculator()\n",
    "\n",
    "# Calling the 'add' method with different numbers of arguments\n",
    "print(calc.add(5))           # Output: 5\n",
    "print(calc.add(5, 10))       # Output: 15\n",
    "print(calc.add(5, 10, 15))   # Output: 30\n"
   ]
  },
  {
   "cell_type": "markdown",
   "id": "0c6900c4-960b-480b-be6f-bd4fbf7bb6a2",
   "metadata": {},
   "source": [
    "## Q5.What are the three types of access modifiers in Python? How are they denoted?"
   ]
  },
  {
   "cell_type": "markdown",
   "id": "1fa071d7-ae6f-4d0e-9e3b-1433ff746497",
   "metadata": {},
   "source": [
    "### Answer:-"
   ]
  },
  {
   "cell_type": "markdown",
   "id": "ac8ad7f5-6177-4ac7-8893-9ae271f538ed",
   "metadata": {},
   "source": [
    "#### In Python, access modifiers control the visibility and accessibility of class attributes and methods. Python has three types of access modifiers:"
   ]
  },
  {
   "cell_type": "markdown",
   "id": "1a348e15-7e78-4361-81fe-dca5127121dd",
   "metadata": {},
   "source": [
    "### 1. Public Access Modifier:\n",
    "\n",
    "Attributes and methods defined as public can be accessed from anywhere, both inside and outside the class.\n",
    "\n",
    "In Python, attributes and methods are public by default.\n",
    "\n",
    "Denotation: No special notation is required for public members; they are accessible from anywhere."
   ]
  },
  {
   "cell_type": "code",
   "execution_count": 7,
   "id": "ac177fcc-c34b-4e9f-bbc6-1cf86aa588de",
   "metadata": {},
   "outputs": [
    {
     "name": "stdout",
     "output_type": "stream",
     "text": [
      "Toyota\n",
      "Car: Toyota Corolla\n"
     ]
    }
   ],
   "source": [
    "#Example\n",
    "class Car:\n",
    "    def __init__(self, make, model):\n",
    "        self.make = make      # Public attribute\n",
    "        self.model = model    # Public attribute\n",
    "\n",
    "    def display_info(self):\n",
    "        print(f\"Car: {self.make} {self.model}\")  # Public method\n",
    "\n",
    "# Accessing public attributes and methods\n",
    "my_car = Car(\"Toyota\", \"Corolla\")\n",
    "print(my_car.make)  # Output: Toyota\n",
    "my_car.display_info()  # Output: Car: Toyota Corolla\n",
    "\n"
   ]
  },
  {
   "cell_type": "markdown",
   "id": "00ca9e34-f28d-49cf-988b-9e6ff13deae7",
   "metadata": {},
   "source": [
    "### 2. Protected Access Modifier:\n",
    "\n",
    "Attributes and methods that are protected can be accessed within the class and its subclasses, but not outside of these.\n",
    "\n",
    "In Python, protected members are indicated by a single underscore (_) before the attribute or method name. However, this is just a convention, and they are not strictly enforced, meaning they can still be accessed outside the class but should be treated as non-public.\n",
    "\n",
    "Denotation: By prefixing the attribute or method with a single underscore (_)."
   ]
  },
  {
   "cell_type": "code",
   "execution_count": 8,
   "id": "d8ceedb2-3663-4f67-b3d4-67a5c936b3b6",
   "metadata": {},
   "outputs": [
    {
     "name": "stdout",
     "output_type": "stream",
     "text": [
      "Electric Car: Tesla Model S\n"
     ]
    }
   ],
   "source": [
    "#Example\n",
    "class Car:\n",
    "    def __init__(self, make, model):\n",
    "        self._make = make     # Protected attribute\n",
    "        self._model = model   # Protected attribute\n",
    "\n",
    "    def _display_info(self):\n",
    "        print(f\"Car: {self._make} {self._model}\")  # Protected method\n",
    "\n",
    "class ElectricCar(Car):\n",
    "    def display(self):\n",
    "        print(f\"Electric Car: {self._make} {self._model}\")  # Accessing protected members in a subclass\n",
    "\n",
    "# Accessing protected attributes and methods\n",
    "my_electric_car = ElectricCar(\"Tesla\", \"Model S\")\n",
    "my_electric_car.display()  # Output: Electric Car: Tesla Model S\n",
    "\n"
   ]
  },
  {
   "cell_type": "markdown",
   "id": "d941ab78-6fea-484e-a4ed-9e546f27f9e0",
   "metadata": {},
   "source": [
    "### 3. Private Access Modifier:\n",
    "\n",
    "Attributes and methods marked as private can only be accessed within the class where they are defined. They are not accessible from outside the class or in derived (subclass) classes.\n",
    "\n",
    "In Python, private members are indicated by a double underscore (__) before the attribute or method name.\n",
    "\n",
    "Python implements name mangling for private members, which changes the attribute name to include the class name, making it harder to access them from outside the class.\n",
    "\n",
    "Denotation: By prefixing the attribute or method with a double underscore (__)."
   ]
  },
  {
   "cell_type": "code",
   "execution_count": 9,
   "id": "f0c54402-542d-4b3f-9aed-10fbd4878a42",
   "metadata": {},
   "outputs": [
    {
     "name": "stdout",
     "output_type": "stream",
     "text": [
      "Car: Toyota Corolla\n"
     ]
    }
   ],
   "source": [
    "#Example\n",
    "class Car:\n",
    "    def __init__(self, make, model):\n",
    "        self.__make = make     # Private attribute\n",
    "        self.__model = model   # Private attribute\n",
    "\n",
    "    def __display_info(self):\n",
    "        print(f\"Car: {self.__make} {self.__model}\")  # Private method\n",
    "\n",
    "    def public_method(self):\n",
    "        self.__display_info()  # Can call private method within the class\n",
    "\n",
    "# Trying to access private attributes and methods\n",
    "my_car = Car(\"Toyota\", \"Corolla\")\n",
    "# print(my_car.__make)  # Raises an AttributeError\n",
    "my_car.public_method()  # Output: Car: Toyota Corolla\n"
   ]
  },
  {
   "cell_type": "markdown",
   "id": "8a535b08-d140-4e49-93f5-52578aab0c93",
   "metadata": {},
   "source": [
    "## Q6.Describe the five types of inheritance in Python. Provide a simple example of multiple inheritance."
   ]
  },
  {
   "cell_type": "markdown",
   "id": "ba966c83-cbde-4f49-aa81-f90f0b9102cc",
   "metadata": {},
   "source": [
    "### Anwer:-"
   ]
  },
  {
   "cell_type": "markdown",
   "id": "1c8826d5-d215-4d99-b9a5-d83f0a203963",
   "metadata": {},
   "source": [
    "#### In Python, inheritance allows one class to acquire properties and behavior (methods) from another class. Python supports five types of inheritance:"
   ]
  },
  {
   "cell_type": "markdown",
   "id": "982095e7-da3d-4d79-8b8b-a1fb4d741122",
   "metadata": {},
   "source": [
    "### 1. Single Inheritance:\n",
    "A single class inherits from one parent class."
   ]
  },
  {
   "cell_type": "code",
   "execution_count": 10,
   "id": "44d89201-3ff0-4508-94eb-7374d8dac83b",
   "metadata": {},
   "outputs": [
    {
     "name": "stdout",
     "output_type": "stream",
     "text": [
      "Animal sound\n",
      "Woof!\n"
     ]
    }
   ],
   "source": [
    "#Example\n",
    "\n",
    "class Animal:\n",
    "    def speak(self):\n",
    "        print(\"Animal sound\")\n",
    "\n",
    "class Dog(Animal):\n",
    "    def bark(self):\n",
    "        print(\"Woof!\")\n",
    "\n",
    "my_dog = Dog()\n",
    "my_dog.speak()  # Inherited method from Animal class\n",
    "my_dog.bark()   # Dog's own method\n"
   ]
  },
  {
   "cell_type": "markdown",
   "id": "41230772-4d89-4bd3-848a-1be02b1c6ccf",
   "metadata": {},
   "source": [
    "### 2. Multiple Inheritance:\n",
    "A class can inherit from more than one parent class, meaning it can access properties and methods from all parent classes."
   ]
  },
  {
   "cell_type": "code",
   "execution_count": 11,
   "id": "1f3977b8-6017-4980-9085-06cc90fa14f1",
   "metadata": {},
   "outputs": [
    {
     "name": "stdout",
     "output_type": "stream",
     "text": [
      "Animal sound\n",
      "Flying\n"
     ]
    }
   ],
   "source": [
    "#Example\n",
    "\n",
    "class Animal:\n",
    "    def speak(self):\n",
    "        print(\"Animal sound\")\n",
    "\n",
    "class Bird:\n",
    "    def fly(self):\n",
    "        print(\"Flying\")\n",
    "\n",
    "class Bat(Animal, Bird):\n",
    "    pass\n",
    "\n",
    "bat = Bat()\n",
    "bat.speak()  # Inherited from Animal\n",
    "bat.fly()    # Inherited from Bird\n"
   ]
  },
  {
   "cell_type": "markdown",
   "id": "68e6e3c1-7840-49f1-a45c-26c2a1a975f2",
   "metadata": {},
   "source": [
    "### 3. Multilevel Inheritance:\n",
    "A class can inherit from a class, which in turn inherits from another class, creating a chain of inheritance."
   ]
  },
  {
   "cell_type": "code",
   "execution_count": 12,
   "id": "37be1692-f16f-4ffe-abd2-a7dcd9312207",
   "metadata": {},
   "outputs": [
    {
     "name": "stdout",
     "output_type": "stream",
     "text": [
      "Animal sound\n",
      "Has fur\n",
      "Woof!\n"
     ]
    }
   ],
   "source": [
    "#Example\n",
    "class Animal:\n",
    "    def speak(self):\n",
    "        print(\"Animal sound\")\n",
    "\n",
    "class Mammal(Animal):\n",
    "    def has_fur(self):\n",
    "        print(\"Has fur\")\n",
    "\n",
    "class Dog(Mammal):\n",
    "    def bark(self):\n",
    "        print(\"Woof!\")\n",
    "\n",
    "dog = Dog()\n",
    "dog.speak()   # Inherited from Animal\n",
    "dog.has_fur() # Inherited from Mammal\n",
    "dog.bark()    # Dog's own method\n"
   ]
  },
  {
   "cell_type": "markdown",
   "id": "7765a40f-7730-4c7b-bbae-50622d371961",
   "metadata": {},
   "source": [
    "### 4. Hierarchical Inheritance:\n",
    "Multiple classes inherit from the same parent class. This is like a parent-child relationship where multiple children share a single parent."
   ]
  },
  {
   "cell_type": "code",
   "execution_count": 13,
   "id": "110fe2d7-b9b3-4e77-b54f-790e5d7d5608",
   "metadata": {},
   "outputs": [
    {
     "name": "stdout",
     "output_type": "stream",
     "text": [
      "Animal sound\n",
      "Animal sound\n"
     ]
    }
   ],
   "source": [
    "#Example\n",
    "class Animal:\n",
    "    def speak(self):\n",
    "        print(\"Animal sound\")\n",
    "\n",
    "class Dog(Animal):\n",
    "    def bark(self):\n",
    "        print(\"Woof!\")\n",
    "\n",
    "class Cat(Animal):\n",
    "    def meow(self):\n",
    "        print(\"Meow!\")\n",
    "\n",
    "dog = Dog()\n",
    "cat = Cat()\n",
    "dog.speak()  # Inherited from Animal\n",
    "cat.speak()  # Inherited from Animal\n"
   ]
  },
  {
   "cell_type": "markdown",
   "id": "0c881974-af0c-43d1-85fe-a27165130e1d",
   "metadata": {},
   "source": [
    "### 5. Hybrid Inheritance:\n",
    "A combination of two or more types of inheritance. This could be any mixture of single, multiple, hierarchical, or multilevel inheritance."
   ]
  },
  {
   "cell_type": "code",
   "execution_count": 14,
   "id": "0499804f-68e8-4279-99eb-d2b6dea4ea8a",
   "metadata": {},
   "outputs": [
    {
     "name": "stdout",
     "output_type": "stream",
     "text": [
      "Animal sound\n",
      "Has fur\n",
      "Flying\n",
      "Hanging upside down\n"
     ]
    }
   ],
   "source": [
    "#Example\n",
    "class Animal:\n",
    "    def speak(self):\n",
    "        print(\"Animal sound\")\n",
    "\n",
    "class Mammal(Animal):\n",
    "    def has_fur(self):\n",
    "        print(\"Has fur\")\n",
    "\n",
    "class Bird(Animal):\n",
    "    def fly(self):\n",
    "        print(\"Flying\")\n",
    "\n",
    "class Bat(Mammal, Bird):\n",
    "    def sleep(self):\n",
    "        print(\"Hanging upside down\")\n",
    "\n",
    "bat = Bat()\n",
    "bat.speak()   # Inherited from Animal\n",
    "bat.has_fur() # Inherited from Mammal\n",
    "bat.fly()     # Inherited from Bird\n",
    "bat.sleep()   # Bat's own method\n"
   ]
  },
  {
   "cell_type": "markdown",
   "id": "94fd8c8a-1f1b-4bb8-8ba8-605948a1a13c",
   "metadata": {},
   "source": [
    "## Multiple Inheritance Example:\n",
    "In multiple inheritance, a class can inherit from more than one parent class. The child class will have access to the methods and properties of both parent classes."
   ]
  },
  {
   "cell_type": "code",
   "execution_count": 15,
   "id": "013a2878-c660-4180-902d-3d330400df76",
   "metadata": {},
   "outputs": [
    {
     "name": "stdout",
     "output_type": "stream",
     "text": [
      "Animal is making a sound\n",
      "Bird is flying\n",
      "Bat is sleeping\n"
     ]
    }
   ],
   "source": [
    "class Animal:\n",
    "    def speak(self):\n",
    "        print(\"Animal is making a sound\")\n",
    "\n",
    "class Bird:\n",
    "    def fly(self):\n",
    "        print(\"Bird is flying\")\n",
    "\n",
    "# Bat inherits from both Animal and Bird\n",
    "class Bat(Animal, Bird):\n",
    "    def sleep(self):\n",
    "        print(\"Bat is sleeping\")\n",
    "\n",
    "# Create an instance of Bat\n",
    "bat = Bat()\n",
    "\n",
    "# Call methods from both parent classes\n",
    "bat.speak()   # Output: Animal is making a sound (from Animal)\n",
    "bat.fly()     # Output: Bird is flying (from Bird)\n",
    "bat.sleep()   # Output: Bat is sleeping (Bat's own method)\n"
   ]
  },
  {
   "cell_type": "markdown",
   "id": "47fce6e5-bcb5-4765-ade6-b02f37548bb3",
   "metadata": {},
   "source": [
    "## Q7.What is the Method Resolution Order (MRO) in Python? How can you retrieve it programmatically?"
   ]
  },
  {
   "cell_type": "markdown",
   "id": "045b0ddd-4cfb-43ec-933d-d74e3be8a677",
   "metadata": {},
   "source": [
    "### Answer:-"
   ]
  },
  {
   "cell_type": "markdown",
   "id": "7edbd817-722d-4507-bef1-49f168608b39",
   "metadata": {},
   "source": [
    "#### The Method Resolution Order (MRO) is the order in which Python looks for a method or attribute in a hierarchy of classes during inheritance. When a class inherits from multiple parent classes (like in multiple inheritance), Python uses the MRO to decide the sequence in which it should search for methods or attributes.\n",
    "\n",
    "MRO ensures that Python follows a predictable and consistent path to avoid conflicts and potential ambiguity, particularly in complex inheritance hierarchies. It is primarily based on the C3 linearization algorithm (also known as C3 superclass linearization)"
   ]
  },
  {
   "cell_type": "markdown",
   "id": "b0f660fb-75b1-44ef-827f-13bccf5f05d8",
   "metadata": {},
   "source": [
    "#### How to Retrieve the MRO Programmatically:\n",
    "\n",
    "You can retrieve the MRO of a class using:\n",
    "\n",
    "The built-in __mro__ attribute.\n",
    "The mro() method of the class.\n",
    "The inspect.getmro() function (from the inspect module)."
   ]
  },
  {
   "cell_type": "code",
   "execution_count": 16,
   "id": "7a17a25a-47bc-487d-9ab0-f99e6be87f2a",
   "metadata": {},
   "outputs": [
    {
     "name": "stdout",
     "output_type": "stream",
     "text": [
      "(<class '__main__.Bat'>, <class '__main__.Mammal'>, <class '__main__.Bird'>, <class '__main__.Animal'>, <class 'object'>)\n",
      "[<class '__main__.Bat'>, <class '__main__.Mammal'>, <class '__main__.Bird'>, <class '__main__.Animal'>, <class 'object'>]\n",
      "(<class '__main__.Bat'>, <class '__main__.Mammal'>, <class '__main__.Bird'>, <class '__main__.Animal'>, <class 'object'>)\n"
     ]
    }
   ],
   "source": [
    "#Example\n",
    "\n",
    "class Animal:\n",
    "    def speak(self):\n",
    "        print(\"Animal speaks\")\n",
    "\n",
    "class Mammal(Animal):\n",
    "    def speak(self):\n",
    "        print(\"Mammal speaks\")\n",
    "\n",
    "class Bird(Animal):\n",
    "    def fly(self):\n",
    "        print(\"Bird flies\")\n",
    "\n",
    "class Bat(Mammal, Bird):\n",
    "    pass\n",
    "\n",
    "# Retrieve the MRO using __mro__ attribute\n",
    "print(Bat.__mro__)\n",
    "\n",
    "# Retrieve the MRO using the mro() method\n",
    "print(Bat.mro())\n",
    "\n",
    "# You can also use inspect.getmro() if the inspect module is imported\n",
    "import inspect\n",
    "print(inspect.getmro(Bat))\n"
   ]
  },
  {
   "cell_type": "markdown",
   "id": "905903ff-42fe-46e2-a0fa-bbd9ab6d9178",
   "metadata": {},
   "source": [
    "## Q8.Create an abstract base class `Shape` with an abstract method `area()`. Then create two subclasses `Circle` and `Rectangle` that implement  the`area()` method."
   ]
  },
  {
   "cell_type": "markdown",
   "id": "6c4c7c36-229f-486a-bf4a-72e0d5c8b44d",
   "metadata": {},
   "source": [
    "### Answer:-"
   ]
  },
  {
   "cell_type": "markdown",
   "id": "b2ac5d3d-9910-42f9-95c7-4385e8160951",
   "metadata": {},
   "source": [
    "#### Here’s how you can create an abstract base class Shape with an abstract method area(), and then implement two subclasses, Circle and Rectangle, that define their own versions of the area() method."
   ]
  },
  {
   "cell_type": "code",
   "execution_count": 17,
   "id": "88250ed6-303d-46f5-b47f-f8456678e57c",
   "metadata": {},
   "outputs": [
    {
     "name": "stdout",
     "output_type": "stream",
     "text": [
      "Circle Area: 78.53981633974483\n",
      "Rectangle Area: 24\n"
     ]
    }
   ],
   "source": [
    "#Example\n",
    "\n",
    "from abc import ABC, abstractmethod\n",
    "import math\n",
    "\n",
    "# Abstract base class\n",
    "class Shape(ABC):\n",
    "    @abstractmethod\n",
    "    def area(self):\n",
    "        pass  # Abstract method, no implementation here\n",
    "\n",
    "# Subclass for Circle\n",
    "class Circle(Shape):\n",
    "    def __init__(self, radius):\n",
    "        self.radius = radius\n",
    "    \n",
    "    def area(self):\n",
    "        return math.pi * (self.radius ** 2)\n",
    "\n",
    "# Subclass for Rectangle\n",
    "class Rectangle(Shape):\n",
    "    def __init__(self, width, height):\n",
    "        self.width = width\n",
    "        self.height = height\n",
    "    \n",
    "    def area(self):\n",
    "        return self.width * self.height\n",
    "\n",
    "# Example usage:\n",
    "circle = Circle(5)\n",
    "rectangle = Rectangle(4, 6)\n",
    "\n",
    "print(f\"Circle Area: {circle.area()}\")  # Output: Circle Area: 78.53981633974483\n",
    "print(f\"Rectangle Area: {rectangle.area()}\")  # Output: Rectangle Area: 24\n"
   ]
  },
  {
   "cell_type": "markdown",
   "id": "63597fcb-a8c7-4f56-a8a9-9740087f601e",
   "metadata": {},
   "source": [
    "## Q9.Demonstrate polymorphism by creating a function that can work with different shape objects to calculate and print their areas."
   ]
  },
  {
   "cell_type": "markdown",
   "id": "30ac9e52-6ec6-4f4b-8044-e5f0fdae5540",
   "metadata": {},
   "source": [
    "### Answer:-"
   ]
  },
  {
   "cell_type": "markdown",
   "id": "f4f78b53-ee43-44dc-b80e-de9ac267b8c7",
   "metadata": {},
   "source": [
    "#### To demonstrate polymorphism, you can create a function that works with different objects (in this case, instances of Circle and Rectangle) that have a common method area(). The function will call the area() method regardless of the object type, showing how Python can handle different object types through a unified interface."
   ]
  },
  {
   "cell_type": "code",
   "execution_count": 18,
   "id": "14060707-8f0a-424a-9a4d-3478d7cc6d10",
   "metadata": {},
   "outputs": [
    {
     "name": "stdout",
     "output_type": "stream",
     "text": [
      "The area of the shape is: 78.53981633974483\n",
      "The area of the shape is: 24\n"
     ]
    }
   ],
   "source": [
    "#Example\n",
    "\n",
    "from abc import ABC, abstractmethod\n",
    "import math\n",
    "\n",
    "# Abstract base class\n",
    "class Shape(ABC):\n",
    "    @abstractmethod\n",
    "    def area(self):\n",
    "        pass\n",
    "\n",
    "# Subclass for Circle\n",
    "class Circle(Shape):\n",
    "    def __init__(self, radius):\n",
    "        self.radius = radius\n",
    "    \n",
    "    def area(self):\n",
    "        return math.pi * (self.radius ** 2)\n",
    "\n",
    "# Subclass for Rectangle\n",
    "class Rectangle(Shape):\n",
    "    def __init__(self, width, height):\n",
    "        self.width = width\n",
    "        self.height = height\n",
    "    \n",
    "    def area(self):\n",
    "        return self.width * self.height\n",
    "\n",
    "# Polymorphic function to calculate and print areas of different shapes\n",
    "def print_area(shape):\n",
    "    print(f\"The area of the shape is: {shape.area()}\")\n",
    "\n",
    "# Create instances of Circle and Rectangle\n",
    "circle = Circle(5)\n",
    "rectangle = Rectangle(4, 6)\n",
    "\n",
    "# Using the polymorphic function\n",
    "print_area(circle)     # Output: The area of the shape is: 78.53981633974483\n",
    "print_area(rectangle)  # Output: The area of the shape is: 24\n"
   ]
  },
  {
   "cell_type": "markdown",
   "id": "d07b7af2-96e2-4e22-aacd-3ab9cdbb74f9",
   "metadata": {},
   "source": [
    "## Q10.Implement encapsulaton in a BankAccount class with private attributes for balance and account_number. Include methods for deposit, withdrawal, and balance inquiry.\n"
   ]
  },
  {
   "cell_type": "markdown",
   "id": "8a141232-ad5b-4ab3-9931-24cd2f591064",
   "metadata": {},
   "source": [
    "### Answer:-"
   ]
  },
  {
   "cell_type": "markdown",
   "id": "eda3fb6e-0c20-4ad3-9385-389f788e5245",
   "metadata": {},
   "source": [
    "#### To implement encapsulation in the BankAccount class, we can use private attributes for balance and account_number by prefixing them with double underscores (__). We'll also provide public methods to deposit, withdraw, and inquire about the balance, while keeping the internal details of the attributes hidden from direct access."
   ]
  },
  {
   "cell_type": "code",
   "execution_count": 19,
   "id": "ac8e5e4b-0949-44c2-99e3-232507e2ccef",
   "metadata": {},
   "outputs": [
    {
     "name": "stdout",
     "output_type": "stream",
     "text": [
      "Your balance is: 1000\n",
      "Deposited 500. New balance: 1500\n",
      "Withdrew 200. New balance: 1300\n",
      "Your account number is: 123456789\n"
     ]
    }
   ],
   "source": [
    "#Example\n",
    "\n",
    "\n",
    "\n",
    "\n",
    "class BankAccount:\n",
    "    def __init__(self, account_number, initial_balance=0):\n",
    "        # Private attributes\n",
    "        self.__account_number = account_number\n",
    "        self.__balance = initial_balance\n",
    "\n",
    "    # Method to deposit money\n",
    "    def deposit(self, amount):\n",
    "        if amount > 0:\n",
    "            self.__balance += amount\n",
    "            print(f\"Deposited {amount}. New balance: {self.__balance}\")\n",
    "        else:\n",
    "            print(\"Deposit amount must be positive.\")\n",
    "\n",
    "    # Method to withdraw money\n",
    "    def withdraw(self, amount):\n",
    "        if 0 < amount <= self.__balance:\n",
    "            self.__balance -= amount\n",
    "            print(f\"Withdrew {amount}. New balance: {self.__balance}\")\n",
    "        else:\n",
    "            print(\"Invalid withdrawal amount or insufficient balance.\")\n",
    "\n",
    "    # Method to inquire about the balance\n",
    "    def get_balance(self):\n",
    "        print(f\"Your balance is: {self.__balance}\")\n",
    "\n",
    "    # Method to inquire about the account number (optional)\n",
    "    def get_account_number(self):\n",
    "        print(f\"Your account number is: {self.__account_number}\")\n",
    "\n",
    "# Example usage\n",
    "my_account = BankAccount(\"123456789\", 1000)\n",
    "\n",
    "my_account.get_balance()  # Output: Your balance is: 1000\n",
    "my_account.deposit(500)   # Output: Deposited 500. New balance: 1500\n",
    "my_account.withdraw(200)  # Output: Withdrew 200. New balance: 1300\n",
    "my_account.get_account_number()  # Output: Your account number is: 123456789\n",
    "\n",
    "# Trying to access private attributes directly will raise an AttributeError\n",
    "# print(my_account.__balance)  # Uncommenting this line will raise an error\n"
   ]
  },
  {
   "cell_type": "markdown",
   "id": "13a10627-8269-48b0-aec2-69d539763f89",
   "metadata": {},
   "source": [
    "## Q11.Write a class that overrides the `__str__` and `__add__` magic methods. What will these methods allow you to do?"
   ]
  },
  {
   "cell_type": "markdown",
   "id": "c0d44136-70d7-42ea-b249-e4bc3d6576df",
   "metadata": {},
   "source": [
    "### In Python, magic methods (also called dunder methods, because they have double underscores) allow you to define how objects of a class behave with specific operations. Two common magic methods are:\n",
    "\n",
    "__str__(): Defines how an object should be represented as a string, typically used when calling print() on an object.\n",
    "\n",
    "\n",
    "__add__(): Defines how objects should be added together using the + operator."
   ]
  },
  {
   "cell_type": "markdown",
   "id": "fca6017f-c3ed-4653-9821-af1c62cee4a8",
   "metadata": {},
   "source": [
    "### What These Methods Allow You to Do:\n",
    "\n",
    "__str__(): Overriding this method allows you to customize the string representation of an object, which is what is displayed when the object is printed or converted to a string.\n",
    "\n",
    "__add__(): Overriding this method allows you to define custom behavior when two objects of the class are added using the + operator."
   ]
  },
  {
   "cell_type": "code",
   "execution_count": 20,
   "id": "e29b1e9b-39c1-41a1-814c-7828218eb6ad",
   "metadata": {},
   "outputs": [
    {
     "name": "stdout",
     "output_type": "stream",
     "text": [
      "Point(2, 3)\n",
      "Point(4, 5)\n",
      "Point(6, 8)\n"
     ]
    }
   ],
   "source": [
    "#Example\n",
    "\n",
    "\n",
    "class Point:\n",
    "    def __init__(self, x, y):\n",
    "        self.x = x\n",
    "        self.y = y\n",
    "\n",
    "    # Overriding the __str__ method to provide a custom string representation\n",
    "    def __str__(self):\n",
    "        return f\"Point({self.x}, {self.y})\"\n",
    "\n",
    "    # Overriding the __add__ method to allow adding two Point objects\n",
    "    def __add__(self, other):\n",
    "        if isinstance(other, Point):\n",
    "            return Point(self.x + other.x, self.y + other.y)\n",
    "        return NotImplemented\n",
    "\n",
    "# Example usage\n",
    "point1 = Point(2, 3)\n",
    "point2 = Point(4, 5)\n",
    "\n",
    "# Using the __str__ method (automatically called by print)\n",
    "print(point1)  # Output: Point(2, 3)\n",
    "print(point2)  # Output: Point(4, 5)\n",
    "\n",
    "# Using the __add__ method (automatically called by the + operator)\n",
    "point3 = point1 + point2  # This will call point1.__add__(point2)\n",
    "print(point3)  # Output: Point(6, 8)\n"
   ]
  },
  {
   "cell_type": "markdown",
   "id": "2e97aa05-b094-4db7-88f3-8d5fff8b0bcc",
   "metadata": {},
   "source": [
    "## Q12.Create a decorator that measures and prints the execution time of a function."
   ]
  },
  {
   "cell_type": "markdown",
   "id": "a6b267ff-55b3-4cd0-9816-563ecc6df46c",
   "metadata": {},
   "source": [
    "### Answer:-"
   ]
  },
  {
   "cell_type": "markdown",
   "id": "c1ce162d-299d-44e1-ae0e-874d761f3f6b",
   "metadata": {},
   "source": [
    "#### You can create a Python decorator to measure and print the execution time of a function using the time module. A decorator wraps a function and adds additional behavior—in this case, it will calculate the time taken for the function to execute."
   ]
  },
  {
   "cell_type": "code",
   "execution_count": 21,
   "id": "fa792740-1649-4b7d-be22-0ba679c4538a",
   "metadata": {},
   "outputs": [
    {
     "name": "stdout",
     "output_type": "stream",
     "text": [
      "Sleeping for 2 seconds...\n",
      "Execution time of example_function: 2.0012 seconds\n"
     ]
    }
   ],
   "source": [
    "#Example\n",
    "\n",
    "import time\n",
    "\n",
    "def timer_decorator(func):\n",
    "    def wrapper(*args, **kwargs):\n",
    "        # Start time\n",
    "        start_time = time.time()\n",
    "        \n",
    "        # Call the original function\n",
    "        result = func(*args, **kwargs)\n",
    "        \n",
    "        # End time\n",
    "        end_time = time.time()\n",
    "        \n",
    "        # Calculate and print the execution time\n",
    "        execution_time = end_time - start_time\n",
    "        print(f\"Execution time of {func.__name__}: {execution_time:.4f} seconds\")\n",
    "        \n",
    "        return result\n",
    "    return wrapper\n",
    "\n",
    "# Example usage of the decorator\n",
    "@timer_decorator\n",
    "def example_function(seconds):\n",
    "    print(f\"Sleeping for {seconds} seconds...\")\n",
    "    time.sleep(seconds)\n",
    "\n",
    "# Call the decorated function\n",
    "example_function(2)\n"
   ]
  },
  {
   "cell_type": "markdown",
   "id": "38fccabb-0b61-434d-bc87-0b919cd045a0",
   "metadata": {},
   "source": [
    "## Q13.Explain the concept of the Diamond Problem in multiple inheritance. How does Python resolve it?"
   ]
  },
  {
   "cell_type": "markdown",
   "id": "720d7884-5387-43eb-8bc8-ab4e5fe8ef47",
   "metadata": {},
   "source": [
    "### Answer:-"
   ]
  },
  {
   "cell_type": "markdown",
   "id": "32048f29-a94d-4bce-80c5-3c6d0da7e200",
   "metadata": {},
   "source": [
    "#### The Diamond Problem in Multiple Inheritance\n",
    "The Diamond Problem occurs in multiple inheritance when a class inherits from two or more classes that have a common ancestor. This creates ambiguity because the child class may inherit the same method or attribute from multiple paths, leading to confusion about which version of the method should be used."
   ]
  },
  {
   "cell_type": "markdown",
   "id": "58ca0d6c-c5c4-4eee-84c2-4953f1cda2b2",
   "metadata": {},
   "source": [
    "#### How Python Resolves the Diamond Problem\n",
    "\n",
    "Python resolves the diamond problem using the Method Resolution Order (MRO), which determines the order in which base classes are searched when calling a method or accessing an attribute. Python uses the C3 Linearization algorithm to determine the MRO in a way that guarantees consistency and avoids ambiguity.\n",
    "\n",
    "In Python, the MRO ensures that:\n",
    "\n",
    "The child class (D) will first look at its immediate parents (B and C).\n",
    "Python ensures that each class is only considered once.\n",
    "The left-to-right order of the inheritance is respected, and the search continues up the inheritance hierarchy, ensuring that the common ancestor (A) is only accessed once.\n"
   ]
  },
  {
   "cell_type": "code",
   "execution_count": 25,
   "id": "3eaa1daa-fd06-4e33-a412-1e3fc9e1ad65",
   "metadata": {},
   "outputs": [
    {
     "name": "stdout",
     "output_type": "stream",
     "text": [
      "Method from B\n",
      "(<class '__main__.D'>, <class '__main__.B'>, <class '__main__.C'>, <class '__main__.A'>, <class 'object'>)\n"
     ]
    },
    {
     "data": {
      "text/plain": [
       "\"Explanation of the Example:\\nD inherits from both B and C, which both override A's method().\\nWhen you call d.method(), Python uses the MRO to determine which method to call.\""
      ]
     },
     "execution_count": 25,
     "metadata": {},
     "output_type": "execute_result"
    }
   ],
   "source": [
    "#Example:-\n",
    "\n",
    "class A:\n",
    "    def method(self):\n",
    "        print(\"Method from A\")\n",
    "\n",
    "class B(A):\n",
    "    def method(self):\n",
    "        print(\"Method from B\")\n",
    "\n",
    "class C(A):\n",
    "    def method(self):\n",
    "        print(\"Method from C\")\n",
    "\n",
    "class D(B, C):\n",
    "    pass\n",
    "\n",
    "# Create an instance of class D\n",
    "d = D()\n",
    "d.method()  # Which method will be called?\n",
    "print(D.__mro__)\n",
    "\"\"\"Explanation of the Example:\n",
    "D inherits from both B and C, which both override A's method().\n",
    "When you call d.method(), Python uses the MRO to determine which method to call.\"\"\""
   ]
  },
  {
   "cell_type": "markdown",
   "id": "2dcbf4b9-02ec-417b-b349-95f3c3f3d555",
   "metadata": {},
   "source": [
    "## Q14.Write a class method that keeps track of the number of instances created from a class."
   ]
  },
  {
   "cell_type": "markdown",
   "id": "a0a5f026-9852-4f87-9a0a-b3d08f223548",
   "metadata": {},
   "source": [
    "### Answer:-"
   ]
  },
  {
   "cell_type": "markdown",
   "id": "f7c7d8f8-544f-4254-a7f6-eaebc20e9786",
   "metadata": {},
   "source": [
    "#### To keep track of the number of instances created from a class, we can use a class attribute to store the count and a class method to access it. Each time an instance of the class is created, we increment this counter."
   ]
  },
  {
   "cell_type": "code",
   "execution_count": 27,
   "id": "bf1492e7-3f17-4e3d-af88-5d8d06af5d9c",
   "metadata": {},
   "outputs": [
    {
     "name": "stdout",
     "output_type": "stream",
     "text": [
      "3\n"
     ]
    }
   ],
   "source": [
    "#Example\n",
    "\n",
    "class MyClass:\n",
    "    # Class attribute to track the number of instances\n",
    "    instance_count = 0\n",
    "\n",
    "    def __init__(self):\n",
    "        # Increment the instance count every time a new object is created\n",
    "        MyClass.instance_count += 1\n",
    "\n",
    "    # Class method to return the current instance count\n",
    "    @classmethod\n",
    "    def get_instance_count(cls):\n",
    "        return cls.instance_count\n",
    "\n",
    "# Example usage\n",
    "obj1 = MyClass()\n",
    "obj2 = MyClass()\n",
    "obj3 = MyClass()\n",
    "\n",
    "# Calling the class method to get the count of instances created\n",
    "print(MyClass.get_instance_count())  # Output: 3\n"
   ]
  },
  {
   "cell_type": "markdown",
   "id": "878d6dad-6be1-4b2b-b170-45fa6e61e099",
   "metadata": {},
   "source": [
    "## Q15.Implement a static method in a class that checks if a given year is a leap year."
   ]
  },
  {
   "cell_type": "markdown",
   "id": "ce68944e-a8b8-44b8-a5ac-50a6a626999f",
   "metadata": {},
   "source": [
    "### Answer:-"
   ]
  },
  {
   "cell_type": "markdown",
   "id": "b0354d0e-2559-4d1c-b345-810e17b3171b",
   "metadata": {},
   "source": [
    "### To implement a static method that checks if a given year is a leap year, we can use the @staticmethod decorator. A static method does not depend on class or instance attributes; it behaves like a regular function inside the class"
   ]
  },
  {
   "cell_type": "code",
   "execution_count": 29,
   "id": "cf897d68-1bc7-4db5-ac84-f3e905142d8a",
   "metadata": {},
   "outputs": [
    {
     "name": "stdin",
     "output_type": "stream",
     "text": [
      "Enter a year:  2024\n"
     ]
    },
    {
     "name": "stdout",
     "output_type": "stream",
     "text": [
      "It is a leap year.\n"
     ]
    }
   ],
   "source": [
    "class YearUtility:\n",
    "    @staticmethod\n",
    "    def is_leap_year():\n",
    "        # Ask the user to input the year\n",
    "        year = int(input(\"Enter a year: \"))\n",
    "        \n",
    "        # Check if the year is a leap year\n",
    "        if (year % 4 == 0 and year % 100 != 0) or (year % 400 == 0):\n",
    "            return True\n",
    "        else:\n",
    "            return False\n",
    "\n",
    "# Example usage\n",
    "if YearUtility.is_leap_year():\n",
    "    print(\"It is a leap year.\")\n",
    "else:\n",
    "    print(\"It is not a leap year.\")\n"
   ]
  },
  {
   "cell_type": "code",
   "execution_count": null,
   "id": "968861a6-c1ac-4545-b4af-edfc7dc3c267",
   "metadata": {},
   "outputs": [],
   "source": []
  }
 ],
 "metadata": {
  "kernelspec": {
   "display_name": "Python 3 (ipykernel)",
   "language": "python",
   "name": "python3"
  },
  "language_info": {
   "codemirror_mode": {
    "name": "ipython",
    "version": 3
   },
   "file_extension": ".py",
   "mimetype": "text/x-python",
   "name": "python",
   "nbconvert_exporter": "python",
   "pygments_lexer": "ipython3",
   "version": "3.12.5"
  }
 },
 "nbformat": 4,
 "nbformat_minor": 5
}
