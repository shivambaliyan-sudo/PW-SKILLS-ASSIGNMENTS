{
 "cells": [
  {
   "cell_type": "markdown",
   "id": "5fcacbf6-20ab-48c1-b3f3-02716918c248",
   "metadata": {},
   "source": [
    "# Statistics Basics Assignment"
   ]
  },
  {
   "cell_type": "markdown",
   "id": "faec2ac5-381e-468f-892f-b95e74c89e46",
   "metadata": {},
   "source": [
    "## Q1.Explain the different types of data (qualitative and quantitative) and provide examples of each. Discuss nominal, ordinal, interval, and ratio scales."
   ]
  },
  {
   "cell_type": "markdown",
   "id": "2baf0132-771c-4ed8-b4b5-8ff05e25e9e5",
   "metadata": {},
   "source": [
    "### Answer:-"
   ]
  },
  {
   "cell_type": "markdown",
   "id": "2be351ab-6ec3-4581-b3bd-cda8d6a7286b",
   "metadata": {},
   "source": [
    "### Types of Data:-\n",
    "\n",
    "Data can be broadly classified into two types:\n",
    "\n",
    "Qualitative Data (also known as Categorical Data)\n",
    "\n",
    "Quantitative Data (also known as Numerical Data)"
   ]
  },
  {
   "cell_type": "markdown",
   "id": "93f794bf-a7f8-476b-82b3-a08e74a9cecc",
   "metadata": {},
   "source": [
    "#### 1. Qualitative (Categorical) Data\n",
    "\n",
    "Qualitative data represents characteristics or attributes that do not have a numerical value. They are descriptive and usually placed into categories. \n",
    "\n",
    "\n",
    "Qualitative data can be divided into:\n",
    "\n",
    "\n",
    "\n",
    "\n",
    "Nominal Data: This data type consists of categories that cannot be ranked or ordered. They are simply labels without any inherent order.\n",
    "\n",
    "Example:\n",
    "\n",
    "Gender (Male, Female)\n",
    "\n",
    "Eye color (Brown, Blue, Green)\n",
    "\n",
    "Types of fruits (Apple, Banana, Mango)\n",
    "\n",
    "\n",
    "\n",
    "\n",
    "\n",
    "Ordinal Data: This type of data also consists of categories, but these categories have a meaningful order or ranking. However, the intervals between the categories are not equal or known.\n",
    "\n",
    "Example:\n",
    "\n",
    "Customer satisfaction ratings (Very dissatisfied, Dissatisfied, Neutral, Satisfied, Very satisfied)\n",
    "\n",
    "Education level (High school, Bachelor’s, Master’s, PhD)\n",
    "\n",
    "Ranking in a competition (1st, 2nd, 3rd)\n"
   ]
  },
  {
   "cell_type": "markdown",
   "id": "6d30154b-702d-454e-9599-93aceb892881",
   "metadata": {},
   "source": [
    "#### 2. Quantitative (Numerical) Data\n",
    "\n",
    "Quantitative data represents numerical values that quantify an attribute or characteristic. It can be further divided into:\n",
    "\n",
    "\n",
    "Interval Data: This type of data has ordered categories, and the intervals between these categories are equal and meaningful. However, interval data lacks a true zero point.\n",
    "\n",
    "\n",
    "Example:\n",
    "\n",
    "Temperature in Celsius or Fahrenheit (0°C doesn’t mean \"no temperature\")\n",
    "\n",
    "Dates on a calendar (there is no true zero year)\n",
    "\n",
    "\n",
    "\n",
    "\n",
    "\n",
    "Ratio Data: Ratio data has all the properties of interval data but with a meaningful zero point, meaning that a value of zero represents the complete absence of the attribute.\n",
    "\n",
    "\n",
    "\n",
    "Example:\n",
    "\n",
    "Height (0 cm means no height)\n",
    "\n",
    "Weight (0 kg means no weight)\n",
    "\n",
    "Age (0 years means no age)\n",
    "\n",
    "Income (0 dollars means no income)"
   ]
  },
  {
   "cell_type": "markdown",
   "id": "07bef0eb-1d8e-43d0-ac57-4ac0e251d5b2",
   "metadata": {},
   "source": [
    "## Q2.What are the measures of central tendency, and when should you use each? Discuss the mean, median, and mode with examples and situations where each is appropriate."
   ]
  },
  {
   "cell_type": "markdown",
   "id": "2f78d44f-9782-44c6-bbcd-0ba87f2116b4",
   "metadata": {},
   "source": [
    "### Answer:-"
   ]
  },
  {
   "cell_type": "markdown",
   "id": "eb319522-ada8-4aac-815a-7dabf7db0f1e",
   "metadata": {},
   "source": [
    "### Measures of Central Tendency:-\n",
    "\n",
    "Measures of central tendency are statistical tools used to summarize a set of data by identifying a central point within that data set. The three most common measures of central tendency are:\n",
    "\n",
    "1.Mean\n",
    "\n",
    "2.Median\n",
    "\n",
    "3.Mode"
   ]
  },
  {
   "cell_type": "markdown",
   "id": "3e439236-4130-498e-bbfd-bdb44e30f793",
   "metadata": {},
   "source": [
    "#### 1. Mean (Average)\n",
    "\n",
    "Definition: The mean is the sum of all values in a data set divided by the number of values. It represents the central point of the data, assuming all values contribute equally.\n",
    "\n",
    "Mean =\n",
    "\n",
    "Sum of all values/\n",
    "Number of values\n",
    "\n",
    "\n",
    " \n",
    "Example:\n",
    "Suppose you have the test scores: 75, 80, 85, 90, and 95.\n",
    "\n",
    "Example 1: Mean\n",
    "Given a set of test scores:\n",
    "[75, 80, 85, 90, 95]\n",
    "\n",
    "To calculate the mean, sum all the values and divide by the number of values:\n",
    "\n",
    "(75 + 80 + 85 + 90 + 95) / 5 = 425 / 5 = 85\n",
    "\n",
    "So, the mean of the data set is 85.\n",
    "\n",
    "    \n",
    "    When to Use:\n",
    "\n",
    "\n",
    "When data is symmetrically distributed (no extreme outliers).\n",
    "\n",
    "Appropriate for interval and ratio data.\n",
    "\n",
    "\n",
    "    \n",
    "    Situations Where Mean is Appropriate:\n",
    "\n",
    "\n",
    "Calculating average temperature over a week.\n",
    "\n",
    "Determining the average income of a group of people.\n",
    "\n",
    "    \n",
    "    \n",
    "    Limitations:\n",
    "\n",
    "The mean is sensitive to outliers (extremely high or low values). \n",
    "\n",
    "If data has outliers, the mean can be skewed, leading to a misleading representation of the central tendency."
   ]
  },
  {
   "cell_type": "markdown",
   "id": "41259216-c18e-48b6-8db0-3847c0b3d8ae",
   "metadata": {},
   "source": [
    "#### 2. Median\n",
    "\n",
    "Definition: The median is the middle value in a data set when the values are arranged in ascending or descending order. If the number of values is even, the median is the average of the two middle values.\n",
    "\n",
    "Example:\n",
    "\n",
    "For the test scores: 75, 80, 85, 90, and 95, the median is 85 (the middle value).\n",
    "\n",
    "Example : Median\n",
    "\n",
    "For an Odd Number of Values:\n",
    "\n",
    "Given the test scores:\n",
    "[75, 80, 85, 90, 95]\n",
    "\n",
    "The median is the middle value when the numbers are arranged in order. Since there are 5 values, the middle one is 85.\n",
    "So, the median is 85.\n",
    "\n",
    "        For an Even Number of Values:\n",
    "\n",
    "Given the test scores:\n",
    "[75, 80, 85, 90]\n",
    "\n",
    "For an even number of values, take the average of the two middle values. In this case, the two middle values are 80 and 85:\n",
    "\n",
    "(80 + 85) / 2 = 165 / 2 = 82.5\n",
    "\n",
    "            When to Use:\n",
    "\n",
    "When data has outliers or is skewed.\n",
    "\n",
    "Appropriate for ordinal, interval, and ratio data.\n",
    "\n",
    "Situations Where Median is Appropriate:\n",
    "\n",
    "Median home price in a neighborhood (outliers in property prices can skew the mean).\n",
    "\n",
    "Median income in a region (a few very high or very low incomes could distort the mean).\n",
    "\n",
    "\n",
    "            Advantages:\n",
    "\n",
    "The median is not affected by outliers, making it more representative of the central tendency in skewed distributions."
   ]
  },
  {
   "cell_type": "markdown",
   "id": "838d1cf8-a91c-465c-b89c-27761e8c1a28",
   "metadata": {},
   "source": [
    "#### 3. Mode\n",
    "\n",
    "Definition: The mode is the value that appears most frequently in a data set. A data set may have no mode, one mode (unimodal), or multiple modes (bimodal or multimodal).\n",
    "\n",
    "Example:\n",
    "\n",
    "For the data set: 3, 7, 7, 8, 9, 10, the mode is 7 (since it appears most frequently).\n",
    "\n",
    "If you have the data set: 1, 2, 3, 3, 4, 4, 5, both 3 and 4 are modes (bimodal).\n",
    "\n",
    "\n",
    "    When to Use:\n",
    "\n",
    "For nominal, ordinal, interval, or ratio data when you need to identify the most frequent category or value.\n",
    "\n",
    "Particularly useful for categorical data (qualitative data) where the mean or median is not appropriate.\n",
    "\n",
    "    \n",
    "        \n",
    "    Situations Where Mode is Appropriate:\n",
    "\n",
    "Identifying the most popular brand in a survey.\n",
    "\n",
    "Determining the most common shoe size sold in a store.\n",
    "\n",
    "        \n",
    "    Advantages:\n",
    "\n",
    "The mode can be used with any type of data, including nominal data, which makes it unique among the measures of central tendency.\n",
    "\n"
   ]
  },
  {
   "cell_type": "markdown",
   "id": "79c98a06-baf3-44b6-9322-c26baec65f6e",
   "metadata": {},
   "source": [
    "## Q3.Explain the concept of dispersion. How do variance and standard deviation measure the spread of data?"
   ]
  },
  {
   "cell_type": "markdown",
   "id": "82733370-46a8-4d69-bd17-5ab234ea3516",
   "metadata": {},
   "source": [
    "### Answer:-"
   ]
  },
  {
   "cell_type": "markdown",
   "id": "b7b50edb-09f7-4eb3-b9bd-215d821f247d",
   "metadata": {},
   "source": [
    "#### Dispersion in statistics refers to the extent to which data points in a dataset differ from each other or, more specifically, from the central tendency (mean, median, or mode). It essentially measures the \"spread\" or variability of the data, indicating how dispersed the values are around the central point. A higher dispersion means the data points are more spread out, while a lower dispersion means they are more clustered around the central point."
   ]
  },
  {
   "cell_type": "markdown",
   "id": "f0a47e93-067c-4bff-b4a9-433126f86021",
   "metadata": {},
   "source": [
    "#### Key measures of dispersion include:\n",
    "\n",
    "Range: The difference between the largest and smallest values in the dataset.\n",
    "\n",
    "Interquartile Range (IQR): The range within the middle 50% of the data, i.e., between the first quartile (Q1) and the third quartile (Q3).\n",
    "\n",
    "Variance: A measure of how much each data point differs from the mean (the average).\n",
    "\n",
    "Standard Deviation: The square root of the variance, providing a measure of the average distance of each data point from the mean in the same units as the data."
   ]
  },
  {
   "cell_type": "markdown",
   "id": "a8621aa1-dca5-4ba6-adbb-f84f43790931",
   "metadata": {},
   "source": [
    "#### Variance:-\n",
    "\n",
    "Variance measures the average of the squared differences between each data point and the mean of the dataset. Mathematically, it’s expressed as:"
   ]
  },
  {
   "cell_type": "code",
   "execution_count": 3,
   "id": "5bc3fadf-4cec-4374-baeb-e9e007539448",
   "metadata": {},
   "outputs": [
    {
     "data": {
      "image/png": "[encoded data removed]",
      "text/plain": [
       "<IPython.core.display.Image object>"
      ]
     },
     "execution_count": 3,
     "metadata": {},
     "output_type": "execute_result"
    }
   ],
   "source": [
    "from IPython.display import Image\n",
    "Image(filename=r'C:\\Users\\Jotiba\\OneDrive\\Desktop\\Assignment Images of Statistics\\Variance Formula.png')\n"
   ]
  },
  {
   "cell_type": "markdown",
   "id": "8f0407c5-bd9a-409a-ad47-4734c9bfb726",
   "metadata": {},
   "source": [
    "#### Where:\n",
    "\n",
    "𝑥\n",
    "𝑖,\n",
    "\n",
    "x \n",
    "i = each data point\n",
    "\n",
    "𝜇,\n",
    "\n",
    "μ = mean of the dataset\n",
    "\n",
    "𝑛,\n",
    "\n",
    "n = number of data points"
   ]
  },
  {
   "cell_type": "markdown",
   "id": "1b604e93-321b-4360-a1c3-46c50b074512",
   "metadata": {},
   "source": [
    "#### \n",
    "Variance gives an idea of how far each value in the dataset is from the mean. Larger variances indicate a wider spread of data points, meaning higher dispersion."
   ]
  },
  {
   "cell_type": "markdown",
   "id": "17d2fa5d-bcf8-4fd4-84d9-bce3840c9c27",
   "metadata": {},
   "source": [
    "#### Standard Deviation\n",
    "\n",
    "Standard deviation is the square root of variance and provides a more intuitive measure of spread because it is in the same units as the data. Mathematically, it’s expressed as:"
   ]
  },
  {
   "cell_type": "code",
   "execution_count": 5,
   "id": "546c01a4-9a3d-4add-b3e1-7aff54fc4160",
   "metadata": {},
   "outputs": [
    {
     "data": {
      "image/png": "[encoded data removed]",
      "text/plain": [
       "<IPython.core.display.Image object>"
      ]
     },
     "execution_count": 5,
     "metadata": {},
     "output_type": "execute_result"
    }
   ],
   "source": [
    "from IPython.display import Image\n",
    "Image(filename=r'C:\\Users\\Jotiba\\OneDrive\\Desktop\\Assignment Images of Statistics\\Std dev Formula.png')"
   ]
  },
  {
   "cell_type": "markdown",
   "id": "5e79cc1b-f3fa-4985-a9a5-088c0a802ff7",
   "metadata": {},
   "source": [
    "#### \n",
    "The standard deviation tells you, on average, how far each data point is from the mean. A small standard deviation means the data points are close to the mean, while a large standard deviation indicates that the data points are spread out over a wide range of values."
   ]
  },
  {
   "cell_type": "markdown",
   "id": "ca318857-bb98-411e-a4dc-e8e5e8b25574",
   "metadata": {},
   "source": [
    "#### How Variance and Standard Deviation Measure Spread:\n",
    "\n",
    "Variance quantifies the overall variability by squaring the differences from the mean, thus emphasizing larger deviations.\n",
    "\n",
    "Standard deviation is more interpretable since it is expressed in the same units as the data and tells us how much, on average, the data deviates from the mean."
   ]
  },
  {
   "cell_type": "markdown",
   "id": "f7e17f2f-edfb-499b-b50b-535733d44513",
   "metadata": {},
   "source": [
    "## Q4.What is a box plot, and what can it tell you about the distribution of data?"
   ]
  },
  {
   "cell_type": "markdown",
   "id": "acd9956c-cf05-4f50-9885-91aaf7a88168",
   "metadata": {},
   "source": [
    "### Answer:-"
   ]
  },
  {
   "cell_type": "markdown",
   "id": "58681312-027b-463b-a22b-7ac60a8ee746",
   "metadata": {},
   "source": [
    "#### \n",
    "A box plot (or box-and-whisker plot) is a graphical representation used in statistics to display the distribution of a dataset based on five summary statistics: the minimum, first quartile (Q1), median (Q2), third quartile (Q3), and maximum. It provides a visual snapshot of the spread and skewness of the data, along with identifying potential outliers."
   ]
  },
  {
   "cell_type": "markdown",
   "id": "b7ab8658-0471-4219-99d6-8ef79925cd85",
   "metadata": {},
   "source": [
    "#### Components of a Box Plot:\n",
    "\n",
    "Box: The central rectangle spans from the first quartile (Q1) to the third quartile (Q3). This represents the interquartile range (IQR), which contains the middle 50% of the data.\n",
    "\n",
    "Q1 (First Quartile): The 25th percentile of the data.\n",
    "\n",
    "Q3 (Third Quartile): The 75th percentile of the data.\n",
    "\n",
    "Median (Q2): A line inside the box that represents the 50th percentile (or the median) of the dataset. It divides the data into two equal halves.\n",
    "\n",
    "Whiskers: These lines extend from the box to the smallest and largest values within a certain range, typically defined as 1.5 times the IQR from Q1 and Q3. Points beyond this range are considered outliers.\n",
    "\n",
    "Outliers: Data points that fall outside the whiskers (beyond 1.5 times the IQR from the quartiles) are plotted as individual dots or small symbols and indicate unusually high or low values."
   ]
  },
  {
   "cell_type": "markdown",
   "id": "2a6251fd-ead9-4acf-94d9-9f730d8bc545",
   "metadata": {},
   "source": [
    "#### Key Information a Box Plot Can Reveal:\n",
    "\n",
    "Spread of the Data (Range and IQR):\n",
    "\n",
    "The length of the whiskers shows the overall range (excluding outliers).\n",
    "The height or width of the box (depending on the plot orientation) shows the IQR, which represents the spread of the central 50% of the data.\n",
    "\n",
    "Center of the Data:\n",
    "\n",
    "The median line inside the box shows the central value of the dataset, indicating the typical value or the midpoint.\n",
    "\n",
    "Skewness:\n",
    "\n",
    "If the median is closer to Q1, and the whisker extending from Q1 is shorter, the data is positively skewed (right-skewed).\n",
    "\n",
    "If the median is closer to Q3, and the whisker extending from Q3 is shorter, the data is negatively skewed (left-skewed).\n",
    "\n",
    "Symmetry:\n",
    "\n",
    "A symmetrical distribution will have the median approximately in the middle of the box, with equal-length whiskers on both sides.\n",
    "\n",
    "Outliers:\n",
    "\n",
    "Individual points beyond the whiskers are outliers. Box plots make it easy to identify extreme values in the dataset."
   ]
  },
  {
   "cell_type": "markdown",
   "id": "1af5540f-e531-4714-ba41-1e474f5dc9d5",
   "metadata": {},
   "source": [
    "#### Example of a Box Plot Interpretation:\n",
    "\n",
    "If the box is tightly packed with the whiskers being short, this suggests that the data points are close together, indicating low variability.\n",
    "\n",
    "If the box is wide and the whiskers are long, the data is more spread out, indicating high variability.\n",
    "\n",
    "Outliers appear as individual points beyond the whiskers and can indicate anomalies or points of interest in the data."
   ]
  },
  {
   "cell_type": "markdown",
   "id": "31e7f0d9-8c9f-4648-97ec-34f4915e1acd",
   "metadata": {},
   "source": [
    "## Q5.Discuss the role of random sampling in making inferences about populations."
   ]
  },
  {
   "cell_type": "markdown",
   "id": "997de10a-059b-4a72-b2fa-5b73339dc4c0",
   "metadata": {},
   "source": [
    "### Answer:-"
   ]
  },
  {
   "cell_type": "markdown",
   "id": "a5ac1951-2f9c-4b0e-87eb-71e0dc63ac50",
   "metadata": {},
   "source": [
    "####\n",
    "Random sampling plays a critical role in statistical inference, which involves making conclusions or generalizations about a larger population based on data collected from a subset (sample) of that population. Random sampling ensures that each member of the population has an equal chance of being selected, which helps produce representative data. This, in turn, enables valid and reliable inferences about the population."
   ]
  },
  {
   "cell_type": "markdown",
   "id": "79a5d2d6-e14c-4671-a182-4934022d0130",
   "metadata": {},
   "source": [
    "#### Key Roles of Random Sampling in Making Inferences:\n",
    "\n",
    "Representativeness:\n",
    "\n",
    "The primary goal of random sampling is to create a sample that accurately reflects the diversity and characteristics of the entire population. A representative sample helps ensure that the inferences drawn from it can be generalized to the population without significant bias.\n",
    "Random sampling prevents over-representation or under-representation of specific subgroups in the population, leading to unbiased estimates.\n",
    "\n",
    "Reducing Bias:\n",
    "\n",
    "Random sampling minimizes selection bias, which occurs when some members of the population are systematically more likely to be included in the sample than others.\n",
    "Since every individual in the population has an equal probability of being selected, the sample is less likely to be skewed or influenced by external factors, producing more reliable results.\n",
    "\n",
    "Enabling Generalization:\n",
    "\n",
    "When using random sampling, researchers can confidently generalize findings from the sample to the entire population. This allows them to infer population parameters (like the mean, proportion, or standard deviation) based on the sample statistics.\n",
    "For instance, if a survey uses random sampling to measure public opinion about a particular issue, the results from the sample can be generalized to represent the broader population's viewpoint.\n",
    "\n",
    "Foundation for Inferential Statistics:\n",
    "\n",
    "Many statistical techniques, such as hypothesis testing, confidence intervals, and regression analysis, rely on the assumption that the data comes from a random sample. These techniques allow researchers to make probabilistic inferences, calculate the likelihood of certain outcomes, and estimate the margin of error.\n",
    "Random sampling ensures the underlying assumptions of these methods are met, improving the accuracy of the inferences.\n",
    "\n",
    "Control of Sampling Error:\n",
    "\n",
    "Random sampling helps control sampling error, which refers to the difference between the sample statistic (e.g., sample mean) and the population parameter (e.g., population mean). While sampling error cannot be completely eliminated, random sampling reduces the risk of significant deviation.\n",
    "Larger random samples tend to have smaller sampling error, which increases the precision of inferences about the population.\n",
    "\n",
    "Supporting Statistical Significance:\n",
    "\n",
    "In hypothesis testing, random sampling helps determine whether an observed effect or difference is statistically significant (i.e., unlikely to have occurred by chance). If a sample is randomly selected, the results are more trustworthy in determining real differences in the population."
   ]
  },
  {
   "cell_type": "markdown",
   "id": "819ada7f-c540-4344-918a-a459f33d28a8",
   "metadata": {},
   "source": [
    "#### Example of Random Sampling in Inference:\n",
    "\n",
    "Suppose a researcher wants to estimate the average height of all adults in a city. Measuring every individual in the city is impractical, so the researcher selects a random sample of adults and measures their heights. Because the sample is random, the average height in the sample can be used to estimate the average height in the entire population with a known margin of error. The researcher can then make inferences about the population based on the sample data."
   ]
  },
  {
   "cell_type": "markdown",
   "id": "fdff7414-bb81-49ce-84d7-379eccc7cfc3",
   "metadata": {},
   "source": [
    "#### Limitations of Random Sampling:\n",
    "\n",
    "Non-response Bias: Even in random sampling, if some individuals do not respond or cannot be reached, the sample might become less representative.\n",
    "\n",
    "Practical Challenges: Conducting truly random sampling can be difficult and expensive, especially when dealing with large or dispersed populations.\n",
    "\n",
    "Sample Size: Small random samples may not fully capture the variability of the population, leading to larger sampling error. Larger samples are typically needed for more accurate inferences."
   ]
  },
  {
   "cell_type": "markdown",
   "id": "1a9888b4-72c1-4af2-a52b-e9e33848f054",
   "metadata": {},
   "source": [
    "## Q6.Explain the concept of skewness and its types. How does skewness affect the interpretation of data?"
   ]
  },
  {
   "cell_type": "markdown",
   "id": "ec962b16-a521-46fd-bb6d-7e572e108458",
   "metadata": {},
   "source": [
    "### Answer:-"
   ]
  },
  {
   "cell_type": "markdown",
   "id": "71a0fc90-91d9-4d3a-8db9-81e6cd9ee874",
   "metadata": {},
   "source": [
    "#### Skewness is a measure of the asymmetry or lack of symmetry in the distribution of data values. It describes how the data points are distributed around the central value (mean or median). A distribution is said to be skewed if it is not symmetrical, meaning the data tends to cluster on one side of the mean."
   ]
  },
  {
   "cell_type": "markdown",
   "id": "238ae689-bc0b-40bf-8ea5-07de6d269f5b",
   "metadata": {},
   "source": [
    "#### Types of Skewness:\n",
    "\n",
    "Symmetrical Distribution (Zero Skewness):\n",
    "\n",
    "When a distribution is symmetrical, it means that the data points are evenly distributed on both sides of the mean.\n",
    "In this case, the mean, median, and mode are all the same or very close to each other.\n",
    "The graph of the distribution is bell-shaped, like the normal distribution.\n",
    "\n",
    "Positive Skewness (Right-Skewed):\n",
    "\n",
    "A distribution is positively skewed when the tail on the right side of the distribution is longer or fatter than the left side. In this case, most data points are clustered on the left side, with fewer extreme values on the right.\n",
    "In a positively skewed distribution:\n",
    "The mean is greater than the median, which is greater than the mode.\n",
    "The tail of the distribution extends towards higher values (to the right).\n",
    "Example: Income distributions are often right-skewed because there are relatively few people with very high incomes, while the majority earn closer to the average or median income.\n",
    "\n",
    "Negative Skewness (Left-Skewed):\n",
    "\n",
    "A distribution is negatively skewed when the tail on the left side is longer or fatter than the right side. In this case, most data points are clustered on the right side, with fewer extreme values on the left.\n",
    "In a negatively skewed distribution:\n",
    "The mean is less than the median, which is less than the mode.\n",
    "The tail of the distribution extends towards lower values (to the left).\n",
    "\n",
    "Example: Test scores where most students perform well but a few perform poorly can result in a left-skewed distribution.\n"
   ]
  },
  {
   "cell_type": "markdown",
   "id": "f2f0359a-bdc2-4eb4-b1f6-be355cd3b34d",
   "metadata": {},
   "source": [
    "#### How Skewness Affects the Interpretation of Data:\n",
    "\n",
    "Impact on Measures of Central Tendency:\n",
    "\n",
    "In a skewed distribution, the mean is pulled in the direction of the skew (toward the tail), making it less representative of the typical data point.\n",
    "The median, which is less affected by extreme values, becomes a better measure of central tendency for skewed data.\n",
    "The mode represents the most frequently occurring value and is not affected by skewness but may not fully reflect the distribution of the data in skewed datasets.\n",
    "\n",
    "Impact on Statistical Analysis:\n",
    "\n",
    "Many statistical techniques, such as linear regression and hypothesis testing, assume the data is normally distributed (symmetrical). When data is skewed, these methods might not perform well unless the data is transformed or appropriate non-parametric tests are used.\n",
    "\n",
    "Positive or negative skewness can lead to biased estimates, unreliable p-values, or misleading conclusions if the skewness is not addressed.\n",
    "\n",
    "Interpreting Spread and Extremes:\n",
    "\n",
    "In a right-skewed (positively skewed) distribution, a small number of very large values can distort the overall impression of the dataset. For example, the average income in a country may be much higher than the median income due to a few very high earners.\n",
    "\n",
    "In a left-skewed (negatively skewed) distribution, the mean is dragged toward the lower extreme, which may make the data appear to have lower central values than it does for the majority of observations.\n",
    "\n",
    "Effect on Variability:\n",
    "\n",
    "Skewness affects the variability or spread of the data. In a skewed distribution, the variance or standard deviation might be larger due to the presence of extreme values in one tail. However, this increased variability may not represent the typical spread of the majority of data points.\n",
    "\n",
    "Choosing the Appropriate Measure of Central Tendency:\n",
    "\n",
    "For skewed data, the median is often preferred as the measure of central tendency, as it is more robust to outliers and skewed distributions compared to the mean.\n",
    "In skewed datasets, the mean may give a distorted sense of the \"average\" value due to the influence of extreme values in the tail."
   ]
  },
  {
   "cell_type": "markdown",
   "id": "9416f703-ee2e-4fd6-9f6a-4cea0b625176",
   "metadata": {},
   "source": [
    "#### Skewness in Graphical Representations:\n",
    "\n",
    "Histograms and box plots can visually depict skewness.\n",
    "\n",
    "In a histogram, a right-skewed distribution will have a long tail on the right, while a left-skewed distribution will have a long tail on the left.\n",
    "\n",
    "In a box plot, skewness is indicated if the median line inside the box is not centered, or if one whisker is noticeably longer than the other."
   ]
  },
  {
   "cell_type": "markdown",
   "id": "11241865-22aa-445e-ac46-ef4f9b9d3b12",
   "metadata": {},
   "source": [
    "#### Examples of Skewed Data:\n",
    "\n",
    "Positive Skewness (Right-Skewed):\n",
    "\n",
    "Income distributions\n",
    "\n",
    "Property prices\n",
    "\n",
    "Sales figures where a few products account for most of the revenue\n",
    "\n",
    "\n",
    "Negative Skewness (Left-Skewed):\n",
    "\n",
    "Age at retirement (many retire at a similar age, but a few retire much earlier)\n",
    "\n",
    "Test scores where most students perform well, but a few score significantly lower"
   ]
  },
  {
   "cell_type": "markdown",
   "id": "a55316a2-9ec0-4881-af14-c6b0293d012e",
   "metadata": {},
   "source": [
    "## Q7.What is the interquartile range (IQR), and how is it used to detect outliers?"
   ]
  },
  {
   "cell_type": "markdown",
   "id": "4170c5ac-9478-427c-865b-7b04d465f16b",
   "metadata": {},
   "source": [
    "### Answer:-"
   ]
  },
  {
   "cell_type": "markdown",
   "id": "6bbae8df-a3fb-492b-bf4f-9a161238a04a",
   "metadata": {},
   "source": [
    "#### The interquartile range (IQR) is a measure of statistical dispersion that describes the spread of the middle 50% of a dataset. It is calculated as the difference between the third quartile (Q3) and the first quartile (Q1). These quartiles divide the dataset into four equal parts, and the IQR focuses on the range where the central half of the data lies, which is more resistant to extreme values or outliers."
   ]
  },
  {
   "cell_type": "markdown",
   "id": "289a1eab-e7c6-445b-beb6-123cb87667b0",
   "metadata": {},
   "source": [
    "#### Formula for IQR:"
   ]
  },
  {
   "cell_type": "markdown",
   "id": "d9c3d5bc-ba35-401d-a749-5a28ea284c51",
   "metadata": {},
   "source": [
    "### IQR = Q3 - Q1"
   ]
  },
  {
   "cell_type": "markdown",
   "id": "2442f5e9-1446-47dc-8475-fce3eb18864e",
   "metadata": {},
   "source": [
    "#### Where:\n",
    "\n",
    "Q1 (First Quartile): The value below which 25% of the data fall.\n",
    "\n",
    "Q3 (Third Quartile): The value below which 75% of the data fall."
   ]
  },
  {
   "cell_type": "markdown",
   "id": "15f97727-6c60-420c-971e-55c9720cc4f7",
   "metadata": {},
   "source": [
    "#### Steps to Calculate the IQR:\n",
    "\n",
    "1.Sort the Data: Arrange the data points in ascending order.\n",
    "\n",
    "2.Find Q1: Identify the value at the 25th percentile.\n",
    "\n",
    "3.Find Q3: Identify the value at the 75th percentile.\n",
    "\n",
    "4.Subtract Q1 from Q3: The difference gives the IQR, which reflects the range of the middle 50% of the data."
   ]
  },
  {
   "cell_type": "markdown",
   "id": "dab99b2b-cf76-41a3-8c82-ffb1bd71c2ae",
   "metadata": {},
   "source": [
    "#### Detecting Outliers Using the IQR:\n",
    "\n",
    "Outliers are data points that significantly deviate from the overall pattern of the dataset. \n",
    "The IQR method is a robust way to detect outliers because it focuses on the central range of the data and minimizes the influence of extreme values.\n",
    "\n",
    "The general rule for detecting outliers using the IQR is based on a boundary called the \"fence\", which is determined as follows:"
   ]
  },
  {
   "cell_type": "code",
   "execution_count": 7,
   "id": "deff6880-8c37-4c8c-aca1-0fd93c80164f",
   "metadata": {},
   "outputs": [
    {
     "data": {
      "image/png": "[encoded data removed]",
      "text/plain": [
       "<IPython.core.display.Image object>"
      ]
     },
     "execution_count": 7,
     "metadata": {},
     "output_type": "execute_result"
    }
   ],
   "source": [
    "from IPython.display import Image\n",
    "Image(filename=r'C:\\Users\\Jotiba\\OneDrive\\Desktop\\Assignment Images of Statistics\\Fence formula.png')\n"
   ]
  },
  {
   "cell_type": "markdown",
   "id": "deb4beae-4544-4cba-92ca-109ce280c3b9",
   "metadata": {},
   "source": [
    "#### Any data point that lies below the lower fence or above the upper fence is considered an outlier."
   ]
  },
  {
   "cell_type": "markdown",
   "id": "b8c04a7f-ec38-4ba9-a58e-67bc1a80508b",
   "metadata": {},
   "source": [
    "#### Example of Outlier Detection Using IQR:\n",
    "\n",
    "Sort the data: Suppose you have the following dataset: \n",
    "2\n",
    ",\n",
    "4\n",
    ",\n",
    "7\n",
    ",\n",
    "8\n",
    ",\n",
    "10\n",
    ",\n",
    "12\n",
    ",\n",
    "13\n",
    ",\n",
    "15\n",
    ",\n",
    "18\n",
    ",\n",
    "22\n",
    ",\n",
    "30\n",
    "2,4,7,8,10,12,13,15,18,22,30"
   ]
  },
  {
   "cell_type": "markdown",
   "id": "8067a17d-f27d-4060-ae0e-8e47d2eae6c2",
   "metadata": {},
   "source": [
    "#### Find Q1 and Q3:\n",
    "\n",
    "Q1 (25th percentile) = 7\n",
    "\n",
    "Q3 (75th percentile) = 18"
   ]
  },
  {
   "cell_type": "markdown",
   "id": "3094945a-9bda-4fda-b64b-c11f23093240",
   "metadata": {},
   "source": [
    "#### Calculate the IQR:\n",
    "\n",
    "IQR = 18 − 7 = 11\n",
    "\n"
   ]
  },
  {
   "cell_type": "markdown",
   "id": "82070bc3-1015-4db3-a5bf-83eb6b5105a5",
   "metadata": {},
   "source": [
    "#### Determine the fences:"
   ]
  },
  {
   "cell_type": "markdown",
   "id": "6b6970f1-f3ea-4b51-89dd-8ab7dd99822c",
   "metadata": {},
   "source": [
    "#### \n",
    "Lower fence:\n",
    "Lower Fence=7−(1.5×11)=7−16.5=−9.5"
   ]
  },
  {
   "cell_type": "markdown",
   "id": "eab43278-7577-4184-8f98-4045b3d02c4b",
   "metadata": {},
   "source": [
    "#### \n",
    "Upper fence:\n",
    "\n",
    "Upper Fence=18+(1.5×11)=18+16.5=34.5"
   ]
  },
  {
   "cell_type": "markdown",
   "id": "44805418-15c6-4cd0-8045-4fe5df5b000b",
   "metadata": {},
   "source": [
    "#### Identify outliers:\n",
    "\n",
    "Any data point less than -9.5 or greater than 34.5 would be considered an outlier.\n",
    "In this dataset, no values fall below -9.5, but 30 is a potential outlier because it is close to the upper fence."
   ]
  },
  {
   "cell_type": "markdown",
   "id": "ec2a7627-ea9f-47ec-a562-d39e0eeaed1d",
   "metadata": {},
   "source": [
    "#### Why Use the IQR for Outlier Detection:\n",
    "\n",
    "Robustness: Unlike the range or variance, the IQR is resistant to outliers and extreme values because it only considers the middle 50% of the data.\n",
    "\n",
    "Focus on Central Spread: The IQR provides a measure of spread that focuses on the central portion of the data, making it more representative of the general pattern.\n",
    "\n",
    "Simple and Effective: The IQR method is widely used because it is easy to apply and effective in identifying outliers without relying on strong assumptions about the distribution."
   ]
  },
  {
   "cell_type": "markdown",
   "id": "a37d6cb0-5d26-4169-aa5d-4e0b6a64dc47",
   "metadata": {},
   "source": [
    "## Q8.Discuss the conditions under which the binomial distribution is used."
   ]
  },
  {
   "cell_type": "markdown",
   "id": "c4e03672-e6ae-42d0-848c-88dc915bacae",
   "metadata": {},
   "source": [
    "### Answer:-"
   ]
  },
  {
   "cell_type": "markdown",
   "id": "0e0fa978-51b7-4b31-ac2e-7d77ea96d15c",
   "metadata": {},
   "source": [
    "#### The binomial distribution is a discrete probability distribution that models the number of successes in a fixed number of independent and identical trials, where each trial results in one of two possible outcomes (commonly referred to as \"success\" and \"failure\"). The binomial distribution is used under certain conditions that ensure the trials follow specific characteristics."
   ]
  },
  {
   "cell_type": "markdown",
   "id": "14d6ecb6-260f-400a-b6ec-156009d57592",
   "metadata": {},
   "source": [
    "#### Conditions for Using the Binomial Distribution:\n",
    "\n",
    "Fixed number of trials (n): The process must consist of a specified number of independent trials.\n",
    "\n",
    "Two possible outcomes (Binary): Each trial results in only two outcomes, commonly referred to as success and failure.\n",
    "\n",
    "Constant probability of success (p): The probability of success remains the same for each trial. The probability of failure is \n",
    "\n",
    "1−p.\n",
    "\n",
    "Independent trials: The outcome of one trial does not affect the outcome of any other trial."
   ]
  },
  {
   "cell_type": "markdown",
   "id": "5e092f2a-bf69-482c-adfb-a1dd2e2394f0",
   "metadata": {},
   "source": [
    "## Q9.Explain the properties of the normal distribution and the empirical rule (68-95-99.7 rule)."
   ]
  },
  {
   "cell_type": "markdown",
   "id": "5933c108-3c0d-49ac-94f2-99f068e021cd",
   "metadata": {},
   "source": [
    "### Answer:-"
   ]
  },
  {
   "cell_type": "markdown",
   "id": "f5e4b935-7c0c-407b-9b1d-dd254368aea7",
   "metadata": {},
   "source": [
    "#### Properties of the Normal Distribution:\n",
    "\n",
    "Bell-shaped and Symmetrical: The normal distribution is symmetric about the mean, meaning the left and right halves are mirror images.\n",
    "\n",
    "Mean, Median, and Mode are Equal: In a perfectly normal distribution, the mean, median, and mode all occur at the center of the distribution, i.e., at the same value.\n",
    "\n",
    "Defined by Mean (μ) and Standard Deviation (σ): The shape and spread of the normal distribution are determined by its mean (μ) and standard deviation (σ). The mean determines the center, and the standard deviation controls the spread.\n",
    "\n",
    "Asymptotic: The tails of the normal distribution extend infinitely in both directions, approaching but never touching the horizontal axis.\n",
    "\n",
    "Total Area Under the Curve is 1: The area under the normal distribution curve represents probabilities and sums to 1 (100%).\n",
    "\n",
    "Continuous Distribution: The normal distribution is continuous, meaning it can take any real value within a given range."
   ]
  },
  {
   "cell_type": "markdown",
   "id": "fe8df30c-ae69-4045-8e66-9029ab8d2f33",
   "metadata": {},
   "source": [
    "#### The Empirical Rule (68-95-99.7 Rule):\n",
    "The empirical rule provides a quick way to understand the spread of data in a normal distribution based on standard deviations from the mean. It states that:\n",
    "\n",
    "68% of data falls within 1 standard deviation of the mean:\n",
    "\n",
    "μ−σ to μ+σ\n",
    "This means about 68% of the data lies between one standard deviation below and one standard deviation above the mean.\n",
    "\n",
    "95% of data falls within 2 standard deviations of the mean:\n",
    "\n",
    "\n",
    "μ−2σ to μ+2σ\n",
    "About 95% of the data is found within two standard deviations from the mean.\n",
    "\n",
    "99.7% of data falls within 3 standard deviations of the mean:\n",
    "\n",
    "μ−3σ to μ+3σ\n",
    "Nearly all the data (99.7%) lies within three standard deviations of the mean."
   ]
  },
  {
   "cell_type": "markdown",
   "id": "d2464b69-205c-44bc-a5ca-034049af32be",
   "metadata": {},
   "source": [
    "## Q10. Provide a real-life example of a Poisson process and calculate the probability for a specific event.\n"
   ]
  },
  {
   "cell_type": "markdown",
   "id": "92869e17-b438-45f5-a129-2540e81bc38a",
   "metadata": {},
   "source": [
    "### Answer:-"
   ]
  },
  {
   "cell_type": "markdown",
   "id": "86a21bd2-7f11-4b99-99ae-844633a85c73",
   "metadata": {},
   "source": [
    "#### Real-Life Example of a Poisson Process:\n",
    "A Poisson process models the number of events happening in a fixed interval of time or space, where the events occur independently and at a constant average rate."
   ]
  },
  {
   "cell_type": "markdown",
   "id": "6caceab7-4a37-4b60-a8bf-849768f6381d",
   "metadata": {},
   "source": [
    "#### Example:\n",
    "Suppose a call center receives an average of 5 calls per hour. This can be modeled as a Poisson process where the rate (λ) is 5 calls per hour."
   ]
  },
  {
   "cell_type": "markdown",
   "id": "8e8e5011-7c7b-4b1d-b222-06bafbf6d65a",
   "metadata": {},
   "source": [
    "#### Question:\n",
    "What is the probability that the call center receives exactly 7 calls in an hour?"
   ]
  },
  {
   "cell_type": "markdown",
   "id": "fdfee940-5f86-4917-9ed0-3bbf0eb4db80",
   "metadata": {},
   "source": [
    "#### Poisson Probability Formula:\n",
    "The Poisson probability formula is:\n"
   ]
  },
  {
   "cell_type": "code",
   "execution_count": 9,
   "id": "02bebbb1-777d-45bd-9e7b-b43118f6a0db",
   "metadata": {},
   "outputs": [
    {
     "data": {
      "image/png": "[encoded data removed]",
      "text/plain": [
       "<IPython.core.display.Image object>"
      ]
     },
     "execution_count": 9,
     "metadata": {},
     "output_type": "execute_result"
    }
   ],
   "source": [
    "from IPython.display import Image\n",
    "Image(filename=r'C:\\Users\\Jotiba\\OneDrive\\Desktop\\Assignment Images of Statistics\\Poisson Distribution.png')"
   ]
  },
  {
   "cell_type": "markdown",
   "id": "e1043e82-c431-43de-8166-27b7ef0431be",
   "metadata": {},
   "source": [
    "#### Where:\n",
    "\n",
    "P(X=k) is the probability of \n",
    "k events occurring in a fixed interval.\n",
    "\n",
    "λ is the average number of events (rate) in the interval.\n",
    "\n",
    "k is the number of events (in this case, 7 calls).\n",
    "\n",
    "e is Euler's number (approximately 2.718)."
   ]
  },
  {
   "cell_type": "code",
   "execution_count": 11,
   "id": "817b661e-2cc1-4fbd-ba65-d9df6c41ff26",
   "metadata": {},
   "outputs": [
    {
     "data": {
      "image/png": "[encoded data removed]",
      "text/plain": [
       "<IPython.core.display.Image object>"
      ]
     },
     "execution_count": 11,
     "metadata": {},
     "output_type": "execute_result"
    }
   ],
   "source": [
    "\n",
    "from IPython.display import Image\n",
    "Image(filename=r'C:\\Users\\Jotiba\\OneDrive\\Desktop\\Assignment Images of Statistics\\Solution for Poisson Distribution.png')"
   ]
  },
  {
   "cell_type": "markdown",
   "id": "91e063cb-6e09-4162-9272-3652e4eb316d",
   "metadata": {},
   "source": [
    "### Example of Poisson Distribution in Python Code"
   ]
  },
  {
   "cell_type": "code",
   "execution_count": 13,
   "id": "95f32c17-d99b-481a-a629-cf3d94b39961",
   "metadata": {},
   "outputs": [
    {
     "name": "stdout",
     "output_type": "stream",
     "text": [
      "The probability of receiving exactly 7 calls in an hour is: 0.1044\n"
     ]
    }
   ],
   "source": [
    "#Example\n",
    "from scipy.stats import poisson\n",
    "\n",
    "# Given data\n",
    "lambda_rate = 5  # average number of calls per hour\n",
    "k = 7  # number of calls we want to calculate the probability for\n",
    "\n",
    "# Calculate the Poisson probability\n",
    "probability = poisson.pmf(k, lambda_rate)\n",
    "\n",
    "print(f\"The probability of receiving exactly {k} calls in an hour is: {probability:.4f}\")\n"
   ]
  },
  {
   "cell_type": "markdown",
   "id": "d01540fb-4853-4fdf-af64-04199ddcbe44",
   "metadata": {},
   "source": [
    "## Q11.Explain what a random variable is and differentiate between discrete and continuous random variables"
   ]
  },
  {
   "cell_type": "markdown",
   "id": "46d5a140-02e2-460f-87d7-6d21c0e00bbe",
   "metadata": {},
   "source": [
    "### Answer:-"
   ]
  },
  {
   "cell_type": "markdown",
   "id": "b7cbd687-bdb5-4ff0-b236-ab98b9038910",
   "metadata": {},
   "source": [
    "#### A random variable is a variable that takes on different numerical values based on the outcome of a random process or experiment. In probability theory, a random variable represents the possible outcomes of a probabilistic event, and each outcome is associated with a probability."
   ]
  },
  {
   "cell_type": "markdown",
   "id": "17d5c7bf-dcd2-4ff2-80a3-635cb4302320",
   "metadata": {},
   "source": [
    "#### Types of Random Variables:\n",
    "\n",
    "Discrete Random Variable:\n",
    "\n",
    "A discrete random variable can take on only a countable (finite or infinite) number of distinct values. \n",
    "\n",
    "These values are often whole numbers, and the variable is typically associated with counting outcomes.\n",
    "\n",
    "Example: The number of heads in 10 coin tosses is a discrete random variable because it can take values like 0, 1, 2, …, 10.\n",
    "\n",
    "\n",
    "Continuous Random Variable:\n",
    "\n",
    "A continuous random variable can take on any value within a given range or interval, including fractions or decimals. The values are uncountable and can vary smoothly without gaps.\n",
    "\n",
    "Example: The time it takes for a car to travel from one city to another is a continuous random variable, as it can take any value within a range, such as 2.5 hours, 3.7 hours, etc"
   ]
  },
  {
   "cell_type": "markdown",
   "id": "99df56cc-b288-4191-a28c-a141e2565301",
   "metadata": {},
   "source": [
    "### Key Differences Between Discrete and Continuous Random Variables:"
   ]
  },
  {
   "cell_type": "markdown",
   "id": "61a6ae6f-56fe-4558-b167-73d22ad6e05f",
   "metadata": {},
   "source": [
    "| **Aspect**                        | **Discrete Random Variable**                | **Continuous Random Variable**              |\n",
    "|------------------------------------|--------------------------------------------|--------------------------------------------|\n",
    "| **Possible Values**                | Countable (finite or infinite) distinct values | Uncountably infinite values within an interval |\n",
    "| **Nature of Values**               | Whole numbers (e.g., 0, 1, 2, …)           | Any real number (e.g., 1.5, 2.75, …)       |\n",
    "| **Examples**                       | Number of students in a class, number of dice rolls showing 6 | Height of people, time to complete a task  |\n",
    "| **Probability**                    | Probabilities are assigned to specific values | Probabilities are assigned over intervals (using probability density function, PDF) |\n",
    "| **Probability Function**           | Probability Mass Function (PMF)             | Probability Density Function (PDF)         |\n",
    "| **Total Probability**              | Sum of probabilities equals 1              | Area under the probability curve (PDF) equals 1 |\n",
    "| **Graph Representation**           | Histogram (bar chart with distinct points) | Smooth curve (such as a bell curve)        |\n"
   ]
  },
  {
   "cell_type": "markdown",
   "id": "73a0b05b-2708-4af8-a141-a7e24a384d69",
   "metadata": {},
   "source": [
    "## Q12.Provide an example dataset, calculate both covariance and correlation, and interpret the results."
   ]
  },
  {
   "cell_type": "markdown",
   "id": "5fe40f66-c4c6-4858-b16e-072f088509f0",
   "metadata": {},
   "source": [
    "### Answer:-"
   ]
  },
  {
   "cell_type": "markdown",
   "id": "1c4f065c-0964-4400-bddc-ce1f067880ac",
   "metadata": {},
   "source": [
    "### Dataset:\n",
    "| **x** | **y** |\n",
    "|------|------|\n",
    "|  2   |  3   |\n",
    "|  4   |  6   |\n",
    "|  6   |  7   |\n",
    "|  8   |  10  |\n",
    "|  10  |  15  |\n",
    "\n"
   ]
  },
  {
   "cell_type": "code",
   "execution_count": 17,
   "id": "46c4e280-f289-4173-90e7-2edb70b2282a",
   "metadata": {},
   "outputs": [
    {
     "data": {
      "image/png": "[encoded data removed]",
      "text/plain": [
       "<IPython.core.display.Image object>"
      ]
     },
     "execution_count": 17,
     "metadata": {},
     "output_type": "execute_result"
    }
   ],
   "source": [
    "\n",
    "\n",
    "from IPython.display import Image\n",
    "\n",
    "Image(filename=r'C:\\Users\\Jotiba\\OneDrive\\Desktop\\Assignment Images of Statistics\\Coelation Example.png')\n"
   ]
  },
  {
   "cell_type": "markdown",
   "id": "70e79578-0dc2-41df-adf4-4bbc80e3952d",
   "metadata": {},
   "source": [
    "#### Interpretation:\n",
    "Covariance: The positive covariance value of 14 indicates that \n",
    "x and \n",
    "y tend to increase together. However, the magnitude of covariance is difficult to interpret directly as it depends on the units of \n",
    "x and \n",
    "y.\n",
    "\n",
    "Correlation: The correlation coefficient of 0.973 suggests a strong positive linear relationship between \n",
    "x and \n",
    "y. Since the value is close to 1, it indicates that as \n",
    "x increases, \n",
    "y also increases in a near-linear fashion. Correlation is standardized and more interpretable than covariance, showing the strength of the relationship without being affected by the units of the variables."
   ]
  },
  {
   "cell_type": "code",
   "execution_count": 15,
   "id": "bc8f0962-5394-46a1-8004-4e01138466d0",
   "metadata": {},
   "outputs": [
    {
     "name": "stdout",
     "output_type": "stream",
     "text": [
      "Covariance: 14.0\n",
      "Correlation: 0.9730672655996823\n"
     ]
    }
   ],
   "source": [
    "#Python Example\n",
    "\n",
    "import pandas as pd\n",
    "\n",
    "# Example dataset\n",
    "data = {\n",
    "    'x': [2, 4, 6, 8, 10],\n",
    "    'y': [3, 6, 7, 10, 15]\n",
    "}\n",
    "\n",
    "# Creating a DataFrame\n",
    "df = pd.DataFrame(data)\n",
    "\n",
    "# Calculate covariance\n",
    "covariance = df['x'].cov(df['y'])\n",
    "\n",
    "# Calculate correlation\n",
    "correlation = df['x'].corr(df['y'])\n",
    "\n",
    "# Output the results\n",
    "print(f\"Covariance: {covariance}\")\n",
    "print(f\"Correlation: {correlation}\")\n"
   ]
  },
  {
   "cell_type": "markdown",
   "id": "dfcf3d25-f2c3-41cc-ba9c-840e2e73ffa0",
   "metadata": {},
   "source": [
    "# Thank You "
   ]
  },
  {
   "cell_type": "code",
   "execution_count": null,
   "id": "f89403ea-2987-4420-9984-7caa25d2999d",
   "metadata": {},
   "outputs": [],
   "source": []
  }
 ],
 "metadata": {
  "kernelspec": {
   "display_name": "Python 3 (ipykernel)",
   "language": "python",
   "name": "python3"
  },
  "language_info": {
   "codemirror_mode": {
    "name": "ipython",
    "version": 3
   },
   "file_extension": ".py",
   "mimetype": "text/x-python",
   "name": "python",
   "nbconvert_exporter": "python",
   "pygments_lexer": "ipython3",
   "version": "3.12.5"
  }
 },
 "nbformat": 4,
 "nbformat_minor": 5
}
